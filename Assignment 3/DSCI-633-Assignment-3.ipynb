{
 "cells": [
  {
   "cell_type": "markdown",
   "metadata": {},
   "source": [
    "# RIT DSCI-633: Foundations of Data Science and Analytics\n",
    "## Assignment 3\n",
    "### Due: 11:59 pm EST, Saturday, Nov 06, 2021"
   ]
  },
  {
   "cell_type": "markdown",
   "metadata": {},
   "source": [
    "### Problem 1 (20 points)\n",
    "\n",
    "**(Use no more than a word, phrase or a sentence to answer these questions)**\n",
    "\n",
    "1.\tName two ways to deal with class imbalance in the training data.\n",
    "2.\tWhat is one way of obtaining a continuous-valued score from a Decision Tree classifier ?\n",
    "3.\tWhat is one way of obtaining a continuous-valued score from a Naïve Bayes classifier ?\n",
    "4.\tDefine the skew of a dataset for a two-class problem.\n",
    "5.\tTrue or False: Precision and Recall share the same numerator in their computation.\n",
    "6.\tName the two measures used to compute the ROC curve.\n",
    "7.\tTrue or False: We cannot compute the ROC curve for a classifier that does not return a continuous score.\n",
    "8.\tTrue or False: TPR and FPR are generally inversely related, one increases as the other decreases.\n",
    "9.\tTrue or False: Precision and Recall are generally inversely related, one increases as the other decreases.\n",
    "10.\tTrue or False: A classifier with a higher AUC is the best one to use across all operating points.\n",
    "11.\tA classifier misclassifies every sample in a binary class problem. What is its AUC ?\n",
    "12.\tTrue or False: If the proportion of true to false instances in a two-class dataset changes, the ROC curve will not change.\n",
    "13.\tTrue or False: Regression is an example of predictive modeling with supervision.\n",
    "14.\tTrue or False: Accuracy can be used as a measure to evaluate a regression model\n",
    "15.\tWhat does the term residual (or residue) refer to in regression ?\n",
    "16.\tTrue or False: The sum of the residuals is always zero.\n",
    "17.\tState in brief the connection between the Pearson correlation and linear regression.\n",
    "18.\tTrue or False: If a quadratic regression model generalizes well, a cubic model is likely to generalize better.\n",
    "19.\tWhat are some steps we can take to reduce overfitting of regression models ?\n",
    "20.\tWhat is the difference between Multiple Regression and Multivariate Regression ?\n",
    "21.\tWhat is a more common name for the Coefficient of Determination of a regression line ?\n",
    "\n"
   ]
  },
  {
   "cell_type": "markdown",
   "metadata": {},
   "source": [
    "### Solution"
   ]
  },
  {
   "cell_type": "markdown",
   "metadata": {},
   "source": [
    "1.\n",
    "\n",
    "2.\n",
    "\n",
    "3.\n",
    "\n",
    "4.\n",
    "\n",
    "5.\n",
    "\n",
    "6.\n",
    "\n",
    "7.\n",
    "\n",
    "8.\n",
    "\n",
    "9.\n",
    "\n",
    "10.\n",
    "\n",
    "11.\n",
    "\n",
    "12.\n",
    "\n",
    "13.\n",
    "\n",
    "14.\n",
    "\n",
    "15.\n",
    "\n",
    "16.\n",
    "\n",
    "17.\n",
    "\n",
    "18.\n",
    "\n",
    "19.\n",
    "\n",
    "20.\n",
    "\n",
    "\n"
   ]
  },
  {
   "cell_type": "markdown",
   "metadata": {},
   "source": [
    "### Problem 2 (20 points)\n",
    "\n",
    "Download the Indian Liver Patient Dataset from https://archive.ics.uci.edu/ml/datasets/ILPD+(Indian+Liver+Patient+Dataset).\n",
    "\n",
    "Preprocess the data to take care of null values, and replace the categorical attribute with multiple binary attributes using one-hot encoding.\n",
    "\n",
    "Divide the dataset 70:30 into a training and a test set. \n",
    "\n",
    "\n",
    "**2.1.**\tLearn a Logistic Regression classifier on the training set. Evaluate the classifier on the test set and compute the following evaluation measures: (i) Accuracy, Error Rate (ii) TPR, FPR, TNR, FNR  (iiI) Sensitivity, Specificity (iv) Precision, Recall, F-measure.\n",
    "\n",
    "**2.2.**\tThe LR classifier returns a score (posterior probability) for each sample. Use this score to plot the ROC curve for the test set and compute the Area under the Curve (AUC).\n",
    "\n",
    "**2.3.**\tWhat evaluation metric matters most for this problem in your opinion, and why ? Pick a desired value of that evaluation metric (e.g. such that FPR < 5%). Determine the optimal threshold on the score that achieves the desired value of your evaluation metric.\n",
    "\n",
    "**Extra credit (5 points):** Repeat 2.2 above but plot Precision vs Recall (PR curve) instead of ROC curve. When would you prefer to use PR curve instead of ROC curve ?\n"
   ]
  },
  {
   "cell_type": "markdown",
   "metadata": {},
   "source": [
    "### Solution"
   ]
  },
  {
   "cell_type": "markdown",
   "metadata": {},
   "source": [
    "#### Solution 2.1"
   ]
  },
  {
   "cell_type": "markdown",
   "metadata": {},
   "source": []
  },
  {
   "cell_type": "markdown",
   "metadata": {},
   "source": [
    "#### Solution 2.2"
   ]
  },
  {
   "cell_type": "markdown",
   "metadata": {},
   "source": []
  },
  {
   "cell_type": "markdown",
   "metadata": {},
   "source": [
    "#### Solution 2.3"
   ]
  },
  {
   "cell_type": "markdown",
   "metadata": {},
   "source": []
  },
  {
   "cell_type": "markdown",
   "metadata": {},
   "source": [
    "### Problem 3 (30 points)\n",
    "\n",
    "Let’s revisit the diamonds dataset we looked at in Assignment 1 and explore regression analysis to predict the price of diamonds.\n",
    "\n",
    "Download the ‘Diamonds’ dataset from https://www.kaggle.com/shivam2503/diamonds.\n",
    "\n",
    "**3.1.** Start by plotting the scatter plot of price vs carat, as you had done in Assignment 1.   What can you say about the relationship from the plot ?  (2 points)\n",
    "\n",
    "**3.2.** Divide the dataset randomly in a 70:30 ratio into a training set and a test set (1 point)\n",
    "\n",
    "**3.3.** Build a linear regression model on the training data to predict the price of a diamond given its size in carats. (5 points)\n",
    "\n",
    "* Plot the regression line. (2 points) \n",
    "* What is the Coefficient of Determination ? (1 point)\n",
    "* What is the Standard Error (the mean distance that the observed values fall from the regression line) ? (1 point)\n",
    "* What is the SSE and MSE ? (1 point)\n",
    "\n",
    "**3.4.** While carat, a measure of the weight of a diamond is an important predictor of its price, it is possible that other variables that are uncorrelated with carat also have some influence.  Experiment with adding such explanatory variables to the model. What happens to the Coefficient of Determination ? (5 points)\n",
    "\n",
    "**3.5.** Would a variable transformation on either the response variable (price) or carat, or both, help improve regression over the linear model developed in part 4 ?  (5 points)\n",
    "\n",
    "**3.6.** For each sample in the test set, predict the price using the best model you have, and compute the standard error of the model on the test set. (5 points)\n",
    "\n",
    "**3.7.** What could be some problems using this model to estimate the price of unseen diamonds 20 years in the future ? (2 points)"
   ]
  },
  {
   "cell_type": "markdown",
   "metadata": {},
   "source": [
    "### Solution"
   ]
  },
  {
   "cell_type": "markdown",
   "metadata": {},
   "source": [
    "#### Solution 3.1"
   ]
  },
  {
   "cell_type": "markdown",
   "metadata": {},
   "source": []
  },
  {
   "cell_type": "markdown",
   "metadata": {},
   "source": [
    "#### Solution 3.2"
   ]
  },
  {
   "cell_type": "code",
   "execution_count": null,
   "metadata": {},
   "outputs": [],
   "source": []
  },
  {
   "cell_type": "markdown",
   "metadata": {},
   "source": [
    "#### Solution 3.3"
   ]
  },
  {
   "cell_type": "code",
   "execution_count": null,
   "metadata": {},
   "outputs": [],
   "source": []
  },
  {
   "cell_type": "markdown",
   "metadata": {},
   "source": [
    "#### Solution 3.4"
   ]
  },
  {
   "cell_type": "code",
   "execution_count": null,
   "metadata": {},
   "outputs": [],
   "source": []
  },
  {
   "cell_type": "markdown",
   "metadata": {},
   "source": [
    "#### Solution 3.5"
   ]
  },
  {
   "cell_type": "code",
   "execution_count": null,
   "metadata": {},
   "outputs": [],
   "source": []
  },
  {
   "cell_type": "markdown",
   "metadata": {},
   "source": [
    "#### Solution 3.6"
   ]
  },
  {
   "cell_type": "code",
   "execution_count": null,
   "metadata": {},
   "outputs": [],
   "source": []
  },
  {
   "cell_type": "markdown",
   "metadata": {},
   "source": [
    "#### Solution 3.7"
   ]
  },
  {
   "cell_type": "markdown",
   "metadata": {},
   "source": []
  },
  {
   "cell_type": "markdown",
   "metadata": {},
   "source": [
    "\n",
    "    "
   ]
  },
  {
   "cell_type": "markdown",
   "metadata": {},
   "source": [
    "### Submission instructions\n",
    "\n",
    "1. Your assignment should be completed by filling in the empty solution cells in this Jupyter notebook file (.ipynb). Feel free to add more cells as needed.\n",
    "\n",
    "2. Please comment your code using either markdown or #comments and use meaningful variable names to make it as readable and intelligible as possible.\n",
    "\n",
    "3. Write your code in the form of functions. For example: \n",
    "\n",
    "    def my_code ():\n",
    "\n",
    "          #Write code here\n",
    "      \n",
    "          return \"The return value\"\n",
    "          \n",
    "\n",
    "4. If the problem is to find the value of 'x', printing 'x = (your answer)' will help us identify if your code worked.\n",
    "\n",
    "\n",
    "5. For code that refers to local data files downloaded from the internet, please keep the file path simple (e.g. ~/downloads/datafilename) so that it works on our copy of the dataset. Please do not modify either the filename or the file contents in any way.\n",
    "\n",
    "6. Solution to problems that do not require any coding can be typed up in their own cells using markdown.\n",
    "    \n",
    "7. Unless there are legitimate circumstances, late assignments will not be accepted.\n",
    "\n",
    "8. All assignments are individual.\n",
    "\n",
    "9. All the sources used for problem solution must be acknowledged, e.g. web sites, books, research papers, etc.\n",
    "\n",
    "10. Academic integrity is taken seriously; for detailed information see the RIT Honor Code and with RIT's Academic Integrity Policy."
   ]
  }
 ],
 "metadata": {
  "kernelspec": {
   "display_name": "Python 3",
   "language": "python",
   "name": "python3"
  },
  "language_info": {
   "codemirror_mode": {
    "name": "ipython",
    "version": 3
   },
   "file_extension": ".py",
   "mimetype": "text/x-python",
   "name": "python",
   "nbconvert_exporter": "python",
   "pygments_lexer": "ipython3",
   "version": "3.8.8"
  }
 },
 "nbformat": 4,
 "nbformat_minor": 4
}
