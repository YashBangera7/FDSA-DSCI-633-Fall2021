{
 "cells": [
  {
   "cell_type": "markdown",
   "metadata": {},
   "source": [
    "# RIT DSCI-633: Foundations of Data Science and Analytics\n",
    "## Assignment 1\n",
    "### Due: 11:59 pm EST, Saturday, Oct 2, 2021"
   ]
  },
  {
   "cell_type": "markdown",
   "metadata": {},
   "source": [
    "### Problem 1 (10 points)\n",
    "\n",
    "In statistics and probability theory, the law of large numbers is a theorem that describes the result of\n",
    "repeating the same experiment a large number of times. The theorem states that if the same\n",
    "experiment or study is repeated independently a large number of times, the average of the results of\n",
    "the trials must be close to the expected value. The result becomes closer to the expected value as the\n",
    "number of trials is increased. Let us look at a specific experiment.\n",
    "\n",
    "Assume you have a Gaussian distribution (commonly called a “bell curve”) with mean µ and std\n",
    "deviation σ. The area under the curve that lies between σ and 2σ, and –σ and -2σ is approximately\n",
    "27.2%. In other words, approximately 27.2% of numbers generated randomly using this distribution will\n",
    "fall in the range [µ + σ, µ + 2σ] or [µ - 2σ, µ - σ], as shown below.\n",
    "\n",
    "Generate N random numbers that follow a Gaussian distribution with µ = 100, σ = 10, and count the\n",
    "numbers M that fall into the ranges above. Print the fraction M/N. Repeat this for N = 10, 100, 1000,\n",
    "10000, and 1000000.\n",
    "\n",
    "Does the fraction start to approach 27.2%?\n"
   ]
  },
  {
   "cell_type": "markdown",
   "metadata": {},
   "source": [
    "### Solution"
   ]
  },
  {
   "cell_type": "code",
   "execution_count": 5,
   "metadata": {},
   "outputs": [
    {
     "name": "stdout",
     "output_type": "stream",
     "text": [
      "Enter a number\n",
      "1000000\n",
      "Result (M/N ratio in percentage): 27.128600000000002%\n"
     ]
    }
   ],
   "source": [
    "import numpy as np\n",
    "\n",
    "def normal_distri_ratio_calc(n):\n",
    "    \n",
    "    #The specifications of the normal distribution are specified, ie- mean(mu) and std deviation(sigma)\n",
    "    mu , sigma = 100 , 10\n",
    "    \n",
    "    # Defining ranges above the mean, ie - range_ref_1 = (mu + sigma) and range_ref_2 = (mu + 2*sigma)\n",
    "    range_ref_1 = mu + sigma\n",
    "    range_ref_2 = mu + (2*sigma)\n",
    "    \n",
    "    # Defining ranges below the mean, ie - range_ref_3 = (mu - sigma) and range_ref_4 = (mu - 2*sigma)\n",
    "    range_ref_3 = mu - sigma\n",
    "    range_ref_4 = mu - (2*sigma)\n",
    "\n",
    "    #Generates \"n\" samples with mu mean and sigma standard deviation from a normal distribution\n",
    "    random_normal_samples = np.random.normal(mu, sigma,int(n))\n",
    "\n",
    "    #Counting the number (count_m) of randomly generated numbers lying in the range ([µ + σ, µ + 2σ] or [µ - 2σ, µ - σ])\n",
    "    count_m = len([x for x in random_normal_samples if ((x >=range_ref_1) & (x <=range_ref_2))|((x >=range_ref_4) & (x <=range_ref_3))])\n",
    "\n",
    "    #Return the ratio of count_m/n\n",
    "    return int(count_m)/int(n)\n",
    "\n",
    "# Asking user to enter number of samples to be drawn\n",
    "print(\"Enter a number\")\n",
    "n = input()\n",
    "\n",
    "#Converting the ration returned to a percentage\n",
    "x = normal_distri_ratio_calc(n)*100\n",
    "\n",
    "#Printing the result\n",
    "print(\"Result (M/N ratio in percentage): \"+ str(x) +\"%\")"
   ]
  },
  {
   "cell_type": "markdown",
   "metadata": {},
   "source": [
    "<font color='green'>Correct : 10 points</font> <br>\n",
    "Thanks for commenting!"
   ]
  },
  {
   "cell_type": "markdown",
   "metadata": {},
   "source": [
    "### Problem 2 (5 points)\n",
    "\n",
    "Imagine you have a dataset of movie ratings for a set of 500 popular movies and a set of 1000 users.\n",
    "Each data sample contains the ratings of each movie (from 1 to 5 stars) by a specific user. The rating is\n",
    "an integer in the range [0,5], with a value of 0 means that the user did not watch that movie.\n",
    "How would you convert this data to a form suitable for association analysis? In particular, what type of\n",
    "attributes would you have and how many of them?\n",
    "\n"
   ]
  },
  {
   "cell_type": "markdown",
   "metadata": {},
   "source": [
    "### Solution"
   ]
  },
  {
   "cell_type": "markdown",
   "metadata": {},
   "source": [
    "\n",
    "How would you convert this data to a form suitable for association analysis?\n",
    "\n",
    "Assumptions:\n",
    "1. The question does not specify the type of association analysis, answering the question with the assumption a recommendation system is desired from the association analysis\n",
    "\n",
    "Answer :\n",
    "1. \n",
    "a. We have 500 movies(Columns) rated by 1000 users(Rows) on a scale of [0,5].We would process this data in a tabular format - (Movie Titles - Rows) and (Users - Columns).<br>\n",
    "b. We would impute the '0' ratings with Nulls to determine the movies the users have not seen.\n",
    "<br>\n",
    "<br>\n",
    "<h6>Option 1</h6>\n",
    "c. We would check correlation(pearson's correlation) between two movie columns to determine which other movie have users rated in a similar manner<br>\n",
    "d. The movie with a high correlation with another movie(in terms of user ratings) would mean users have rated that movie in a similar manner and <u>that movie(movie with high correlation in user reviews) can be recommended along with the first movie</u><br><br><h6> Option2 </h6>\n",
    "e. We could also plot correlation between two users to determine which other user has similar movie watching taste.<br>\n",
    "f. Once we have a user with similar movie watching taste (determined by high correlation), <u>we can view the list of movies rated highly(above a certain cut-off) by the second user and recommend movies from this list not watched by the first user</u><br><br><h6>Option3 </h6> Source : <a>https://www.kaggle.com/ahm6644/movies-recommendations-by-association-rules</a><br>\n",
    "g. Using a technique like apriori, we could compute common item-sets (sets of users users rating the movie above a certain threshold) and determine other movies with a similar itemset ie - Other users that have rated the movie highly, have also rated another movie highly<br>h. For this the dataframe of the movies and reviews would have to be modified to mark movies above a certain rating as 1 and all other movies below that rating a 0<br><br><br>\n",
    "\n",
    "\n",
    "2.\n",
    "Some of the type of attributes that we would have and would help the association analysis further would be:<br>\n",
    "a. If <u>Genre is given</u> average rating by genre could be calculated as an attribute for each user<br>\n",
    "    b. If <u>Length of movie</u> is given, average rating by length of the movie and standard deviation could be calculated as an attribute for each user<br>c. If <u>Number of music scores in the movie</u> is given, the averrage rating by the number of music scores in the movie and standard deviation could be calculated<br>d. The <u>Year of the movie release</u> was given , we could bucket the years of release and then calculate average and standard deviation \n",
    "\n"
   ]
  },
  {
   "cell_type": "markdown",
   "metadata": {},
   "source": [
    "<font color='red'>Incorrect : 0 points</font> <br>\n",
    "For association analysis, we require binary asymmetric attributes.\n",
    "\n",
    "Since each rating can take 6 possible values, we would need to replace it with 6 asymmetric binary attributes\n",
    "of the form (rating == 0?) (rating == 1?) ...\n",
    "\n",
    "This will give us 500 x 6 = **3000 binary attributes per user**.  \n",
    "The resulting sparse data matrix would be **1000 rows x 3000 columns**."
   ]
  },
  {
   "cell_type": "markdown",
   "metadata": {},
   "source": [
    "### Problem 3 (5 points)\n",
    "\n",
    "Distinguish between noise and outliers\n",
    "\n",
    "1. True or False ? Noise may be in the form of noisy attribute values, or noise objects.\n",
    "2. True or False ? Noise is sometimes desirable.\n",
    "3. True or False ? Outliers are sometimes desirable.\n",
    "4. True or False ? Noise objects may or may not be outliers. Explain your reasoning.\n",
    "5. True or False ? Outlier objects may or may not be noise. Explain your reasoning."
   ]
  },
  {
   "cell_type": "markdown",
   "metadata": {},
   "source": [
    "### Solution"
   ]
  },
  {
   "cell_type": "markdown",
   "metadata": {},
   "source": [
    "1. True<br>\n",
    "\n",
    "2. False<br>\n",
    "\n",
    "3. True<br>\n",
    "\n",
    "4. True, Noise objects are very likely to be outliers as they are not part of the signal being captured and most likely would be on the extreme end of the scale of the signal resulting in them being outliers. Noise objects could also fall within the expected range of the signal and not be outliers as well<br>\n",
    "\n",
    "5. False, Outlier objects may not be noise, because even though it maybe an underiable object, it is part of the data. Noise on the other hand is not part of the data<br>\n",
    "\n",
    "<b>Note for 3.5</b> : The above answer is with the assumption that the data pre-processing pipeline is robust and any outlier objects are actually validated and properly calculated data points. Incase the pre-processing pipeline is not as robust, the outlier object may be so because of erroneous pre-processing and may actually be noise(answer to 3.5 with this <u><b>exception is True</u> </b>) <br><br>"
   ]
  },
  {
   "cell_type": "markdown",
   "metadata": {},
   "source": [
    "<font color='green'>Correct : 5 points</font> <br>"
   ]
  },
  {
   "cell_type": "markdown",
   "metadata": {},
   "source": [
    "### Problem 4 (20 points)\n",
    "Download the ‘Diamonds’ dataset from https://www.kaggle.com/shivam2503/diamonds.\n",
    "1. Based on the description of the dataset provided at the site, categorize each attribute of the data as\n",
    "discrete or continuous, qualitative (nominal or ordinal), or quantitative (interval or ratio)  (5 points)\n",
    "e.g. Age in years: Discrete, Quantitative, Ratio.\n",
    "2. Load the CSV data file into a Pandas DataFrame object and display the first 5 rows. (2 points)\n",
    "3. Calculate summary statistics:\n",
    "a. For each quantitative attribute: find the mean, median, standard deviation, and range. (3.5 points)\n",
    "b. For each qualitative attribute, find the mode. (1.5 points)\n",
    "c. Find the Interquartile Range (IQR) of the ‘price’ variable. (0.5 points)\n",
    "4. What fraction of the data samples have ‘cut’ that is ‘very good’ or better ? Create a bar plot\n",
    "showing the distribution of the data samples by ‘cut’ (one bar for each value of cut). (2.5 points)\n",
    "5. Plot a histogram of the 'carat' variable. (2 points)\n",
    "6. Plot a scatter plot of ‘carat’ vs ‘price’. (2 points)\n",
    "7. Compute the correlation between ‘carat’ and ‘price’. (1 point)"
   ]
  },
  {
   "cell_type": "markdown",
   "metadata": {},
   "source": [
    "### Solution"
   ]
  },
  {
   "cell_type": "markdown",
   "metadata": {},
   "source": [
    "#### Solution 4.1"
   ]
  },
  {
   "cell_type": "markdown",
   "metadata": {},
   "source": [
    "The attributes are as follows : \n",
    "\n",
    "1. price price in US dollars (326--18,823) ----- Discrete, Quantitative,Ratio <br>\n",
    "Note: Money can not be broken less than 1 cent so it is infact discrete<br><br>\n",
    "\n",
    "2. carat weight of the diamond (0.2--5.01) ------ Continuous,Quantitative, Ratio<br><br>\n",
    "\n",
    "3. cut quality of the cut (Fair, Good, Very Good, Premium, Ideal) ------- Discrete, Qualitative, Ordinal<br><br>\n",
    "\n",
    "4. color diamond colour, from J (worst) to D (best) ------ Discrete, Qualitative, Ordinal<br><br>\n",
    "\n",
    "5. clarity a measurement of how clear the diamond is (I1 (worst), SI2, SI1, VS2, VS1, VVS2, VVS1, IF (best)) ------ Discrete, Qualitative, Ordinal<br><br>\n",
    "\n",
    "6. x length in mm (0--10.74) ------ Continuous, Quantitative, Ratio<br><br>\n",
    "\n",
    "7. y width in mm (0--58.9) ------ Continuous, Quantitative, Ratio<br><br>\n",
    "\n",
    "8. z depth in mm (0--31.8) ------ Continuous, Quantitative, Ratio<br><br>\n",
    "\n",
    "9. depth total depth percentage = z / mean(x, y) = 2 * z / (x + y) (43--79)  ----- Continuous, Quantitaive, Ratio<br><br>\n",
    "\n",
    "10. table width of top of diamond relative to widest point (43--95)  ----- Continuous, Quantitative, Ratio<br><br>"
   ]
  },
  {
   "cell_type": "markdown",
   "metadata": {},
   "source": [
    "<font color='green'>Correct : 5 points</font> <br>"
   ]
  },
  {
   "cell_type": "markdown",
   "metadata": {},
   "source": [
    "#### Solution 4.2"
   ]
  },
  {
   "cell_type": "code",
   "execution_count": 31,
   "metadata": {},
   "outputs": [
    {
     "data": {
      "text/html": [
       "<div>\n",
       "<style scoped>\n",
       "    .dataframe tbody tr th:only-of-type {\n",
       "        vertical-align: middle;\n",
       "    }\n",
       "\n",
       "    .dataframe tbody tr th {\n",
       "        vertical-align: top;\n",
       "    }\n",
       "\n",
       "    .dataframe thead th {\n",
       "        text-align: right;\n",
       "    }\n",
       "</style>\n",
       "<table border=\"1\" class=\"dataframe\">\n",
       "  <thead>\n",
       "    <tr style=\"text-align: right;\">\n",
       "      <th></th>\n",
       "      <th>carat</th>\n",
       "      <th>cut</th>\n",
       "      <th>color</th>\n",
       "      <th>clarity</th>\n",
       "      <th>depth</th>\n",
       "      <th>table</th>\n",
       "      <th>price</th>\n",
       "      <th>x</th>\n",
       "      <th>y</th>\n",
       "      <th>z</th>\n",
       "    </tr>\n",
       "  </thead>\n",
       "  <tbody>\n",
       "    <tr>\n",
       "      <th>1</th>\n",
       "      <td>0.23</td>\n",
       "      <td>Ideal</td>\n",
       "      <td>E</td>\n",
       "      <td>SI2</td>\n",
       "      <td>61.5</td>\n",
       "      <td>55.0</td>\n",
       "      <td>326</td>\n",
       "      <td>3.95</td>\n",
       "      <td>3.98</td>\n",
       "      <td>2.43</td>\n",
       "    </tr>\n",
       "    <tr>\n",
       "      <th>2</th>\n",
       "      <td>0.21</td>\n",
       "      <td>Premium</td>\n",
       "      <td>E</td>\n",
       "      <td>SI1</td>\n",
       "      <td>59.8</td>\n",
       "      <td>61.0</td>\n",
       "      <td>326</td>\n",
       "      <td>3.89</td>\n",
       "      <td>3.84</td>\n",
       "      <td>2.31</td>\n",
       "    </tr>\n",
       "    <tr>\n",
       "      <th>3</th>\n",
       "      <td>0.23</td>\n",
       "      <td>Good</td>\n",
       "      <td>E</td>\n",
       "      <td>VS1</td>\n",
       "      <td>56.9</td>\n",
       "      <td>65.0</td>\n",
       "      <td>327</td>\n",
       "      <td>4.05</td>\n",
       "      <td>4.07</td>\n",
       "      <td>2.31</td>\n",
       "    </tr>\n",
       "    <tr>\n",
       "      <th>4</th>\n",
       "      <td>0.29</td>\n",
       "      <td>Premium</td>\n",
       "      <td>I</td>\n",
       "      <td>VS2</td>\n",
       "      <td>62.4</td>\n",
       "      <td>58.0</td>\n",
       "      <td>334</td>\n",
       "      <td>4.20</td>\n",
       "      <td>4.23</td>\n",
       "      <td>2.63</td>\n",
       "    </tr>\n",
       "    <tr>\n",
       "      <th>5</th>\n",
       "      <td>0.31</td>\n",
       "      <td>Good</td>\n",
       "      <td>J</td>\n",
       "      <td>SI2</td>\n",
       "      <td>63.3</td>\n",
       "      <td>58.0</td>\n",
       "      <td>335</td>\n",
       "      <td>4.34</td>\n",
       "      <td>4.35</td>\n",
       "      <td>2.75</td>\n",
       "    </tr>\n",
       "  </tbody>\n",
       "</table>\n",
       "</div>"
      ],
      "text/plain": [
       "   carat      cut color clarity  depth  table  price     x     y     z\n",
       "1   0.23    Ideal     E     SI2   61.5   55.0    326  3.95  3.98  2.43\n",
       "2   0.21  Premium     E     SI1   59.8   61.0    326  3.89  3.84  2.31\n",
       "3   0.23     Good     E     VS1   56.9   65.0    327  4.05  4.07  2.31\n",
       "4   0.29  Premium     I     VS2   62.4   58.0    334  4.20  4.23  2.63\n",
       "5   0.31     Good     J     SI2   63.3   58.0    335  4.34  4.35  2.75"
      ]
     },
     "execution_count": 31,
     "metadata": {},
     "output_type": "execute_result"
    }
   ],
   "source": [
    "import pandas as pd\n",
    "\n",
    "diamonds_df = pd.read_csv(f'/Users/rajananandw/Downloads/diamonds.csv', index_col = 0)\n",
    "diamonds_df.head(5)"
   ]
  },
  {
   "cell_type": "markdown",
   "metadata": {},
   "source": [
    "<font color='green'>Correct : 2 points</font> <br>"
   ]
  },
  {
   "cell_type": "markdown",
   "metadata": {},
   "source": [
    "#### Solution 4.3"
   ]
  },
  {
   "cell_type": "markdown",
   "metadata": {},
   "source": [
    "<h6>a. For each quantitative attribute: find the mean, median, standard deviation, and range</h6>\n",
    "\n"
   ]
  },
  {
   "cell_type": "code",
   "execution_count": 67,
   "metadata": {},
   "outputs": [
    {
     "data": {
      "text/html": [
       "<div>\n",
       "<style scoped>\n",
       "    .dataframe tbody tr th:only-of-type {\n",
       "        vertical-align: middle;\n",
       "    }\n",
       "\n",
       "    .dataframe tbody tr th {\n",
       "        vertical-align: top;\n",
       "    }\n",
       "\n",
       "    .dataframe thead th {\n",
       "        text-align: right;\n",
       "    }\n",
       "</style>\n",
       "<table border=\"1\" class=\"dataframe\">\n",
       "  <thead>\n",
       "    <tr style=\"text-align: right;\">\n",
       "      <th></th>\n",
       "      <th>carat</th>\n",
       "      <th>depth</th>\n",
       "      <th>table</th>\n",
       "      <th>price</th>\n",
       "      <th>x</th>\n",
       "      <th>y</th>\n",
       "      <th>z</th>\n",
       "    </tr>\n",
       "  </thead>\n",
       "  <tbody>\n",
       "    <tr>\n",
       "      <th>median</th>\n",
       "      <td>0.700000</td>\n",
       "      <td>61.800000</td>\n",
       "      <td>57.000000</td>\n",
       "      <td>2401.000000</td>\n",
       "      <td>5.700000</td>\n",
       "      <td>5.710000</td>\n",
       "      <td>3.530000</td>\n",
       "    </tr>\n",
       "    <tr>\n",
       "      <th>mean</th>\n",
       "      <td>0.797940</td>\n",
       "      <td>61.749405</td>\n",
       "      <td>57.457184</td>\n",
       "      <td>3932.799722</td>\n",
       "      <td>5.731157</td>\n",
       "      <td>5.734526</td>\n",
       "      <td>3.538734</td>\n",
       "    </tr>\n",
       "    <tr>\n",
       "      <th>std</th>\n",
       "      <td>0.474011</td>\n",
       "      <td>1.432621</td>\n",
       "      <td>2.234491</td>\n",
       "      <td>3989.439738</td>\n",
       "      <td>1.121761</td>\n",
       "      <td>1.142135</td>\n",
       "      <td>0.705699</td>\n",
       "    </tr>\n",
       "  </tbody>\n",
       "</table>\n",
       "</div>"
      ],
      "text/plain": [
       "           carat      depth      table        price         x         y  \\\n",
       "median  0.700000  61.800000  57.000000  2401.000000  5.700000  5.710000   \n",
       "mean    0.797940  61.749405  57.457184  3932.799722  5.731157  5.734526   \n",
       "std     0.474011   1.432621   2.234491  3989.439738  1.121761  1.142135   \n",
       "\n",
       "               z  \n",
       "median  3.530000  \n",
       "mean    3.538734  \n",
       "std     0.705699  "
      ]
     },
     "execution_count": 67,
     "metadata": {},
     "output_type": "execute_result"
    }
   ],
   "source": [
    "#marking quantitaive columns\n",
    "quantitative_cols = ['carat','depth','table','price','x','y','z']\n",
    "#Calculating mean, median and standard deviation for quantitative columns\n",
    "diamonds_df[quantitative_cols].agg({np.mean, np.median, np.std})"
   ]
  },
  {
   "cell_type": "code",
   "execution_count": 68,
   "metadata": {
    "scrolled": true
   },
   "outputs": [
    {
     "data": {
      "text/html": [
       "<div>\n",
       "<style scoped>\n",
       "    .dataframe tbody tr th:only-of-type {\n",
       "        vertical-align: middle;\n",
       "    }\n",
       "\n",
       "    .dataframe tbody tr th {\n",
       "        vertical-align: top;\n",
       "    }\n",
       "\n",
       "    .dataframe thead th {\n",
       "        text-align: right;\n",
       "    }\n",
       "</style>\n",
       "<table border=\"1\" class=\"dataframe\">\n",
       "  <thead>\n",
       "    <tr style=\"text-align: right;\">\n",
       "      <th></th>\n",
       "      <th>carat</th>\n",
       "      <th>depth</th>\n",
       "      <th>table</th>\n",
       "      <th>price</th>\n",
       "      <th>x</th>\n",
       "      <th>y</th>\n",
       "      <th>z</th>\n",
       "    </tr>\n",
       "  </thead>\n",
       "  <tbody>\n",
       "    <tr>\n",
       "      <th>amax</th>\n",
       "      <td>5.01</td>\n",
       "      <td>79.0</td>\n",
       "      <td>95.0</td>\n",
       "      <td>18823</td>\n",
       "      <td>10.74</td>\n",
       "      <td>58.9</td>\n",
       "      <td>31.8</td>\n",
       "    </tr>\n",
       "    <tr>\n",
       "      <th>amin</th>\n",
       "      <td>0.20</td>\n",
       "      <td>43.0</td>\n",
       "      <td>43.0</td>\n",
       "      <td>326</td>\n",
       "      <td>0.00</td>\n",
       "      <td>0.0</td>\n",
       "      <td>0.0</td>\n",
       "    </tr>\n",
       "  </tbody>\n",
       "</table>\n",
       "</div>"
      ],
      "text/plain": [
       "      carat  depth  table  price      x     y     z\n",
       "amax   5.01   79.0   95.0  18823  10.74  58.9  31.8\n",
       "amin   0.20   43.0   43.0    326   0.00   0.0   0.0"
      ]
     },
     "execution_count": 68,
     "metadata": {},
     "output_type": "execute_result"
    }
   ],
   "source": [
    "#Range as min and max of columns\n",
    "diamonds_df[quantitative_cols].agg({np.min,np.max})"
   ]
  },
  {
   "cell_type": "code",
   "execution_count": 69,
   "metadata": {},
   "outputs": [
    {
     "data": {
      "text/html": [
       "<div>\n",
       "<style scoped>\n",
       "    .dataframe tbody tr th:only-of-type {\n",
       "        vertical-align: middle;\n",
       "    }\n",
       "\n",
       "    .dataframe tbody tr th {\n",
       "        vertical-align: top;\n",
       "    }\n",
       "\n",
       "    .dataframe thead th {\n",
       "        text-align: right;\n",
       "    }\n",
       "</style>\n",
       "<table border=\"1\" class=\"dataframe\">\n",
       "  <thead>\n",
       "    <tr style=\"text-align: right;\">\n",
       "      <th></th>\n",
       "      <th>Range</th>\n",
       "    </tr>\n",
       "  </thead>\n",
       "  <tbody>\n",
       "    <tr>\n",
       "      <th>carat</th>\n",
       "      <td>4.81</td>\n",
       "    </tr>\n",
       "    <tr>\n",
       "      <th>depth</th>\n",
       "      <td>36.00</td>\n",
       "    </tr>\n",
       "    <tr>\n",
       "      <th>table</th>\n",
       "      <td>52.00</td>\n",
       "    </tr>\n",
       "    <tr>\n",
       "      <th>price</th>\n",
       "      <td>18497.00</td>\n",
       "    </tr>\n",
       "    <tr>\n",
       "      <th>x</th>\n",
       "      <td>10.74</td>\n",
       "    </tr>\n",
       "    <tr>\n",
       "      <th>y</th>\n",
       "      <td>58.90</td>\n",
       "    </tr>\n",
       "    <tr>\n",
       "      <th>z</th>\n",
       "      <td>31.80</td>\n",
       "    </tr>\n",
       "  </tbody>\n",
       "</table>\n",
       "</div>"
      ],
      "text/plain": [
       "          Range\n",
       "carat      4.81\n",
       "depth     36.00\n",
       "table     52.00\n",
       "price  18497.00\n",
       "x         10.74\n",
       "y         58.90\n",
       "z         31.80"
      ]
     },
     "execution_count": 69,
     "metadata": {},
     "output_type": "execute_result"
    }
   ],
   "source": [
    "#Range as difference between min and max of column\n",
    "diff = diamonds_df[quantitative_cols].max() - diamonds_df[quantitative_cols].min()\n",
    "pd.DataFrame(diff, columns=[\"Range\"])"
   ]
  },
  {
   "cell_type": "markdown",
   "metadata": {},
   "source": [
    "<h6>b. For each qualitative attribute, find the mode. </h6>\n",
    "\n"
   ]
  },
  {
   "cell_type": "code",
   "execution_count": 70,
   "metadata": {},
   "outputs": [
    {
     "data": {
      "text/html": [
       "<div>\n",
       "<style scoped>\n",
       "    .dataframe tbody tr th:only-of-type {\n",
       "        vertical-align: middle;\n",
       "    }\n",
       "\n",
       "    .dataframe tbody tr th {\n",
       "        vertical-align: top;\n",
       "    }\n",
       "\n",
       "    .dataframe thead th {\n",
       "        text-align: right;\n",
       "    }\n",
       "</style>\n",
       "<table border=\"1\" class=\"dataframe\">\n",
       "  <thead>\n",
       "    <tr style=\"text-align: right;\">\n",
       "      <th></th>\n",
       "      <th>cut</th>\n",
       "      <th>color</th>\n",
       "      <th>clarity</th>\n",
       "    </tr>\n",
       "  </thead>\n",
       "  <tbody>\n",
       "    <tr>\n",
       "      <th>0</th>\n",
       "      <td>Ideal</td>\n",
       "      <td>G</td>\n",
       "      <td>SI1</td>\n",
       "    </tr>\n",
       "  </tbody>\n",
       "</table>\n",
       "</div>"
      ],
      "text/plain": [
       "     cut color clarity\n",
       "0  Ideal     G     SI1"
      ]
     },
     "execution_count": 70,
     "metadata": {},
     "output_type": "execute_result"
    }
   ],
   "source": [
    "qualitative_cols = ['cut','color','clarity']\n",
    "#The mode for the 3 qualitative columns is extracted\n",
    "diamonds_df[qualitative_cols].mode()"
   ]
  },
  {
   "cell_type": "markdown",
   "metadata": {},
   "source": [
    "<h6>c. Find the Interquartile Range (IQR) of the ‘price’ variable.</h6>"
   ]
  },
  {
   "cell_type": "code",
   "execution_count": 111,
   "metadata": {},
   "outputs": [
    {
     "name": "stdout",
     "output_type": "stream",
     "text": [
      "The interquartile range of price is\n",
      "4374.25\n"
     ]
    }
   ],
   "source": [
    "#25th percentile value of price column\n",
    "price_25perc = diamonds_df['price'].quantile(0.25)\n",
    "#75th percentile value of price column\n",
    "price_75perc = diamonds_df['price'].quantile(0.75)\n",
    "iqr_price = price_75perc - price_25perc\n",
    "print(\"The interquartile range of price is\")\n",
    "print(iqr_price)"
   ]
  },
  {
   "cell_type": "markdown",
   "metadata": {},
   "source": [
    "<font color='green'>Correct : 5.5 points</font> <br>"
   ]
  },
  {
   "cell_type": "markdown",
   "metadata": {},
   "source": [
    "#### Solution 4.4 <br> \n",
    "What fraction of the data samples have ‘cut’ that is ‘very good’ or better ? Create a bar plot\n",
    "showing the distribution of the data samples by ‘cut’ (one bar for each value of cut)."
   ]
  },
  {
   "cell_type": "code",
   "execution_count": 112,
   "metadata": {
    "scrolled": true
   },
   "outputs": [
    {
     "name": "stdout",
     "output_type": "stream",
     "text": [
      "Fraction of samples with cut better than 'Very Good' :  0.8791991101223582\n"
     ]
    }
   ],
   "source": [
    "samples_cut = list(diamonds_df['cut'])\n",
    "\n",
    "count_good_cuts = [x for x in samples_cut if (x =='Very Good') | (x =='Premium')|(x =='Ideal')]\n",
    "\n",
    "print(\"Fraction of samples with cut better than 'Very Good' : \",len(count_good_cuts)/len(samples_cut))"
   ]
  },
  {
   "cell_type": "code",
   "execution_count": 113,
   "metadata": {
    "scrolled": true
   },
   "outputs": [
    {
     "data": {
      "text/plain": [
       "<AxesSubplot:>"
      ]
     },
     "execution_count": 113,
     "metadata": {},
     "output_type": "execute_result"
    },
    {
     "data": {
      "image/png": "[encoded data removed]",
      "text/plain": [
       "<Figure size 432x288 with 1 Axes>"
      ]
     },
     "metadata": {
      "needs_background": "light"
     },
     "output_type": "display_data"
    }
   ],
   "source": [
    "#Bar plot showing the distribution of data samples by cut\n",
    "diamonds_cut = diamonds_df[['cut']]\n",
    "\n",
    "diamonds_cut['cut'].value_counts().plot.bar()"
   ]
  },
  {
   "cell_type": "markdown",
   "metadata": {},
   "source": [
    "<font color='green'>Correct : 2.5 points</font> <br>"
   ]
  },
  {
   "cell_type": "markdown",
   "metadata": {},
   "source": [
    "#### Solution 4.5 <br>\n",
    "Plot a histogram of the 'carat' variable. \n",
    "\n",
    "Source: <a>https://thinkingneuron.com/how-to-visualize-data-distribution-of-a-continuous-variable-in-python/</a>"
   ]
  },
  {
   "cell_type": "code",
   "execution_count": 115,
   "metadata": {},
   "outputs": [
    {
     "data": {
      "text/plain": [
       "<AxesSubplot:ylabel='Frequency'>"
      ]
     },
     "execution_count": 115,
     "metadata": {},
     "output_type": "execute_result"
    },
    {
     "data": {
      "image/png": "[encoded data removed]",
      "text/plain": [
       "<Figure size 432x288 with 1 Axes>"
      ]
     },
     "metadata": {
      "needs_background": "light"
     },
     "output_type": "display_data"
    }
   ],
   "source": [
    "diamonds_carat = diamonds_df[['carat']]\n",
    "\n",
    "diamonds_carat['carat'].plot.hist()"
   ]
  },
  {
   "cell_type": "markdown",
   "metadata": {},
   "source": [
    "<font color='green'>Correct : 2 points</font> <br>\n",
    "Thanks for giving the link! "
   ]
  },
  {
   "cell_type": "markdown",
   "metadata": {},
   "source": [
    "#### Solution 4.6 <br>\n",
    "Plot a scatter plot of ‘carat’ vs ‘price’"
   ]
  },
  {
   "cell_type": "code",
   "execution_count": 116,
   "metadata": {},
   "outputs": [
    {
     "data": {
      "text/plain": [
       "<matplotlib.collections.PathCollection at 0x7ff2c6279fa0>"
      ]
     },
     "execution_count": 116,
     "metadata": {},
     "output_type": "execute_result"
    },
    {
     "data": {
      "image/png": "[encoded data removed]",
      "text/plain": [
       "<Figure size 432x288 with 1 Axes>"
      ]
     },
     "metadata": {
      "needs_background": "light"
     },
     "output_type": "display_data"
    }
   ],
   "source": [
    "import matplotlib.pyplot as plt\n",
    "plt.plot()\n",
    "plt.scatter(x = diamonds_df[\"carat\"], y = diamonds_df[\"price\"])"
   ]
  },
  {
   "cell_type": "markdown",
   "metadata": {},
   "source": [
    "<font color='green'>Correct : 2 points</font> <br>\n",
    "Thanks for giving the link! "
   ]
  },
  {
   "cell_type": "markdown",
   "metadata": {},
   "source": [
    "#### Solution 4.7 <br>\n",
    "Compute the correlation between ‘carat’ and ‘price’."
   ]
  },
  {
   "cell_type": "code",
   "execution_count": 121,
   "metadata": {},
   "outputs": [
    {
     "name": "stdout",
     "output_type": "stream",
     "text": [
      "Correlation between price and carat is: 0.9215913011934779\n"
     ]
    }
   ],
   "source": [
    "col_carat = diamonds_df['carat']\n",
    "col_price = diamonds_df[\"price\"]\n",
    "correlation_bw_carat_price = col_carat.corr(col_price)\n",
    "print(\"Correlation between price and carat is:\",correlation)"
   ]
  },
  {
   "cell_type": "markdown",
   "metadata": {},
   "source": [
    "<font color='green'>Correct :1 point</font> <br>"
   ]
  },
  {
   "cell_type": "markdown",
   "metadata": {},
   "source": [
    "### Problem 5 (4 points)\n",
    "\n",
    "We have a collection of m documents.\n",
    "\n",
    "Let us say we would like to compare two documents x and y using their document term vectors. \n",
    "\n",
    "Let tf_ij be the frequency of the ith word (term) in the jth document\n",
    "\n",
    "1. Let the vocabulary size (the dimensionality of the vectors) be n. What is a good measure of similarity for this purpose ? Write the formula for it in terms of tf_ij.\n",
    "\n",
    "2. Consider the variable transformation given by idf_ij = tf_ij * log(m/df_i), where df_i is the document frequency, i.e. the number of documents in which the ith term occurs. The transformed variable idf_ij is called the inverse document frequency. What are the advantages of using this transformed variable instead of the original in the similarity computation ?"
   ]
  },
  {
   "cell_type": "markdown",
   "metadata": {},
   "source": [
    "### Solution"
   ]
  },
  {
   "cell_type": "markdown",
   "metadata": {},
   "source": [
    "#### Solution 5.1"
   ]
  },
  {
   "cell_type": "markdown",
   "metadata": {},
   "source": [
    "Cosine measure of similarity is a good measure to compare the two documents"
   ]
  },
  {
   "cell_type": "markdown",
   "metadata": {},
   "source": [
    "\n",
    "\\begin{equation}\n",
    "\\cos ({\\bf tf_ix},{\\bf tf_iy})= {{\\bf tf_ix} {\\bf tf_iy} \\over \\|{\\bf tf_ix}\\| \\|{\\bf tf_iy}\\|} = \\frac{ \\sum_{i=1}^{n}{{\\bf tf_ix}_i{\\bf tf_iy}_i} }{ \\sqrt{\\sum_{i=1}^{n}{({\\bf tf_ix}_i)^2}} \\sqrt{\\sum_{i=1}^{n}{({\\bf tf_i}_i)^2}} }\n",
    "\\end{equation}"
   ]
  },
  {
   "cell_type": "markdown",
   "metadata": {},
   "source": [
    "<font color='blue'>Partially Correct : 1.75 points</font> <br>\n",
    "Reasoning: You forgot a y in the denominator for tf_i_y_i"
   ]
  },
  {
   "cell_type": "markdown",
   "metadata": {},
   "source": [
    "#### Solution 5.2"
   ]
  },
  {
   "cell_type": "markdown",
   "metadata": {},
   "source": [
    "I believe the inverse document frequency measure has the advantages that:\n",
    "\n",
    "1. Reduces the weightage of very common words in comparing documents ie -a,is,it etc.\n",
    "2. Gives higher weightage to words that occur only in a few documents(sparsely occuring words)"
   ]
  },
  {
   "cell_type": "markdown",
   "metadata": {},
   "source": [
    "<font color='green'>Correct : 2 points</font> <br>"
   ]
  },
  {
   "cell_type": "markdown",
   "metadata": {},
   "source": [
    "### Problem 6 (6 points)\n",
    "\n",
    "Write Python functions to compute the Hamming (L1) distance, SMC and Jaccard similarity coefficient between two binary vectors. Use them to these proximity measures between the following vectors:\n",
    "\n",
    "x = 1010101010101 \n",
    "\n",
    "y = 1000100010001"
   ]
  },
  {
   "cell_type": "markdown",
   "metadata": {},
   "source": [
    "### Solution"
   ]
  },
  {
   "cell_type": "code",
   "execution_count": 14,
   "metadata": {},
   "outputs": [
    {
     "ename": "NameError",
     "evalue": "name 'hamming_function' is not defined",
     "output_type": "error",
     "traceback": [
      "\u001b[1;31m---------------------------------------------------------------------------\u001b[0m",
      "\u001b[1;31mNameError\u001b[0m                                 Traceback (most recent call last)",
      "\u001b[1;32m<ipython-input-14-33a6f5885efc>\u001b[0m in \u001b[0;36m<module>\u001b[1;34m\u001b[0m\n\u001b[0;32m     34\u001b[0m \u001b[0my\u001b[0m \u001b[1;33m=\u001b[0m \u001b[1;33m[\u001b[0m\u001b[1;36m1\u001b[0m\u001b[1;33m,\u001b[0m\u001b[1;36m0\u001b[0m\u001b[1;33m,\u001b[0m\u001b[1;36m0\u001b[0m\u001b[1;33m,\u001b[0m\u001b[1;36m0\u001b[0m\u001b[1;33m,\u001b[0m\u001b[1;36m1\u001b[0m\u001b[1;33m,\u001b[0m\u001b[1;36m0\u001b[0m\u001b[1;33m,\u001b[0m\u001b[1;36m0\u001b[0m\u001b[1;33m,\u001b[0m\u001b[1;36m0\u001b[0m\u001b[1;33m,\u001b[0m\u001b[1;36m1\u001b[0m\u001b[1;33m,\u001b[0m\u001b[1;36m0\u001b[0m\u001b[1;33m,\u001b[0m\u001b[1;36m0\u001b[0m\u001b[1;33m,\u001b[0m\u001b[1;36m0\u001b[0m\u001b[1;33m,\u001b[0m\u001b[1;36m1\u001b[0m\u001b[1;33m]\u001b[0m\u001b[1;33m\u001b[0m\u001b[1;33m\u001b[0m\u001b[0m\n\u001b[0;32m     35\u001b[0m \u001b[1;33m\u001b[0m\u001b[0m\n\u001b[1;32m---> 36\u001b[1;33m \u001b[0mprint\u001b[0m\u001b[1;33m(\u001b[0m\u001b[1;34m\"Hamming Distance is \"\u001b[0m\u001b[1;33m,\u001b[0m\u001b[0mhamming_function\u001b[0m\u001b[1;33m(\u001b[0m\u001b[0mx\u001b[0m\u001b[1;33m,\u001b[0m\u001b[0my\u001b[0m\u001b[1;33m)\u001b[0m\u001b[1;33m)\u001b[0m\u001b[1;33m\u001b[0m\u001b[1;33m\u001b[0m\u001b[0m\n\u001b[0m\u001b[0;32m     37\u001b[0m \u001b[1;33m\u001b[0m\u001b[0m\n\u001b[0;32m     38\u001b[0m \u001b[0mprint\u001b[0m\u001b[1;33m(\u001b[0m\u001b[1;34m\"SMC is \"\u001b[0m\u001b[1;33m,\u001b[0m\u001b[0mSMC\u001b[0m\u001b[1;33m(\u001b[0m\u001b[0mx\u001b[0m\u001b[1;33m,\u001b[0m\u001b[0my\u001b[0m\u001b[1;33m)\u001b[0m\u001b[1;33m)\u001b[0m\u001b[1;33m\u001b[0m\u001b[1;33m\u001b[0m\u001b[0m\n",
      "\u001b[1;31mNameError\u001b[0m: name 'hamming_function' is not defined"
     ]
    }
   ],
   "source": [
    "def SMC(x,y):\n",
    "    count = 0\n",
    "    for a,b in zip(x,y):\n",
    "        if(a==b):\n",
    "            count+=1\n",
    "    \n",
    "    return count/len(x)\n",
    "\n",
    "\n",
    "def Hamming_function(x,y):\n",
    "    count = 0\n",
    "    for a,b in zip(x,y):\n",
    "        if(a!=b):\n",
    "            count+=1\n",
    "    \n",
    "    return count/len(x)\n",
    "\n",
    "\n",
    "def Jaccard_function(x,y):\n",
    "    count =  0\n",
    "    numbers_to_be_reduced = 0\n",
    "    for i,j in zip(x,y):\n",
    "        if i==1 and j==1:\n",
    "            count+=1\n",
    "        if i==0 and j==0:\n",
    "            numbers_to_be_reduced+=1\n",
    "    return (count/(len(x)-numbers_to_be_reduced))\n",
    "\n",
    "\n",
    "\n",
    "\n",
    "#Calculating promixity measures\n",
    "x = [1,0,1,0,1,0,1,0,1,0,1,0,1]\n",
    "y = [1,0,0,0,1,0,0,0,1,0,0,0,1]\n",
    "\n",
    "print(\"Hamming Distance is \",hamming_function(x,y))\n",
    "\n",
    "print(\"SMC is \",SMC(x,y))\n",
    "\n",
    "print(\"Jaccard Similarity is \",Jaccard_function(x,y))\n",
    " "
   ]
  },
  {
   "cell_type": "markdown",
   "metadata": {},
   "source": [
    "<font color='blue'>Partially Correct : 4 points</font> <br>\n",
    "Reasoning: Spelling of hamming_function is incorrect."
   ]
  },
  {
   "cell_type": "markdown",
   "metadata": {},
   "source": [
    "### Problem 7 (6 points)\n",
    "\n",
    "Calculate the indicated similarity or distance measures of the vectors show below (you can do this by hand or by writing code, but please show the computation either way):\n",
    "\n",
    "x = (1,1,1,1) and y = (3,3,3,3) : cosine, correlation, Euclidean\n",
    "\n",
    "x = (0,1,0,1,0,1) and y = (1,0,1,0,1,0) : cosine, correlation, Euclidean, Jaccard \n",
    "\n",
    "x = (1,1,0,1,0,1) and y = (1,1,1,0,0,1) : cosine, correlation, Lmax, Jaccard"
   ]
  },
  {
   "cell_type": "markdown",
   "metadata": {},
   "source": [
    "### Solution"
   ]
  },
  {
   "cell_type": "code",
   "execution_count": 20,
   "metadata": {},
   "outputs": [],
   "source": [
    "def Std(a):\n",
    "    c = mean(a)\n",
    "    std = sum((x-c)**2 for x in a)\n",
    "    return std\n",
    "\n",
    "def mean(a):\n",
    "    return sum(a)/len(a)\n",
    "\n",
    "def Euclid(x,y):\n",
    "    a,b = np.array(x),np.array(y)\n",
    "    return np.sqrt(np.sum(np.square(a-b)))\n",
    "\n",
    "def Covariance(x,y):\n",
    "    return dotted([a - mean(x) for a in x],[a - mean(x) for a in x])/(len(x)-1)\n",
    "\n",
    "def Correlation(a,b):\n",
    "    \n",
    "    if(Std(a)!=0 and Std(b)!=0):\n",
    "        return Covariance(a, b) / (Std(a) * Std(b))\n",
    "    else: \n",
    "        return 0\n",
    "\n",
    "def L_max(x,y):\n",
    "    return max([abs(i-j) for i,j in zip(x,y)])\n",
    "\n",
    "\n",
    "def dotted(A,B): \n",
    "    return (sum(a*b for a,b in zip(A,B)))\n",
    "\n",
    "def Cosine_similarity(x,y):# x and y are vectors\n",
    "    return np.dot(x,y)/(np.linalg.norm(x)*np.linalg.norm(y))"
   ]
  },
  {
   "cell_type": "code",
   "execution_count": 21,
   "metadata": {},
   "outputs": [
    {
     "name": "stdout",
     "output_type": "stream",
     "text": [
      "Cosine : 1.0\n",
      "Correlation : 0\n",
      "Euclidean : 4.0\n"
     ]
    }
   ],
   "source": [
    "x1 = [1,1,1,1]\n",
    "y1 = [3,3,3,3]\n",
    "\n",
    "print(\"Cosine :\",Cosine_similarity(x1,y1))\n",
    "print(\"Correlation :\",Correlation(x1,y1))\n",
    "print(\"Euclidean :\",Euclid(x1,y1))\n"
   ]
  },
  {
   "cell_type": "code",
   "execution_count": 22,
   "metadata": {},
   "outputs": [
    {
     "name": "stdout",
     "output_type": "stream",
     "text": [
      "Cosine : 0.0\n",
      "Correlation : 0.13333333333333333\n",
      "Eucliden : 2.449489742783178\n",
      "Jaccard : 0.0\n"
     ]
    }
   ],
   "source": [
    "x2 = [0,1,0,1,0,1] \n",
    "y2 = [1,0,1,0,1,0]\n",
    "\n",
    "print(\"Cosine :\",Cosine_similarity(x2,y2))\n",
    "print(\"Correlation :\",Correlation(x2,y2))\n",
    "print(\"Eucliden :\",Euclid(x2,y2))\n",
    "print(\"Jaccard :\",Jaccard_function(x2,y2))"
   ]
  },
  {
   "cell_type": "code",
   "execution_count": 23,
   "metadata": {},
   "outputs": [
    {
     "name": "stdout",
     "output_type": "stream",
     "text": [
      "Cosine : 0.75\n",
      "Correlation : 0.15\n",
      "L_Max : 1\n",
      "Jaccard : 0.6\n"
     ]
    }
   ],
   "source": [
    "x3 = [1,1,0,1,0,1]\n",
    "y3 = [1,1,1,0,0,1]\n",
    "\n",
    "print(\"Cosine :\",Cosine_similarity(x3,y3))\n",
    "print(\"Correlation :\",Correlation(x3,y3))\n",
    "print(\"L_Max :\",L_max(x3,y3))\n",
    "print(\"Jaccard :\",Jaccard_function(x3,y3))"
   ]
  },
  {
   "cell_type": "markdown",
   "metadata": {},
   "source": [
    "<font color='blue'>Partially Correct : 5 points</font> <br>\n",
    "Correlation is incorrect. Check your covariance formula once again!  "
   ]
  },
  {
   "cell_type": "markdown",
   "metadata": {},
   "source": [
    "### Submission instructions\n",
    "\n",
    "1. Your assignment should be completed by filling in the empty solution cells in this Jupyter notebook file (.ipynb). Feel free to add more cells as needed.\n",
    "\n",
    "2. Please comment your code using either markdown or #comments and use meaningful variable names to make it as readable and intelligible as possible.\n",
    "\n",
    "3. Write your code in the form of functions. For example: \n",
    "\n",
    "    def my_code ():\n",
    "\n",
    "          #Write code here\n",
    "      \n",
    "          return \"The return value\"\n",
    "          \n",
    "\n",
    "4. If the problem is to find the value of 'x', printing 'x = (your answer)' will help us identify if your code worked.\n",
    "\n",
    "\n",
    "5. For code that refers to local data files downloaded from the internet, please keep the file path simple (e.g. ~/downloads/datafilename) so that it works on our copy of the dataset. Please do not modify either the filename or the file contents in any way.\n",
    "\n",
    "6. Solution to problems that do not require any coding can be typed up in their own cells using markdown.\n",
    "    \n",
    "7. Unless there are legitimate circumstances, late assignments will not be accepted.\n",
    "\n",
    "8. All assignments are individual.\n",
    "\n",
    "9. All the sources used for problem solution must be acknowledged, e.g. web sites, books, research papers, etc.\n",
    "\n",
    "10. Academic integrity is taken seriously; for detailed information see the RIT Honor Code and with RIT's Academic Integrity Policy."
   ]
  },
  {
   "cell_type": "markdown",
   "metadata": {},
   "source": [
    "<font color='green'>Total marks : 47.75 points</font> <br> "
   ]
  }
 ],
 "metadata": {
  "kernelspec": {
   "display_name": "Python 3",
   "language": "python",
   "name": "python3"
  },
  "language_info": {
   "codemirror_mode": {
    "name": "ipython",
    "version": 3
   },
   "file_extension": ".py",
   "mimetype": "text/x-python",
   "name": "python",
   "nbconvert_exporter": "python",
   "pygments_lexer": "ipython3",
   "version": "3.8.5"
  }
 },
 "nbformat": 4,
 "nbformat_minor": 2
}
