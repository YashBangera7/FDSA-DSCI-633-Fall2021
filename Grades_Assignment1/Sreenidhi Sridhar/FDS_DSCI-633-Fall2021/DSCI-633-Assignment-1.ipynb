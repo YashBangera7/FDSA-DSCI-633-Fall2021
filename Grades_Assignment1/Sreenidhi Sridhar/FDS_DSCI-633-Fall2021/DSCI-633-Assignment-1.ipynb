{
 "cells": [
  {
   "cell_type": "markdown",
   "metadata": {},
   "source": [
    "# RIT DSCI-633: Foundations of Data Science and Analytics\n",
    "## Assignment 1\n",
    "### Due: 11:59 pm EST, Saturday, Oct 2, 2021"
   ]
  },
  {
   "cell_type": "markdown",
   "metadata": {},
   "source": [
    "### Problem 1 (10 points)\n",
    "\n",
    "In statistics and probability theory, the law of large numbers is a theorem that describes the result of\n",
    "repeating the same experiment a large number of times. The theorem states that if the same\n",
    "experiment or study is repeated independently a large number of times, the average of the results of\n",
    "the trials must be close to the expected value. The result becomes closer to the expected value as the\n",
    "number of trials is increased. Let us look at a specific experiment.\n",
    "\n",
    "Assume you have a Gaussian distribution (commonly called a “bell curve”) with mean µ and std\n",
    "deviation σ. The area under the curve that lies between σ and 2σ, and –σ and -2σ is approximately\n",
    "27.2%. In other words, approximately 27.2% of numbers generated randomly using this distribution will\n",
    "fall in the range [µ + σ, µ + 2σ] or [µ - 2σ, µ - σ], as shown below.\n",
    "\n",
    "Generate N random numbers that follow a Gaussian distribution with µ = 100, σ = 10, and count the\n",
    "numbers M that fall into the ranges above. Print the fraction M/N. Repeat this for N = 10, 100, 1000,\n",
    "10000, and 1000000.\n",
    "\n",
    "Does the fraction start to approach 27.2%?\n"
   ]
  },
  {
   "cell_type": "markdown",
   "metadata": {},
   "source": [
    "### Solution"
   ]
  },
  {
   "cell_type": "code",
   "execution_count": 1,
   "metadata": {},
   "outputs": [
    {
     "name": "stdout",
     "output_type": "stream",
     "text": [
      "0.1\n",
      "0.28\n",
      "0.268\n",
      "0.2728\n",
      "0.272356\n"
     ]
    }
   ],
   "source": [
    "import numpy as np\n",
    "std = 10\n",
    "mean = 100\n",
    "for i in [10,100,1000,10000,1000000]:\n",
    "    random_num = std*np.random.randn(i,1) + mean\n",
    "    M=0\n",
    "    for i in range(len(random_num)):\n",
    "        if(((random_num[i]>110) and (random_num[i]<120)) or ((random_num[i]>80) and (random_num[i]<90))):\n",
    "            M+=1\n",
    "    print(M/len(random_num))"
   ]
  },
  {
   "cell_type": "markdown",
   "metadata": {},
   "source": [
    "yes the fraction approaches to 27.2%"
   ]
  },
  {
   "cell_type": "markdown",
   "metadata": {},
   "source": [
    "<font color = 'green'> Correct : 10 points </font>"
   ]
  },
  {
   "cell_type": "markdown",
   "metadata": {},
   "source": [
    "### Problem 2 (5 points)\n",
    "\n",
    "Imagine you have a dataset of movie ratings for a set of 500 popular movies and a set of 1000 users.\n",
    "Each data sample contains the ratings of each movie (from 1 to 5 stars) by a specific user. The rating is\n",
    "an integer in the range [0,5], with a value of 0 means that the user did not watch that movie.\n",
    "How would you convert this data to a form suitable for association analysis? In particular, what type of\n",
    "attributes would you have and how many of them?\n",
    "\n"
   ]
  },
  {
   "cell_type": "markdown",
   "metadata": {},
   "source": [
    "### Solution"
   ]
  },
  {
   "cell_type": "markdown",
   "metadata": {},
   "source": [
    "In the given problem, it has mentioned that 1000 users will rate a movie from 0to5 which is a quantitative attribute(Ordinal). Associative Analysis is a search through the data for combinations of items whose statistics are most likely to occur.<br>\n",
    "To make the data more suitable for associative analysis we can add few more columns to the dataset such as AGE, GENDER, GENRES, PRODUCER, ARTIST etc. (Which is both qualitative and quantitative).<br>\n",
    "Age, gender and genre of the user would help us determine which age group of people like which genre movie and depending on whether they are male or female the choice of genre will also defer. With that being said for additional clarity we might also add their favorite producer, artist or music director to recommend movies. "
   ]
  },
  {
   "cell_type": "markdown",
   "metadata": {},
   "source": [
    "<font color = 'red'> Incorrect : 0 points </font> \n",
    "For association analysis, we require binary asymmetric attributes.\n",
    "\n",
    "Since each rating can take 6 possible values, we would need to replace it with 6 asymmetric binary attributes\n",
    "of the form (rating == 0?) (rating == 1?) ...\n",
    "\n",
    "This will give us 500 x 6 = **3000 binary attributes per user**.  \n",
    "The resulting sparse data matrix would be **1000 rows x 3000 columns**."
   ]
  },
  {
   "cell_type": "markdown",
   "metadata": {},
   "source": [
    "### Problem 3 (5 points)\n",
    "\n",
    "Distinguish between noise and outliers\n",
    "\n",
    "1. True or False ? Noise may be in the form of noisy attribute values, or noise objects.\n",
    "2. True or False ? Noise is sometimes desirable.\n",
    "3. True or False ? Outliers are sometimes desirable.\n",
    "4. True or False ? Noise objects may or may not be outliers. Explain your reasoning.\n",
    "5. True or False ? Outlier objects may or may not be noise. Explain your reasoning."
   ]
  },
  {
   "cell_type": "markdown",
   "metadata": {},
   "source": [
    "### Solution"
   ]
  },
  {
   "cell_type": "markdown",
   "metadata": {},
   "source": [
    "1. True\n",
    "\n",
    "2. False\n",
    "\n",
    "3. True\n",
    "\n",
    "4. True, it is possible because the attribute values can make the data effective.\n",
    "\n",
    "5. False, outliers can be legit data objects and thus we cannot consider it as noise."
   ]
  },
  {
   "cell_type": "markdown",
   "metadata": {},
   "source": [
    "<font color='green'> Correct : 5 points </font>"
   ]
  },
  {
   "cell_type": "markdown",
   "metadata": {},
   "source": [
    "### Problem 4 (20 points)\n",
    "Download the ‘Diamonds’ dataset from https://www.kaggle.com/shivam2503/diamonds.\n",
    "1. Based on the description of the dataset provided at the site, categorize each attribute of the data as\n",
    "discrete or continuous, qualitative (nominal or ordinal), or quantitative (interval or ratio)  (5 points)\n",
    "e.g. Age in years: Discrete, Quantitative, Ratio.\n",
    "2. Load the CSV data file into a Pandas DataFrame object and display the first 5 rows. (2 points)\n",
    "3. Calculate summary statistics:\n",
    "a. For each quantitative attribute: find the mean, median, standard deviation, and range. (3.5 points)\n",
    "b. For each qualitative attribute, find the mode. (1.5 points)\n",
    "c. Find the Interquartile Range (IQR) of the ‘price’ variable. (0.5 points)\n",
    "4. What fraction of the data samples have ‘cut’ that is ‘very good’ or better ? Create a bar plot\n",
    "showing the distribution of the data samples by ‘cut’ (one bar for each value of cut). (2.5 points)\n",
    "5. Plot a histogram of the 'carat' variable. (2 points)\n",
    "6. Plot a scatter plot of ‘carat’ vs ‘price’. (2 points)\n",
    "7. Compute the correlation between ‘carat’ and ‘price’. (1 point)"
   ]
  },
  {
   "cell_type": "markdown",
   "metadata": {},
   "source": [
    "### Solution"
   ]
  },
  {
   "cell_type": "markdown",
   "metadata": {},
   "source": [
    "#### Solution 4.1"
   ]
  },
  {
   "cell_type": "markdown",
   "metadata": {},
   "source": [
    "column 1: price price in US dollars (\\$326--\\$18,823):<br>\n",
    "    <p>==>discrete,quantitative,nominal</p><br>\n",
    "column 2: carat weight of the diamond (0.2--5.01):<br>\n",
    "    <p>==>continuous,quantitative,ratio</p><br>\n",
    "column 3: cut quality of the cut (Fair, Good, Very Good, Premium, Ideal):<br>\n",
    "    <p>==>discrete,qualitative,ordinal</p><br>\n",
    "column 4: color diamond colour, from J (worst) to D (best):<br>\n",
    "    <p>==>discrete,Qualitative,Ordinal</p><br>\n",
    "column 5: clarity a measurement of how clear the diamond is (I1 (worst), SI2, SI1, VS2, VS1, VVS2, VVS1, IF (best)):<br>\n",
    "    <p>==>discrete,qualitative,ordinal</p><br>\n",
    "column 6: x length in mm (0--10.74):<br>\n",
    "    <p>==>continuous,quantitative,ratio</p><br>\n",
    "column 7: y width in mm (0--58.9):<br>\n",
    "    <p>==>continuous,quantitative,ratio</p><br>\n",
    "column 8: z depth in mm (0--31.8):<br>\n",
    "    <p>==>continuous,quantitative,ratio</p><br>\n",
    "column 9: depth total depth percentage = z / mean(x, y) = 2 * z / (x + y) (43--79):<br>\n",
    "    <p>==>discrete,quantitative,ratio</p><br>\n",
    "column 10: table width of top of diamond relative to widest point (43--95):<br>\n",
    "    <p>==>discrete,quantitative,ratio</p><br>"
   ]
  },
  {
   "cell_type": "markdown",
   "metadata": {},
   "source": [
    "<font color = 'green' > Partially correct : 3.5 points </font>\n",
    "Reasoning : Price must be ratio (can be continuous too instead of discrete). Depth and table and continuous."
   ]
  },
  {
   "cell_type": "markdown",
   "metadata": {},
   "source": [
    "#### Solution 4.2"
   ]
  },
  {
   "cell_type": "code",
   "execution_count": 3,
   "metadata": {},
   "outputs": [
    {
     "data": {
      "text/html": [
       "<div>\n",
       "<style scoped>\n",
       "    .dataframe tbody tr th:only-of-type {\n",
       "        vertical-align: middle;\n",
       "    }\n",
       "\n",
       "    .dataframe tbody tr th {\n",
       "        vertical-align: top;\n",
       "    }\n",
       "\n",
       "    .dataframe thead th {\n",
       "        text-align: right;\n",
       "    }\n",
       "</style>\n",
       "<table border=\"1\" class=\"dataframe\">\n",
       "  <thead>\n",
       "    <tr style=\"text-align: right;\">\n",
       "      <th></th>\n",
       "      <th>Unnamed: 0</th>\n",
       "      <th>carat</th>\n",
       "      <th>cut</th>\n",
       "      <th>color</th>\n",
       "      <th>clarity</th>\n",
       "      <th>depth</th>\n",
       "      <th>table</th>\n",
       "      <th>price</th>\n",
       "      <th>x</th>\n",
       "      <th>y</th>\n",
       "      <th>z</th>\n",
       "    </tr>\n",
       "  </thead>\n",
       "  <tbody>\n",
       "    <tr>\n",
       "      <th>0</th>\n",
       "      <td>1</td>\n",
       "      <td>0.23</td>\n",
       "      <td>Ideal</td>\n",
       "      <td>E</td>\n",
       "      <td>SI2</td>\n",
       "      <td>61.5</td>\n",
       "      <td>55.0</td>\n",
       "      <td>326</td>\n",
       "      <td>3.95</td>\n",
       "      <td>3.98</td>\n",
       "      <td>2.43</td>\n",
       "    </tr>\n",
       "    <tr>\n",
       "      <th>1</th>\n",
       "      <td>2</td>\n",
       "      <td>0.21</td>\n",
       "      <td>Premium</td>\n",
       "      <td>E</td>\n",
       "      <td>SI1</td>\n",
       "      <td>59.8</td>\n",
       "      <td>61.0</td>\n",
       "      <td>326</td>\n",
       "      <td>3.89</td>\n",
       "      <td>3.84</td>\n",
       "      <td>2.31</td>\n",
       "    </tr>\n",
       "    <tr>\n",
       "      <th>2</th>\n",
       "      <td>3</td>\n",
       "      <td>0.23</td>\n",
       "      <td>Good</td>\n",
       "      <td>E</td>\n",
       "      <td>VS1</td>\n",
       "      <td>56.9</td>\n",
       "      <td>65.0</td>\n",
       "      <td>327</td>\n",
       "      <td>4.05</td>\n",
       "      <td>4.07</td>\n",
       "      <td>2.31</td>\n",
       "    </tr>\n",
       "    <tr>\n",
       "      <th>3</th>\n",
       "      <td>4</td>\n",
       "      <td>0.29</td>\n",
       "      <td>Premium</td>\n",
       "      <td>I</td>\n",
       "      <td>VS2</td>\n",
       "      <td>62.4</td>\n",
       "      <td>58.0</td>\n",
       "      <td>334</td>\n",
       "      <td>4.20</td>\n",
       "      <td>4.23</td>\n",
       "      <td>2.63</td>\n",
       "    </tr>\n",
       "    <tr>\n",
       "      <th>4</th>\n",
       "      <td>5</td>\n",
       "      <td>0.31</td>\n",
       "      <td>Good</td>\n",
       "      <td>J</td>\n",
       "      <td>SI2</td>\n",
       "      <td>63.3</td>\n",
       "      <td>58.0</td>\n",
       "      <td>335</td>\n",
       "      <td>4.34</td>\n",
       "      <td>4.35</td>\n",
       "      <td>2.75</td>\n",
       "    </tr>\n",
       "  </tbody>\n",
       "</table>\n",
       "</div>"
      ],
      "text/plain": [
       "   Unnamed: 0  carat      cut color clarity  depth  table  price     x     y  \\\n",
       "0           1   0.23    Ideal     E     SI2   61.5   55.0    326  3.95  3.98   \n",
       "1           2   0.21  Premium     E     SI1   59.8   61.0    326  3.89  3.84   \n",
       "2           3   0.23     Good     E     VS1   56.9   65.0    327  4.05  4.07   \n",
       "3           4   0.29  Premium     I     VS2   62.4   58.0    334  4.20  4.23   \n",
       "4           5   0.31     Good     J     SI2   63.3   58.0    335  4.34  4.35   \n",
       "\n",
       "      z  \n",
       "0  2.43  \n",
       "1  2.31  \n",
       "2  2.31  \n",
       "3  2.63  \n",
       "4  2.75  "
      ]
     },
     "execution_count": 3,
     "metadata": {},
     "output_type": "execute_result"
    }
   ],
   "source": [
    "import pandas as pd\n",
    "data=pd.read_csv(r'C:\\Users\\sreen\\Downloads\\diamonds.csv')\n",
    "data.head(5)"
   ]
  },
  {
   "cell_type": "markdown",
   "metadata": {},
   "source": [
    "<font color = 'green'> Correct : 2 points </font>"
   ]
  },
  {
   "cell_type": "code",
   "execution_count": 12,
   "metadata": {},
   "outputs": [],
   "source": [
    "carat=data[\"carat\"]\n",
    "price=data[\"price\"]"
   ]
  },
  {
   "cell_type": "markdown",
   "metadata": {},
   "source": [
    "#### Solution 4.3"
   ]
  },
  {
   "cell_type": "code",
   "execution_count": 13,
   "metadata": {},
   "outputs": [
    {
     "name": "stdout",
     "output_type": "stream",
     "text": [
      "::::::::::Quantitative Attribute:::::::\n",
      ":::carat::::\n",
      "mean: 0.7979397478679852\n",
      "median: 0.7\n",
      "Standard deviation: 0.47401124440538067\n",
      "Range: 4.81\n",
      ":::price::::\n",
      "mean: 3932.799721913237\n",
      "median: 2401.0\n",
      "Standard deviation: 3989.4397381463023\n",
      "Range: 18497\n",
      ":::x::::\n",
      "mean: 5.731157211716609\n",
      "median: 5.7\n",
      "Standard deviation: 1.1217607467924422\n",
      "Range: 10.74\n",
      ":::y::::\n",
      "mean: 5.734525954764462\n",
      "median: 5.71\n",
      "Standard deviation: 1.1421346741235396\n",
      "Range: 58.9\n",
      ":::z::::\n",
      "mean: 3.5387337782723316\n",
      "median: 3.53\n",
      "Standard deviation: 0.7056988469499964\n",
      "Range: 31.8\n",
      ":::depth::::\n",
      "mean: 61.74940489432624\n",
      "median: 61.8\n",
      "Standard deviation: 1.4326213188337733\n",
      "Range: 36.0\n",
      ":::table::::\n",
      "mean: 57.45718390804603\n",
      "median: 57.0\n",
      "Standard deviation: 2.234490562820938\n",
      "Range: 52.0\n",
      ":::::::::::Qualitative Attribute::::::::::::\n",
      ":::cut::::\n",
      "Mode: 0    Ideal\n",
      "dtype: object\n",
      ":::color::::\n",
      "Mode: 0    G\n",
      "dtype: object\n",
      ":::clarity::::\n",
      "Mode: 0    SI1\n",
      "dtype: object\n",
      "::::::Interquartile Range (IQR) of price::::::::\n",
      "4374.25\n"
     ]
    }
   ],
   "source": [
    "print(\"::::::::::Quantitative Attribute:::::::\")\n",
    "\n",
    "print(\":::carat::::\")\n",
    "mean=data[\"carat\"].mean()\n",
    "print(\"mean:\",mean)\n",
    "median=data[\"carat\"].median()\n",
    "print(\"median:\",median)\n",
    "std=data[\"carat\"].std()\n",
    "print(\"Standard deviation:\",std)\n",
    "r=data[\"carat\"].max()-data[\"carat\"].min()\n",
    "print(\"Range:\",r)\n",
    "\n",
    "print(\":::price::::\")\n",
    "mean=data[\"price\"].mean()\n",
    "print(\"mean:\",mean)\n",
    "median=data[\"price\"].median()\n",
    "print(\"median:\",median)\n",
    "std=data[\"price\"].std()\n",
    "print(\"Standard deviation:\",std)\n",
    "r=data[\"price\"].max()-data[\"price\"].min()\n",
    "print(\"Range:\",r)\n",
    "\n",
    "print(\":::x::::\")\n",
    "mean=data[\"x\"].mean()\n",
    "print(\"mean:\",mean)\n",
    "median=data[\"x\"].median()\n",
    "print(\"median:\",median)\n",
    "std=data[\"x\"].std()\n",
    "print(\"Standard deviation:\",std)\n",
    "r=data[\"x\"].max()-data[\"x\"].min()\n",
    "print(\"Range:\",r)\n",
    "\n",
    "print(\":::y::::\")\n",
    "mean=data[\"y\"].mean()\n",
    "print(\"mean:\",mean)\n",
    "median=data[\"y\"].median()\n",
    "print(\"median:\",median)\n",
    "std=data[\"y\"].std()\n",
    "print(\"Standard deviation:\",std)\n",
    "r=data[\"y\"].max()-data[\"y\"].min()\n",
    "print(\"Range:\",r)\n",
    "\n",
    "print(\":::z::::\")\n",
    "mean=data[\"z\"].mean()\n",
    "print(\"mean:\",mean)\n",
    "median=data[\"z\"].median()\n",
    "print(\"median:\",median)\n",
    "std=data[\"z\"].std()\n",
    "print(\"Standard deviation:\",std)\n",
    "r=data[\"z\"].max()-data[\"z\"].min()\n",
    "print(\"Range:\",r)\n",
    "\n",
    "print(\":::depth::::\")\n",
    "mean=data[\"depth\"].mean()\n",
    "print(\"mean:\",mean)\n",
    "median=data[\"depth\"].median()\n",
    "print(\"median:\",median)\n",
    "std=data[\"depth\"].std()\n",
    "print(\"Standard deviation:\",std)\n",
    "r=data[\"depth\"].max()-data[\"depth\"].min()\n",
    "print(\"Range:\",r)\n",
    "\n",
    "print(\":::table::::\")\n",
    "mean=data[\"table\"].mean()\n",
    "print(\"mean:\",mean)\n",
    "median=data[\"table\"].median()\n",
    "print(\"median:\",median)\n",
    "std=data[\"table\"].std()\n",
    "print(\"Standard deviation:\",std)\n",
    "r=data[\"table\"].max()-data[\"table\"].min()\n",
    "print(\"Range:\",r)\n",
    "\n",
    "print(\":::::::::::Qualitative Attribute::::::::::::\")\n",
    "\n",
    "print(\":::cut::::\")\n",
    "mode=data[\"cut\"].mode()\n",
    "print(\"Mode:\",mode)\n",
    "\n",
    "print(\":::color::::\")\n",
    "mode=data[\"color\"].mode()\n",
    "print(\"Mode:\",mode)\n",
    "\n",
    "print(\":::clarity::::\")\n",
    "mode=data[\"clarity\"].mode()\n",
    "print(\"Mode:\",mode)\n",
    "\n",
    "print(\"::::::Interquartile Range (IQR) of price::::::::\")\n",
    "import numpy as np\n",
    "price=data[\"price\"]\n",
    "q3,q1= np.percentile(price, [75,25])\n",
    "iqr = q3 - q1\n",
    "print(iqr)"
   ]
  },
  {
   "cell_type": "markdown",
   "metadata": {},
   "source": [
    "<font color = 'green'> Correct: 5 points </font>"
   ]
  },
  {
   "cell_type": "markdown",
   "metadata": {},
   "source": [
    "#### Solution 4.4"
   ]
  },
  {
   "cell_type": "code",
   "execution_count": 10,
   "metadata": {},
   "outputs": [
    {
     "name": "stdout",
     "output_type": "stream",
     "text": [
      "87.91991101223581 % fraction of the data samples have ‘cut’ that is ‘very good’ or better. \n"
     ]
    },
    {
     "data": {
      "text/plain": [
       "<BarContainer object of 5 artists>"
      ]
     },
     "execution_count": 10,
     "metadata": {},
     "output_type": "execute_result"
    },
    {
     "data": {
      "image/png": "[encoded data removed]",
      "text/plain": [
       "<Figure size 432x288 with 1 Axes>"
      ]
     },
     "metadata": {
      "needs_background": "light"
     },
     "output_type": "display_data"
    }
   ],
   "source": [
    "import matplotlib.pyplot as plt\n",
    "n=data[\"cut\"].value_counts()\n",
    "tot=data.count()\n",
    "frac=((n[0]+n[1]+n[2])/tot[0])\n",
    "print((frac*100),\"% fraction of the data samples have ‘cut’ that is ‘very good’ or better. \")\n",
    "x_axis=[\"Ideal\",\"Premium\",\"Very Good\",\"Good\",\"Fair\"]\n",
    "y_axis=[n[0],n[1],n[2],n[3],n[4]]\n",
    "plt.bar(x_axis,y_axis)"
   ]
  },
  {
   "cell_type": "markdown",
   "metadata": {},
   "source": [
    "<font color = 'green'> Correct : 2.5 points </font>"
   ]
  },
  {
   "cell_type": "code",
   "execution_count": 13,
   "metadata": {
    "scrolled": true
   },
   "outputs": [
    {
     "data": {
      "text/plain": [
       "(array([2.5155e+04, 1.8626e+04, 7.1290e+03, 2.3490e+03, 6.1400e+02,\n",
       "        5.3000e+01, 6.0000e+00, 5.0000e+00, 2.0000e+00, 1.0000e+00]),\n",
       " array([0.2  , 0.681, 1.162, 1.643, 2.124, 2.605, 3.086, 3.567, 4.048,\n",
       "        4.529, 5.01 ]),\n",
       " <BarContainer object of 10 artists>)"
      ]
     },
     "execution_count": 13,
     "metadata": {},
     "output_type": "execute_result"
    },
    {
     "data": {
      "image/png": "[encoded data removed]",
      "text/plain": [
       "<Figure size 432x288 with 1 Axes>"
      ]
     },
     "metadata": {
      "needs_background": "light"
     },
     "output_type": "display_data"
    }
   ],
   "source": [
    "#Question 4.5\n",
    "import matplotlib.pyplot as plt\n",
    "plt.hist(carat)"
   ]
  },
  {
   "cell_type": "markdown",
   "metadata": {},
   "source": [
    "<font color='green'> Correct : 2 points </font>"
   ]
  },
  {
   "cell_type": "code",
   "execution_count": 17,
   "metadata": {},
   "outputs": [
    {
     "data": {
      "text/plain": [
       "<matplotlib.collections.PathCollection at 0x14ac90fec40>"
      ]
     },
     "execution_count": 17,
     "metadata": {},
     "output_type": "execute_result"
    },
    {
     "data": {
      "image/png": "[encoded data removed]",
      "text/plain": [
       "<Figure size 432x288 with 1 Axes>"
      ]
     },
     "metadata": {
      "needs_background": "light"
     },
     "output_type": "display_data"
    }
   ],
   "source": [
    "#Question 4.6\n",
    "plt.scatter(carat,price,1,\"blue\")"
   ]
  },
  {
   "cell_type": "markdown",
   "metadata": {},
   "source": [
    "<font color = 'green'> Correct : 2 points </font>"
   ]
  },
  {
   "cell_type": "code",
   "execution_count": 16,
   "metadata": {},
   "outputs": [
    {
     "name": "stdout",
     "output_type": "stream",
     "text": [
      "Correlation coefficient between 'carat' and 'price': 0.9215913011934779\n"
     ]
    }
   ],
   "source": [
    "#Question 4.7\n",
    "correlation=carat.corr(price)\n",
    "print(\"Correlation coefficient between 'carat' and 'price':\",correlation)"
   ]
  },
  {
   "cell_type": "markdown",
   "metadata": {},
   "source": [
    "<font color = 'green'> Correct : 1 point </font>"
   ]
  },
  {
   "cell_type": "markdown",
   "metadata": {},
   "source": [
    "### Problem 5 (4 points)\n",
    "\n",
    "We have a collection of m documents.\n",
    "\n",
    "Let us say we would like to compare two documents x and y using their document term vectors. \n",
    "\n",
    "Let tf_ij be the frequency of the ith word (term) in the jth document\n",
    "\n",
    "1. Let the vocabulary size (the dimensionality of the vectors) be n. What is a good measure of similarity for this purpose ? Write the formula for it in terms of tf_ij.\n",
    "\n",
    "2. Consider the variable transformation given by idf_ij = tf_ij * log(m/df_i), where df_i is the document frequency, i.e. the number of documents in which the ith term occurs. The transformed variable idf_ij is called the inverse document frequency. What are the advantages of using this transformed variable instead of the original in the similarity computation ?"
   ]
  },
  {
   "cell_type": "markdown",
   "metadata": {},
   "source": [
    "### Solution"
   ]
  },
  {
   "cell_type": "markdown",
   "metadata": {},
   "source": [
    "#### Solution 5.1"
   ]
  },
  {
   "cell_type": "markdown",
   "metadata": {},
   "source": [
    "Cosine Similarity would be a good measure of similarity.\n",
    "\n",
    "Cosine_Similarity for this problem is given by,\n",
    "\tcosθ=(sum((tf_ix) . (tf_jx)))/(sqrt(sum((tf_ix)^2))+sqrt(sum((tf_jx)^2)))\n",
    "where, tf is the term frequency,\n",
    "\ti is the word,\n",
    "\tj is the document,\n",
    "\tx is (0 to n)"
   ]
  },
  {
   "cell_type": "markdown",
   "metadata": {},
   "source": [
    "<font color = 'green'> Partially Correct : 1 point </font> \n",
    "For the jth document in the collection of m documents, the term frequencies of the n words in the vocabulary are:\n",
    "\n",
    "tf_1j, tf_2j, tf_3j ... tf_nj\n",
    "\n",
    "This is the term frequency vector J.\n",
    "\n",
    "The magnitude of the vector is \n",
    "\n",
    "|J| = **Sqrt (Sum (Sqr (tf_1j) + Sqr (tf_2j) ... + Sqr (tf_nj))**\n",
    "\n",
    "For the kth document in the collection of m documents, the term frequencies of the n words in the vocabulary are: tf_1k, tf_2k, tf_3k ... tf_nk\n",
    "\n",
    "The magnitude of the vector K is \n",
    "\n",
    "|K| = **Sqrt (Sum (Sqr (tf_1k) + Sqr (tf_2k) ... + Sqr (tf_nk))**\n",
    "\n",
    "The cosine similarity between document j and k is their dot product normalized by their magnitudes.\n",
    "\n",
    "**(tf_1j * tf_1k + tf_2j * tf_2k + ... +  tf_nj * tf_nk) / (|J| * |K) )**\n",
    "\n",
    "Alternatively, we can convert each vector into a unit vector by dividing by its magnitude, and then take their dot product.\n"
   ]
  },
  {
   "cell_type": "markdown",
   "metadata": {},
   "source": [
    "#### Solution 5.2"
   ]
  },
  {
   "cell_type": "markdown",
   "metadata": {},
   "source": [
    "It prioritizes the most frequent word in the document. Also,IDF calculates the frequency for each term in all the documents which can be used to calculate cosine similarity."
   ]
  },
  {
   "cell_type": "markdown",
   "metadata": {},
   "source": [
    "\n",
    "    "
   ]
  },
  {
   "cell_type": "markdown",
   "metadata": {},
   "source": [
    "<font color='green'> Correct: 2 points </font>"
   ]
  },
  {
   "cell_type": "markdown",
   "metadata": {},
   "source": [
    "### Problem 6 (6 points)\n",
    "\n",
    "Write Python functions to compute the Hamming (L1) distance, SMC and Jaccard similarity coefficient between two binary vectors. Use them to these proximity measures between the following vectors:\n",
    "\n",
    "x = 1010101010101 \n",
    "\n",
    "y = 1000100010001"
   ]
  },
  {
   "cell_type": "markdown",
   "metadata": {},
   "source": [
    "### Solution"
   ]
  },
  {
   "cell_type": "code",
   "execution_count": 19,
   "metadata": {},
   "outputs": [
    {
     "name": "stdout",
     "output_type": "stream",
     "text": [
      "hamming distance : \n",
      "3\n",
      "SMC : \n",
      "0.7692307692307693\n",
      "Jaccard : \n",
      "0.5714285714285714\n"
     ]
    }
   ],
   "source": [
    "x= [1,0,1,0,1,0,1,0,1,0,1,0,1]\n",
    "y= [1,0,0,0,1,0,0,0,1,0,0,0,1]\n",
    "\n",
    "def hamming_distance(x,y): \n",
    "    #initializing the distance variable\n",
    "    dist = 0\n",
    "    num = len(x)\n",
    "    for i in range(num):\n",
    "        #if the character in a position of x is not equal to the character in the same position of y, increment the distance\n",
    "        if x[i] != y[i]:\n",
    "            dist += 1\n",
    "    return dist\n",
    "def SMC(x,y):\n",
    "    f00=0#6\n",
    "    f11=0#4\n",
    "    f10=0#3\n",
    "    f01=0#0\n",
    "    num = len(x)\n",
    "    for i in range(num):\n",
    "        if ((x[i]==0) and (y[i]==1)):\n",
    "            f01+=1;\n",
    "        if ((x[i]==0) and (y[i]==0)):\n",
    "            f00+=1;\n",
    "        if ((x[i]==1) and (y[i]==1)):\n",
    "            f11+=1;\n",
    "        if ((x[i]==1) and (y[i]==0)):\n",
    "            f10+=1;\n",
    "    tot=f01+f10+f11+f00\n",
    "    smc=(f11+f00)/tot\n",
    "    return smc\n",
    "def jaccard(x,y):\n",
    "    f11=0#4\n",
    "    f10=0#3\n",
    "    f01=0#0\n",
    "    num = len(x)\n",
    "    for i in range(num):\n",
    "        if ((x[i]==0) and (y[i]==1)):\n",
    "            f01+=1;\n",
    "        if ((x[i]==1) and (y[i]==1)):\n",
    "            f11+=1;\n",
    "        if ((x[i]==1) and (y[i]==0)):\n",
    "            f10+=1;\n",
    "    denominator=f11+f10+f01\n",
    "    #numerator=f11\n",
    "    jacc=f11/denominator\n",
    "    return jacc\n",
    "#output\n",
    "print(\"hamming distance : \")\n",
    "output_hd = hamming_distance(x,y)\n",
    "print(output_hd)\n",
    "print(\"SMC : \")\n",
    "output_smc=SMC(x,y)\n",
    "print(output_smc)\n",
    "print(\"Jaccard : \")\n",
    "output_jacc=jaccard(x,y)\n",
    "print(output_jacc)"
   ]
  },
  {
   "cell_type": "markdown",
   "metadata": {},
   "source": [
    "<font color = 'green'> Correct : 6 points </font>"
   ]
  },
  {
   "cell_type": "markdown",
   "metadata": {},
   "source": [
    "### Problem 7 (6 points)\n",
    "\n",
    "Calculate the indicated similarity or distance measures of the vectors show below (you can do this by hand or by writing code, but please show the computation either way):\n",
    "\n",
    "x = (1,1,1,1) and y = (3,3,3,3) : cosine, correlation, Euclidean\n",
    "\n",
    "x = (0,1,0,1,0,1) and y = (1,0,1,0,1,0) : cosine, correlation, Euclidean, Jaccard \n",
    "\n",
    "x = (1,1,0,1,0,1) and y = (1,1,1,0,0,1) : cosine, correlation, Lmax, Jaccard"
   ]
  },
  {
   "cell_type": "markdown",
   "metadata": {},
   "source": [
    "### Solution"
   ]
  },
  {
   "cell_type": "code",
   "execution_count": 8,
   "metadata": {},
   "outputs": [
    {
     "name": "stdout",
     "output_type": "stream",
     "text": [
      "Vector1: {x1 = (1,1,1,1) and y1 = (3,3,3,3)}\n",
      "cosine_similarity: 1.0\n",
      "euclidean_distance: 4.0\n",
      "correlation_coefficient: 0\n",
      "************************************\n",
      "Vector2: {x2 = (0,1,0,1,0,1) and y2 = (1,0,1,0,1,0)}\n",
      "cosine_similarity: 0.0\n",
      "euclidean_distance: 2.449489742783178\n",
      "jaccard: 0.0\n",
      "correlation_coefficient: -1.0000000000000002\n",
      "************************************\n",
      "Vector3: {x3 = (1,1,0,1,0,1) and y3 = (1,1,1,0,0,1)}\n",
      "cosine_similarity: 0.75\n",
      "jaccard: 0.6\n",
      "correlation_coefficient: 0.25\n",
      "Lmax: 1\n"
     ]
    }
   ],
   "source": [
    "import math\n",
    "x1 = (1,1,1,1)\n",
    "y1 = (3,3,3,3)\n",
    "x2 = (0,1,0,1,0,1)\n",
    "y2 = (1,0,1,0,1,0)\n",
    "x3 = (1,1,0,1,0,1)\n",
    "y3 = (1,1,1,0,0,1)\n",
    "\n",
    "#COSINE_SIMILARITY\n",
    "def cosine_sim(x,y):\n",
    "    num=len(x)\n",
    "    dot=0\n",
    "    d1=0\n",
    "    d2=0\n",
    "    for i in range(num):\n",
    "        dot+=x[i]*y[i]\n",
    "        d1+=x[i]*x[i]\n",
    "        d2+=y[i]*y[i]\n",
    "    return dot/(math.sqrt(d1)*math.sqrt(d2))\n",
    "result1 = cosine_sim(x1, y1)\n",
    "result2 = cosine_sim(x2, y2)\n",
    "result3 = cosine_sim(x3, y3)\n",
    "\n",
    "#euclidean_distance\n",
    "def euc_dist(x,y):\n",
    "    num=len(x)\n",
    "    d=0\n",
    "    s=0\n",
    "    for i in range(num):\n",
    "        d=x[i]-y[i]\n",
    "        s+=d*d\n",
    "    return math.sqrt(s)\n",
    "dst1 = euc_dist(x1, y1)\n",
    "dst2 = euc_dist(x2, y2)\n",
    "\n",
    "#jaccard\n",
    "import numpy as np\n",
    "def jaccard_binary(x,y):\n",
    "    intersection = np.logical_and(x, y)\n",
    "    union = np.logical_or(x, y)\n",
    "    similarity = intersection.sum() / float(union.sum())\n",
    "    return similarity\n",
    "simxy2 = jaccard_binary(x2,y2)\n",
    "simxy3 = jaccard_binary(x3,y3)\n",
    "\n",
    "#correlation_coeff\n",
    "def mean(x):\n",
    "    n=len(x)\n",
    "    m=0\n",
    "    for i in range(n):\n",
    "        m+=x[i]\n",
    "    return m/n\n",
    "def cov(x,y):\n",
    "    n=len(x)\n",
    "    c=0\n",
    "    x_bar=mean(x)\n",
    "    y_bar=mean(y)\n",
    "    for i in range(n):\n",
    "        c+=(x[i]-x_bar)*(y[i]-y_bar)\n",
    "    return c/(n-1)\n",
    "def std(x):\n",
    "    n=len(x)\n",
    "    m=0\n",
    "    s=0\n",
    "    for i in range(n):\n",
    "        m+=x[i]\n",
    "    mean=m/n\n",
    "    for i in range(n):\n",
    "        s+=(x[i]-mean)*(x[i]-mean)\n",
    "    return math.sqrt(s/(n-1))\n",
    "def correlation_coeff(x,y):\n",
    "    stdx=std(x)\n",
    "    stdy=std(y)\n",
    "    covariance=cov(x,y)\n",
    "    if(covariance==0):\n",
    "        return 0\n",
    "    else:\n",
    "        return covariance/(stdx*stdy)\n",
    "r1 = correlation_coeff(x1, y1)\n",
    "r2 = correlation_coeff(x2, y2)\n",
    "r3 = correlation_coeff(x3, y3)\n",
    "\n",
    "#lmax\n",
    "def Lmax(x,y):\n",
    "    arr = []\n",
    "    max_num = 0\n",
    "        \n",
    "    for i in range(1,6):\n",
    "        diff=x[i]-y[i]\n",
    "        if diff > max_num:\n",
    "            max_num = diff\n",
    "    return max_num\n",
    "\n",
    "#output:\n",
    "print(\"Vector1: {x1 = (1,1,1,1) and y1 = (3,3,3,3)}\")\n",
    "print(\"cosine_similarity:\",result1)\n",
    "print(\"euclidean_distance:\",dst1)\n",
    "print(\"correlation_coefficient:\",r1)\n",
    "print(\"************************************\")\n",
    "print(\"Vector2: {x2 = (0,1,0,1,0,1) and y2 = (1,0,1,0,1,0)}\")\n",
    "print(\"cosine_similarity:\",result2)\n",
    "print(\"euclidean_distance:\",dst2)\n",
    "print(\"jaccard:\",simxy2)\n",
    "print(\"correlation_coefficient:\",r2)\n",
    "print(\"************************************\")\n",
    "print(\"Vector3: {x3 = (1,1,0,1,0,1) and y3 = (1,1,1,0,0,1)}\")\n",
    "print(\"cosine_similarity:\",result3)\n",
    "print(\"jaccard:\",simxy3)\n",
    "print(\"correlation_coefficient:\",r3)\n",
    "print(\"Lmax:\",Lmax(x3,y3))"
   ]
  },
  {
   "cell_type": "markdown",
   "metadata": {},
   "source": [
    "<font color='green'> Correct: 6 points </font>"
   ]
  },
  {
   "cell_type": "markdown",
   "metadata": {},
   "source": [
    "### Submission instructions\n",
    "\n",
    "1. Your assignment should be completed by filling in the empty solution cells in this Jupyter notebook file (.ipynb). Feel free to add more cells as needed.\n",
    "\n",
    "2. Please comment your code using either markdown or #comments and use meaningful variable names to make it as readable and intelligible as possible.\n",
    "\n",
    "3. Write your code in the form of functions. For example: \n",
    "\n",
    "    def my_code ():\n",
    "\n",
    "          #Write code here\n",
    "      \n",
    "          return \"The return value\"\n",
    "          \n",
    "\n",
    "4. If the problem is to find the value of 'x', printing 'x = (your answer)' will help us identify if your code worked.\n",
    "\n",
    "\n",
    "5. For code that refers to local data files downloaded from the internet, please keep the file path simple (e.g. ~/downloads/datafilename) so that it works on our copy of the dataset. Please do not modify either the filename or the file contents in any way.\n",
    "\n",
    "6. Solution to problems that do not require any coding can be typed up in their own cells using markdown.\n",
    "    \n",
    "7. Unless there are legitimate circumstances, late assignments will not be accepted.\n",
    "\n",
    "8. All assignments are individual.\n",
    "\n",
    "9. All the sources used for problem solution must be acknowledged, e.g. web sites, books, research papers, etc.\n",
    "\n",
    "10. Academic integrity is taken seriously; for detailed information see the RIT Honor Code and with RIT's Academic Integrity Policy."
   ]
  },
  {
   "cell_type": "markdown",
   "metadata": {},
   "source": [
    "<font color = 'green'> Final Score : 48/56 </font>"
   ]
  },
  {
   "cell_type": "code",
   "execution_count": null,
   "metadata": {},
   "outputs": [],
   "source": []
  }
 ],
 "metadata": {
  "kernelspec": {
   "display_name": "Python 3",
   "language": "python",
   "name": "python3"
  },
  "language_info": {
   "codemirror_mode": {
    "name": "ipython",
    "version": 3
   },
   "file_extension": ".py",
   "mimetype": "text/x-python",
   "name": "python",
   "nbconvert_exporter": "python",
   "pygments_lexer": "ipython3",
   "version": "3.8.5"
  }
 },
 "nbformat": 4,
 "nbformat_minor": 2
}
