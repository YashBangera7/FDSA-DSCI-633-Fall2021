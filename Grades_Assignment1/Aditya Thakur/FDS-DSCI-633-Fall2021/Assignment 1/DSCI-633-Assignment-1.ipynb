{
 "cells": [
  {
   "cell_type": "markdown",
   "metadata": {},
   "source": [
    "# RIT DSCI-633: Foundations of Data Science and Analytics\n",
    "## Assignment 1\n",
    "### Due: 11:59 pm EST, Saturday, Oct 2, 2021"
   ]
  },
  {
   "cell_type": "markdown",
   "metadata": {},
   "source": [
    "### Problem 1 (10 points)\n",
    "\n",
    "In statistics and probability theory, the law of large numbers is a theorem that describes the result of\n",
    "repeating the same experiment a large number of times. The theorem states that if the same\n",
    "experiment or study is repeated independently a large number of times, the average of the results of\n",
    "the trials must be close to the expected value. The result becomes closer to the expected value as the\n",
    "number of trials is increased. Let us look at a specific experiment.\n",
    "\n",
    "Assume you have a Gaussian distribution (commonly called a “bell curve”) with mean µ and std\n",
    "deviation σ. The area under the curve that lies between σ and 2σ, and –σ and -2σ is approximately\n",
    "27.2%. In other words, approximately 27.2% of numbers generated randomly using this distribution will\n",
    "fall in the range [µ + σ, µ + 2σ] or [µ - 2σ, µ - σ], as shown below.\n",
    "\n",
    "Generate N random numbers that follow a Gaussian distribution with µ = 100, σ = 10, and count the\n",
    "numbers M that fall into the ranges above. Print the fraction M/N. Repeat this for N = 10, 100, 1000,\n",
    "10000, and 1000000.\n",
    "\n",
    "Does the fraction start to approach 27.2%?\n"
   ]
  },
  {
   "cell_type": "markdown",
   "metadata": {},
   "source": [
    "#### References:\n",
    "https://numpy.org/doc/stable/reference/random/generated/numpy.random.normal.html"
   ]
  },
  {
   "cell_type": "markdown",
   "metadata": {},
   "source": [
    "### Solution"
   ]
  },
  {
   "cell_type": "code",
   "execution_count": 1,
   "metadata": {
    "scrolled": true
   },
   "outputs": [
    {
     "name": "stdout",
     "output_type": "stream",
     "text": [
      "The fraction M/N for N=10 = 20.00 %\n",
      "The fraction M/N for N=100 = 22.00 %\n",
      "The fraction M/N for N=1000 = 25.50 %\n",
      "The fraction M/N for N=10000 = 27.41 %\n",
      "The fraction M/N for N=1000000 = 27.19 %\n",
      "As evident from the above results, the fraction indeed approaches 27.2% \n"
     ]
    }
   ],
   "source": [
    "import numpy as np\n",
    "\n",
    "def law_of_large_numbers(mu,sigma,N_values):\n",
    "    '''\n",
    "    mu: the mean of the normal distribution\n",
    "    sigma: the standard deviation of the normal distribution\n",
    "    N_Values: the values of N for which the samples are to be generated.\n",
    "    '''\n",
    "    \n",
    "    for val in N_values:\n",
    "        # Getting the random sample from the gaussian distribution with the specified mean and standard deviation\n",
    "        N = np.random.normal(mu,sigma,val)\n",
    "        \n",
    "        # Defining the bounds under which the area has to be assessed.\n",
    "        neg_lower_range = mu - 2 * sigma\n",
    "        neg_upper_range = mu - sigma\n",
    "        pos_lower_range = mu + sigma\n",
    "        pos_upper_range = mu + 2 * sigma\n",
    "        \n",
    "        # Setting the counter of M values to 0\n",
    "        M = 0\n",
    "        \n",
    "        # For each sample, if it lies between one and two standard deviations of mean on either side of it, then increment M  \n",
    "        for sample in N:\n",
    "            if neg_lower_range <= sample <= neg_upper_range or pos_lower_range <= sample <= pos_upper_range:\n",
    "                M+=1\n",
    "        \n",
    "        # Print the fraction for each N as a percentage\n",
    "        print(f'The fraction M/N for N={val} = {M/len(N)*100:.2f} %')\n",
    "        \n",
    "# Mean is 100 and standard deviation 10.    \n",
    "mu,sigma = 100,10\n",
    "\n",
    "# Experiment to be repeated for below values of N \n",
    "N_values = [10,100,1000,10000,1000000]\n",
    "\n",
    "# Function call\n",
    "law_of_large_numbers(mu,sigma,N_values)\n",
    "\n",
    "print('As evident from the above results, the fraction indeed approaches 27.2% ')"
   ]
  },
  {
   "cell_type": "markdown",
   "metadata": {},
   "source": [
    "<font color = 'green'> Correct  : 10 points </font> "
   ]
  },
  {
   "cell_type": "markdown",
   "metadata": {},
   "source": [
    "### Problem 2 (5 points)\n",
    "\n",
    "Imagine you have a dataset of movie ratings for a set of 500 popular movies and a set of 1000 users.\n",
    "Each data sample contains the ratings of each movie (from 1 to 5 stars) by a specific user. The rating is\n",
    "an integer in the range [0,5], with a value of 0 means that the user did not watch that movie.\n",
    "How would you convert this data to a form suitable for association analysis? In particular, what type of\n",
    "attributes would you have and how many of them?\n",
    "\n"
   ]
  },
  {
   "cell_type": "markdown",
   "metadata": {},
   "source": [
    "#### References\n",
    "https://en.wikipedia.org/wiki/Collaborative_filtering <br>\n",
    "https://www.youtube.com/watch?v=8wLKuscyO9I"
   ]
  },
  {
   "cell_type": "markdown",
   "metadata": {},
   "source": [
    "### Solution"
   ]
  },
  {
   "cell_type": "markdown",
   "metadata": {},
   "source": [
    "(i) One of the observations that can be made from the data is that the dataset is not raw, but it is pre-processed. The reason behind this is that for eg: if the user 1 did not watch the movie A, then it means that the value should be null for the movie A attribute of the user 1 data sample. However, according to the problem statement it is 0, which means that the null values are imputed with 0. <br>\n",
    "(ii) We have to convert this dataset to a form suitable for association analysis. Which means that we have to recommend movies to users based on their preferences and their earlier viewing history. <br>\n",
    "(iii) Another way to think of and redefine this problem is from point (i) that if the user 1 watches movie A, then what rating will he/she give to the movie A (current rating is 0 since it is not watched) based on the earlier ratings given by user 1 to the other movies of the same type as movie A as well as other users with similar preferences to user 1 (dependencies)? We can then replace the value 0 with this predicted value and if this value is more than a particular threshold (let's say 4 or more), then we can assume that the user 1 will like this movie A. So, then we can add movie A to the list of recommendations for <br>user 1. This technique is known as **collaborative filtering**. <br>\n",
    "(iv) The type of attributes which can be used are discrete, qualitative and nominal. These are the attributes that can be mapped to the users(instances) and movies(features). The number of attributes that are used in case of movie recommender systems are usually the number of unique genres (Action, Sci-fi, Classic etc) of the 500 movies. <br>\n",
    "(v) **Note:** A movie may belong to one or more than one genre. A user can like/dislike one or more than one genre. So the genre  can be associated to both movies and users. These features are called latent features. <br>\n",
    "(vi) The way this process can work is that we take the given dataset of 1000 rows and 500 columns (let's call it R) and run Principal Component Analysis by specifying the number of dimensions as the number of unique genres so that it can reduce the dimensionality while preserving the maximum variance. This will associate users with the genre and give each user's interest in the various genres. Let's call this U <br>\n",
    "(vii) To associate movies with the genres, we repeat the same PCA process by transposing the dataset making the movies as rows and users as columns. Let's call this M. This technique is called **singular valued decomposition (SVD)** where we are factorizing the matrix R into M and U. <br>\n",
    "(viii) We can now reconstruct the matrix R as follows: $R = M\\sum U^{T} $ where $\\sum$ is the diagonal matrix of eigen vectors used for scaling. If we want to predict a rating in place of 0, we can simply take the dot product of the corresponding row in M for the user and the column in $ U^{T} $ for the movie. If this rating prediction is 4 or more, we recommend the movie to the user."
   ]
  },
  {
   "cell_type": "markdown",
   "metadata": {},
   "source": [
    "<font color = 'red'> Incorrect : 0 points </font> \n",
    "For association analysis, we require binary asymmetric attributes.\n",
    "\n",
    "Since each rating can take 6 possible values, we would need to replace it with 6 asymmetric binary attributes\n",
    "of the form (rating == 0?) (rating == 1?) ...\n",
    "\n",
    "This will give us 500 x 6 = **3000 binary attributes per user**.  \n",
    "The resulting sparse data matrix would be **1000 rows x 3000 columns**."
   ]
  },
  {
   "cell_type": "markdown",
   "metadata": {},
   "source": [
    "### Problem 3 (5 points)\n",
    "\n",
    "Distinguish between noise and outliers\n",
    "\n",
    "1. True or False ? Noise may be in the form of noisy attribute values, or noise objects.\n",
    "2. True or False ? Noise is sometimes desirable.\n",
    "3. True or False ? Outliers are sometimes desirable.\n",
    "4. True or False ? Noise objects may or may not be outliers. Explain your reasoning.\n",
    "5. True or False ? Outlier objects may or may not be noise. Explain your reasoning."
   ]
  },
  {
   "cell_type": "markdown",
   "metadata": {},
   "source": [
    "#### References:\n",
    "Lecture Slides"
   ]
  },
  {
   "cell_type": "markdown",
   "metadata": {},
   "source": [
    "### Solution"
   ]
  },
  {
   "cell_type": "markdown",
   "metadata": {},
   "source": [
    "1. True <br><br>\n",
    "\n",
    "2. False <br><br>\n",
    "\n",
    "3. True <br> <br>\n",
    "\n",
    "4. True: Noise objects may or may not be outliers. For eg: If there is a sensor which measures atmospheric pressure. In a particular region, the usual pressure values can be measured and visualized. However, if there is a **malfunction in the sensor**, then for the same region, it will measure pressure values which are nowhere close to the usual ones. In this case, the noisy values are outliers at the data sample level. At the attribute level, noise tends to distort the original values. For eg, **a hazy signal** is captured by an electrical instrument. In this case, the noise is not an outlier but is mixed with the desirable data values. In general, noise and outliers are not mutually exclusive. <br><br>  \n",
    "\n",
    "5. True: Outlier objects may or may not be noise. For eg: In case of **anomaly detection** problems like Credit card fraud detection or network attack detection, the goal of the analysis is to find these outliers to model the unusual scenarios. In such cases, the outliers are legitimate and not noise. But, there might be a scenario where an unusual value/outlier is recorded in the data while data collection which might just be due to **human error**. In this case, the outlier does not represent any exceptional scenario but is mere noise. In general, noise and outliers are not mutually exclusive.<br>"
   ]
  },
  {
   "cell_type": "markdown",
   "metadata": {},
   "source": [
    "<font color = 'green'> Correct : 5 points </font>"
   ]
  },
  {
   "cell_type": "markdown",
   "metadata": {},
   "source": [
    "### Problem 4 (20 points)\n",
    "Download the ‘Diamonds’ dataset from https://www.kaggle.com/shivam2503/diamonds.\n",
    "1. Based on the description of the dataset provided at the site, categorize each attribute of the data as\n",
    "discrete or continuous, qualitative (nominal or ordinal), or quantitative (interval or ratio)  (5 points)\n",
    "e.g. Age in years: Discrete, Quantitative, Ratio.\n",
    "2. Load the CSV data file into a Pandas DataFrame object and display the first 5 rows. (2 points)\n",
    "3. Calculate summary statistics:\n",
    "a. For each quantitative attribute: find the mean, median, standard deviation, and range. (3.5 points)\n",
    "b. For each qualitative attribute, find the mode. (1.5 points)\n",
    "c. Find the Interquartile Range (IQR) of the ‘price’ variable. (0.5 points)\n",
    "4. What fraction of the data samples have ‘cut’ that is ‘very good’ or better ? Create a bar plot\n",
    "showing the distribution of the data samples by ‘cut’ (one bar for each value of cut). (2.5 points)\n",
    "5. Plot a histogram of the 'carat' variable. (2 points)\n",
    "6. Plot a scatter plot of ‘carat’ vs ‘price’. (2 points)\n",
    "7. Compute the correlation between ‘carat’ and ‘price’. (1 point)"
   ]
  },
  {
   "cell_type": "markdown",
   "metadata": {},
   "source": [
    "#### References:\n",
    "https://pandas.pydata.org/pandas-docs/stable/ <br>\n",
    "https://matplotlib.org/"
   ]
  },
  {
   "cell_type": "markdown",
   "metadata": {},
   "source": [
    "### Solution"
   ]
  },
  {
   "cell_type": "markdown",
   "metadata": {},
   "source": [
    "#### Solution 4.1"
   ]
  },
  {
   "cell_type": "markdown",
   "metadata": {},
   "source": [
    "**price**: Continuous, Quantitative, Ratio (monetary quantity)<br>\n",
    "**carat**: Continuous, Quantitative, Ratio (measurement)<br>\n",
    "**cut**: Discrete, Qualitative, Ordinal (value of cut varies from Fair to Ideal)<br> \n",
    "**color**: Discrete, Qualitative, Ordinal (value varies from J to D)<br>\n",
    "**clarity**: Discrete, Qualitative, Ordinal (value varies from I1 to IF)<br>\n",
    "**x**: Continuous, Quantitative, Ratio (measurement)<br>\n",
    "**y**: Continuous, Quantitative, Ratio (measurement)<br>\n",
    "**z**: Continuous, Quantitative, Ratio (measurement)<br>\n",
    "**depth**: Continuous, Quantitative, Ratio (measurement)<br>\n",
    "**table** : Continuous, Quantitative, Ratio (measurement)"
   ]
  },
  {
   "cell_type": "markdown",
   "metadata": {},
   "source": [
    "<font color = 'green'> Correct : 5 points </font> "
   ]
  },
  {
   "cell_type": "markdown",
   "metadata": {},
   "source": [
    "#### Solution 4.2"
   ]
  },
  {
   "cell_type": "code",
   "execution_count": 2,
   "metadata": {},
   "outputs": [
    {
     "data": {
      "text/html": [
       "<div>\n",
       "<style scoped>\n",
       "    .dataframe tbody tr th:only-of-type {\n",
       "        vertical-align: middle;\n",
       "    }\n",
       "\n",
       "    .dataframe tbody tr th {\n",
       "        vertical-align: top;\n",
       "    }\n",
       "\n",
       "    .dataframe thead th {\n",
       "        text-align: right;\n",
       "    }\n",
       "</style>\n",
       "<table border=\"1\" class=\"dataframe\">\n",
       "  <thead>\n",
       "    <tr style=\"text-align: right;\">\n",
       "      <th></th>\n",
       "      <th>Unnamed: 0</th>\n",
       "      <th>carat</th>\n",
       "      <th>cut</th>\n",
       "      <th>color</th>\n",
       "      <th>clarity</th>\n",
       "      <th>depth</th>\n",
       "      <th>table</th>\n",
       "      <th>price</th>\n",
       "      <th>x</th>\n",
       "      <th>y</th>\n",
       "      <th>z</th>\n",
       "    </tr>\n",
       "  </thead>\n",
       "  <tbody>\n",
       "    <tr>\n",
       "      <th>0</th>\n",
       "      <td>1</td>\n",
       "      <td>0.23</td>\n",
       "      <td>Ideal</td>\n",
       "      <td>E</td>\n",
       "      <td>SI2</td>\n",
       "      <td>61.5</td>\n",
       "      <td>55.0</td>\n",
       "      <td>326</td>\n",
       "      <td>3.95</td>\n",
       "      <td>3.98</td>\n",
       "      <td>2.43</td>\n",
       "    </tr>\n",
       "    <tr>\n",
       "      <th>1</th>\n",
       "      <td>2</td>\n",
       "      <td>0.21</td>\n",
       "      <td>Premium</td>\n",
       "      <td>E</td>\n",
       "      <td>SI1</td>\n",
       "      <td>59.8</td>\n",
       "      <td>61.0</td>\n",
       "      <td>326</td>\n",
       "      <td>3.89</td>\n",
       "      <td>3.84</td>\n",
       "      <td>2.31</td>\n",
       "    </tr>\n",
       "    <tr>\n",
       "      <th>2</th>\n",
       "      <td>3</td>\n",
       "      <td>0.23</td>\n",
       "      <td>Good</td>\n",
       "      <td>E</td>\n",
       "      <td>VS1</td>\n",
       "      <td>56.9</td>\n",
       "      <td>65.0</td>\n",
       "      <td>327</td>\n",
       "      <td>4.05</td>\n",
       "      <td>4.07</td>\n",
       "      <td>2.31</td>\n",
       "    </tr>\n",
       "    <tr>\n",
       "      <th>3</th>\n",
       "      <td>4</td>\n",
       "      <td>0.29</td>\n",
       "      <td>Premium</td>\n",
       "      <td>I</td>\n",
       "      <td>VS2</td>\n",
       "      <td>62.4</td>\n",
       "      <td>58.0</td>\n",
       "      <td>334</td>\n",
       "      <td>4.20</td>\n",
       "      <td>4.23</td>\n",
       "      <td>2.63</td>\n",
       "    </tr>\n",
       "    <tr>\n",
       "      <th>4</th>\n",
       "      <td>5</td>\n",
       "      <td>0.31</td>\n",
       "      <td>Good</td>\n",
       "      <td>J</td>\n",
       "      <td>SI2</td>\n",
       "      <td>63.3</td>\n",
       "      <td>58.0</td>\n",
       "      <td>335</td>\n",
       "      <td>4.34</td>\n",
       "      <td>4.35</td>\n",
       "      <td>2.75</td>\n",
       "    </tr>\n",
       "  </tbody>\n",
       "</table>\n",
       "</div>"
      ],
      "text/plain": [
       "   Unnamed: 0  carat      cut color clarity  depth  table  price     x     y  \\\n",
       "0           1   0.23    Ideal     E     SI2   61.5   55.0    326  3.95  3.98   \n",
       "1           2   0.21  Premium     E     SI1   59.8   61.0    326  3.89  3.84   \n",
       "2           3   0.23     Good     E     VS1   56.9   65.0    327  4.05  4.07   \n",
       "3           4   0.29  Premium     I     VS2   62.4   58.0    334  4.20  4.23   \n",
       "4           5   0.31     Good     J     SI2   63.3   58.0    335  4.34  4.35   \n",
       "\n",
       "      z  \n",
       "0  2.43  \n",
       "1  2.31  \n",
       "2  2.31  \n",
       "3  2.63  \n",
       "4  2.75  "
      ]
     },
     "execution_count": 2,
     "metadata": {},
     "output_type": "execute_result"
    }
   ],
   "source": [
    "# Importing pandas library\n",
    "import pandas as pd\n",
    "\n",
    "# Importing the dataset into diamonds dataframe\n",
    "diamonds_df = pd.read_csv('C:\\\\Users\\\\astth\\\\Downloads\\\\diamonds.csv')\n",
    "\n",
    "# Displaying the first five rows of the dataset.\n",
    "diamonds_df.head()"
   ]
  },
  {
   "cell_type": "markdown",
   "metadata": {},
   "source": [
    "<font color = 'green'> Correct : 2 points </font> "
   ]
  },
  {
   "cell_type": "markdown",
   "metadata": {},
   "source": [
    "#### Solution 4.3"
   ]
  },
  {
   "cell_type": "code",
   "execution_count": 3,
   "metadata": {},
   "outputs": [
    {
     "name": "stdout",
     "output_type": "stream",
     "text": [
      "For price, mean = 3932.799721913237, median = 2401.0, standard deviation = 3989.4397381463023, range = 18497\n",
      "\n",
      "For carat, mean = 0.7979397478679852, median = 0.7, standard deviation = 0.47401124440538067, range = 4.81\n",
      "\n",
      "For x, mean = 5.731157211716609, median = 5.7, standard deviation = 1.1217607467924422, range = 10.74\n",
      "\n",
      "For y, mean = 5.734525954764462, median = 5.71, standard deviation = 1.1421346741235396, range = 58.9\n",
      "\n",
      "For z, mean = 3.5387337782723316, median = 3.53, standard deviation = 0.7056988469499964, range = 31.8\n",
      "\n",
      "For depth, mean = 61.74940489432624, median = 61.8, standard deviation = 1.4326213188337733, range = 36.0\n",
      "\n",
      "For table, mean = 57.45718390804603, median = 57.0, standard deviation = 2.234490562820938, range = 52.0\n",
      "\n"
     ]
    }
   ],
   "source": [
    "# Quantitative attributes\n",
    "print(f'For price, mean = {diamonds_df.price.mean()}, median = {diamonds_df.price.median()}, standard deviation = {diamonds_df.price.std()}, range = {diamonds_df.price.max()-diamonds_df.price.min()}\\n')\n",
    "print(f'For carat, mean = {diamonds_df.carat.mean()}, median = {diamonds_df.carat.median()}, standard deviation = {diamonds_df.carat.std()}, range = {diamonds_df.carat.max()-diamonds_df.carat.min()}\\n')\n",
    "print(f'For x, mean = {diamonds_df.x.mean()}, median = {diamonds_df.x.median()}, standard deviation = {diamonds_df.x.std()}, range = {diamonds_df.x.max()-diamonds_df.x.min()}\\n') \n",
    "print(f'For y, mean = {diamonds_df.y.mean()}, median = {diamonds_df.y.median()}, standard deviation = {diamonds_df.y.std()}, range = {diamonds_df.y.max()-diamonds_df.y.min()}\\n')\n",
    "print(f'For z, mean = {diamonds_df.z.mean()}, median = {diamonds_df.z.median()}, standard deviation = {diamonds_df.z.std()}, range = {diamonds_df.z.max()-diamonds_df.z.min()}\\n') \n",
    "print(f'For depth, mean = {diamonds_df.depth.mean()}, median = {diamonds_df.depth.median()}, standard deviation = {diamonds_df.depth.std()}, range = {diamonds_df.depth.max()-diamonds_df.depth.min()}\\n') \n",
    "print(f'For table, mean = {diamonds_df.table.mean()}, median = {diamonds_df.table.median()}, standard deviation = {diamonds_df.table.std()}, range = {diamonds_df.table.max()-diamonds_df.table.min()}\\n') "
   ]
  },
  {
   "cell_type": "code",
   "execution_count": 4,
   "metadata": {},
   "outputs": [
    {
     "name": "stdout",
     "output_type": "stream",
     "text": [
      "For cut, mode = Ideal\n",
      "\n",
      "For color, mode = G\n",
      "\n",
      "For clarity, mode = SI1\n",
      "\n"
     ]
    }
   ],
   "source": [
    "# Qualitative attributes\n",
    "print(f'For cut, mode = {diamonds_df.cut.mode()[0]}\\n')\n",
    "print(f'For color, mode = {diamonds_df.color.mode()[0]}\\n')\n",
    "print(f'For clarity, mode = {diamonds_df.clarity.mode()[0]}\\n')"
   ]
  },
  {
   "cell_type": "code",
   "execution_count": 5,
   "metadata": {},
   "outputs": [
    {
     "name": "stdout",
     "output_type": "stream",
     "text": [
      "For price, the Interquartile Range = 4374.25\n",
      "\n"
     ]
    }
   ],
   "source": [
    "from scipy import stats\n",
    "print(f'For price, the Interquartile Range = {stats.iqr(diamonds_df.price)}\\n')"
   ]
  },
  {
   "cell_type": "markdown",
   "metadata": {},
   "source": [
    "<font color = 'green'> Correct :5.5 points </font>"
   ]
  },
  {
   "cell_type": "markdown",
   "metadata": {},
   "source": [
    "#### Solution 4.4"
   ]
  },
  {
   "cell_type": "code",
   "execution_count": 6,
   "metadata": {},
   "outputs": [
    {
     "data": {
      "text/plain": [
       "0         True\n",
       "1         True\n",
       "2        False\n",
       "3         True\n",
       "4        False\n",
       "         ...  \n",
       "53935     True\n",
       "53936    False\n",
       "53937     True\n",
       "53938     True\n",
       "53939     True\n",
       "Name: cut, Length: 53940, dtype: bool"
      ]
     },
     "execution_count": 6,
     "metadata": {},
     "output_type": "execute_result"
    }
   ],
   "source": [
    "# Creating a filter of the data frame where cut is Very Good, Premium or Ideal (Very Good or better)\n",
    "cut_filter = diamonds_df['cut'].isin(['Very Good','Premium','Ideal'])\n",
    "cut_filter"
   ]
  },
  {
   "cell_type": "code",
   "execution_count": 7,
   "metadata": {},
   "outputs": [
    {
     "data": {
      "text/html": [
       "<div>\n",
       "<style scoped>\n",
       "    .dataframe tbody tr th:only-of-type {\n",
       "        vertical-align: middle;\n",
       "    }\n",
       "\n",
       "    .dataframe tbody tr th {\n",
       "        vertical-align: top;\n",
       "    }\n",
       "\n",
       "    .dataframe thead th {\n",
       "        text-align: right;\n",
       "    }\n",
       "</style>\n",
       "<table border=\"1\" class=\"dataframe\">\n",
       "  <thead>\n",
       "    <tr style=\"text-align: right;\">\n",
       "      <th></th>\n",
       "      <th>Unnamed: 0</th>\n",
       "      <th>carat</th>\n",
       "      <th>cut</th>\n",
       "      <th>color</th>\n",
       "      <th>clarity</th>\n",
       "      <th>depth</th>\n",
       "      <th>table</th>\n",
       "      <th>price</th>\n",
       "      <th>x</th>\n",
       "      <th>y</th>\n",
       "      <th>z</th>\n",
       "    </tr>\n",
       "  </thead>\n",
       "  <tbody>\n",
       "    <tr>\n",
       "      <th>0</th>\n",
       "      <td>1</td>\n",
       "      <td>0.23</td>\n",
       "      <td>Ideal</td>\n",
       "      <td>E</td>\n",
       "      <td>SI2</td>\n",
       "      <td>61.5</td>\n",
       "      <td>55.0</td>\n",
       "      <td>326</td>\n",
       "      <td>3.95</td>\n",
       "      <td>3.98</td>\n",
       "      <td>2.43</td>\n",
       "    </tr>\n",
       "    <tr>\n",
       "      <th>1</th>\n",
       "      <td>2</td>\n",
       "      <td>0.21</td>\n",
       "      <td>Premium</td>\n",
       "      <td>E</td>\n",
       "      <td>SI1</td>\n",
       "      <td>59.8</td>\n",
       "      <td>61.0</td>\n",
       "      <td>326</td>\n",
       "      <td>3.89</td>\n",
       "      <td>3.84</td>\n",
       "      <td>2.31</td>\n",
       "    </tr>\n",
       "    <tr>\n",
       "      <th>3</th>\n",
       "      <td>4</td>\n",
       "      <td>0.29</td>\n",
       "      <td>Premium</td>\n",
       "      <td>I</td>\n",
       "      <td>VS2</td>\n",
       "      <td>62.4</td>\n",
       "      <td>58.0</td>\n",
       "      <td>334</td>\n",
       "      <td>4.20</td>\n",
       "      <td>4.23</td>\n",
       "      <td>2.63</td>\n",
       "    </tr>\n",
       "    <tr>\n",
       "      <th>5</th>\n",
       "      <td>6</td>\n",
       "      <td>0.24</td>\n",
       "      <td>Very Good</td>\n",
       "      <td>J</td>\n",
       "      <td>VVS2</td>\n",
       "      <td>62.8</td>\n",
       "      <td>57.0</td>\n",
       "      <td>336</td>\n",
       "      <td>3.94</td>\n",
       "      <td>3.96</td>\n",
       "      <td>2.48</td>\n",
       "    </tr>\n",
       "    <tr>\n",
       "      <th>6</th>\n",
       "      <td>7</td>\n",
       "      <td>0.24</td>\n",
       "      <td>Very Good</td>\n",
       "      <td>I</td>\n",
       "      <td>VVS1</td>\n",
       "      <td>62.3</td>\n",
       "      <td>57.0</td>\n",
       "      <td>336</td>\n",
       "      <td>3.95</td>\n",
       "      <td>3.98</td>\n",
       "      <td>2.47</td>\n",
       "    </tr>\n",
       "    <tr>\n",
       "      <th>...</th>\n",
       "      <td>...</td>\n",
       "      <td>...</td>\n",
       "      <td>...</td>\n",
       "      <td>...</td>\n",
       "      <td>...</td>\n",
       "      <td>...</td>\n",
       "      <td>...</td>\n",
       "      <td>...</td>\n",
       "      <td>...</td>\n",
       "      <td>...</td>\n",
       "      <td>...</td>\n",
       "    </tr>\n",
       "    <tr>\n",
       "      <th>53934</th>\n",
       "      <td>53935</td>\n",
       "      <td>0.72</td>\n",
       "      <td>Premium</td>\n",
       "      <td>D</td>\n",
       "      <td>SI1</td>\n",
       "      <td>62.7</td>\n",
       "      <td>59.0</td>\n",
       "      <td>2757</td>\n",
       "      <td>5.69</td>\n",
       "      <td>5.73</td>\n",
       "      <td>3.58</td>\n",
       "    </tr>\n",
       "    <tr>\n",
       "      <th>53935</th>\n",
       "      <td>53936</td>\n",
       "      <td>0.72</td>\n",
       "      <td>Ideal</td>\n",
       "      <td>D</td>\n",
       "      <td>SI1</td>\n",
       "      <td>60.8</td>\n",
       "      <td>57.0</td>\n",
       "      <td>2757</td>\n",
       "      <td>5.75</td>\n",
       "      <td>5.76</td>\n",
       "      <td>3.50</td>\n",
       "    </tr>\n",
       "    <tr>\n",
       "      <th>53937</th>\n",
       "      <td>53938</td>\n",
       "      <td>0.70</td>\n",
       "      <td>Very Good</td>\n",
       "      <td>D</td>\n",
       "      <td>SI1</td>\n",
       "      <td>62.8</td>\n",
       "      <td>60.0</td>\n",
       "      <td>2757</td>\n",
       "      <td>5.66</td>\n",
       "      <td>5.68</td>\n",
       "      <td>3.56</td>\n",
       "    </tr>\n",
       "    <tr>\n",
       "      <th>53938</th>\n",
       "      <td>53939</td>\n",
       "      <td>0.86</td>\n",
       "      <td>Premium</td>\n",
       "      <td>H</td>\n",
       "      <td>SI2</td>\n",
       "      <td>61.0</td>\n",
       "      <td>58.0</td>\n",
       "      <td>2757</td>\n",
       "      <td>6.15</td>\n",
       "      <td>6.12</td>\n",
       "      <td>3.74</td>\n",
       "    </tr>\n",
       "    <tr>\n",
       "      <th>53939</th>\n",
       "      <td>53940</td>\n",
       "      <td>0.75</td>\n",
       "      <td>Ideal</td>\n",
       "      <td>D</td>\n",
       "      <td>SI2</td>\n",
       "      <td>62.2</td>\n",
       "      <td>55.0</td>\n",
       "      <td>2757</td>\n",
       "      <td>5.83</td>\n",
       "      <td>5.87</td>\n",
       "      <td>3.64</td>\n",
       "    </tr>\n",
       "  </tbody>\n",
       "</table>\n",
       "<p>47424 rows × 11 columns</p>\n",
       "</div>"
      ],
      "text/plain": [
       "       Unnamed: 0  carat        cut color clarity  depth  table  price     x  \\\n",
       "0               1   0.23      Ideal     E     SI2   61.5   55.0    326  3.95   \n",
       "1               2   0.21    Premium     E     SI1   59.8   61.0    326  3.89   \n",
       "3               4   0.29    Premium     I     VS2   62.4   58.0    334  4.20   \n",
       "5               6   0.24  Very Good     J    VVS2   62.8   57.0    336  3.94   \n",
       "6               7   0.24  Very Good     I    VVS1   62.3   57.0    336  3.95   \n",
       "...           ...    ...        ...   ...     ...    ...    ...    ...   ...   \n",
       "53934       53935   0.72    Premium     D     SI1   62.7   59.0   2757  5.69   \n",
       "53935       53936   0.72      Ideal     D     SI1   60.8   57.0   2757  5.75   \n",
       "53937       53938   0.70  Very Good     D     SI1   62.8   60.0   2757  5.66   \n",
       "53938       53939   0.86    Premium     H     SI2   61.0   58.0   2757  6.15   \n",
       "53939       53940   0.75      Ideal     D     SI2   62.2   55.0   2757  5.83   \n",
       "\n",
       "          y     z  \n",
       "0      3.98  2.43  \n",
       "1      3.84  2.31  \n",
       "3      4.23  2.63  \n",
       "5      3.96  2.48  \n",
       "6      3.98  2.47  \n",
       "...     ...   ...  \n",
       "53934  5.73  3.58  \n",
       "53935  5.76  3.50  \n",
       "53937  5.68  3.56  \n",
       "53938  6.12  3.74  \n",
       "53939  5.87  3.64  \n",
       "\n",
       "[47424 rows x 11 columns]"
      ]
     },
     "execution_count": 7,
     "metadata": {},
     "output_type": "execute_result"
    }
   ],
   "source": [
    "# Getting the records satisfying filter condition\n",
    "filtered_df = diamonds_df[cut_filter]\n",
    "filtered_df"
   ]
  },
  {
   "cell_type": "code",
   "execution_count": 8,
   "metadata": {},
   "outputs": [
    {
     "name": "stdout",
     "output_type": "stream",
     "text": [
      "Fraction of data samples having cut 'Very Good' or better = 0.8791991101223582\n"
     ]
    }
   ],
   "source": [
    "# Getting the fraction of records that have cut Very Good or better\n",
    "print(f'Fraction of data samples having cut \\'Very Good\\' or better = {len(filtered_df)/len(diamonds_df)}')"
   ]
  },
  {
   "cell_type": "code",
   "execution_count": 9,
   "metadata": {},
   "outputs": [
    {
     "data": {
      "text/plain": [
       "Ideal        21551\n",
       "Premium      13791\n",
       "Very Good    12082\n",
       "Good          4906\n",
       "Fair          1610\n",
       "Name: cut, dtype: int64"
      ]
     },
     "execution_count": 9,
     "metadata": {},
     "output_type": "execute_result"
    }
   ],
   "source": [
    "# Importing matplotlib library\n",
    "import matplotlib.pyplot as plt\n",
    "\n",
    "#Getting the counts of the samples grouped by cut attribute \n",
    "cut_series = diamonds_df['cut'].value_counts()\n",
    "cut_series"
   ]
  },
  {
   "cell_type": "code",
   "execution_count": 10,
   "metadata": {},
   "outputs": [
    {
     "data": {
      "text/plain": [
       "['Ideal', 'Premium', 'Very Good', 'Good', 'Fair']"
      ]
     },
     "execution_count": 10,
     "metadata": {},
     "output_type": "execute_result"
    }
   ],
   "source": [
    "# Getting the cut variable values in a list\n",
    "x = cut_series.index.tolist()\n",
    "x"
   ]
  },
  {
   "cell_type": "code",
   "execution_count": 11,
   "metadata": {},
   "outputs": [
    {
     "data": {
      "text/plain": [
       "[21551, 13791, 12082, 4906, 1610]"
      ]
     },
     "execution_count": 11,
     "metadata": {},
     "output_type": "execute_result"
    }
   ],
   "source": [
    "# Getting the sample sizes in another list\n",
    "height = cut_series.values.tolist()\n",
    "height"
   ]
  },
  {
   "cell_type": "code",
   "execution_count": 12,
   "metadata": {},
   "outputs": [
    {
     "data": {
      "image/png": "[encoded data removed]",
      "text/plain": [
       "<Figure size 936x648 with 1 Axes>"
      ]
     },
     "metadata": {
      "needs_background": "light"
     },
     "output_type": "display_data"
    }
   ],
   "source": [
    "# Displaying a bar plot of 'cut' variable\n",
    "plt.figure(figsize=(13,9))\n",
    "plt.bar(x,height,color=['#556B2F','#6B8E23','#90B76D','#7EDE28','#B8ED88'])\n",
    "plt.xlabel('Cut',size='13')\n",
    "plt.ylabel('Sample Size',size='13')\n",
    "plt.title('Bar Plot of cut variable',size='15')\n",
    "plt.show()"
   ]
  },
  {
   "cell_type": "markdown",
   "metadata": {},
   "source": [
    "<font color = 'green'> Correct : 2.5 points </font> "
   ]
  },
  {
   "cell_type": "markdown",
   "metadata": {},
   "source": [
    "#### Solution 4.5"
   ]
  },
  {
   "cell_type": "code",
   "execution_count": 13,
   "metadata": {},
   "outputs": [
    {
     "data": {
      "text/plain": [
       "0        0.23\n",
       "1        0.21\n",
       "2        0.23\n",
       "3        0.29\n",
       "4        0.31\n",
       "         ... \n",
       "53935    0.72\n",
       "53936    0.72\n",
       "53937    0.70\n",
       "53938    0.86\n",
       "53939    0.75\n",
       "Name: carat, Length: 53940, dtype: float64"
      ]
     },
     "execution_count": 13,
     "metadata": {},
     "output_type": "execute_result"
    }
   ],
   "source": [
    "# Getting a Series object of the 'carat' variable\n",
    "carat = diamonds_df['carat']\n",
    "\n",
    "# Displaying the 'carat' series variable\n",
    "carat"
   ]
  },
  {
   "cell_type": "code",
   "execution_count": 14,
   "metadata": {
    "scrolled": false
   },
   "outputs": [
    {
     "data": {
      "image/png": "[encoded data removed]",
      "text/plain": [
       "<Figure size 936x648 with 1 Axes>"
      ]
     },
     "metadata": {
      "needs_background": "light"
     },
     "output_type": "display_data"
    }
   ],
   "source": [
    "# Displaying a histogram of 'carat' variable \n",
    "plt.figure(figsize=(13,9))\n",
    "plt.hist(carat,bins=None)\n",
    "plt.xlabel('carat',size='13')\n",
    "plt.title('Histogram of carat variable',size='15')\n",
    "plt.show()"
   ]
  },
  {
   "cell_type": "markdown",
   "metadata": {},
   "source": [
    "<font color = 'green'> Correct : 2 points </font> "
   ]
  },
  {
   "cell_type": "markdown",
   "metadata": {},
   "source": [
    "#### Solution 4.6"
   ]
  },
  {
   "cell_type": "code",
   "execution_count": 15,
   "metadata": {},
   "outputs": [
    {
     "data": {
      "text/plain": [
       "0         326\n",
       "1         326\n",
       "2         327\n",
       "3         334\n",
       "4         335\n",
       "         ... \n",
       "53935    2757\n",
       "53936    2757\n",
       "53937    2757\n",
       "53938    2757\n",
       "53939    2757\n",
       "Name: price, Length: 53940, dtype: int64"
      ]
     },
     "execution_count": 15,
     "metadata": {},
     "output_type": "execute_result"
    }
   ],
   "source": [
    "# Getting a Series object of the 'price' variable\n",
    "\n",
    "price = diamonds_df['price']\n",
    "\n",
    "# Displaying the 'price' series variable\n",
    "\n",
    "price"
   ]
  },
  {
   "cell_type": "code",
   "execution_count": 16,
   "metadata": {},
   "outputs": [
    {
     "data": {
      "image/png": "[encoded data removed]",
      "text/plain": [
       "<Figure size 936x648 with 1 Axes>"
      ]
     },
     "metadata": {
      "needs_background": "light"
     },
     "output_type": "display_data"
    }
   ],
   "source": [
    "# Displaying a scatter plot of 'carat' variable (on Y-axis) v/s 'price' variable (on X-axis)\n",
    "plt.figure(figsize=(13,9))\n",
    "plt.scatter(price,carat)\n",
    "plt.xlabel('price',size='13')\n",
    "plt.ylabel('carat',size='13')\n",
    "plt.title('Scatter plot of carat v/s price',size='15')\n",
    "plt.show()"
   ]
  },
  {
   "cell_type": "markdown",
   "metadata": {},
   "source": [
    "<font color = 'green'> Correct : 2 points </font> "
   ]
  },
  {
   "cell_type": "markdown",
   "metadata": {},
   "source": [
    "#### Solution 4.7"
   ]
  },
  {
   "cell_type": "code",
   "execution_count": 17,
   "metadata": {},
   "outputs": [
    {
     "name": "stdout",
     "output_type": "stream",
     "text": [
      "The correlation between 'carat' and 'price' variables is 0.921591301193476\n"
     ]
    }
   ],
   "source": [
    "# Calculating the correlation coefficient between 'carat' and 'price' variables.\n",
    "print(f'The correlation between \\'carat\\' and \\'price\\' variables is {carat.corr(price)}')"
   ]
  },
  {
   "cell_type": "markdown",
   "metadata": {},
   "source": [
    "<font color = 'green'> Correct : 1 point </font>"
   ]
  },
  {
   "cell_type": "markdown",
   "metadata": {},
   "source": [
    "### Problem 5 (4 points)\n",
    "\n",
    "We have a collection of m documents.\n",
    "\n",
    "Let us say we would like to compare two documents x and y using their document term vectors. \n",
    "\n",
    "Let tf_ij be the frequency of the ith word (term) in the jth document\n",
    "\n",
    "1. Let the vocabulary size (the dimensionality of the vectors) be n. What is a good measure of similarity for this purpose ? Write the formula for it in terms of tf_ij.\n",
    "\n",
    "2. Consider the variable transformation given by idf_ij = tf_ij * log(m/df_i), where df_i is the document frequency, i.e. the number of documents in which the ith term occurs. The transformed variable idf_ij is called the inverse document frequency. What are the advantages of using this transformed variable instead of the original in the similarity computation ?"
   ]
  },
  {
   "cell_type": "markdown",
   "metadata": {},
   "source": [
    "#### References:\n",
    "Lecture Slides"
   ]
  },
  {
   "cell_type": "markdown",
   "metadata": {},
   "source": [
    "### Solution"
   ]
  },
  {
   "cell_type": "markdown",
   "metadata": {},
   "source": [
    "#### Solution 5.1"
   ]
  },
  {
   "cell_type": "markdown",
   "metadata": {},
   "source": [
    "A good measure for similarity of the document term vectors would be cosine similarity. The reason behind this is that in cosine similarity, we divide the document vectors by their magnitude to reduce them to unit norm. This is specifically useful when the same words are present in both documents but in one of them, they are present in a larger number/scale.\n",
    "\n",
    "Let the term frequency vectors of documents x and y be as follows <br>\n",
    "tf$_{j(x)}$ = (tf$_{1j(x)}$,tf$_{2j(x)}$,tf$_{3j(x)}$,...........,tf$_{nj(x)}$) <br>\n",
    "tf$_{j(y)}$ = (tf$_{1j(y)}$,tf$_{2j(y)}$,tf$_{3j(y)}$,...........,tf$_{nj(y)}$) <br>\n",
    "where tf$_{1j(x)}$ indicates how many times the first vocabulary word occurs in the document x and so on\n",
    "\n",
    "Cosine similarity is given as below\n",
    "\n",
    "$\\large cos(x,y) = cos(\\theta) = \\frac{tf_{j(x)} \\cdot tf_{j(y)}}{\\left \\|tf_{j(x)}  \\right \\| \\left \\|tf_{j(y)}  \\right \\|}$\n",
    "where $\\theta\\$ is the angle between the two term frequency vectors <br>\n",
    "\n",
    "$\\large cos(\\theta) = \\frac{tf_{1j(x)}\\cdot tf_{1j(y)} + tf_{2j(x)}\\cdot tf_{2j(y)} + ... + tf_{nj(x)}\\cdot tf_{nj(y)}}{\\sqrt{{tf_{1j(x)}^{2}+tf_{2j(x)}^{2}+....+tf_{nj(x)}^{2}}}\\cdot \\sqrt{{tf_{1j(y)}^{2}+tf_{2j(y)}^{2}+....+tf_{nj(y)}^{2}}}}$\n",
    "\n",
    "$\\large cos(\\theta) = \\frac{\\sum_{i=1}^{n} tf_{ij(x)}\\cdot tf_{ij(y)}}{\\sqrt{\\sum_{i=1}^{n} tf_{ij(x)}^{2}} \\sqrt{\\sum_{i=1}^{n} tf_{ij(y)}^{2}}}$"
   ]
  },
  {
   "cell_type": "markdown",
   "metadata": {},
   "source": [
    "<font color = 'green'> Correct : 2 points </font> "
   ]
  },
  {
   "cell_type": "markdown",
   "metadata": {},
   "source": [
    "#### Solution 5.2"
   ]
  },
  {
   "cell_type": "markdown",
   "metadata": {},
   "source": [
    "The variable transformation idf_ij = tf_ij * log(m/df_i) where df_i is the document frequency and m is the number of documents is called inverse document frequency. \n",
    "\n",
    "Assuming two scenarios where the terms are selected from a vocabulary.\n",
    "\n",
    "(i) term(i)='cricket' , m=5 , df_i=2 : This means that there are 5 documents and the term 'cricket' appears in only two of them. When we apply the factor log(m/df_i) = log(5/2) = log(2.5) = 0.3979. This means that we have put more emphasis on this term.<br><br>\n",
    "(ii) term(i)='to' , m=5 , df_i=5 : This means that out of the 5 documents, the term 'to' appears in all five of them. When we apply the factor log(m/df_i) = log(5/5) = log(1) = 0. This means that we have put very less emphasis on this term.\n",
    "\n",
    "From the above two scenarios, the advantage of using the inverse document frequency transformation is that there are few terms like 'to','and','for' etc which occur a lot of times in several documents. These words do not tell us anything specific about the document extract. But when the terms like 'cricket' occur in two documents for eg., this inverse document frequency transformation might help us to calculate cosine similarity and tell us something specific about the document or something important about the topic or domain (In this scenario (i), there is a possibility that one document is a cricket scorecard and the other is a random sports magazine) \n"
   ]
  },
  {
   "cell_type": "markdown",
   "metadata": {},
   "source": [
    "<font color = 'green'> Correct : 2 points </font> "
   ]
  },
  {
   "cell_type": "markdown",
   "metadata": {},
   "source": [
    "\n",
    "    "
   ]
  },
  {
   "cell_type": "markdown",
   "metadata": {},
   "source": [
    "### Problem 6 (6 points)\n",
    "\n",
    "Write Python functions to compute the Hamming (L1) distance, SMC and Jaccard similarity coefficient between two binary vectors. Use them to these proximity measures between the following vectors:\n",
    "\n",
    "x = 1010101010101 \n",
    "\n",
    "y = 1000100010001"
   ]
  },
  {
   "cell_type": "markdown",
   "metadata": {},
   "source": [
    "#### References:\n",
    "Lecture Slides"
   ]
  },
  {
   "cell_type": "markdown",
   "metadata": {},
   "source": [
    "### Solution"
   ]
  },
  {
   "cell_type": "code",
   "execution_count": 18,
   "metadata": {},
   "outputs": [
    {
     "name": "stdout",
     "output_type": "stream",
     "text": [
      "The Hamming (L1) distance between 1010101010101 and 1000100010001 is 3\n",
      "The Simple Matching Coefficient between 1010101010101 and 1000100010001 is 0.7692307692307693\n",
      "The Jaccard Coefficient between 1010101010101 and 1000100010001 is 0.5714285714285714\n"
     ]
    }
   ],
   "source": [
    "# Function for computing hamming distance\n",
    "def compute_Hamming_Distance(str1,str2):\n",
    "    \n",
    "    # Initializing Hamming distance to 0\n",
    "    dist = 0\n",
    "    \n",
    "    # Iterate over both strings and if they differ in a particular bit, increment the distance measure.\n",
    "    for i in range(len(str1)):\n",
    "        if str1[i]!=str2[i]:\n",
    "            dist+=1\n",
    "    \n",
    "    # Return the Hamming distance\n",
    "    return dist\n",
    "\n",
    "# Function for computing simple matching coefficient\n",
    "def compute_SMC(str1,str2):\n",
    "    \n",
    "    # Initialize the simple matching coefficient\n",
    "    coeff = 0\n",
    "    \n",
    "    # Finding the number of matches\n",
    "    for i in range(len(str1)):\n",
    "        if str1[i] == '0' and str2[i] == '0' or str1[i] == '1' and str2[i] == '1':\n",
    "            coeff+=1\n",
    "    \n",
    "    # Return the SMC value \n",
    "    return coeff/len(str1)\n",
    "\n",
    "# Function for computing Jaccard coefficient.\n",
    "def compute_JC(str1,str2):\n",
    "    \n",
    "    # Initializing the 1-1 and non 0-0 matches\n",
    "    f11 = f01 = f10 = 0\n",
    "    \n",
    "    # Calculating the number of 1-1 and non 0-0 matches\n",
    "    for i in range(len(str1)):\n",
    "        if str1[i] == '0':\n",
    "            if str2[i] == '1':\n",
    "                f01 += 1\n",
    "        else:\n",
    "            if str2[i] == '1':\n",
    "                f11 += 1\n",
    "            else:\n",
    "                f10 += 1\n",
    "                \n",
    "    # Return the JC value            \n",
    "    return f11/(f11+f01+f10)\n",
    "    \n",
    "x,y = '1010101010101','1000100010001'\n",
    "\n",
    "print(f'The Hamming (L1) distance between {x} and {y} is {compute_Hamming_Distance(x,y)}')\n",
    "print(f'The Simple Matching Coefficient between {x} and {y} is {compute_SMC(x,y)}')\n",
    "print(f'The Jaccard Coefficient between {x} and {y} is {compute_JC(x,y)}')"
   ]
  },
  {
   "cell_type": "markdown",
   "metadata": {},
   "source": [
    "<font color = 'green'> Correct : 6 points </font> "
   ]
  },
  {
   "cell_type": "markdown",
   "metadata": {},
   "source": [
    "### Problem 7 (6 points)\n",
    "\n",
    "Calculate the indicated similarity or distance measures of the vectors show below (you can do this by hand or by writing code, but please show the computation either way):\n",
    "\n",
    "x = (1,1,1,1) and y = (3,3,3,3) : cosine, correlation, Euclidean\n",
    "\n",
    "x = (0,1,0,1,0,1) and y = (1,0,1,0,1,0) : cosine, correlation, Euclidean, Jaccard \n",
    "\n",
    "x = (1,1,0,1,0,1) and y = (1,1,1,0,0,1) : cosine, correlation, Lmax, Jaccard"
   ]
  },
  {
   "cell_type": "markdown",
   "metadata": {},
   "source": [
    "#### References:\n",
    "Lecture Slides"
   ]
  },
  {
   "cell_type": "markdown",
   "metadata": {},
   "source": [
    "### Solution"
   ]
  },
  {
   "cell_type": "code",
   "execution_count": 19,
   "metadata": {},
   "outputs": [],
   "source": [
    "def compute_cosine(vector1,vector2):\n",
    "    dot_product = 0\n",
    "    \n",
    "    # Calculating the dot product between two vectors\n",
    "    dot_product = sum([vector1[i] * vector2[i] for i in range(len(vector1))])\n",
    "    \n",
    "    # Calculating the magnitudes of the two vectors\n",
    "    vector1_norm = (sum([vector1[i] ** 2 for i in range((len(vector1)))])) ** 0.5\n",
    "                    \n",
    "    vector2_norm = (sum([vector2[i] ** 2 for i in range((len(vector2)))])) ** 0.5\n",
    "    \n",
    "    # Return the cosine similarity measure\n",
    "    return dot_product / (vector1_norm * vector2_norm)    "
   ]
  },
  {
   "cell_type": "code",
   "execution_count": 20,
   "metadata": {},
   "outputs": [],
   "source": [
    "def compute_Euclidean(vector1,vector2):\n",
    "    \n",
    "    # Calculating the distance between the vectors in all dimensions, then squaring them, adding them and taking the square root\n",
    "    return sum([(vector2[i]-vector1[i]) ** 2 for i in range(len(vector1))]) ** 0.5"
   ]
  },
  {
   "cell_type": "code",
   "execution_count": 21,
   "metadata": {},
   "outputs": [],
   "source": [
    "def compute_JC(vector1,vector2):\n",
    "    \n",
    "    # Initializing the 1-1 and non 0-0 matches\n",
    "    f11 = f01 = f10 = 0\n",
    "    \n",
    "    # Calculating the number of 1-1 and non 0-0 matches\n",
    "    for i in range(len(vector1)):\n",
    "        if vector1[i] == 0:\n",
    "            if vector2[i] == 1:\n",
    "                f01 += 1\n",
    "        else:\n",
    "            if vector2[i] == 1:\n",
    "                f11 += 1\n",
    "            else:\n",
    "                f10 += 1\n",
    "                \n",
    "    # Return the JC value            \n",
    "    return f11/(f11+f01+f10)"
   ]
  },
  {
   "cell_type": "code",
   "execution_count": 22,
   "metadata": {},
   "outputs": [],
   "source": [
    "def compute_Lmax(vector1,vector2):\n",
    "    \n",
    "    # Return the maximum difference between any component of the vectors \n",
    "    return max([abs(vector2[i]-vector1[i]) for i in range(len(vector1))])"
   ]
  },
  {
   "cell_type": "code",
   "execution_count": 23,
   "metadata": {},
   "outputs": [],
   "source": [
    "def compute_corr(vector1,vector2):\n",
    "    \n",
    "    # Number of dimensions of the vector\n",
    "    n = len(vector1)\n",
    "    \n",
    "    # Calculating the mean values of both the vectors.\n",
    "    vector1_mean = sum(vector1)/len(vector1)\n",
    "    vector2_mean = sum(vector2)/len(vector2)\n",
    "    \n",
    "    # Calculating the covariance of the two vectors\n",
    "    covariance_vector1_vector2 = sum([(vector1[i]-vector1_mean)*(vector2[i]-vector2_mean) for i in range(n)])/(n-1)\n",
    "    \n",
    "    # Calculating the standard deviation of both vectors\n",
    "    sigma_vector1 = (sum([(vector1[i]-vector1_mean) ** 2 for i in range(n)])/(n-1)) ** 0.5\n",
    "    sigma_vector2 = (sum([(vector2[i]-vector2_mean) ** 2 for i in range(n)])/(n-1)) ** 0.5\n",
    "    \n",
    "    # Returning the correlation coefficient\n",
    "    return covariance_vector1_vector2 / (sigma_vector1 * sigma_vector2)\n"
   ]
  },
  {
   "cell_type": "code",
   "execution_count": 24,
   "metadata": {},
   "outputs": [
    {
     "name": "stdout",
     "output_type": "stream",
     "text": [
      "The Cosine Similarity between (1, 1, 1, 1) and (3, 3, 3, 3) is 1.0\n",
      "The correlation between (1, 1, 1, 1) and (3, 3, 3, 3) is undefined\n",
      "The Euclidean distance between (1, 1, 1, 1) and (3, 3, 3, 3) is 4.0\n"
     ]
    }
   ],
   "source": [
    "x,y = (1,1,1,1),(3,3,3,3)\n",
    "print(f'The Cosine Similarity between {x} and {y} is {compute_cosine(x,y)}')\n",
    "try:\n",
    "    print(f'The correlation between {x} and {y} is {compute_corr(x,y)}')\n",
    "except:\n",
    "    print(f'The correlation between {x} and {y} is undefined')\n",
    "print(f'The Euclidean distance between {x} and {y} is {compute_Euclidean(x,y)}')"
   ]
  },
  {
   "cell_type": "code",
   "execution_count": 25,
   "metadata": {},
   "outputs": [
    {
     "name": "stdout",
     "output_type": "stream",
     "text": [
      "The Cosine Similarity between (0, 1, 0, 1, 0, 1) and (1, 0, 1, 0, 1, 0) is 0.0\n",
      "The correlation between (0, 1, 0, 1, 0, 1) and (1, 0, 1, 0, 1, 0) is -1.000000\n",
      "The Euclidean distance between (0, 1, 0, 1, 0, 1) and (1, 0, 1, 0, 1, 0) is 2.449489742783178\n",
      "The Jaccard coefficient between (0, 1, 0, 1, 0, 1) and (1, 0, 1, 0, 1, 0) is 0.0\n"
     ]
    }
   ],
   "source": [
    "x,y= (0,1,0,1,0,1),(1,0,1,0,1,0)\n",
    "print(f'The Cosine Similarity between {x} and {y} is {compute_cosine(x,y)}')\n",
    "print(f'The correlation between {x} and {y} is {compute_corr(x,y):.6f}')\n",
    "print(f'The Euclidean distance between {x} and {y} is {compute_Euclidean(x,y)}')\n",
    "print(f'The Jaccard coefficient between {x} and {y} is {compute_JC(x,y)}')"
   ]
  },
  {
   "cell_type": "code",
   "execution_count": 26,
   "metadata": {},
   "outputs": [
    {
     "name": "stdout",
     "output_type": "stream",
     "text": [
      "The Cosine Similarity between (1, 1, 0, 1, 0, 1) and (1, 1, 1, 0, 0, 1) is 0.75\n",
      "The correlation between (1, 1, 0, 1, 0, 1) and (1, 1, 1, 0, 0, 1) is 0.25\n",
      "The Lmax distance between (1, 1, 0, 1, 0, 1) and (1, 1, 1, 0, 0, 1) is 1\n",
      "The Jaccard coefficient between (1, 1, 0, 1, 0, 1) and (1, 1, 1, 0, 0, 1) is 0.6\n"
     ]
    }
   ],
   "source": [
    "x,y = (1,1,0,1,0,1),(1,1,1,0,0,1)\n",
    "print(f'The Cosine Similarity between {x} and {y} is {compute_cosine(x,y)}')\n",
    "print(f'The correlation between {x} and {y} is {compute_corr(x,y)}')\n",
    "print(f'The Lmax distance between {x} and {y} is {compute_Lmax(x,y)}')\n",
    "print(f'The Jaccard coefficient between {x} and {y} is {compute_JC(x,y)}')"
   ]
  },
  {
   "cell_type": "markdown",
   "metadata": {},
   "source": [
    "<font color = 'green'> Correct : 6 points </font> "
   ]
  },
  {
   "cell_type": "markdown",
   "metadata": {},
   "source": [
    "### Submission instructions\n",
    "\n",
    "1. Your assignment should be completed by filling in the empty solution cells in this Jupyter notebook file (.ipynb). Feel free to add more cells as needed.\n",
    "\n",
    "2. Please comment your code using either markdown or #comments and use meaningful variable names to make it as readable and intelligible as possible.\n",
    "\n",
    "3. Write your code in the form of functions. For example: \n",
    "\n",
    "    def my_code ():\n",
    "\n",
    "          #Write code here\n",
    "      \n",
    "          return \"The return value\"\n",
    "          \n",
    "\n",
    "4. If the problem is to find the value of 'x', printing 'x = (your answer)' will help us identify if your code worked.\n",
    "\n",
    "\n",
    "5. For code that refers to local data files downloaded from the internet, please keep the file path simple (e.g. ~/downloads/datafilename) so that it works on our copy of the dataset. Please do not modify either the filename or the file contents in any way.\n",
    "\n",
    "6. Solution to problems that do not require any coding can be typed up in their own cells using markdown.\n",
    "    \n",
    "7. Unless there are legitimate circumstances, late assignments will not be accepted.\n",
    "\n",
    "8. All assignments are individual.\n",
    "\n",
    "9. All the sources used for problem solution must be acknowledged, e.g. web sites, books, research papers, etc.\n",
    "\n",
    "10. Academic integrity is taken seriously; for detailed information see the RIT Honor Code and with RIT's Academic Integrity Policy."
   ]
  },
  {
   "cell_type": "markdown",
   "metadata": {},
   "source": [
    "<font color = 'green'> Total Points : 51 points </font>  "
   ]
  },
  {
   "cell_type": "code",
   "execution_count": null,
   "metadata": {},
   "outputs": [],
   "source": []
  }
 ],
 "metadata": {
  "kernelspec": {
   "display_name": "Python 3",
   "language": "python",
   "name": "python3"
  },
  "language_info": {
   "codemirror_mode": {
    "name": "ipython",
    "version": 3
   },
   "file_extension": ".py",
   "mimetype": "text/x-python",
   "name": "python",
   "nbconvert_exporter": "python",
   "pygments_lexer": "ipython3",
   "version": "3.8.5"
  },
  "varInspector": {
   "cols": {
    "lenName": 16,
    "lenType": 16,
    "lenVar": 40
   },
   "kernels_config": {
    "python": {
     "delete_cmd_postfix": "",
     "delete_cmd_prefix": "del ",
     "library": "var_list.py",
     "varRefreshCmd": "print(var_dic_list())"
    },
    "r": {
     "delete_cmd_postfix": ") ",
     "delete_cmd_prefix": "rm(",
     "library": "var_list.r",
     "varRefreshCmd": "cat(var_dic_list()) "
    }
   },
   "types_to_exclude": [
    "module",
    "function",
    "builtin_function_or_method",
    "instance",
    "_Feature"
   ],
   "window_display": false
  }
 },
 "nbformat": 4,
 "nbformat_minor": 2
}
