{
 "cells": [
  {
   "cell_type": "markdown",
   "metadata": {},
   "source": [
    "# RIT DSCI-633: Foundations of Data Science and Analytics\n",
    "## Assignment 1\n",
    "### Due: 11:59 pm EST, Saturday, Oct 2, 2021"
   ]
  },
  {
   "cell_type": "markdown",
   "metadata": {},
   "source": [
    "### Problem 1 (10 points)\n",
    "\n",
    "In statistics and probability theory, the law of large numbers is a theorem that describes the result of\n",
    "repeating the same experiment a large number of times. The theorem states that if the same\n",
    "experiment or study is repeated independently a large number of times, the average of the results of\n",
    "the trials must be close to the expected value. The result becomes closer to the expected value as the\n",
    "number of trials is increased. Let us look at a specific experiment.\n",
    "\n",
    "Assume you have a Gaussian distribution (commonly called a “bell curve”) with mean µ and std\n",
    "deviation σ. The area under the curve that lies between σ and 2σ, and –σ and -2σ is approximately\n",
    "27.2%. In other words, approximately 27.2% of numbers generated randomly using this distribution will\n",
    "fall in the range [µ + σ, µ + 2σ] or [µ - 2σ, µ - σ], as shown below.\n",
    "\n",
    "Generate N random numbers that follow a Gaussian distribution with µ = 100, σ = 10, and count the\n",
    "numbers M that fall into the ranges above. Print the fraction M/N. Repeat this for N = 10, 100, 1000,\n",
    "10000, and 1000000.\n",
    "\n",
    "Does the fraction start to approach 27.2%?\n"
   ]
  },
  {
   "cell_type": "markdown",
   "metadata": {},
   "source": [
    "### Solution"
   ]
  },
  {
   "cell_type": "code",
   "execution_count": 1,
   "metadata": {},
   "outputs": [],
   "source": [
    "import numpy as np\n",
    "import pandas as pd\n",
    "import seaborn as sns\n",
    "import matplotlib.pyplot as plt\n",
    "import statistics\n",
    "import math"
   ]
  },
  {
   "cell_type": "markdown",
   "metadata": {},
   "source": [
    "Assigned my and sigma to their respective values"
   ]
  },
  {
   "cell_type": "code",
   "execution_count": 2,
   "metadata": {},
   "outputs": [],
   "source": [
    "mu = 100\n",
    "sigma = 10\n",
    "\n",
    "\n",
    "def gau_dis(x):\n",
    "    df = np.random.randn(x) * sigma + mu\n",
    "    count = 0 ;\n",
    "    for i in range(len(df)):\n",
    "        if((df[i]>mu+sigma and df[i]<mu+2*sigma) or (df[i]>mu-2*sigma and df[i]<mu-sigma)):\n",
    "            count = count +1;\n",
    "        else:\n",
    "            continue;\n",
    "    return count/len(df)"
   ]
  },
  {
   "cell_type": "markdown",
   "metadata": {},
   "source": [
    "calling the function of guassian distribution and passing different number of data points"
   ]
  },
  {
   "cell_type": "code",
   "execution_count": 3,
   "metadata": {},
   "outputs": [
    {
     "name": "stdout",
     "output_type": "stream",
     "text": [
      "0.2\n",
      "0.26\n",
      "0.254\n",
      "0.2716\n"
     ]
    }
   ],
   "source": [
    "print(gau_dis(10))\n",
    "print(gau_dis(100))\n",
    "print(gau_dis(1000))\n",
    "print(gau_dis(10000))"
   ]
  },
  {
   "cell_type": "markdown",
   "metadata": {},
   "source": [
    "we can observe the value is coming close to 27.2%"
   ]
  },
  {
   "cell_type": "markdown",
   "metadata": {},
   "source": [
    "<font color = 'blue'> Partially Correct : 9.5 points </font> "
   ]
  },
  {
   "cell_type": "markdown",
   "metadata": {},
   "source": [
    "### Problem 2 (5 points)\n",
    "\n",
    "Imagine you have a dataset of movie ratings for a set of 500 popular movies and a set of 1000 users.\n",
    "Each data sample contains the ratings of each movie (from 1 to 5 stars) by a specific user. The rating is\n",
    "an integer in the range [0,5], with a value of 0 means that the user did not watch that movie.\n",
    "How would you convert this data to a form suitable for association analysis? In particular, what type of\n",
    "attributes would you have and how many of them?\n",
    "\n"
   ]
  },
  {
   "cell_type": "markdown",
   "metadata": {},
   "source": [
    "### Solution"
   ]
  },
  {
   "cell_type": "markdown",
   "metadata": {},
   "source": [
    "1. Adding a column named Genre, which tells the genre of the movie\n",
    "2. Adding a column named Year, which will tell the year in which movie released.\n",
    "\n",
    "Use cosine similarity using genre and year to find the similar movies. Greater the cosine similarity, more similar the movies are. Hence, similar rating."
   ]
  },
  {
   "cell_type": "markdown",
   "metadata": {},
   "source": [
    "<font color = 'red'> Incorrect : 0 points </font> \n",
    "For association analysis, we require binary asymmetric attributes.\n",
    "\n",
    "Since each rating can take 6 possible values, we would need to replace it with 6 asymmetric binary attributes\n",
    "of the form (rating == 0?) (rating == 1?) ...\n",
    "\n",
    "This will give us 500 x 6 = **3000 binary attributes per user**.  \n",
    "The resulting sparse data matrix would be **1000 rows x 3000 columns**.\n"
   ]
  },
  {
   "cell_type": "markdown",
   "metadata": {},
   "source": [
    "### Problem 3 (5 points)\n",
    "\n",
    "Distinguish between noise and outliers\n",
    "\n",
    "1. True or False ? Noise may be in the form of noisy attribute values, or noise objects.\n",
    "2. True or False ? Noise is sometimes desirable.\n",
    "3. True or False ? Outliers are sometimes desirable.\n",
    "4. True or False ? Noise objects may or may not be outliers. Explain your reasoning.\n",
    "5. True or False ? Outlier objects may or may not be noise. Explain your reasoning."
   ]
  },
  {
   "cell_type": "markdown",
   "metadata": {},
   "source": [
    "### Solution"
   ]
  },
  {
   "cell_type": "markdown",
   "metadata": {},
   "source": [
    "1. True\n",
    "\n",
    "2. False\n",
    "\n",
    "3. True\n",
    "\n",
    "4. False, Noise is something which is created unwantedly\n",
    "\n",
    "5. True, Outliers sometimes, though unusual are a part of data and genuine values"
   ]
  },
  {
   "cell_type": "markdown",
   "metadata": {},
   "source": [
    "<font color = 'blue'> Partially Correct : 4 points </font> "
   ]
  },
  {
   "cell_type": "markdown",
   "metadata": {},
   "source": [
    "### Problem 4 (20 points)\n",
    "Download the ‘Diamonds’ dataset from https://www.kaggle.com/shivam2503/diamonds.\n",
    "1. Based on the description of the dataset provided at the site, categorize each attribute of the data as\n",
    "discrete or continuous, qualitative (nominal or ordinal), or quantitative (interval or ratio)  (5 points)\n",
    "e.g. Age in years: Discrete, Quantitative, Ratio.\n",
    "2. Load the CSV data file into a Pandas DataFrame object and display the first 5 rows. (2 points)\n",
    "3. Calculate summary statistics:\n",
    "a. For each quantitative attribute: find the mean, median, standard deviation, and range. (3.5 points)\n",
    "b. For each qualitative attribute, find the mode. (1.5 points)\n",
    "c. Find the Interquartile Range (IQR) of the ‘price’ variable. (0.5 points)\n",
    "4. What fraction of the data samples have ‘cut’ that is ‘very good’ or better ? Create a bar plot\n",
    "showing the distribution of the data samples by ‘cut’ (one bar for each value of cut). (2.5 points)\n",
    "5. Plot a histogram of the 'carat' variable. (2 points)\n",
    "6. Plot a scatter plot of ‘carat’ vs ‘price’. (2 points)\n",
    "7. Compute the correlation between ‘carat’ and ‘price’. (1 point)"
   ]
  },
  {
   "cell_type": "markdown",
   "metadata": {},
   "source": [
    "### Solution"
   ]
  },
  {
   "cell_type": "markdown",
   "metadata": {},
   "source": [
    "#### Solution 4.1"
   ]
  },
  {
   "cell_type": "markdown",
   "metadata": {},
   "source": [
    "Carat - Quantitative(ratio), continuous\n",
    "Color - Qualitative (Ordinal), discrete\n",
    "Clarity - Qualitative (Ordinal), discrete\n",
    "depth - Quantitative(ratio), continuous\n",
    "table - Quantitative(ratio), continuous\n",
    "price - Quantitative(ratio), continuous\n",
    "x - Quantitative(ratio), continuous\n",
    "y - Quantitative(ratio), continuous\n",
    "z - Quantitative(ratio), continuous"
   ]
  },
  {
   "cell_type": "markdown",
   "metadata": {},
   "source": [
    "<font color = 'green'> Correct : 5 points </font> "
   ]
  },
  {
   "cell_type": "markdown",
   "metadata": {},
   "source": [
    "#### Solution 4.2"
   ]
  },
  {
   "cell_type": "markdown",
   "metadata": {},
   "source": [
    "importing data into data variable"
   ]
  },
  {
   "cell_type": "code",
   "execution_count": 4,
   "metadata": {},
   "outputs": [],
   "source": [
    "data = pd.read_csv('/Users/nikhilmalkari/Downloads/diamonds.csv')"
   ]
  },
  {
   "cell_type": "markdown",
   "metadata": {},
   "source": [
    "glance on the data"
   ]
  },
  {
   "cell_type": "code",
   "execution_count": 5,
   "metadata": {},
   "outputs": [
    {
     "data": {
      "text/html": [
       "<div>\n",
       "<style scoped>\n",
       "    .dataframe tbody tr th:only-of-type {\n",
       "        vertical-align: middle;\n",
       "    }\n",
       "\n",
       "    .dataframe tbody tr th {\n",
       "        vertical-align: top;\n",
       "    }\n",
       "\n",
       "    .dataframe thead th {\n",
       "        text-align: right;\n",
       "    }\n",
       "</style>\n",
       "<table border=\"1\" class=\"dataframe\">\n",
       "  <thead>\n",
       "    <tr style=\"text-align: right;\">\n",
       "      <th></th>\n",
       "      <th>Unnamed: 0</th>\n",
       "      <th>carat</th>\n",
       "      <th>cut</th>\n",
       "      <th>color</th>\n",
       "      <th>clarity</th>\n",
       "      <th>depth</th>\n",
       "      <th>table</th>\n",
       "      <th>price</th>\n",
       "      <th>x</th>\n",
       "      <th>y</th>\n",
       "      <th>z</th>\n",
       "    </tr>\n",
       "  </thead>\n",
       "  <tbody>\n",
       "    <tr>\n",
       "      <th>0</th>\n",
       "      <td>1</td>\n",
       "      <td>0.23</td>\n",
       "      <td>Ideal</td>\n",
       "      <td>E</td>\n",
       "      <td>SI2</td>\n",
       "      <td>61.5</td>\n",
       "      <td>55.0</td>\n",
       "      <td>326</td>\n",
       "      <td>3.95</td>\n",
       "      <td>3.98</td>\n",
       "      <td>2.43</td>\n",
       "    </tr>\n",
       "    <tr>\n",
       "      <th>1</th>\n",
       "      <td>2</td>\n",
       "      <td>0.21</td>\n",
       "      <td>Premium</td>\n",
       "      <td>E</td>\n",
       "      <td>SI1</td>\n",
       "      <td>59.8</td>\n",
       "      <td>61.0</td>\n",
       "      <td>326</td>\n",
       "      <td>3.89</td>\n",
       "      <td>3.84</td>\n",
       "      <td>2.31</td>\n",
       "    </tr>\n",
       "    <tr>\n",
       "      <th>2</th>\n",
       "      <td>3</td>\n",
       "      <td>0.23</td>\n",
       "      <td>Good</td>\n",
       "      <td>E</td>\n",
       "      <td>VS1</td>\n",
       "      <td>56.9</td>\n",
       "      <td>65.0</td>\n",
       "      <td>327</td>\n",
       "      <td>4.05</td>\n",
       "      <td>4.07</td>\n",
       "      <td>2.31</td>\n",
       "    </tr>\n",
       "    <tr>\n",
       "      <th>3</th>\n",
       "      <td>4</td>\n",
       "      <td>0.29</td>\n",
       "      <td>Premium</td>\n",
       "      <td>I</td>\n",
       "      <td>VS2</td>\n",
       "      <td>62.4</td>\n",
       "      <td>58.0</td>\n",
       "      <td>334</td>\n",
       "      <td>4.20</td>\n",
       "      <td>4.23</td>\n",
       "      <td>2.63</td>\n",
       "    </tr>\n",
       "    <tr>\n",
       "      <th>4</th>\n",
       "      <td>5</td>\n",
       "      <td>0.31</td>\n",
       "      <td>Good</td>\n",
       "      <td>J</td>\n",
       "      <td>SI2</td>\n",
       "      <td>63.3</td>\n",
       "      <td>58.0</td>\n",
       "      <td>335</td>\n",
       "      <td>4.34</td>\n",
       "      <td>4.35</td>\n",
       "      <td>2.75</td>\n",
       "    </tr>\n",
       "    <tr>\n",
       "      <th>5</th>\n",
       "      <td>6</td>\n",
       "      <td>0.24</td>\n",
       "      <td>Very Good</td>\n",
       "      <td>J</td>\n",
       "      <td>VVS2</td>\n",
       "      <td>62.8</td>\n",
       "      <td>57.0</td>\n",
       "      <td>336</td>\n",
       "      <td>3.94</td>\n",
       "      <td>3.96</td>\n",
       "      <td>2.48</td>\n",
       "    </tr>\n",
       "    <tr>\n",
       "      <th>6</th>\n",
       "      <td>7</td>\n",
       "      <td>0.24</td>\n",
       "      <td>Very Good</td>\n",
       "      <td>I</td>\n",
       "      <td>VVS1</td>\n",
       "      <td>62.3</td>\n",
       "      <td>57.0</td>\n",
       "      <td>336</td>\n",
       "      <td>3.95</td>\n",
       "      <td>3.98</td>\n",
       "      <td>2.47</td>\n",
       "    </tr>\n",
       "    <tr>\n",
       "      <th>7</th>\n",
       "      <td>8</td>\n",
       "      <td>0.26</td>\n",
       "      <td>Very Good</td>\n",
       "      <td>H</td>\n",
       "      <td>SI1</td>\n",
       "      <td>61.9</td>\n",
       "      <td>55.0</td>\n",
       "      <td>337</td>\n",
       "      <td>4.07</td>\n",
       "      <td>4.11</td>\n",
       "      <td>2.53</td>\n",
       "    </tr>\n",
       "    <tr>\n",
       "      <th>8</th>\n",
       "      <td>9</td>\n",
       "      <td>0.22</td>\n",
       "      <td>Fair</td>\n",
       "      <td>E</td>\n",
       "      <td>VS2</td>\n",
       "      <td>65.1</td>\n",
       "      <td>61.0</td>\n",
       "      <td>337</td>\n",
       "      <td>3.87</td>\n",
       "      <td>3.78</td>\n",
       "      <td>2.49</td>\n",
       "    </tr>\n",
       "    <tr>\n",
       "      <th>9</th>\n",
       "      <td>10</td>\n",
       "      <td>0.23</td>\n",
       "      <td>Very Good</td>\n",
       "      <td>H</td>\n",
       "      <td>VS1</td>\n",
       "      <td>59.4</td>\n",
       "      <td>61.0</td>\n",
       "      <td>338</td>\n",
       "      <td>4.00</td>\n",
       "      <td>4.05</td>\n",
       "      <td>2.39</td>\n",
       "    </tr>\n",
       "  </tbody>\n",
       "</table>\n",
       "</div>"
      ],
      "text/plain": [
       "   Unnamed: 0  carat        cut color clarity  depth  table  price     x  \\\n",
       "0           1   0.23      Ideal     E     SI2   61.5   55.0    326  3.95   \n",
       "1           2   0.21    Premium     E     SI1   59.8   61.0    326  3.89   \n",
       "2           3   0.23       Good     E     VS1   56.9   65.0    327  4.05   \n",
       "3           4   0.29    Premium     I     VS2   62.4   58.0    334  4.20   \n",
       "4           5   0.31       Good     J     SI2   63.3   58.0    335  4.34   \n",
       "5           6   0.24  Very Good     J    VVS2   62.8   57.0    336  3.94   \n",
       "6           7   0.24  Very Good     I    VVS1   62.3   57.0    336  3.95   \n",
       "7           8   0.26  Very Good     H     SI1   61.9   55.0    337  4.07   \n",
       "8           9   0.22       Fair     E     VS2   65.1   61.0    337  3.87   \n",
       "9          10   0.23  Very Good     H     VS1   59.4   61.0    338  4.00   \n",
       "\n",
       "      y     z  \n",
       "0  3.98  2.43  \n",
       "1  3.84  2.31  \n",
       "2  4.07  2.31  \n",
       "3  4.23  2.63  \n",
       "4  4.35  2.75  \n",
       "5  3.96  2.48  \n",
       "6  3.98  2.47  \n",
       "7  4.11  2.53  \n",
       "8  3.78  2.49  \n",
       "9  4.05  2.39  "
      ]
     },
     "execution_count": 5,
     "metadata": {},
     "output_type": "execute_result"
    }
   ],
   "source": [
    "data.head(10)"
   ]
  },
  {
   "cell_type": "markdown",
   "metadata": {},
   "source": [
    "<font color = 'blue'> Partially Correct : 1 points </font> "
   ]
  },
  {
   "cell_type": "markdown",
   "metadata": {},
   "source": [
    "#### Solution 4.3"
   ]
  },
  {
   "cell_type": "markdown",
   "metadata": {},
   "source": [
    "Describing the data, and getting the stats of it"
   ]
  },
  {
   "cell_type": "code",
   "execution_count": 6,
   "metadata": {},
   "outputs": [
    {
     "data": {
      "text/html": [
       "<div>\n",
       "<style scoped>\n",
       "    .dataframe tbody tr th:only-of-type {\n",
       "        vertical-align: middle;\n",
       "    }\n",
       "\n",
       "    .dataframe tbody tr th {\n",
       "        vertical-align: top;\n",
       "    }\n",
       "\n",
       "    .dataframe thead th {\n",
       "        text-align: right;\n",
       "    }\n",
       "</style>\n",
       "<table border=\"1\" class=\"dataframe\">\n",
       "  <thead>\n",
       "    <tr style=\"text-align: right;\">\n",
       "      <th></th>\n",
       "      <th>Unnamed: 0</th>\n",
       "      <th>carat</th>\n",
       "      <th>depth</th>\n",
       "      <th>table</th>\n",
       "      <th>price</th>\n",
       "      <th>x</th>\n",
       "      <th>y</th>\n",
       "      <th>z</th>\n",
       "    </tr>\n",
       "  </thead>\n",
       "  <tbody>\n",
       "    <tr>\n",
       "      <th>count</th>\n",
       "      <td>53940.000000</td>\n",
       "      <td>53940.000000</td>\n",
       "      <td>53940.000000</td>\n",
       "      <td>53940.000000</td>\n",
       "      <td>53940.000000</td>\n",
       "      <td>53940.000000</td>\n",
       "      <td>53940.000000</td>\n",
       "      <td>53940.000000</td>\n",
       "    </tr>\n",
       "    <tr>\n",
       "      <th>mean</th>\n",
       "      <td>26970.500000</td>\n",
       "      <td>0.797940</td>\n",
       "      <td>61.749405</td>\n",
       "      <td>57.457184</td>\n",
       "      <td>3932.799722</td>\n",
       "      <td>5.731157</td>\n",
       "      <td>5.734526</td>\n",
       "      <td>3.538734</td>\n",
       "    </tr>\n",
       "    <tr>\n",
       "      <th>std</th>\n",
       "      <td>15571.281097</td>\n",
       "      <td>0.474011</td>\n",
       "      <td>1.432621</td>\n",
       "      <td>2.234491</td>\n",
       "      <td>3989.439738</td>\n",
       "      <td>1.121761</td>\n",
       "      <td>1.142135</td>\n",
       "      <td>0.705699</td>\n",
       "    </tr>\n",
       "    <tr>\n",
       "      <th>min</th>\n",
       "      <td>1.000000</td>\n",
       "      <td>0.200000</td>\n",
       "      <td>43.000000</td>\n",
       "      <td>43.000000</td>\n",
       "      <td>326.000000</td>\n",
       "      <td>0.000000</td>\n",
       "      <td>0.000000</td>\n",
       "      <td>0.000000</td>\n",
       "    </tr>\n",
       "    <tr>\n",
       "      <th>25%</th>\n",
       "      <td>13485.750000</td>\n",
       "      <td>0.400000</td>\n",
       "      <td>61.000000</td>\n",
       "      <td>56.000000</td>\n",
       "      <td>950.000000</td>\n",
       "      <td>4.710000</td>\n",
       "      <td>4.720000</td>\n",
       "      <td>2.910000</td>\n",
       "    </tr>\n",
       "    <tr>\n",
       "      <th>50%</th>\n",
       "      <td>26970.500000</td>\n",
       "      <td>0.700000</td>\n",
       "      <td>61.800000</td>\n",
       "      <td>57.000000</td>\n",
       "      <td>2401.000000</td>\n",
       "      <td>5.700000</td>\n",
       "      <td>5.710000</td>\n",
       "      <td>3.530000</td>\n",
       "    </tr>\n",
       "    <tr>\n",
       "      <th>75%</th>\n",
       "      <td>40455.250000</td>\n",
       "      <td>1.040000</td>\n",
       "      <td>62.500000</td>\n",
       "      <td>59.000000</td>\n",
       "      <td>5324.250000</td>\n",
       "      <td>6.540000</td>\n",
       "      <td>6.540000</td>\n",
       "      <td>4.040000</td>\n",
       "    </tr>\n",
       "    <tr>\n",
       "      <th>max</th>\n",
       "      <td>53940.000000</td>\n",
       "      <td>5.010000</td>\n",
       "      <td>79.000000</td>\n",
       "      <td>95.000000</td>\n",
       "      <td>18823.000000</td>\n",
       "      <td>10.740000</td>\n",
       "      <td>58.900000</td>\n",
       "      <td>31.800000</td>\n",
       "    </tr>\n",
       "  </tbody>\n",
       "</table>\n",
       "</div>"
      ],
      "text/plain": [
       "         Unnamed: 0         carat         depth         table         price  \\\n",
       "count  53940.000000  53940.000000  53940.000000  53940.000000  53940.000000   \n",
       "mean   26970.500000      0.797940     61.749405     57.457184   3932.799722   \n",
       "std    15571.281097      0.474011      1.432621      2.234491   3989.439738   \n",
       "min        1.000000      0.200000     43.000000     43.000000    326.000000   \n",
       "25%    13485.750000      0.400000     61.000000     56.000000    950.000000   \n",
       "50%    26970.500000      0.700000     61.800000     57.000000   2401.000000   \n",
       "75%    40455.250000      1.040000     62.500000     59.000000   5324.250000   \n",
       "max    53940.000000      5.010000     79.000000     95.000000  18823.000000   \n",
       "\n",
       "                  x             y             z  \n",
       "count  53940.000000  53940.000000  53940.000000  \n",
       "mean       5.731157      5.734526      3.538734  \n",
       "std        1.121761      1.142135      0.705699  \n",
       "min        0.000000      0.000000      0.000000  \n",
       "25%        4.710000      4.720000      2.910000  \n",
       "50%        5.700000      5.710000      3.530000  \n",
       "75%        6.540000      6.540000      4.040000  \n",
       "max       10.740000     58.900000     31.800000  "
      ]
     },
     "execution_count": 6,
     "metadata": {},
     "output_type": "execute_result"
    }
   ],
   "source": [
    "data.describe()"
   ]
  },
  {
   "cell_type": "code",
   "execution_count": 7,
   "metadata": {},
   "outputs": [
    {
     "data": {
      "text/plain": [
       "0.3"
      ]
     },
     "execution_count": 7,
     "metadata": {},
     "output_type": "execute_result"
    }
   ],
   "source": [
    "statistics.mode(data['carat'])"
   ]
  },
  {
   "cell_type": "code",
   "execution_count": 8,
   "metadata": {},
   "outputs": [
    {
     "data": {
      "text/plain": [
       "62.0"
      ]
     },
     "execution_count": 8,
     "metadata": {},
     "output_type": "execute_result"
    }
   ],
   "source": [
    "statistics.mode(data['depth'])"
   ]
  },
  {
   "cell_type": "code",
   "execution_count": 9,
   "metadata": {},
   "outputs": [
    {
     "data": {
      "text/plain": [
       "56.0"
      ]
     },
     "execution_count": 9,
     "metadata": {},
     "output_type": "execute_result"
    }
   ],
   "source": [
    "statistics.mode(data['table'])"
   ]
  },
  {
   "cell_type": "code",
   "execution_count": 10,
   "metadata": {},
   "outputs": [
    {
     "data": {
      "text/plain": [
       "605"
      ]
     },
     "execution_count": 10,
     "metadata": {},
     "output_type": "execute_result"
    }
   ],
   "source": [
    "statistics.mode(data['price'])"
   ]
  },
  {
   "cell_type": "code",
   "execution_count": 11,
   "metadata": {},
   "outputs": [
    {
     "data": {
      "text/plain": [
       "4.37"
      ]
     },
     "execution_count": 11,
     "metadata": {},
     "output_type": "execute_result"
    }
   ],
   "source": [
    "statistics.mode(data['x'])"
   ]
  },
  {
   "cell_type": "code",
   "execution_count": 12,
   "metadata": {},
   "outputs": [
    {
     "data": {
      "text/plain": [
       "4.34"
      ]
     },
     "execution_count": 12,
     "metadata": {},
     "output_type": "execute_result"
    }
   ],
   "source": [
    "statistics.mode(data['y'])"
   ]
  },
  {
   "cell_type": "code",
   "execution_count": 13,
   "metadata": {},
   "outputs": [
    {
     "data": {
      "text/plain": [
       "2.7"
      ]
     },
     "execution_count": 13,
     "metadata": {},
     "output_type": "execute_result"
    }
   ],
   "source": [
    "statistics.mode(data['z'])"
   ]
  },
  {
   "cell_type": "markdown",
   "metadata": {},
   "source": [
    "IQR calculation"
   ]
  },
  {
   "cell_type": "code",
   "execution_count": 14,
   "metadata": {},
   "outputs": [
    {
     "name": "stdout",
     "output_type": "stream",
     "text": [
      "4374.5\n"
     ]
    }
   ],
   "source": [
    "Q1 = np.percentile(data['price'], 25, interpolation = 'midpoint')\n",
    "  \n",
    "Q3 = np.percentile(data['price'], 75, interpolation = 'midpoint')\n",
    "\n",
    "IQR = Q3 - Q1\n",
    "  \n",
    "print(IQR)"
   ]
  },
  {
   "cell_type": "markdown",
   "metadata": {},
   "source": [
    "<font color = 'blue'> Partially Correct : 4 points </font> "
   ]
  },
  {
   "cell_type": "markdown",
   "metadata": {},
   "source": [
    "#### Solution 4.4"
   ]
  },
  {
   "cell_type": "markdown",
   "metadata": {},
   "source": [
    "Filtering the data and storing in other data frame "
   ]
  },
  {
   "cell_type": "code",
   "execution_count": 38,
   "metadata": {},
   "outputs": [],
   "source": [
    "data2 = data[(data[\"cut\"] == \"Premium\") | (data[\"cut\"] == \"Very Good\")]"
   ]
  },
  {
   "cell_type": "code",
   "execution_count": 16,
   "metadata": {},
   "outputs": [
    {
     "data": {
      "text/html": [
       "<div>\n",
       "<style scoped>\n",
       "    .dataframe tbody tr th:only-of-type {\n",
       "        vertical-align: middle;\n",
       "    }\n",
       "\n",
       "    .dataframe tbody tr th {\n",
       "        vertical-align: top;\n",
       "    }\n",
       "\n",
       "    .dataframe thead th {\n",
       "        text-align: right;\n",
       "    }\n",
       "</style>\n",
       "<table border=\"1\" class=\"dataframe\">\n",
       "  <thead>\n",
       "    <tr style=\"text-align: right;\">\n",
       "      <th></th>\n",
       "      <th>Unnamed: 0</th>\n",
       "      <th>carat</th>\n",
       "      <th>cut</th>\n",
       "      <th>color</th>\n",
       "      <th>clarity</th>\n",
       "      <th>depth</th>\n",
       "      <th>table</th>\n",
       "      <th>price</th>\n",
       "      <th>x</th>\n",
       "      <th>y</th>\n",
       "      <th>z</th>\n",
       "    </tr>\n",
       "  </thead>\n",
       "  <tbody>\n",
       "    <tr>\n",
       "      <th>1</th>\n",
       "      <td>2</td>\n",
       "      <td>0.21</td>\n",
       "      <td>Premium</td>\n",
       "      <td>E</td>\n",
       "      <td>SI1</td>\n",
       "      <td>59.8</td>\n",
       "      <td>61.0</td>\n",
       "      <td>326</td>\n",
       "      <td>3.89</td>\n",
       "      <td>3.84</td>\n",
       "      <td>2.31</td>\n",
       "    </tr>\n",
       "    <tr>\n",
       "      <th>3</th>\n",
       "      <td>4</td>\n",
       "      <td>0.29</td>\n",
       "      <td>Premium</td>\n",
       "      <td>I</td>\n",
       "      <td>VS2</td>\n",
       "      <td>62.4</td>\n",
       "      <td>58.0</td>\n",
       "      <td>334</td>\n",
       "      <td>4.20</td>\n",
       "      <td>4.23</td>\n",
       "      <td>2.63</td>\n",
       "    </tr>\n",
       "    <tr>\n",
       "      <th>5</th>\n",
       "      <td>6</td>\n",
       "      <td>0.24</td>\n",
       "      <td>Very Good</td>\n",
       "      <td>J</td>\n",
       "      <td>VVS2</td>\n",
       "      <td>62.8</td>\n",
       "      <td>57.0</td>\n",
       "      <td>336</td>\n",
       "      <td>3.94</td>\n",
       "      <td>3.96</td>\n",
       "      <td>2.48</td>\n",
       "    </tr>\n",
       "    <tr>\n",
       "      <th>6</th>\n",
       "      <td>7</td>\n",
       "      <td>0.24</td>\n",
       "      <td>Very Good</td>\n",
       "      <td>I</td>\n",
       "      <td>VVS1</td>\n",
       "      <td>62.3</td>\n",
       "      <td>57.0</td>\n",
       "      <td>336</td>\n",
       "      <td>3.95</td>\n",
       "      <td>3.98</td>\n",
       "      <td>2.47</td>\n",
       "    </tr>\n",
       "    <tr>\n",
       "      <th>7</th>\n",
       "      <td>8</td>\n",
       "      <td>0.26</td>\n",
       "      <td>Very Good</td>\n",
       "      <td>H</td>\n",
       "      <td>SI1</td>\n",
       "      <td>61.9</td>\n",
       "      <td>55.0</td>\n",
       "      <td>337</td>\n",
       "      <td>4.07</td>\n",
       "      <td>4.11</td>\n",
       "      <td>2.53</td>\n",
       "    </tr>\n",
       "    <tr>\n",
       "      <th>9</th>\n",
       "      <td>10</td>\n",
       "      <td>0.23</td>\n",
       "      <td>Very Good</td>\n",
       "      <td>H</td>\n",
       "      <td>VS1</td>\n",
       "      <td>59.4</td>\n",
       "      <td>61.0</td>\n",
       "      <td>338</td>\n",
       "      <td>4.00</td>\n",
       "      <td>4.05</td>\n",
       "      <td>2.39</td>\n",
       "    </tr>\n",
       "    <tr>\n",
       "      <th>12</th>\n",
       "      <td>13</td>\n",
       "      <td>0.22</td>\n",
       "      <td>Premium</td>\n",
       "      <td>F</td>\n",
       "      <td>SI1</td>\n",
       "      <td>60.4</td>\n",
       "      <td>61.0</td>\n",
       "      <td>342</td>\n",
       "      <td>3.88</td>\n",
       "      <td>3.84</td>\n",
       "      <td>2.33</td>\n",
       "    </tr>\n",
       "    <tr>\n",
       "      <th>14</th>\n",
       "      <td>15</td>\n",
       "      <td>0.20</td>\n",
       "      <td>Premium</td>\n",
       "      <td>E</td>\n",
       "      <td>SI2</td>\n",
       "      <td>60.2</td>\n",
       "      <td>62.0</td>\n",
       "      <td>345</td>\n",
       "      <td>3.79</td>\n",
       "      <td>3.75</td>\n",
       "      <td>2.27</td>\n",
       "    </tr>\n",
       "    <tr>\n",
       "      <th>15</th>\n",
       "      <td>16</td>\n",
       "      <td>0.32</td>\n",
       "      <td>Premium</td>\n",
       "      <td>E</td>\n",
       "      <td>I1</td>\n",
       "      <td>60.9</td>\n",
       "      <td>58.0</td>\n",
       "      <td>345</td>\n",
       "      <td>4.38</td>\n",
       "      <td>4.42</td>\n",
       "      <td>2.68</td>\n",
       "    </tr>\n",
       "    <tr>\n",
       "      <th>19</th>\n",
       "      <td>20</td>\n",
       "      <td>0.30</td>\n",
       "      <td>Very Good</td>\n",
       "      <td>J</td>\n",
       "      <td>SI1</td>\n",
       "      <td>62.7</td>\n",
       "      <td>59.0</td>\n",
       "      <td>351</td>\n",
       "      <td>4.21</td>\n",
       "      <td>4.27</td>\n",
       "      <td>2.66</td>\n",
       "    </tr>\n",
       "  </tbody>\n",
       "</table>\n",
       "</div>"
      ],
      "text/plain": [
       "    Unnamed: 0  carat        cut color clarity  depth  table  price     x  \\\n",
       "1            2   0.21    Premium     E     SI1   59.8   61.0    326  3.89   \n",
       "3            4   0.29    Premium     I     VS2   62.4   58.0    334  4.20   \n",
       "5            6   0.24  Very Good     J    VVS2   62.8   57.0    336  3.94   \n",
       "6            7   0.24  Very Good     I    VVS1   62.3   57.0    336  3.95   \n",
       "7            8   0.26  Very Good     H     SI1   61.9   55.0    337  4.07   \n",
       "9           10   0.23  Very Good     H     VS1   59.4   61.0    338  4.00   \n",
       "12          13   0.22    Premium     F     SI1   60.4   61.0    342  3.88   \n",
       "14          15   0.20    Premium     E     SI2   60.2   62.0    345  3.79   \n",
       "15          16   0.32    Premium     E      I1   60.9   58.0    345  4.38   \n",
       "19          20   0.30  Very Good     J     SI1   62.7   59.0    351  4.21   \n",
       "\n",
       "       y     z  \n",
       "1   3.84  2.31  \n",
       "3   4.23  2.63  \n",
       "5   3.96  2.48  \n",
       "6   3.98  2.47  \n",
       "7   4.11  2.53  \n",
       "9   4.05  2.39  \n",
       "12  3.84  2.33  \n",
       "14  3.75  2.27  \n",
       "15  4.42  2.68  \n",
       "19  4.27  2.66  "
      ]
     },
     "execution_count": 16,
     "metadata": {},
     "output_type": "execute_result"
    }
   ],
   "source": [
    "data2.head(10)"
   ]
  },
  {
   "cell_type": "markdown",
   "metadata": {},
   "source": [
    "Find the fraction of the cut named Very good and Premium "
   ]
  },
  {
   "cell_type": "code",
   "execution_count": 17,
   "metadata": {},
   "outputs": [
    {
     "data": {
      "text/plain": [
       "0.4796625880608083"
      ]
     },
     "execution_count": 17,
     "metadata": {},
     "output_type": "execute_result"
    }
   ],
   "source": [
    "data2['cut'].count()/data['cut'].count()"
   ]
  },
  {
   "cell_type": "markdown",
   "metadata": {},
   "source": [
    "Plotting a bar plot with all the cut types, with count on the x axis"
   ]
  },
  {
   "cell_type": "code",
   "execution_count": 49,
   "metadata": {},
   "outputs": [
    {
     "name": "stderr",
     "output_type": "stream",
     "text": [
      "/Users/nikhilmalkari/opt/anaconda3/lib/python3.8/site-packages/seaborn/categorical.py:3704: UserWarning: The `factorplot` function has been renamed to `catplot`. The original name will be removed in a future release. Please update your code. Note that the default `kind` in `factorplot` (`'point'`) has changed `'strip'` in `catplot`.\n",
      "  warnings.warn(msg)\n"
     ]
    },
    {
     "data": {
      "text/plain": [
       "<seaborn.axisgrid.FacetGrid at 0x7f9bb4c08c10>"
      ]
     },
     "execution_count": 49,
     "metadata": {},
     "output_type": "execute_result"
    },
    {
     "data": {
      "image/png": "[encoded data removed]",
      "text/plain": [
       "<Figure size 540x360 with 1 Axes>"
      ]
     },
     "metadata": {
      "needs_background": "light"
     },
     "output_type": "display_data"
    }
   ],
   "source": [
    "sns.factorplot(x='cut', data=data , kind='count',aspect=1.5 )"
   ]
  },
  {
   "cell_type": "markdown",
   "metadata": {},
   "source": [
    "<font color = 'blue'>  Partially Correct : 1.25 points </font>"
   ]
  },
  {
   "cell_type": "markdown",
   "metadata": {},
   "source": [
    "Plotting a histogram on carat"
   ]
  },
  {
   "cell_type": "code",
   "execution_count": 48,
   "metadata": {},
   "outputs": [
    {
     "data": {
      "image/png": "[encoded data removed]",
      "text/plain": [
       "<Figure size 432x288 with 1 Axes>"
      ]
     },
     "metadata": {
      "needs_background": "light"
     },
     "output_type": "display_data"
    }
   ],
   "source": [
    "plt.hist(data['carat'],width=0.2)\n",
    "plt.show() "
   ]
  },
  {
   "cell_type": "markdown",
   "metadata": {},
   "source": [
    "<font color='green'> Correct : 2 points </font> "
   ]
  },
  {
   "cell_type": "markdown",
   "metadata": {},
   "source": [
    "plotting a scatter plot between carat and price"
   ]
  },
  {
   "cell_type": "code",
   "execution_count": 20,
   "metadata": {},
   "outputs": [
    {
     "data": {
      "text/plain": [
       "<AxesSubplot:xlabel='carat', ylabel='price'>"
      ]
     },
     "execution_count": 20,
     "metadata": {},
     "output_type": "execute_result"
    },
    {
     "data": {
      "image/png": "[encoded data removed]",
      "text/plain": [
       "<Figure size 432x288 with 1 Axes>"
      ]
     },
     "metadata": {
      "needs_background": "light"
     },
     "output_type": "display_data"
    }
   ],
   "source": [
    "sns.scatterplot(data=data, x=\"carat\", y=\"price\")"
   ]
  },
  {
   "cell_type": "markdown",
   "metadata": {},
   "source": [
    "<font color = 'green'> Correct : 2 points </font> "
   ]
  },
  {
   "cell_type": "markdown",
   "metadata": {},
   "source": [
    "Finding the correlation between carat and price"
   ]
  },
  {
   "cell_type": "code",
   "execution_count": 39,
   "metadata": {},
   "outputs": [
    {
     "data": {
      "text/plain": [
       "0.9215913011934779"
      ]
     },
     "execution_count": 39,
     "metadata": {},
     "output_type": "execute_result"
    }
   ],
   "source": [
    "data['carat'].corr(data['price'])"
   ]
  },
  {
   "cell_type": "markdown",
   "metadata": {},
   "source": [
    "<font color='green'> Correct : 1 point </font> "
   ]
  },
  {
   "cell_type": "markdown",
   "metadata": {},
   "source": [
    "### Problem 5 (4 points)\n",
    "\n",
    "We have a collection of m documents.\n",
    "\n",
    "Let us say we would like to compare two documents x and y using their document term vectors. \n",
    "\n",
    "Let tf_ij be the frequency of the ith word (term) in the jth document\n",
    "\n",
    "1. Let the vocabulary size (the dimensionality of the vectors) be n. What is a good measure of similarity for this purpose ? Write the formula for it in terms of tf_ij.\n",
    "\n",
    "2. Consider the variable transformation given by idf_ij = tf_ij * log(m/df_i), where df_i is the document frequency, i.e. the number of documents in which the ith term occurs. The transformed variable idf_ij is called the inverse document frequency. What are the advantages of using this transformed variable instead of the original in the similarity computation ?"
   ]
  },
  {
   "cell_type": "markdown",
   "metadata": {},
   "source": [
    "### Solution"
   ]
  },
  {
   "cell_type": "markdown",
   "metadata": {},
   "source": [
    "#### Solution 5.1"
   ]
  },
  {
   "cell_type": "markdown",
   "metadata": {},
   "source": [
    "A good measure of similarity for this purpose is cosine similarity"
   ]
  },
  {
   "cell_type": "markdown",
   "metadata": {},
   "source": [
    "num=0\n",
    "den11=0\n",
    "den12=0\n",
    "for i in range(n):\n",
    "    num = num + (tf_ix*tf_iy)\n",
    "    den11 = den11 + xtf_ix**2\n",
    "    den12 = den12 + tf_iy**2\n",
    "den11 = math.sqrt(den11)\n",
    "den12 = math.sqrt(den12)\n",
    "\n",
    "CS = num / (den11 * den12)"
   ]
  },
  {
   "cell_type": "markdown",
   "metadata": {},
   "source": [
    "<font color = 'blue'> Partially Correct : 1.75 points </font> "
   ]
  },
  {
   "cell_type": "markdown",
   "metadata": {},
   "source": [
    "#### Solution 5.2"
   ]
  },
  {
   "cell_type": "markdown",
   "metadata": {},
   "source": [
    "Transformed variable is easy to compute, since we get less number of values instead of large number of values which gets repeated.\n",
    "TF_IDF targets the uniqueness and rareness"
   ]
  },
  {
   "cell_type": "markdown",
   "metadata": {},
   "source": [
    "<font color = 'green'> Correct : 2 points </font> "
   ]
  },
  {
   "cell_type": "markdown",
   "metadata": {},
   "source": [
    "\n",
    "    "
   ]
  },
  {
   "cell_type": "markdown",
   "metadata": {},
   "source": [
    "### Problem 6 (6 points)\n",
    "\n",
    "Write Python functions to compute the Hamming (L1) distance, SMC and Jaccard similarity coefficient between two binary vectors. Use them to these proximity measures between the following vectors:\n",
    "\n",
    "x = 1010101010101 \n",
    "\n",
    "y = 1000100010001"
   ]
  },
  {
   "cell_type": "markdown",
   "metadata": {},
   "source": [
    "### Solution"
   ]
  },
  {
   "cell_type": "markdown",
   "metadata": {},
   "source": [
    "making a function named hamming to calculate hamming distance"
   ]
  },
  {
   "cell_type": "code",
   "execution_count": 40,
   "metadata": {},
   "outputs": [],
   "source": [
    "def hamming(x,y):\n",
    "    count1 =0\n",
    "\n",
    "    for i in range(len(x)):\n",
    "        if(x[i]!=y[i]):\n",
    "            count1 = count1+1\n",
    "        else:\n",
    "            continue\n",
    "            \n",
    "    return count1\n"
   ]
  },
  {
   "cell_type": "markdown",
   "metadata": {},
   "source": [
    "making a function named smc to calculate the Simple Matching Coefficient"
   ]
  },
  {
   "cell_type": "code",
   "execution_count": 25,
   "metadata": {},
   "outputs": [],
   "source": [
    "def smc(x,y):\n",
    "    count_11 = 0;\n",
    "    count_00 =0;\n",
    "    count_10 = 0;\n",
    "    count_01 =0;\n",
    "    \n",
    "    for i in range(len(x)):\n",
    "        if(x[i]==1 and y[i]==1):\n",
    "            count_11 = count_11+1\n",
    "        elif(x[i]==1 and y[i]==0):\n",
    "            count_10 = count_10+1\n",
    "        elif(x[i]==0 and y[i]==0):\n",
    "            count_00 = count_00+1\n",
    "        else:\n",
    "            count_01 = count_01+1\n",
    "        \n",
    "    \n",
    "    SMC = (count_11 + count_00)/(count_11 + count_10 + count_01 + count_00)\n",
    "    \n",
    "    return SMC"
   ]
  },
  {
   "cell_type": "markdown",
   "metadata": {},
   "source": [
    "making a function named jaccard_sim to calculate the jaccard similarity"
   ]
  },
  {
   "cell_type": "code",
   "execution_count": 42,
   "metadata": {},
   "outputs": [],
   "source": [
    "def jaccard_sim(x,y):\n",
    "    count_11 = 0;\n",
    "    count_00 =0;\n",
    "    count_10 = 0;\n",
    "    count_01 =0;\n",
    "    \n",
    "    for i in range(len(x)):\n",
    "        if(x[i]==1 and y[i]==1):\n",
    "            count_11 = count_11+1\n",
    "        elif(x[i]==1 and y[i]==0):\n",
    "            count_10 = count_10+1\n",
    "        elif(x[i]==0 and y[i]==0):\n",
    "            count_00 = count_00+1\n",
    "        else:\n",
    "            count_01 = count_01+1\n",
    "        \n",
    "    \n",
    "    JSC = (count_11)/(count_11 + count_01 + count_00)\n",
    "    \n",
    "    return JSC"
   ]
  },
  {
   "cell_type": "markdown",
   "metadata": {},
   "source": [
    "passing the arrays into all the methods"
   ]
  },
  {
   "cell_type": "code",
   "execution_count": 43,
   "metadata": {},
   "outputs": [
    {
     "name": "stdout",
     "output_type": "stream",
     "text": [
      "3\n",
      "0.7692307692307693\n",
      "0.4\n"
     ]
    }
   ],
   "source": [
    "x = [1,0,1,0,1,0,1,0,1,0,1,0,1]\n",
    "y = [1,0,0,0,1,0,0,0,1,0,0,0,1]\n",
    "\n",
    "\n",
    "print(hamming(x,y))\n",
    "print(smc(x,y))\n",
    "print(jaccard_sim(x,y))"
   ]
  },
  {
   "cell_type": "markdown",
   "metadata": {},
   "source": [
    "<font color = 'blue'> Partially Correct : 4 points </font> "
   ]
  },
  {
   "cell_type": "markdown",
   "metadata": {},
   "source": [
    "### Problem 7 (6 points)\n",
    "\n",
    "Calculate the indicated similarity or distance measures of the vectors show below (you can do this by hand or by writing code, but please show the computation either way):\n",
    "\n",
    "x = (1,1,1,1) and y = (3,3,3,3) : cosine, correlation, Euclidean\n",
    "\n",
    "x = (0,1,0,1,0,1) and y = (1,0,1,0,1,0) : cosine, correlation, Euclidean, Jaccard \n",
    "\n",
    "x = (1,1,0,1,0,1) and y = (1,1,1,0,0,1) : cosine, correlation, Lmax, Jaccard"
   ]
  },
  {
   "cell_type": "markdown",
   "metadata": {},
   "source": [
    "### Solution"
   ]
  },
  {
   "cell_type": "markdown",
   "metadata": {},
   "source": [
    "defining a function for cosine similarity"
   ]
  },
  {
   "cell_type": "code",
   "execution_count": 28,
   "metadata": {},
   "outputs": [],
   "source": [
    "def cosine_similarity(x,y):\n",
    "    num=0\n",
    "    den11=0\n",
    "    den12=0\n",
    "    for i in range(len(x)):\n",
    "        num = num + (x[i]*y[i])\n",
    "        den11 = den11 + x[i]**2\n",
    "        den12 = den12 + y[i]**2\n",
    "    den11 = math.sqrt(den11)\n",
    "    den12 = math.sqrt(den12)\n",
    "\n",
    "    CS = num / (den11 * den12)\n",
    "    \n",
    "    return CS"
   ]
  },
  {
   "cell_type": "markdown",
   "metadata": {},
   "source": [
    "defining a function named correlation"
   ]
  },
  {
   "cell_type": "code",
   "execution_count": 29,
   "metadata": {},
   "outputs": [],
   "source": [
    "def correlation(x,y):\n",
    "    sum1=0\n",
    "    sum2=0\n",
    "    num=0\n",
    "    for i in range(len(x)):\n",
    "        sum1 = sum1 + x[i]\n",
    "        sum2 = sum2 + y[i]\n",
    "    \n",
    "    meanx = sum1/len(x)\n",
    "    meany = sum2/len(y)\n",
    "    \n",
    "    for i in range(len(x)):\n",
    "        num = num + ((x[i]-meanx)*(y[i]-meany))\n",
    "\n",
    "    sdx = 0\n",
    "    sdy = 0\n",
    "\n",
    "    for i in range(len(x)):\n",
    "        sdx = sdx + (x[i]-meanx)**2\n",
    "        sdy = sdy + (y[i]-meany)**2\n",
    "\n",
    "    sdx = math.sqrt(sdx)\n",
    "    sdy = math.sqrt(sdy)\n",
    "    \n",
    "    COV = num/len(x)\n",
    "    \n",
    "    COR = COV/(sdx*sdy)\n",
    "    \n",
    "    return COR"
   ]
  },
  {
   "cell_type": "markdown",
   "metadata": {},
   "source": [
    "defining a function named euclidean"
   ]
  },
  {
   "cell_type": "code",
   "execution_count": 30,
   "metadata": {},
   "outputs": [],
   "source": [
    "def euclidean(x,y):\n",
    "    sum=0\n",
    "    for i in range(len(x)):\n",
    "        sum = sum + (x[i]-y[i])**2\n",
    "        \n",
    "    EUC = math.sqrt(sum)\n",
    "    \n",
    "    return EUC"
   ]
  },
  {
   "cell_type": "markdown",
   "metadata": {},
   "source": [
    "defining a function named jaccard distance"
   ]
  },
  {
   "cell_type": "code",
   "execution_count": 31,
   "metadata": {},
   "outputs": [],
   "source": [
    "def jaccard_distance(x,y):\n",
    "    a = jaccard_sim(x,y)\n",
    "    \n",
    "    JCD = 1-a\n",
    "    \n",
    "    return JCD"
   ]
  },
  {
   "cell_type": "markdown",
   "metadata": {},
   "source": [
    "defining a function named lmax"
   ]
  },
  {
   "cell_type": "code",
   "execution_count": 32,
   "metadata": {},
   "outputs": [],
   "source": [
    "def Lmax(x,y):\n",
    "    max_diffx = x[1] - x[0]\n",
    "    max_diffy = y[1] - y[0]\n",
    "     \n",
    "    for i in range(len(x)):\n",
    "        for j in range( i+1, len(x) ):\n",
    "            if(x[j] - x[i] > max_diffx):\n",
    "                max_diffx = x[j] - x[i]\n",
    "                \n",
    "    for i in range(len(y)):\n",
    "        for j in range( i+1, len(y) ):\n",
    "            if(y[j] - y[i] > max_diffy):\n",
    "                max_diffy = y[j] - y[i]\n",
    "     \n",
    "    if(max_diffx>max_diffy):\n",
    "        return max_diffx\n",
    "    else:\n",
    "        return max_diffy"
   ]
  },
  {
   "cell_type": "markdown",
   "metadata": {},
   "source": [
    "passing all the given arrays"
   ]
  },
  {
   "cell_type": "code",
   "execution_count": 45,
   "metadata": {},
   "outputs": [
    {
     "name": "stdout",
     "output_type": "stream",
     "text": [
      "1.0\n",
      "0.0\n",
      "0.75\n",
      "-0.16666666666666669\n",
      "0.04166666666666666\n",
      "4.0\n",
      "2.449489742783178\n",
      "1.0\n",
      "0.4\n",
      "1\n"
     ]
    }
   ],
   "source": [
    "x1 = [1,1,1,1]\n",
    "y1 = [3,3,3,3]\n",
    "\n",
    "x2 = [0,1,0,1,0,1]\n",
    "y2 = [1,0,1,0,1,0]\n",
    "\n",
    "x3 = [1,1,0,1,0,1]\n",
    "y3 = [1,1,1,0,0,1]\n",
    "\n",
    "print(cosine_similarity(x1,y1))\n",
    "print(cosine_similarity(x2,y2))\n",
    "print(cosine_similarity(x3,y3))\n",
    "\n",
    "# correaltion of x1 and y1 gives infinity because of zero remainder\n",
    "# print(correlation(x1,y1))\n",
    "print(correlation(x2,y2))\n",
    "print(correlation(x3,y3))\n",
    "\n",
    "print(euclidean(x1,y1))\n",
    "print(euclidean(x2,y2))\n",
    "\n",
    "print(jaccard_distance(x2,y2))\n",
    "print(jaccard_distance(x3,y3))\n",
    "\n",
    "print(Lmax(x3,y3))"
   ]
  },
  {
   "cell_type": "markdown",
   "metadata": {},
   "source": [
    "<font color ='blue'> Partially Correct : 3 points </font> "
   ]
  },
  {
   "cell_type": "markdown",
   "metadata": {},
   "source": [
    "### Submission instructions\n",
    "\n",
    "1. Your assignment should be completed by filling in the empty solution cells in this Jupyter notebook file (.ipynb). Feel free to add more cells as needed.\n",
    "\n",
    "2. Please comment your code using either markdown or #comments and use meaningful variable names to make it as readable and intelligible as possible.\n",
    "\n",
    "3. Write your code in the form of functions. For example: \n",
    "\n",
    "    def my_code ():\n",
    "\n",
    "          #Write code here\n",
    "      \n",
    "          return \"The return value\"\n",
    "          \n",
    "\n",
    "4. If the problem is to find the value of 'x', printing 'x = (your answer)' will help us identify if your code worked.\n",
    "\n",
    "\n",
    "5. For code that refers to local data files downloaded from the internet, please keep the file path simple (e.g. ~/downloads/datafilename) so that it works on our copy of the dataset. Please do not modify either the filename or the file contents in any way.\n",
    "\n",
    "6. Solution to problems that do not require any coding can be typed up in their own cells using markdown.\n",
    "    \n",
    "7. Unless there are legitimate circumstances, late assignments will not be accepted.\n",
    "\n",
    "8. All assignments are individual.\n",
    "\n",
    "9. All the sources used for problem solution must be acknowledged, e.g. web sites, books, research papers, etc.\n",
    "\n",
    "10. Academic integrity is taken seriously; for detailed information see the RIT Honor Code and with RIT's Academic Integrity Policy."
   ]
  },
  {
   "cell_type": "markdown",
   "metadata": {},
   "source": [
    "<font color = 'green'> Total Score : 50 points </font> "
   ]
  },
  {
   "cell_type": "code",
   "execution_count": null,
   "metadata": {},
   "outputs": [],
   "source": []
  },
  {
   "cell_type": "code",
   "execution_count": null,
   "metadata": {},
   "outputs": [],
   "source": []
  }
 ],
 "metadata": {
  "kernelspec": {
   "display_name": "Python 3",
   "language": "python",
   "name": "python3"
  },
  "language_info": {
   "codemirror_mode": {
    "name": "ipython",
    "version": 3
   },
   "file_extension": ".py",
   "mimetype": "text/x-python",
   "name": "python",
   "nbconvert_exporter": "python",
   "pygments_lexer": "ipython3",
   "version": "3.8.5"
  }
 },
 "nbformat": 4,
 "nbformat_minor": 2
}
