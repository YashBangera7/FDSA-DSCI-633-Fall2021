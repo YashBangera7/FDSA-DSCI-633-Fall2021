{
 "cells": [
  {
   "cell_type": "markdown",
   "metadata": {},
   "source": [
    "Problem 1 (10 points)\n",
    "In statistics and probability theory, the law of large numbers is a theorem that describes the result of repeating the same experiment a large number of times. The theorem states that if the same experiment or study is repeated independently a large number of times, the average of the results of the trials must be close to the expected value. The result becomes closer to the expected value as the number of trials is increased. Let us look at a specific experiment.\n",
    "\n",
    "Assume you have a Gaussian distribution (commonly called a “bell curve”) with mean µ and std deviation σ. The area under the curve that lies between σ and 2σ, and –σ and -2σ is approximately 27.2%. In other words, approximately 27.2% of numbers generated randomly using this distribution will fall in the range [µ + σ, µ + 2σ] or [µ - 2σ, µ - σ], as shown below.\n",
    "\n",
    "Generate N random numbers that follow a Gaussian distribution with µ = 100, σ = 10, and count the numbers M that fall into the ranges above. Print the fraction M/N. Repeat this for N = 10, 100, 1000, 10000, and 1000000.\n",
    "\n",
    "Does the fraction start to approach 27.2%?"
   ]
  },
  {
   "cell_type": "code",
   "execution_count": 1,
   "metadata": {},
   "outputs": [],
   "source": [
    "import random\n",
    "import pandas as pd\n",
    "import numpy as np\n",
    "import matplotlib\n",
    "import matplotlib.pyplot as plt\n",
    "import math\n",
    "import seaborn as sns"
   ]
  },
  {
   "cell_type": "code",
   "execution_count": 2,
   "metadata": {},
   "outputs": [
    {
     "name": "stdout",
     "output_type": "stream",
     "text": [
      "M/N when N = 10  :  40.0 %\n",
      "M/N when N = 100  :  27.0 %\n",
      "M/N when N = 1000  :  26.1 %\n",
      "M/N when N = 10000  :  26.729999999999997 %\n",
      "M/N when N = 1000000  :  27.1333 %\n"
     ]
    }
   ],
   "source": [
    "# generating 5 different datasets with different sizes\n",
    "\n",
    "data10 = np.random.normal(loc=100, scale=10, size=10)\n",
    "data100 = np.random.normal(loc=100, scale=10, size=100)\n",
    "data1000 = np.random.normal(loc=100, scale=10, size=1000)\n",
    "data10000 = np.random.normal(loc=100, scale=10, size=10000)\n",
    "data1000000 = np.random.normal(loc=100, scale=10, size=1000000)\n",
    "\n",
    "#calculate the fraction, takes a dataset and the sample size as arguments\n",
    "\n",
    "def calcFraction(dataset, N):\n",
    "    M = 0\n",
    "    for x in dataset:\n",
    "        if (x >= 110 and x<= 120) or (x >=80 and x<=90):\n",
    "            M = M + 1\n",
    "        \n",
    "    print (\"M/N when N =\", N , \" : \", (M/N)*100, \"%\")\n",
    "    \n",
    "#calling the function for each dataset\n",
    "\n",
    "calcFraction(data10,10)\n",
    "calcFraction(data100,100)\n",
    "calcFraction(data1000,1000)\n",
    "calcFraction(data10000,10000)\n",
    "calcFraction(data1000000,1000000)"
   ]
  },
  {
   "cell_type": "markdown",
   "metadata": {},
   "source": [
    "<font color = 'green'> Correct : 10 points </font>"
   ]
  },
  {
   "cell_type": "markdown",
   "metadata": {},
   "source": [
    "Problem 2 (5 points)\n",
    "Imagine you have a dataset of movie ratings for a set of 500 popular movies and a set of 1000 users. Each data sample contains the ratings of each movie (from 1 to 5 stars) by a specific user. The rating is an integer in the range [0,5], with a value of 0 means that the user did not watch that movie. How would you convert this data to a form suitable for association analysis? In particular, what type of attributes would you have and how many of them?"
   ]
  },
  {
   "cell_type": "markdown",
   "metadata": {},
   "source": [
    "I would transpose the data and apply one-hot encoding."
   ]
  },
  {
   "cell_type": "markdown",
   "metadata": {},
   "source": [
    "<font color = 'red'> Incorrect : 0 points </font> "
   ]
  },
  {
   "cell_type": "markdown",
   "metadata": {},
   "source": [
    "Problem 3 (5 points)\n",
    "Distinguish between noise and outliers\n",
    "\n",
    "True or False ? Noise may be in the form of noisy attribute values, or noise objects.\n",
    "True or False ? Noise is sometimes desirable.\n",
    "True or False ? Outliers are sometimes desirable.\n",
    "True or False ? Noise objects may or may not be outliers. Explain your reasoning.\n",
    "True or False ? Outlier objects may or may not be noise. Explain your reasoning."
   ]
  },
  {
   "cell_type": "markdown",
   "metadata": {},
   "source": [
    "1) False. In the case of attributes noise is usually referred to modified original data or values, this may be because of mistakes while data collection, data deletion etc. For objects, it usually comes in the form of extraneous noise objects.\n",
    "2) False. Noise is never desirable simply because noise cannot be a feature or a characteristic of the data, outliers may be. Noise is always not desirable because it interferes with data analysis.\n",
    "3) True. Outliers sometimes may be desirable or even the goal of the analysis, for example credit card fraud detection or intrusion detection. \n",
    "4) False. Noise may appear as being outliers but they aren't actually since they are not legit in terms of their position. \n",
    "5) True. Outliers could be noise which could be there for numerous reasons, or it may be legitimate outliers and they may even be desirable or the actual goal of many data analysis problems."
   ]
  },
  {
   "cell_type": "markdown",
   "metadata": {},
   "source": [
    "<font color = 'blue'> Partially correct : 2 points </font>  "
   ]
  },
  {
   "cell_type": "markdown",
   "metadata": {},
   "source": [
    "Problem 4 (20 points)\n",
    "Download the ‘Diamonds’ dataset from https://www.kaggle.com/shivam2503/diamonds.\n",
    "\n",
    "Based on the description of the dataset provided at the site, categorize each attribute of the data as discrete or continuous, qualitative (nominal or ordinal), or quantitative (interval or ratio) (5 points) e.g. Age in years: Discrete, Quantitative, Ratio.\n",
    "Load the CSV data file into a Pandas DataFrame object and display the first 5 rows. (2 points)\n",
    "Calculate summary statistics: a. For each quantitative attribute: find the mean, median, standard deviation, and range. (3.5 points) b. For each qualitative attribute, find the mode. (1.5 points) c. Find the Interquartile Range (IQR) of the ‘price’ variable. (0.5 points)\n",
    "What fraction of the data samples have ‘cut’ that is ‘very good’ or better ? Create a bar plot showing the distribution of the data samples by ‘cut’ (one bar for each value of cut). (2.5 points)\n",
    "Plot a histogram of the 'carat' variable. (2 points)\n",
    "Plot a scatter plot of ‘carat’ vs ‘price’. (2 points)\n",
    "Compute the correlation between ‘carat’ and ‘price’. (1 point)"
   ]
  },
  {
   "cell_type": "code",
   "execution_count": null,
   "metadata": {},
   "outputs": [],
   "source": [
    "price: price in US dollars ($326--$18,823) ordinal\n",
    "carat: weight of the diamond (0.2--5.01) ordinal\n",
    "cut: quality of the cut (Fair, Good, Very Good, Premium, Ideal) ordinal\n",
    "color: diamond colour, from J (worst) to D (best) ordinal\n",
    "clarity: a measurement of how clear the diamond is (I1 (worst), SI2, SI1, VS2, VS1, VVS2, VVS1, IF (best)) ordinal\n",
    "x: length in mm (0--10.74) ratio\n",
    "y: width in mm (0--58.9) ratio \n",
    "z: depth in mm (0--31.8)ratio \n",
    "depth: total depth percentage = z / mean(x, y) ratio "
   ]
  },
  {
   "cell_type": "markdown",
   "metadata": {},
   "source": [
    "<font color = 'blue'> Partially Correct : 1.5 points </font> "
   ]
  },
  {
   "cell_type": "code",
   "execution_count": 31,
   "metadata": {},
   "outputs": [],
   "source": [
    "df = pd.read_csv('/Users/shkelqimlloqanaj/data/diamonds.csv')"
   ]
  },
  {
   "cell_type": "code",
   "execution_count": 39,
   "metadata": {},
   "outputs": [
    {
     "data": {
      "text/html": [
       "<div>\n",
       "<style scoped>\n",
       "    .dataframe tbody tr th:only-of-type {\n",
       "        vertical-align: middle;\n",
       "    }\n",
       "\n",
       "    .dataframe tbody tr th {\n",
       "        vertical-align: top;\n",
       "    }\n",
       "\n",
       "    .dataframe thead th {\n",
       "        text-align: right;\n",
       "    }\n",
       "</style>\n",
       "<table border=\"1\" class=\"dataframe\">\n",
       "  <thead>\n",
       "    <tr style=\"text-align: right;\">\n",
       "      <th></th>\n",
       "      <th>depth</th>\n",
       "      <th>table</th>\n",
       "      <th>price</th>\n",
       "      <th>x</th>\n",
       "      <th>y</th>\n",
       "      <th>z</th>\n",
       "    </tr>\n",
       "  </thead>\n",
       "  <tbody>\n",
       "    <tr>\n",
       "      <th>count</th>\n",
       "      <td>53940.000000</td>\n",
       "      <td>53940.000000</td>\n",
       "      <td>53940.000000</td>\n",
       "      <td>53940.000000</td>\n",
       "      <td>53940.000000</td>\n",
       "      <td>53940.000000</td>\n",
       "    </tr>\n",
       "    <tr>\n",
       "      <th>mean</th>\n",
       "      <td>61.749405</td>\n",
       "      <td>57.457184</td>\n",
       "      <td>3932.799722</td>\n",
       "      <td>5.731157</td>\n",
       "      <td>5.734526</td>\n",
       "      <td>3.538734</td>\n",
       "    </tr>\n",
       "    <tr>\n",
       "      <th>std</th>\n",
       "      <td>1.432621</td>\n",
       "      <td>2.234491</td>\n",
       "      <td>3989.439738</td>\n",
       "      <td>1.121761</td>\n",
       "      <td>1.142135</td>\n",
       "      <td>0.705699</td>\n",
       "    </tr>\n",
       "    <tr>\n",
       "      <th>min</th>\n",
       "      <td>43.000000</td>\n",
       "      <td>43.000000</td>\n",
       "      <td>326.000000</td>\n",
       "      <td>0.000000</td>\n",
       "      <td>0.000000</td>\n",
       "      <td>0.000000</td>\n",
       "    </tr>\n",
       "    <tr>\n",
       "      <th>25%</th>\n",
       "      <td>61.000000</td>\n",
       "      <td>56.000000</td>\n",
       "      <td>950.000000</td>\n",
       "      <td>4.710000</td>\n",
       "      <td>4.720000</td>\n",
       "      <td>2.910000</td>\n",
       "    </tr>\n",
       "    <tr>\n",
       "      <th>50%</th>\n",
       "      <td>61.800000</td>\n",
       "      <td>57.000000</td>\n",
       "      <td>2401.000000</td>\n",
       "      <td>5.700000</td>\n",
       "      <td>5.710000</td>\n",
       "      <td>3.530000</td>\n",
       "    </tr>\n",
       "    <tr>\n",
       "      <th>75%</th>\n",
       "      <td>62.500000</td>\n",
       "      <td>59.000000</td>\n",
       "      <td>5324.250000</td>\n",
       "      <td>6.540000</td>\n",
       "      <td>6.540000</td>\n",
       "      <td>4.040000</td>\n",
       "    </tr>\n",
       "    <tr>\n",
       "      <th>max</th>\n",
       "      <td>79.000000</td>\n",
       "      <td>95.000000</td>\n",
       "      <td>18823.000000</td>\n",
       "      <td>10.740000</td>\n",
       "      <td>58.900000</td>\n",
       "      <td>31.800000</td>\n",
       "    </tr>\n",
       "  </tbody>\n",
       "</table>\n",
       "</div>"
      ],
      "text/plain": [
       "              depth         table         price             x             y  \\\n",
       "count  53940.000000  53940.000000  53940.000000  53940.000000  53940.000000   \n",
       "mean      61.749405     57.457184   3932.799722      5.731157      5.734526   \n",
       "std        1.432621      2.234491   3989.439738      1.121761      1.142135   \n",
       "min       43.000000     43.000000    326.000000      0.000000      0.000000   \n",
       "25%       61.000000     56.000000    950.000000      4.710000      4.720000   \n",
       "50%       61.800000     57.000000   2401.000000      5.700000      5.710000   \n",
       "75%       62.500000     59.000000   5324.250000      6.540000      6.540000   \n",
       "max       79.000000     95.000000  18823.000000     10.740000     58.900000   \n",
       "\n",
       "                  z  \n",
       "count  53940.000000  \n",
       "mean       3.538734  \n",
       "std        0.705699  \n",
       "min        0.000000  \n",
       "25%        2.910000  \n",
       "50%        3.530000  \n",
       "75%        4.040000  \n",
       "max       31.800000  "
      ]
     },
     "execution_count": 39,
     "metadata": {},
     "output_type": "execute_result"
    }
   ],
   "source": [
    "df.describe()"
   ]
  },
  {
   "cell_type": "code",
   "execution_count": 34,
   "metadata": {},
   "outputs": [
    {
     "data": {
      "text/html": [
       "<div>\n",
       "<style scoped>\n",
       "    .dataframe tbody tr th:only-of-type {\n",
       "        vertical-align: middle;\n",
       "    }\n",
       "\n",
       "    .dataframe tbody tr th {\n",
       "        vertical-align: top;\n",
       "    }\n",
       "\n",
       "    .dataframe thead th {\n",
       "        text-align: right;\n",
       "    }\n",
       "</style>\n",
       "<table border=\"1\" class=\"dataframe\">\n",
       "  <thead>\n",
       "    <tr style=\"text-align: right;\">\n",
       "      <th></th>\n",
       "      <th>cut</th>\n",
       "      <th>color</th>\n",
       "      <th>clarity</th>\n",
       "      <th>depth</th>\n",
       "      <th>table</th>\n",
       "      <th>price</th>\n",
       "      <th>x</th>\n",
       "      <th>y</th>\n",
       "      <th>z</th>\n",
       "    </tr>\n",
       "  </thead>\n",
       "  <tbody>\n",
       "    <tr>\n",
       "      <th>0</th>\n",
       "      <td>Ideal</td>\n",
       "      <td>E</td>\n",
       "      <td>SI2</td>\n",
       "      <td>61.5</td>\n",
       "      <td>55.0</td>\n",
       "      <td>326</td>\n",
       "      <td>3.95</td>\n",
       "      <td>3.98</td>\n",
       "      <td>2.43</td>\n",
       "    </tr>\n",
       "    <tr>\n",
       "      <th>1</th>\n",
       "      <td>Premium</td>\n",
       "      <td>E</td>\n",
       "      <td>SI1</td>\n",
       "      <td>59.8</td>\n",
       "      <td>61.0</td>\n",
       "      <td>326</td>\n",
       "      <td>3.89</td>\n",
       "      <td>3.84</td>\n",
       "      <td>2.31</td>\n",
       "    </tr>\n",
       "    <tr>\n",
       "      <th>2</th>\n",
       "      <td>Good</td>\n",
       "      <td>E</td>\n",
       "      <td>VS1</td>\n",
       "      <td>56.9</td>\n",
       "      <td>65.0</td>\n",
       "      <td>327</td>\n",
       "      <td>4.05</td>\n",
       "      <td>4.07</td>\n",
       "      <td>2.31</td>\n",
       "    </tr>\n",
       "    <tr>\n",
       "      <th>3</th>\n",
       "      <td>Premium</td>\n",
       "      <td>I</td>\n",
       "      <td>VS2</td>\n",
       "      <td>62.4</td>\n",
       "      <td>58.0</td>\n",
       "      <td>334</td>\n",
       "      <td>4.20</td>\n",
       "      <td>4.23</td>\n",
       "      <td>2.63</td>\n",
       "    </tr>\n",
       "    <tr>\n",
       "      <th>4</th>\n",
       "      <td>Good</td>\n",
       "      <td>J</td>\n",
       "      <td>SI2</td>\n",
       "      <td>63.3</td>\n",
       "      <td>58.0</td>\n",
       "      <td>335</td>\n",
       "      <td>4.34</td>\n",
       "      <td>4.35</td>\n",
       "      <td>2.75</td>\n",
       "    </tr>\n",
       "  </tbody>\n",
       "</table>\n",
       "</div>"
      ],
      "text/plain": [
       "       cut color clarity  depth  table  price     x     y     z\n",
       "0    Ideal     E     SI2   61.5   55.0    326  3.95  3.98  2.43\n",
       "1  Premium     E     SI1   59.8   61.0    326  3.89  3.84  2.31\n",
       "2     Good     E     VS1   56.9   65.0    327  4.05  4.07  2.31\n",
       "3  Premium     I     VS2   62.4   58.0    334  4.20  4.23  2.63\n",
       "4     Good     J     SI2   63.3   58.0    335  4.34  4.35  2.75"
      ]
     },
     "execution_count": 34,
     "metadata": {},
     "output_type": "execute_result"
    }
   ],
   "source": [
    "df.head()\n",
    "df.drop(df.columns[0],axis = 1,inplace = True)\n",
    "df.head()"
   ]
  },
  {
   "cell_type": "markdown",
   "metadata": {},
   "source": [
    "<font color = 'green'> Correct : 2 points </font> "
   ]
  },
  {
   "cell_type": "code",
   "execution_count": 37,
   "metadata": {},
   "outputs": [
    {
     "data": {
      "image/png": "[encoded data removed]",
      "text/plain": [
       "<Figure size 720x720 with 2 Axes>"
      ]
     },
     "metadata": {
      "needs_background": "light"
     },
     "output_type": "display_data"
    }
   ],
   "source": [
    "plt.figure(figsize=(10,10))  \n",
    "p=sns.heatmap(df.corr(), annot=True,cmap='RdYlGn',square=True)"
   ]
  },
  {
   "cell_type": "code",
   "execution_count": null,
   "metadata": {},
   "outputs": [],
   "source": []
  },
  {
   "cell_type": "markdown",
   "metadata": {},
   "source": [
    "Problem 5 (4 points)\n",
    "We have a collection of m documents.\n",
    "\n",
    "Let us say we would like to compare two documents x and y using their document term vectors.\n",
    "\n",
    "Let tf_ij be the frequency of the ith word (term) in the jth document\n",
    "\n",
    "Let the vocabulary size (the dimensionality of the vectors) be n. What is a good measure of similarity for this purpose ? Write the formula for it in terms of tf_ij.\n",
    "\n",
    "Consider the variable transformation given by idf_ij = tf_ij * log(m/df_i), where df_i is the document frequency, i.e. the number of documents in which the ith term occurs. The transformed variable idf_ij is called the inverse document frequency. What are the advantages of using this transformed variable instead of the original in the similarity computation ?"
   ]
  },
  {
   "cell_type": "markdown",
   "metadata": {},
   "source": [
    "I would use cosine similarity for this problem since it works well with asymmetric attributes, is robust to magnitude differences.\n",
    "\n",
    "tf_ij = idf_ij / log(m/df_i)\n",
    "<font color = 'blue'> Partially correct : 1 points</font>\n",
    "The reverse frequency is used to deal with the common terms or normal terms such as is, to, the, etc (log n / gj 0)which wouldn't be considered similar because they appear in almost every document, therefore, inflating or misrepresenting the similarity measure. "
   ]
  },
  {
   "cell_type": "markdown",
   "metadata": {},
   "source": [
    "<font color = 'green'> Correct : 2 points</font> "
   ]
  },
  {
   "cell_type": "markdown",
   "metadata": {},
   "source": [
    "Problem 6 (6 points)\n",
    "Write Python functions to compute the Hamming (L1) distance, SMC and Jaccard similarity coefficient between two binary vectors. Use them to these proximity measures between the following vectors:\n",
    "\n",
    "x = 1010101010101\n",
    "\n",
    "y = 1000100010001"
   ]
  },
  {
   "cell_type": "code",
   "execution_count": 29,
   "metadata": {},
   "outputs": [
    {
     "name": "stdout",
     "output_type": "stream",
     "text": [
      "SMC 0.23076923076923078\n",
      "Hamming (L1) Distance 3\n",
      "Jaccard similarity = 0.08333333333333333\n"
     ]
    }
   ],
   "source": [
    "x = [1,0,1,0,1,0,1,0,1,0,1,0,1]\n",
    "y = [1,0,0,0,1,0,0,0,1,0,0,0,1]\n",
    "\n",
    "def hammingDistance(a,b):\n",
    "    distance = 0\n",
    "    for i in range(len(a)):\n",
    "        if a[i] != b[i]:\n",
    "            distance += 1\n",
    "        \n",
    "    return distance\n",
    "    \n",
    "def jaccard(a, b):\n",
    "    intersection = len(list(set(a).intersection(b)))\n",
    "    union = (len(a) + len(b)) - intersection\n",
    "    return (intersection) / union\n",
    "\n",
    "print(\"SMC\", (hammingDistance(x,y) / len(x)))\n",
    "print(\"Hamming (L1) Distance\", hammingDistance(x,y))\n",
    "print(\"Jaccard similarity =\", jaccard (x,y))"
   ]
  },
  {
   "cell_type": "markdown",
   "metadata": {},
   "source": [
    "<font color = 'blue'> Partially correct : 2 points</font> "
   ]
  },
  {
   "cell_type": "markdown",
   "metadata": {},
   "source": [
    "Problem 7 (6 points)\n",
    "Calculate the indicated similarity or distance measures of the vectors show below (you can do this by hand or by writing code, but please show the computation either way):\n",
    "\n",
    "x = (1,1,1,1) and y = (3,3,3,3) : cosine, correlation, Euclidean\n",
    "\n",
    "x = (0,1,0,1,0,1) and y = (1,0,1,0,1,0) : cosine, correlation, Euclidean, Jaccard\n",
    "\n",
    "x = (1,1,0,1,0,1) and y = (1,1,1,0,0,1) : cosine, correlation, Lmax, Jaccard"
   ]
  },
  {
   "cell_type": "code",
   "execution_count": 30,
   "metadata": {},
   "outputs": [
    {
     "name": "stdout",
     "output_type": "stream",
     "text": [
      "Measures for x and y\n",
      "\n",
      "Cosine Similarity = 1.0\n",
      "Euclidian Distance = 4.0\n",
      "Pearson Correlation [[nan nan]\n",
      " [nan nan]]\n",
      "\n",
      "Measures for a and b\n",
      "\n",
      "Cosine Similarity = 0.0\n",
      "Euclidian Distance = 2.449489742783178\n",
      "Jaccard Coefficient = 0.2\n",
      "Pearson Correlation [[ 1.2 -1.2]\n",
      " [-1.2  1.2]]\n",
      "\n",
      "Measures for i and j\n",
      "Cosine Similarity = 0.75\n",
      "Euclidian Distance = 1.4142135623730951\n",
      "Jaccard Coefficient = 0.2\n",
      "Pearson Correlation [[1.2 0.3]\n",
      " [0.3 1.2]]\n",
      "\n"
     ]
    },
    {
     "name": "stderr",
     "output_type": "stream",
     "text": [
      "<ipython-input-30-94311f6a3ba1>:14: RuntimeWarning: invalid value encountered in true_divide\n",
      "  return np.cov(a, b) / (np.std(a) * np.std(a))\n"
     ]
    }
   ],
   "source": [
    "x = [1,1,1,1]\n",
    "y = [3,3,3,3]\n",
    "\n",
    "a = [0,1,0,1,0,1]\n",
    "b = [1,0,1,0,1,0]\n",
    "\n",
    "i = [1,1,0,1,0,1]\n",
    "j = [1,1,1,0,0,1]\n",
    "\n",
    "def cosine(a, b):\n",
    "    return sum([x*y for x,y in zip(a, b)])/(math.sqrt(sum([x*x for x in a]))* math.sqrt(sum([x*x for x in b])))\n",
    "\n",
    "def correlation(a, b):\n",
    "    return np.cov(a, b) / (np.std(a) * np.std(a))\n",
    "\n",
    "def euclidian(a, b):\n",
    "    return math.sqrt(sum([(x - y) ** 2 for x, y in zip(a, b)]))\n",
    "\n",
    "def jaccard(a, b):\n",
    "    intersection = len(list(set(a).intersection(b)))\n",
    "    union = (len(a) + len(b)) - intersection\n",
    "    return (intersection) / union\n",
    "\n",
    "def Lmax(a, b): \n",
    "    return\n",
    "\n",
    "    \n",
    "print(\"Measures for x and y\")\n",
    "print()\n",
    "print(\"Cosine Similarity =\" , cosine(x,y))\n",
    "print(\"Euclidian Distance =\", euclidian(x,y))\n",
    "print(\"Pearson Correlation\", correlation(x,y))\n",
    "print()\n",
    "\n",
    "print(\"Measures for a and b\")\n",
    "print()\n",
    "print(\"Cosine Similarity =\" , cosine(a,b))\n",
    "print(\"Euclidian Distance =\", euclidian(a,b))\n",
    "print(\"Jaccard Coefficient =\", jaccard(a,b))\n",
    "print(\"Pearson Correlation\", correlation(a,b))\n",
    "print()\n",
    "\n",
    "print(\"Measures for i and j\")\n",
    "print(\"Cosine Similarity =\" , cosine(i,j))\n",
    "print(\"Euclidian Distance =\", euclidian(i,j))\n",
    "print(\"Jaccard Coefficient =\", jaccard(i,j))\n",
    "print(\"Pearson Correlation\", correlation(i,j))\n",
    "print()"
   ]
  },
  {
   "cell_type": "markdown",
   "metadata": {},
   "source": [
    "<font color = 'blue'> Partially correct : 3 points</font> "
   ]
  },
  {
   "cell_type": "markdown",
   "metadata": {},
   "source": [
    "<font color = 'green'> Total points : 23.5 points </font>"
   ]
  },
  {
   "cell_type": "code",
   "execution_count": null,
   "metadata": {},
   "outputs": [],
   "source": []
  }
 ],
 "metadata": {
  "kernelspec": {
   "display_name": "Python 3",
   "language": "python",
   "name": "python3"
  },
  "language_info": {
   "codemirror_mode": {
    "name": "ipython",
    "version": 3
   },
   "file_extension": ".py",
   "mimetype": "text/x-python",
   "name": "python",
   "nbconvert_exporter": "python",
   "pygments_lexer": "ipython3",
   "version": "3.8.5"
  }
 },
 "nbformat": 4,
 "nbformat_minor": 5
}
