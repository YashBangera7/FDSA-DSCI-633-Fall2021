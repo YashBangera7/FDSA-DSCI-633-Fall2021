{
 "cells": [
  {
   "cell_type": "markdown",
   "metadata": {},
   "source": [
    "# RIT DSCI-633: Foundations of Data Science and Analytics\n",
    "## Assignment 1\n",
    "### Due: 11:59 pm EST, Saturday, Oct 2, 2021"
   ]
  },
  {
   "cell_type": "markdown",
   "metadata": {},
   "source": [
    "### Problem 1 (10 points)\n",
    "\n",
    "In statistics and probability theory, the law of large numbers is a theorem that describes the result of\n",
    "repeating the same experiment a large number of times. The theorem states that if the same\n",
    "experiment or study is repeated independently a large number of times, the average of the results of\n",
    "the trials must be close to the expected value. The result becomes closer to the expected value as the\n",
    "number of trials is increased. Let us look at a specific experiment.\n",
    "\n",
    "Assume you have a Gaussian distribution (commonly called a “bell curve”) with mean µ and std\n",
    "deviation σ. The area under the curve that lies between σ and 2σ, and –σ and -2σ is approximately\n",
    "27.2%. In other words, approximately 27.2% of numbers generated randomly using this distribution will\n",
    "fall in the range [µ + σ, µ + 2σ] or [µ - 2σ, µ - σ], as shown below.\n",
    "\n",
    "Generate N random numbers that follow a Gaussian distribution with µ = 100, σ = 10, and count the\n",
    "numbers M that fall into the ranges above. Print the fraction M/N. Repeat this for N = 10, 100, 1000,\n",
    "10000, and 1000000.\n",
    "\n",
    "Does the fraction start to approach 27.2%?\n"
   ]
  },
  {
   "cell_type": "markdown",
   "metadata": {},
   "source": [
    "### Solution"
   ]
  },
  {
   "cell_type": "code",
   "execution_count": 9,
   "metadata": {},
   "outputs": [
    {
     "name": "stdout",
     "output_type": "stream",
     "text": [
      "0.1\n",
      "0.27\n",
      "0.261\n",
      "0.2682\n",
      "0.271502\n"
     ]
    }
   ],
   "source": [
    "import random\n",
    "import numpy as np\n",
    "from collections import defaultdict\n",
    "from bisect import bisect_left\n",
    "\n",
    "mu, std = 100, 10\n",
    "for n in [10,100,1000,10000,1000000]:\n",
    "    sample = np.random.normal(loc=mu, scale=std, size=n)\n",
    "    m = 0\n",
    "    for x in sample:\n",
    "        if(mu-(2*std) <= x <= mu-std) or (mu+std<= x <= mu+(2*std)) :\n",
    "            m += 1\n",
    "    print(m/n)\n",
    "    "
   ]
  },
  {
   "cell_type": "markdown",
   "metadata": {},
   "source": [
    "<font color = 'green'> Correct : 10 points </font> "
   ]
  },
  {
   "cell_type": "markdown",
   "metadata": {},
   "source": [
    "### Problem 2 (5 points)\n",
    "\n",
    "Imagine you have a dataset of movie ratings for a set of 500 popular movies and a set of 1000 users.\n",
    "Each data sample contains the ratings of each movie (from 1 to 5 stars) by a specific user. The rating is\n",
    "an integer in the range [0,5], with a value of 0 means that the user did not watch that movie.\n",
    "How would you convert this data to a form suitable for association analysis? In particular, what type of\n",
    "attributes would you have and how many of them?\n",
    "\n"
   ]
  },
  {
   "cell_type": "markdown",
   "metadata": {},
   "source": [
    "### Solution\n"
   ]
  },
  {
   "cell_type": "markdown",
   "metadata": {},
   "source": [
    "I would have movies as index and users as columns so that I could calculate each movies overall average rating scores by rows. Attributes will be 1000 and 500 movies as rows so the dimension will 1000*500, so the dim then I can add one more for ex: average rating but for that I need to replace 0 with NA.\n",
    "This will also help to see which users are correlated with each other\n",
    "For example"
   ]
  },
  {
   "cell_type": "code",
   "execution_count": 119,
   "metadata": {},
   "outputs": [
    {
     "name": "stdout",
     "output_type": "stream",
     "text": [
      "                     user1  user2  user3  user4\n",
      "Movies                                         \n",
      "Matrix                   1    1.0    2.0    1.0\n",
      "Cafe De Flore            5    2.0    1.0    1.0\n",
      "8 Mile                   1    3.0    3.0    1.0\n",
      "law abiding citizen      3    4.0    NaN    5.0\n",
      "                     user1  user2  user3  user4   Avg\n",
      "Movies                                               \n",
      "Matrix                   1    1.0    2.0    1.0  1.25\n",
      "Cafe De Flore            5    2.0    1.0    1.0  2.25\n",
      "8 Mile                   1    3.0    3.0    1.0  2.00\n",
      "law abiding citizen      3    4.0    NaN    5.0  4.00\n"
     ]
    }
   ],
   "source": [
    "import seaborn as sns\n",
    "import pandas as pd\n",
    "import matplotlib.pyplot as plt\n",
    "data = {'user1'     : [1, 5, 1, 3],\n",
    "        'user2'     : [1., 2., 3., 4.],\n",
    "        'user3'     : [2., 1., 3., 0],\n",
    "        'user4'     : [1., 1., 1., 5],\n",
    "        'Movies'  : [\"Matrix\", \"Cafe De Flore\", \"8 Mile\", \"law abiding citizen\"]}\n",
    "df = pd.DataFrame(data)\n",
    "df.set_index([\"Movies\"],inplace=True)\n",
    "df.replace(0, np.nan, inplace=True)\n",
    "print(df.head())\n",
    "df[\"Avg\"] = df.mean(axis=1)\n",
    "print(df.head())"
   ]
  },
  {
   "cell_type": "code",
   "execution_count": 43,
   "metadata": {},
   "outputs": [
    {
     "data": {
      "image/png": "[encoded data removed]",
      "text/plain": [
       "<Figure size 432x288 with 2 Axes>"
      ]
     },
     "metadata": {
      "needs_background": "light"
     },
     "output_type": "display_data"
    }
   ],
   "source": [
    "ax = sns.heatmap(df.corr(), annot=True)\n",
    "plt.show()"
   ]
  },
  {
   "cell_type": "markdown",
   "metadata": {},
   "source": [
    "<font color = 'red'> Incorrect : 0 points </font> \n",
    "For association analysis, we require binary asymmetric attributes.\n",
    "\n",
    "Since each rating can take 6 possible values, we would need to replace it with 6 asymmetric binary attributes\n",
    "of the form (rating == 0?) (rating == 1?) ...\n",
    "\n",
    "This will give us 500 x 6 = **3000 binary attributes per user**.  \n",
    "The resulting sparse data matrix would be **1000 rows x 3000 columns**.\n"
   ]
  },
  {
   "cell_type": "markdown",
   "metadata": {},
   "source": [
    "### Problem 3 (5 points)\n",
    "\n",
    "Distinguish between noise and outliers\n",
    "\n",
    "1. True or False ? Noise may be in the form of noisy attribute values, or noise objects.\n",
    "2. True or False ? Noise is sometimes desirable.\n",
    "3. True or False ? Outliers are sometimes desirable.\n",
    "4. True or False ? Noise objects may or may not be outliers. Explain your reasoning.\n",
    "5. True or False ? Outlier objects may or may not be noise. Explain your reasoning."
   ]
  },
  {
   "cell_type": "markdown",
   "metadata": {},
   "source": [
    "### Solution"
   ]
  },
  {
   "cell_type": "markdown",
   "metadata": {},
   "source": [
    "1.True\n",
    "\n",
    "2.True\n",
    "\n",
    "3.True\n",
    "\n",
    "4.False  because noise always undesirable but outliers can desirable. <br>\n",
    "5.To be decided"
   ]
  },
  {
   "cell_type": "markdown",
   "metadata": {},
   "source": [
    "<font color = 'blue'> Partially Correct : 2 points </font>\n",
    "2nd part  : False : Noise is never desirable. \n",
    "4th part  : True : Since noise objects can result from various factors, they may have attribute values very different from \"good\" samples, but not necessarily. \n",
    "5th part  : True : Outliers can come about because of genuine reasons - for example, swiping your credit card while on vacation. These are not noise and may in fact, be very important for the data analysis problem. Noise, on the other hands, is always undesirable."
   ]
  },
  {
   "cell_type": "markdown",
   "metadata": {},
   "source": [
    "### Problem 4 (20 points)\n",
    "Download the ‘Diamonds’ dataset from https://www.kaggle.com/shivam2503/diamonds.\n",
    "1. Based on the description of the dataset provided at the site, categorize each attribute of the data as\n",
    "discrete or continuous, qualitative (nominal or ordinal), or quantitative (interval or ratio)  (5 points)\n",
    "e.g. Age in years: Discrete, Quantitative, Ratio.\n",
    "2. Load the CSV data file into a Pandas DataFrame object and display the first 5 rows. (2 points)\n",
    "3. Calculate summary statistics:\n",
    "a. For each quantitative attribute: find the mean, median, standard deviation, and range. (3.5 points)\n",
    "b. For each qualitative attribute, find the mode. (1.5 points)\n",
    "c. Find the Interquartile Range (IQR) of the ‘price’ variable. (0.5 points)\n",
    "4. What fraction of the data samples have ‘cut’ that is ‘very good’ or better ? Create a bar plot\n",
    "showing the distribution of the data samples by ‘cut’ (one bar for each value of cut). (2.5 points)\n",
    "5. Plot a histogram of the 'carat' variable. (2 points)\n",
    "6. Plot a scatter plot of ‘carat’ vs ‘price’. (2 points)\n",
    "7. Compute the correlation between ‘carat’ and ‘price’. (1 point)"
   ]
  },
  {
   "cell_type": "markdown",
   "metadata": {},
   "source": [
    "### Solution"
   ]
  },
  {
   "cell_type": "markdown",
   "metadata": {},
   "source": [
    "#### Solution 4.1"
   ]
  },
  {
   "cell_type": "markdown",
   "metadata": {},
   "source": [
    "carat - continues quantitative  ratio <br>\n",
    "cut -  discrete  qualitative  ordinal <br>\n",
    "color - discrete qualitative nominal<br>\n",
    "clarity - discrete  qualitative  ordinal<br>\n",
    "depth -  continues quantitative  ratio<br>\n",
    "table -  continues quantitative  ratio<br>\n",
    "price -  continues quantitative  ratio<br>\t\n",
    "x-continues quantitative  ratio<br>\t\n",
    "y-continues quantitative  ratio<br>\t\n",
    "z-continues quantitative  ratio<br>"
   ]
  },
  {
   "cell_type": "markdown",
   "metadata": {},
   "source": [
    "<font color = 'blue'> Partially Correct : 4.5 points </font> \n",
    "Color: Discrete Qualitative Ordinal "
   ]
  },
  {
   "cell_type": "markdown",
   "metadata": {},
   "source": [
    "#### Solution 4.2"
   ]
  },
  {
   "cell_type": "code",
   "execution_count": 49,
   "metadata": {},
   "outputs": [
    {
     "data": {
      "text/html": [
       "<div>\n",
       "<style scoped>\n",
       "    .dataframe tbody tr th:only-of-type {\n",
       "        vertical-align: middle;\n",
       "    }\n",
       "\n",
       "    .dataframe tbody tr th {\n",
       "        vertical-align: top;\n",
       "    }\n",
       "\n",
       "    .dataframe thead th {\n",
       "        text-align: right;\n",
       "    }\n",
       "</style>\n",
       "<table border=\"1\" class=\"dataframe\">\n",
       "  <thead>\n",
       "    <tr style=\"text-align: right;\">\n",
       "      <th></th>\n",
       "      <th>carat</th>\n",
       "      <th>cut</th>\n",
       "      <th>color</th>\n",
       "      <th>clarity</th>\n",
       "      <th>depth</th>\n",
       "      <th>table</th>\n",
       "      <th>price</th>\n",
       "      <th>x</th>\n",
       "      <th>y</th>\n",
       "      <th>z</th>\n",
       "    </tr>\n",
       "  </thead>\n",
       "  <tbody>\n",
       "    <tr>\n",
       "      <th>1</th>\n",
       "      <td>0.23</td>\n",
       "      <td>Ideal</td>\n",
       "      <td>E</td>\n",
       "      <td>SI2</td>\n",
       "      <td>61.5</td>\n",
       "      <td>55.0</td>\n",
       "      <td>326</td>\n",
       "      <td>3.95</td>\n",
       "      <td>3.98</td>\n",
       "      <td>2.43</td>\n",
       "    </tr>\n",
       "    <tr>\n",
       "      <th>2</th>\n",
       "      <td>0.21</td>\n",
       "      <td>Premium</td>\n",
       "      <td>E</td>\n",
       "      <td>SI1</td>\n",
       "      <td>59.8</td>\n",
       "      <td>61.0</td>\n",
       "      <td>326</td>\n",
       "      <td>3.89</td>\n",
       "      <td>3.84</td>\n",
       "      <td>2.31</td>\n",
       "    </tr>\n",
       "    <tr>\n",
       "      <th>3</th>\n",
       "      <td>0.23</td>\n",
       "      <td>Good</td>\n",
       "      <td>E</td>\n",
       "      <td>VS1</td>\n",
       "      <td>56.9</td>\n",
       "      <td>65.0</td>\n",
       "      <td>327</td>\n",
       "      <td>4.05</td>\n",
       "      <td>4.07</td>\n",
       "      <td>2.31</td>\n",
       "    </tr>\n",
       "    <tr>\n",
       "      <th>4</th>\n",
       "      <td>0.29</td>\n",
       "      <td>Premium</td>\n",
       "      <td>I</td>\n",
       "      <td>VS2</td>\n",
       "      <td>62.4</td>\n",
       "      <td>58.0</td>\n",
       "      <td>334</td>\n",
       "      <td>4.20</td>\n",
       "      <td>4.23</td>\n",
       "      <td>2.63</td>\n",
       "    </tr>\n",
       "    <tr>\n",
       "      <th>5</th>\n",
       "      <td>0.31</td>\n",
       "      <td>Good</td>\n",
       "      <td>J</td>\n",
       "      <td>SI2</td>\n",
       "      <td>63.3</td>\n",
       "      <td>58.0</td>\n",
       "      <td>335</td>\n",
       "      <td>4.34</td>\n",
       "      <td>4.35</td>\n",
       "      <td>2.75</td>\n",
       "    </tr>\n",
       "  </tbody>\n",
       "</table>\n",
       "</div>"
      ],
      "text/plain": [
       "   carat      cut color clarity  depth  table  price     x     y     z\n",
       "1   0.23    Ideal     E     SI2   61.5   55.0    326  3.95  3.98  2.43\n",
       "2   0.21  Premium     E     SI1   59.8   61.0    326  3.89  3.84  2.31\n",
       "3   0.23     Good     E     VS1   56.9   65.0    327  4.05  4.07  2.31\n",
       "4   0.29  Premium     I     VS2   62.4   58.0    334  4.20  4.23  2.63\n",
       "5   0.31     Good     J     SI2   63.3   58.0    335  4.34  4.35  2.75"
      ]
     },
     "execution_count": 49,
     "metadata": {},
     "output_type": "execute_result"
    }
   ],
   "source": [
    "diom = pd.read_csv(\"diamonds.csv\",index_col=0)\n",
    "diom.head()"
   ]
  },
  {
   "cell_type": "markdown",
   "metadata": {},
   "source": [
    "<font color = 'green'> Correct : 2 points </font> "
   ]
  },
  {
   "cell_type": "markdown",
   "metadata": {},
   "source": [
    "#### Solution 4.3"
   ]
  },
  {
   "cell_type": "markdown",
   "metadata": {},
   "source": [
    "Calculate summary statistics: a. For each quantitative attribute: find the mean, median, standard deviation, and range. (3.5 points) b. For each qualitative attribute, find the mode. (1.5 points) c. Find the Interquartile Range (IQR) of the ‘price’ variable. (0.5 points)"
   ]
  },
  {
   "cell_type": "code",
   "execution_count": 71,
   "metadata": {
    "scrolled": true
   },
   "outputs": [
    {
     "name": "stdout",
     "output_type": "stream",
     "text": [
      "carat       0.797940\n",
      "depth      61.749405\n",
      "table      57.457184\n",
      "price    3932.799722\n",
      "x           5.731157\n",
      "y           5.734526\n",
      "z           3.538734\n",
      "dtype: float64\n",
      "carat       0.70\n",
      "depth      61.80\n",
      "table      57.00\n",
      "price    2401.00\n",
      "x           5.70\n",
      "y           5.71\n",
      "z           3.53\n",
      "dtype: float64\n",
      "carat       0.474011\n",
      "depth       1.432621\n",
      "table       2.234491\n",
      "price    3989.439738\n",
      "x           1.121761\n",
      "y           1.142135\n",
      "z           0.705699\n",
      "dtype: float64\n"
     ]
    }
   ],
   "source": [
    "print(diom[['carat','depth','table','price','x','y','z']].mean())\n",
    "print(diom[['carat','depth','table','price','x','y','z']].median())\n",
    "print(diom[['carat','depth','table','price','x','y','z']].std())\n"
   ]
  },
  {
   "cell_type": "code",
   "execution_count": 76,
   "metadata": {},
   "outputs": [
    {
     "data": {
      "text/plain": [
       "carat        4.81\n",
       "depth       36.00\n",
       "table       52.00\n",
       "price    18497.00\n",
       "x           10.74\n",
       "y           58.90\n",
       "z           31.80\n",
       "dtype: float64"
      ]
     },
     "execution_count": 76,
     "metadata": {},
     "output_type": "execute_result"
    }
   ],
   "source": [
    "\n",
    "diom[['carat','depth','table','price','x','y','z']].apply(lambda x: x.max()-x.min())"
   ]
  },
  {
   "cell_type": "code",
   "execution_count": 77,
   "metadata": {},
   "outputs": [
    {
     "data": {
      "text/html": [
       "<div>\n",
       "<style scoped>\n",
       "    .dataframe tbody tr th:only-of-type {\n",
       "        vertical-align: middle;\n",
       "    }\n",
       "\n",
       "    .dataframe tbody tr th {\n",
       "        vertical-align: top;\n",
       "    }\n",
       "\n",
       "    .dataframe thead th {\n",
       "        text-align: right;\n",
       "    }\n",
       "</style>\n",
       "<table border=\"1\" class=\"dataframe\">\n",
       "  <thead>\n",
       "    <tr style=\"text-align: right;\">\n",
       "      <th></th>\n",
       "      <th>cut</th>\n",
       "      <th>color</th>\n",
       "      <th>clarity</th>\n",
       "    </tr>\n",
       "  </thead>\n",
       "  <tbody>\n",
       "    <tr>\n",
       "      <th>0</th>\n",
       "      <td>Ideal</td>\n",
       "      <td>G</td>\n",
       "      <td>SI1</td>\n",
       "    </tr>\n",
       "  </tbody>\n",
       "</table>\n",
       "</div>"
      ],
      "text/plain": [
       "     cut color clarity\n",
       "0  Ideal     G     SI1"
      ]
     },
     "execution_count": 77,
     "metadata": {},
     "output_type": "execute_result"
    }
   ],
   "source": [
    "diom[['cut','color','clarity']].mode()"
   ]
  },
  {
   "cell_type": "code",
   "execution_count": 79,
   "metadata": {
    "scrolled": true
   },
   "outputs": [
    {
     "name": "stdout",
     "output_type": "stream",
     "text": [
      "4374.25\n"
     ]
    }
   ],
   "source": [
    "q3, q1 = np.percentile(diom['price'], [75 ,25])\n",
    "iqr = q3 - q1\n",
    "print(iqr)"
   ]
  },
  {
   "cell_type": "markdown",
   "metadata": {},
   "source": [
    "<font color = 'green'> Correct : 5.5 points </font> "
   ]
  },
  {
   "cell_type": "markdown",
   "metadata": {},
   "source": [
    "#### Solution 4.4"
   ]
  },
  {
   "cell_type": "markdown",
   "metadata": {},
   "source": [
    "What fraction of the data samples have ‘cut’ that is ‘very good’ or better ? Create a bar plot showing the distribution of the data samples by ‘cut’ (one bar for each value of cut). (2.5 points)"
   ]
  },
  {
   "cell_type": "code",
   "execution_count": 89,
   "metadata": {},
   "outputs": [
    {
     "data": {
      "text/plain": [
       "0.8791991101223582"
      ]
     },
     "execution_count": 89,
     "metadata": {},
     "output_type": "execute_result"
    }
   ],
   "source": [
    "sum(diom['cut'].isin(['Very Good', 'Premium', 'Ideal']))/len(diom)"
   ]
  },
  {
   "cell_type": "code",
   "execution_count": 107,
   "metadata": {},
   "outputs": [
    {
     "name": "stderr",
     "output_type": "stream",
     "text": [
      "C:\\Users\\tadev\\anaconda3\\lib\\site-packages\\seaborn\\_decorators.py:36: FutureWarning: Pass the following variable as a keyword arg: x. From version 0.12, the only valid positional argument will be `data`, and passing other arguments without an explicit keyword will result in an error or misinterpretation.\n",
      "  warnings.warn(\n"
     ]
    },
    {
     "data": {
      "image/png": "[encoded data removed]",
      "text/plain": [
       "<Figure size 432x288 with 1 Axes>"
      ]
     },
     "metadata": {
      "needs_background": "light"
     },
     "output_type": "display_data"
    }
   ],
   "source": [
    "sns.countplot(diom['cut'])\n",
    "plt.show()"
   ]
  },
  {
   "cell_type": "markdown",
   "metadata": {},
   "source": [
    "<font color = 'green'> Correct : 2.5 points </font> "
   ]
  },
  {
   "cell_type": "markdown",
   "metadata": {},
   "source": [
    "5. Plot a histogram of the 'carat' variable. (2 points)"
   ]
  },
  {
   "cell_type": "code",
   "execution_count": 97,
   "metadata": {},
   "outputs": [
    {
     "data": {
      "image/png": "[encoded data removed]",
      "text/plain": [
       "<Figure size 432x288 with 1 Axes>"
      ]
     },
     "metadata": {
      "needs_background": "light"
     },
     "output_type": "display_data"
    }
   ],
   "source": [
    "plt.hist(diom['carat'])\n",
    "plt.show()"
   ]
  },
  {
   "cell_type": "markdown",
   "metadata": {},
   "source": [
    "<font color = 'green'> Correct : 2 points </font> "
   ]
  },
  {
   "cell_type": "markdown",
   "metadata": {},
   "source": [
    "6. Plot a scatter plot of ‘carat’ vs ‘price’. (2 points)\n"
   ]
  },
  {
   "cell_type": "code",
   "execution_count": 99,
   "metadata": {},
   "outputs": [
    {
     "data": {
      "image/png": "[encoded data removed]",
      "text/plain": [
       "<Figure size 432x288 with 1 Axes>"
      ]
     },
     "metadata": {
      "needs_background": "light"
     },
     "output_type": "display_data"
    }
   ],
   "source": [
    "sns.scatterplot(data=diom, x=\"carat\", y=\"price\")\n",
    "plt.show()"
   ]
  },
  {
   "cell_type": "markdown",
   "metadata": {},
   "source": [
    "<font color = 'green'> Correct : 2 points </font> "
   ]
  },
  {
   "cell_type": "markdown",
   "metadata": {},
   "source": [
    "7. Compute the correlation between ‘carat’ and ‘price’. (1 point)"
   ]
  },
  {
   "cell_type": "code",
   "execution_count": 100,
   "metadata": {},
   "outputs": [
    {
     "data": {
      "text/html": [
       "<div>\n",
       "<style scoped>\n",
       "    .dataframe tbody tr th:only-of-type {\n",
       "        vertical-align: middle;\n",
       "    }\n",
       "\n",
       "    .dataframe tbody tr th {\n",
       "        vertical-align: top;\n",
       "    }\n",
       "\n",
       "    .dataframe thead th {\n",
       "        text-align: right;\n",
       "    }\n",
       "</style>\n",
       "<table border=\"1\" class=\"dataframe\">\n",
       "  <thead>\n",
       "    <tr style=\"text-align: right;\">\n",
       "      <th></th>\n",
       "      <th>carat</th>\n",
       "      <th>price</th>\n",
       "    </tr>\n",
       "  </thead>\n",
       "  <tbody>\n",
       "    <tr>\n",
       "      <th>carat</th>\n",
       "      <td>1.000000</td>\n",
       "      <td>0.921591</td>\n",
       "    </tr>\n",
       "    <tr>\n",
       "      <th>price</th>\n",
       "      <td>0.921591</td>\n",
       "      <td>1.000000</td>\n",
       "    </tr>\n",
       "  </tbody>\n",
       "</table>\n",
       "</div>"
      ],
      "text/plain": [
       "          carat     price\n",
       "carat  1.000000  0.921591\n",
       "price  0.921591  1.000000"
      ]
     },
     "execution_count": 100,
     "metadata": {},
     "output_type": "execute_result"
    }
   ],
   "source": [
    "diom[['carat','price']].corr()"
   ]
  },
  {
   "cell_type": "markdown",
   "metadata": {},
   "source": [
    "<font color='green'> Correct : 1 point </font> "
   ]
  },
  {
   "cell_type": "markdown",
   "metadata": {},
   "source": [
    "### Problem 5 (4 points)\n",
    "\n",
    "We have a collection of m documents.\n",
    "\n",
    "Let us say we would like to compare two documents x and y using their document term vectors. \n",
    "\n",
    "Let tf_ij be the frequency of the ith word (term) in the jth document\n",
    "\n",
    "1. Let the vocabulary size (the dimensionality of the vectors) be n. What is a good measure of similarity for this purpose ? Write the formula for it in terms of tf_ij.\n",
    "\n",
    "2. Consider the variable transformation given by idf_ij = tf_ij * log(m/df_i), where df_i is the document frequency, i.e. the number of documents in which the ith term occurs. The transformed variable idf_ij is called the inverse document frequency. What are the advantages of using this transformed variable instead of the original in the similarity computation ?"
   ]
  },
  {
   "cell_type": "markdown",
   "metadata": {},
   "source": [
    "### Solution"
   ]
  },
  {
   "cell_type": "markdown",
   "metadata": {},
   "source": [
    "#### Solution 5.1"
   ]
  },
  {
   "cell_type": "markdown",
   "metadata": {},
   "source": [
    "Cosine similarity is the best choice for this kind of problem as it can compare vectors with different sizes. Here we might have 2 words where some words may occur in one documents but not occur in the other. Cosine Similarity might help as deals with different size vectors"
   ]
  },
  {
   "cell_type": "code",
   "execution_count": 7,
   "metadata": {},
   "outputs": [],
   "source": [
    "def cosine(x,y):# x and y are vectors\n",
    "    return np.dot(x,y)/(np.linalg.norm(x)*np.linalg.norm(y))"
   ]
  },
  {
   "cell_type": "markdown",
   "metadata": {},
   "source": [
    "<font color = 'green'> Correct : 2 points </font> \n",
    "However, different size vectors cannot be used in dot product. \n",
    "(If you are talking about one-hot encoding, still the length needs to be the same.)\n",
    "And please write the formula next time and not the code if formula is asked for. "
   ]
  },
  {
   "cell_type": "markdown",
   "metadata": {},
   "source": [
    "#### Solution 5.2"
   ]
  },
  {
   "cell_type": "markdown",
   "metadata": {},
   "source": [
    "It will take into words that occur in every document, so we will get information how important is id the word for given document, if it is comparebly unique in that doc the score will be higher, if it happens in other  docs it will lower the score."
   ]
  },
  {
   "cell_type": "code",
   "execution_count": 276,
   "metadata": {},
   "outputs": [],
   "source": [
    "#pretend we have data with n*n where n are number of docs M are words we want to have new matrix populatee with td-iff scores.\n",
    "# tf_idf = np.zeros((n,m))\n",
    "# for i in range(n):\n",
    "#     for in range(n):\n",
    "#        tf_idf[i,j] = data.iloc[i,j]* np.log(n/sum(data.loc[data[j]>0])) we sum here because values are True and false and it is true words occur  in docyument"
   ]
  },
  {
   "cell_type": "markdown",
   "metadata": {},
   "source": [
    "<font color = 'green'> Correct : 2 points </font> \n",
    "The size must be n * m and not  n * n. "
   ]
  },
  {
   "cell_type": "markdown",
   "metadata": {},
   "source": [
    "\n",
    "    "
   ]
  },
  {
   "cell_type": "markdown",
   "metadata": {},
   "source": [
    "### Problem 6 (6 points)\n",
    "\n",
    "Write Python functions to compute the Hamming (L1) distance, SMC and Jaccard similarity coefficient between two binary vectors. Use them to these proximity measures between the following vectors:\n",
    "\n",
    "x = 1010101010101 \n",
    "\n",
    "y = 1000100010001"
   ]
  },
  {
   "cell_type": "markdown",
   "metadata": {},
   "source": [
    "### Solution"
   ]
  },
  {
   "cell_type": "markdown",
   "metadata": {},
   "source": [
    "Hamming"
   ]
  },
  {
   "cell_type": "code",
   "execution_count": 32,
   "metadata": {
    "scrolled": true
   },
   "outputs": [
    {
     "name": "stdout",
     "output_type": "stream",
     "text": [
      "0.23076923076923078\n"
     ]
    }
   ],
   "source": [
    "x = [1,0,1,0,1,0,1,0,1,0,1,0,1]\n",
    "y = [1,0,0,0,1,0,0,0,1,0,0,0,1]\n",
    "def calc_hamming(x,y):\n",
    "    count =  0\n",
    "    for i,j in zip(x,y):\n",
    "        if i!=j:\n",
    "            count+=1\n",
    "    print(count/len(x))\n",
    "calc_hamming(x,y)"
   ]
  },
  {
   "cell_type": "markdown",
   "metadata": {},
   "source": [
    "SMC"
   ]
  },
  {
   "cell_type": "code",
   "execution_count": 33,
   "metadata": {},
   "outputs": [
    {
     "name": "stdout",
     "output_type": "stream",
     "text": [
      "0.7692307692307693\n"
     ]
    }
   ],
   "source": [
    "def calc_smc(x,y):\n",
    "    count =  0\n",
    "    for i,j in zip(x,y):\n",
    "        if i==j:\n",
    "            count+=1\n",
    "    print(count/len(x))\n",
    "calc_smc(x,y)"
   ]
  },
  {
   "cell_type": "markdown",
   "metadata": {},
   "source": [
    "Jaccard "
   ]
  },
  {
   "cell_type": "code",
   "execution_count": 34,
   "metadata": {},
   "outputs": [],
   "source": [
    "def calc_Jaccard(x,y):\n",
    "    count =  0\n",
    "    numbers_to_be_reduced = 0\n",
    "    for i,j in zip(x,y):\n",
    "        if i==1 and j==1:\n",
    "            count+=1\n",
    "        if i==0 and j==0:\n",
    "            numbers_to_be_reduced+=1\n",
    "    print(count/(len(x)-numbers_to_be_reduced))\n"
   ]
  },
  {
   "cell_type": "code",
   "execution_count": 35,
   "metadata": {},
   "outputs": [
    {
     "name": "stdout",
     "output_type": "stream",
     "text": [
      "0.5714285714285714\n"
     ]
    }
   ],
   "source": [
    "calc_Jaccard(x,y)"
   ]
  },
  {
   "cell_type": "markdown",
   "metadata": {},
   "source": [
    "<font color = 'blue'>Partially correct : 4 points </font>\n",
    "Hamming distance is incorrect. Do not divide by the len(x). Just count will be your answer. "
   ]
  },
  {
   "cell_type": "markdown",
   "metadata": {},
   "source": [
    "### Problem 7 (6 points)\n",
    "\n",
    "Calculate the indicated similarity or distance measures of the vectors show below (you can do this by hand or by writing code, but please show the computation either way):\n",
    "\n",
    "x = (1,1,1,1) and y = (3,3,3,3) : cosine, correlation, Euclidean\n",
    "\n",
    "x = (0,1,0,1,0,1) and y = (1,0,1,0,1,0) : cosine, correlation, Euclidean, Jaccard \n",
    "\n",
    "x = (1,1,0,1,0,1) and y = (1,1,1,0,0,1) : cosine, correlation, Lmax, Jaccard"
   ]
  },
  {
   "cell_type": "markdown",
   "metadata": {},
   "source": [
    "### Solution"
   ]
  },
  {
   "cell_type": "code",
   "execution_count": 13,
   "metadata": {},
   "outputs": [],
   "source": [
    "def euclidiean(a,b):\n",
    "    a,b = np.array(a),np.array(b)\n",
    "    return np.sqrt(np.sum(np.square(a-b)))\n",
    "\n",
    "def covariance(a,b):\n",
    "    a,b = np.array(a),np.array(b)\n",
    "    cov = np.dot((a - np.mean(a)),(b - np.mean(b)))/(len(a)-1)\n",
    "    return cov \n",
    "\n",
    "def std(data):\n",
    "    \"\"\"Return sum of square deviations of sequence data.\"\"\"\n",
    "    data = np.array(data)\n",
    "    c = np.mean(data)\n",
    "    std = np.sqrt(sum((x-c)**2 for x in data))\n",
    "    return std\n",
    "\n",
    "def correlation(a,b):\n",
    "    a,b = np.array(a),np.array(b)\n",
    "    return (covariance(a, b) / (std(a) * std(b)))\n",
    "\n",
    "def l_max(x,y):\n",
    "    return max([abs(i-j) for i,j in zip(x,y)])\n",
    "\n",
    "        \n",
    "    \n",
    "    \n",
    "    \n"
   ]
  },
  {
   "cell_type": "code",
   "execution_count": 14,
   "metadata": {},
   "outputs": [],
   "source": [
    "x=[1,1,1,1]\n",
    "y = [3,3,3,3]"
   ]
  },
  {
   "cell_type": "code",
   "execution_count": 15,
   "metadata": {
    "scrolled": true
   },
   "outputs": [
    {
     "name": "stdout",
     "output_type": "stream",
     "text": [
      "1.0 4.0 nan\n"
     ]
    },
    {
     "name": "stderr",
     "output_type": "stream",
     "text": [
      "<ipython-input-13-80b7ab2519f2>:19: RuntimeWarning: invalid value encountered in double_scalars\n",
      "  return (covariance(a, b) / (std(a) * std(b)))\n"
     ]
    },
    {
     "data": {
      "text/plain": [
       "(None,)"
      ]
     },
     "execution_count": 15,
     "metadata": {},
     "output_type": "execute_result"
    }
   ],
   "source": [
    "print(cosine(x,y),euclidiean(x,y),correlation(x,y)),"
   ]
  },
  {
   "cell_type": "code",
   "execution_count": 24,
   "metadata": {},
   "outputs": [],
   "source": [
    "x = [0,1,0,1,0,1]  \n",
    "y = [1,0,1,0,1,0]"
   ]
  },
  {
   "cell_type": "code",
   "execution_count": 25,
   "metadata": {},
   "outputs": [
    {
     "name": "stdout",
     "output_type": "stream",
     "text": [
      "0.0\n",
      "0.0 2.449489742783178 -0.2 None\n"
     ]
    }
   ],
   "source": [
    "print(cosine(x,y),euclidiean(x,y),correlation(x,y),calc_Jaccard(x,y))"
   ]
  },
  {
   "cell_type": "code",
   "execution_count": 38,
   "metadata": {},
   "outputs": [
    {
     "name": "stdout",
     "output_type": "stream",
     "text": [
      "0.6\n",
      "0.75 0.049999999999999996 1 None\n"
     ]
    }
   ],
   "source": [
    "x = [1,1,0,1,0,1]  \n",
    "y = [1,1,1,0,0,1]  \n",
    "print(cosine(x,y),correlation(x,y),l_max(x,y),calc_Jaccard(x,y))"
   ]
  },
  {
   "cell_type": "markdown",
   "metadata": {},
   "source": [
    "<font color = 'blue'>Partially Correct : 4 points </font>\n",
    "I do not understand your prints at all. Why are the Jaccard coefficients getting printed at first line and rest at bottom. Then it shows None for some reason for the Jaccard in the next line?"
   ]
  },
  {
   "cell_type": "markdown",
   "metadata": {},
   "source": [
    "### Submission instructions\n",
    "\n",
    "1. Your assignment should be completed by filling in the empty solution cells in this Jupyter notebook file (.ipynb). Feel free to add more cells as needed.\n",
    "\n",
    "2. Please comment your code using either markdown or #comments and use meaningful variable names to make it as readable and intelligible as possible.\n",
    "\n",
    "3. Write your code in the form of functions. For example: \n",
    "\n",
    "    def my_code ():\n",
    "\n",
    "          #Write code here\n",
    "      \n",
    "          return \"The return value\"\n",
    "          \n",
    "\n",
    "4. If the problem is to find the value of 'x', printing 'x = (your answer)' will help us identify if your code worked.\n",
    "\n",
    "\n",
    "5. For code that refers to local data files downloaded from the internet, please keep the file path simple (e.g. ~/downloads/datafilename) so that it works on our copy of the dataset. Please do not modify either the filename or the file contents in any way.\n",
    "\n",
    "6. Solution to problems that do not require any coding can be typed up in their own cells using markdown.\n",
    "    \n",
    "7. Unless there are legitimate circumstances, late assignments will not be accepted.\n",
    "\n",
    "8. All assignments are individual.\n",
    "\n",
    "9. All the sources used for problem solution must be acknowledged, e.g. web sites, books, research papers, etc.\n",
    "\n",
    "10. Academic integrity is taken seriously; for detailed information see the RIT Honor Code and with RIT's Academic Integrity Policy."
   ]
  },
  {
   "cell_type": "markdown",
   "metadata": {},
   "source": [
    "<font color = 'green'> Total points: 43.5 points </font> "
   ]
  },
  {
   "cell_type": "code",
   "execution_count": null,
   "metadata": {},
   "outputs": [],
   "source": []
  }
 ],
 "metadata": {
  "kernelspec": {
   "display_name": "Python 3",
   "language": "python",
   "name": "python3"
  },
  "language_info": {
   "codemirror_mode": {
    "name": "ipython",
    "version": 3
   },
   "file_extension": ".py",
   "mimetype": "text/x-python",
   "name": "python",
   "nbconvert_exporter": "python",
   "pygments_lexer": "ipython3",
   "version": "3.8.5"
  }
 },
 "nbformat": 4,
 "nbformat_minor": 2
}
