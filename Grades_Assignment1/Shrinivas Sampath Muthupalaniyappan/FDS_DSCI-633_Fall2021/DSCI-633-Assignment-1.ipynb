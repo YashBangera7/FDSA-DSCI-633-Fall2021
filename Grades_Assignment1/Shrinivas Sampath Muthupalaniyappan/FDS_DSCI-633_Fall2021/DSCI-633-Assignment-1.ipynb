{
 "cells": [
  {
   "cell_type": "markdown",
   "metadata": {},
   "source": [
    "# RIT DSCI-633: Foundations of Data Science and Analytics\n",
    "## Assignment 1\n",
    "### Due: 11:59 pm EST, Saturday, Oct 2, 2021"
   ]
  },
  {
   "cell_type": "markdown",
   "metadata": {},
   "source": [
    "### Problem 1 (10 points)\n",
    "\n",
    "In statistics and probability theory, the law of large numbers is a theorem that describes the result of\n",
    "repeating the same experiment a large number of times. The theorem states that if the same\n",
    "experiment or study is repeated independently a large number of times, the average of the results of\n",
    "the trials must be close to the expected value. The result becomes closer to the expected value as the\n",
    "number of trials is increased. Let us look at a specific experiment.\n",
    "\n",
    "Assume you have a Gaussian distribution (commonly called a “bell curve”) with mean µ and std\n",
    "deviation σ. The area under the curve that lies between σ and 2σ, and –σ and -2σ is approximately\n",
    "27.2%. In other words, approximately 27.2% of numbers generated randomly using this distribution will\n",
    "fall in the range [µ + σ, µ + 2σ] or [µ - 2σ, µ - σ], as shown below.\n",
    "\n",
    "Generate N random numbers that follow a Gaussian distribution with µ = 100, σ = 10, and count the\n",
    "numbers M that fall into the ranges above. Print the fraction M/N. Repeat this for N = 10, 100, 1000,\n",
    "10000, and 1000000.\n",
    "\n",
    "Does the fraction start to approach 27.2%?\n"
   ]
  },
  {
   "cell_type": "markdown",
   "metadata": {},
   "source": [
    "### Solution"
   ]
  },
  {
   "cell_type": "code",
   "execution_count": 1,
   "metadata": {
    "scrolled": true
   },
   "outputs": [
    {
     "name": "stdout",
     "output_type": "stream",
     "text": [
      "The number of data inbetween the  [µ + σ, µ + 2σ] or [µ - 2σ, µ - σ] for 10 is:  2\n",
      "20.0\n",
      "The number of data inbetween the  [µ + σ, µ + 2σ] or [µ - 2σ, µ - σ] for 100 is:  31\n",
      "31.0\n",
      "The number of data inbetween the  [µ + σ, µ + 2σ] or [µ - 2σ, µ - σ] for 1000 is:  330\n",
      "33.0\n",
      "The number of data inbetween the  [µ + σ, µ + 2σ] or [µ - 2σ, µ - σ] for 10000 is:  3329\n",
      "33.29\n",
      "The number of data inbetween the  [µ + σ, µ + 2σ] or [µ - 2σ, µ - σ] for 1000000 is:  303328\n",
      "30.3328\n"
     ]
    }
   ],
   "source": [
    "import matplotlib.pyplot as plt\n",
    "import numpy as np\n",
    "import scipy.stats as stats\n",
    "from scipy.stats import norm\n",
    "import math\n",
    "count=0\n",
    "mu=100\n",
    "sigma=10\n",
    "list=[10, 100, 1000, 10000, 1000000]\n",
    "for n in list:\n",
    "   \n",
    "    x = np.linspace(mu - 3*sigma, mu + 3*sigma, n, dtype = int)\n",
    "    #print(x)\n",
    "    #plt.plot(x, stats.norm.pdf(x, mu, sigma))\n",
    "    for i in x:\n",
    "        if((i>80 and i<90) or (i>110 and i<120)):\n",
    "            count=count+1\n",
    "    print(\"The number of data inbetween the  [µ + σ, µ + 2σ] or [µ - 2σ, µ - σ] for\", n ,\"is: \", count)\n",
    "    print((count/n)*100)"
   ]
  },
  {
   "cell_type": "markdown",
   "metadata": {},
   "source": [
    "<font color = 'green'> Correct : 10 points </font>"
   ]
  },
  {
   "cell_type": "markdown",
   "metadata": {},
   "source": [
    "### Problem 2 (5 points)\n",
    "\n",
    "Imagine you have a dataset of movie ratings for a set of 500 popular movies and a set of 1000 users.\n",
    "Each data sample contains the ratings of each movie (from 1 to 5 stars) by a specific user. The rating is\n",
    "an integer in the range [0,5], with a value of 0 means that the user did not watch that movie.\n",
    "How would you convert this data to a form suitable for association analysis? In particular, what type of\n",
    "attributes would you have and how many of them?\n",
    "\n"
   ]
  },
  {
   "cell_type": "markdown",
   "metadata": {},
   "source": [
    "### Solution"
   ]
  },
  {
   "cell_type": "markdown",
   "metadata": {},
   "source": [
    "### Attributes\n",
    "1. Movie Title\n",
    "2. Year of the Movie\n",
    "3. Genre of the Movie - Romantic, Horror, Thriller, Animation, Comedy, Action, Adventure..etc\n",
    "4. Rating of the Movie\n",
    "5. User ID\n",
    "### Working\n",
    "    <font color= red>Step 1 - Data needs to be prepared before making the association analysis</font>\n",
    "\n",
    "    - Convert the Movie title to suitable form of numeric to compute.\n",
    "    - Year of the Movie and Rating of the Movie are already in numeric.\n",
    "    - Genre of the movie must be converted to suitable form of number.\n",
    "    - Now the data seems prepared.\n",
    "    \n",
    "       <font color= blue>Step 2 - Association analysis with Movie titles and Ratings</font>\n",
    "\n",
    "    - Now we have to give the condition for movie ratings, if rating is above 3.0, we can pick the movies.\n",
    "    - So if there are 250 movies of more then 3.0 ratings, we can take the genre of the movies, years released to make even more complex analysis.\n",
    "    - Then Training data is taken and trained for the above conditions.Accuracy is noted down.\n",
    "    - Test data is taken in a random manner to check the accuracy of the data.\n",
    "    - If the accuracy is somewhat less then the model is good enough to proceed but if it is almost equal to the accuracy of the training or if the accuracy is too less, then it is termed as overfit and underfit.\n",
    "    - Now the model is ready to make prediction for other users who have similar movie ratings."
   ]
  },
  {
   "cell_type": "markdown",
   "metadata": {},
   "source": [
    "<font color = 'red'> Incorrect = 0 points </font> \n",
    "For association analysis, we require binary asymmetric attributes.\n",
    "\n",
    "Since each rating can take 6 possible values, we would need to replace it with 6 asymmetric binary attributes\n",
    "of the form (rating == 0?) (rating == 1?) ...\n",
    "\n",
    "This will give us 500 x 6 = **3000 binary attributes per user**.  \n",
    "The resulting sparse data matrix would be **1000 rows x 3000 columns**.\n"
   ]
  },
  {
   "cell_type": "markdown",
   "metadata": {},
   "source": [
    "### Problem 3 (5 points)\n",
    "\n",
    "Distinguish between noise and outliers\n",
    "\n",
    "1. True or False ? Noise may be in the form of noisy attribute values, or noise objects.\n",
    "2. True or False ? Noise is sometimes desirable.\n",
    "3. True or False ? Outliers are sometimes desirable.\n",
    "4. True or False ? Noise objects may or may not be outliers. Explain your reasoning.\n",
    "5. True or False ? Outlier objects may or may not be noise. Explain your reasoning."
   ]
  },
  {
   "cell_type": "markdown",
   "metadata": {},
   "source": [
    "### Solution"
   ]
  },
  {
   "cell_type": "markdown",
   "metadata": {},
   "source": [
    "1.True\n",
    "\n",
    "2.False\n",
    "\n",
    "3.True\n",
    "\n",
    "4.Noise object is not an outlier, because noise is some garbage value in the same data set which may have happened due to empty data points in the column or some random values filed in the column repeatedly. These are called as noise, wherease outlier is different, that stands out of the data points.\n",
    "\n",
    "5.Outliers are not noise becasue, when outlier values are plotted in form of graph the points will be stood out of all the data points by a large distance, whereas noise doesn't behave like outlier, it will be mixed with the data but that is of useless and makes the association or classification analysis useless.\n",
    "But Outlier is not useless like Noise, because they can be applied to anamoly detection, which is an good application of an outlier."
   ]
  },
  {
   "cell_type": "markdown",
   "metadata": {},
   "source": [
    "<font color = 'blue'> Partially Correct : 4 points </font>"
   ]
  },
  {
   "cell_type": "code",
   "execution_count": null,
   "metadata": {},
   "outputs": [],
   "source": [
    "### Problem 4 (20 points)\n",
    "Download the ‘Diamonds’ dataset from https://www.kaggle.com/shivam2503/diamonds.\n",
    "1. Based on the description of the dataset provided at the site, categorize each attribute of the data as\n",
    "discrete or continuous, qualitative (nominal or ordinal), or quantitative (interval or ratio)  (5 points)\n",
    "e.g. Age in years: Discrete, Quantitative, Ratio.\n",
    "2. Load the CSV data file into a Pandas DataFrame object and display the first 5 rows. (2 points)\n",
    "3. Calculate summary statistics:\n",
    "a. For each quantitative attribute: find the mean, median, standard deviation, and range. (3.5 points)\n",
    "b. For each qualitative attribute, find the mode. (1.5 points)\n",
    "c. Find the Interquartile Range (IQR) of the ‘price’ variable. (0.5 points)\n",
    "4. What fraction of the data samples have ‘cut’ that is ‘very good’ or better ? Create a bar plot\n",
    "showing the distribution of the data samples by ‘cut’ (one bar for each value of cut). (2.5 points)\n",
    "5. Plot a histogram of the 'carat' variable. (2 points)\n",
    "6. Plot a scatter plot of ‘carat’ vs ‘price’. (2 points)\n",
    "7. Compute the correlation between ‘carat’ and ‘price’. (1 point)"
   ]
  },
  {
   "cell_type": "markdown",
   "metadata": {},
   "source": [
    "### Solution"
   ]
  },
  {
   "cell_type": "markdown",
   "metadata": {},
   "source": [
    "#### Solution 4.1"
   ]
  },
  {
   "cell_type": "markdown",
   "metadata": {},
   "source": [
    "#### Categorize\n",
    "1. Index in numbers: Discrete, Quantitative, Ordinal\n",
    "2. Carat - Continuous, Quantitative, Ratio\n",
    "3. Cut - Discrete, Qualitative, Ordinal\n",
    "4. Color - Discrete, Qualitative, Ordinal\n",
    "5. Clarity - Discrete, Qualitative, Ordinal\n",
    "6. Depth - Continuous, Quantitative, Ratio\n",
    "7. Table: Continuous, Quantitative, Ratio\n",
    "8. Price: Continuous, Quantitative, Ratio\n",
    "9. X - Continuous, Quantitative, Intreval\n",
    "10. Y - Continuous, Quantitative, Intreval\n",
    "11. Z - Continuous, Quantitative, Ratio"
   ]
  },
  {
   "cell_type": "markdown",
   "metadata": {},
   "source": [
    "<font color = 'green'> Correct : 5 points </font> "
   ]
  },
  {
   "cell_type": "markdown",
   "metadata": {},
   "source": [
    "#### Solution 4.2"
   ]
  },
  {
   "cell_type": "code",
   "execution_count": 82,
   "metadata": {},
   "outputs": [
    {
     "data": {
      "text/html": [
       "<div>\n",
       "<style scoped>\n",
       "    .dataframe tbody tr th:only-of-type {\n",
       "        vertical-align: middle;\n",
       "    }\n",
       "\n",
       "    .dataframe tbody tr th {\n",
       "        vertical-align: top;\n",
       "    }\n",
       "\n",
       "    .dataframe thead th {\n",
       "        text-align: right;\n",
       "    }\n",
       "</style>\n",
       "<table border=\"1\" class=\"dataframe\">\n",
       "  <thead>\n",
       "    <tr style=\"text-align: right;\">\n",
       "      <th></th>\n",
       "      <th>Unnamed: 0</th>\n",
       "      <th>carat</th>\n",
       "      <th>cut</th>\n",
       "      <th>color</th>\n",
       "      <th>clarity</th>\n",
       "      <th>depth</th>\n",
       "      <th>table</th>\n",
       "      <th>price</th>\n",
       "      <th>x</th>\n",
       "      <th>y</th>\n",
       "      <th>z</th>\n",
       "    </tr>\n",
       "  </thead>\n",
       "  <tbody>\n",
       "    <tr>\n",
       "      <th>0</th>\n",
       "      <td>1</td>\n",
       "      <td>0.23</td>\n",
       "      <td>Ideal</td>\n",
       "      <td>E</td>\n",
       "      <td>SI2</td>\n",
       "      <td>61.5</td>\n",
       "      <td>55.0</td>\n",
       "      <td>326</td>\n",
       "      <td>3.95</td>\n",
       "      <td>3.98</td>\n",
       "      <td>2.43</td>\n",
       "    </tr>\n",
       "    <tr>\n",
       "      <th>1</th>\n",
       "      <td>2</td>\n",
       "      <td>0.21</td>\n",
       "      <td>Premium</td>\n",
       "      <td>E</td>\n",
       "      <td>SI1</td>\n",
       "      <td>59.8</td>\n",
       "      <td>61.0</td>\n",
       "      <td>326</td>\n",
       "      <td>3.89</td>\n",
       "      <td>3.84</td>\n",
       "      <td>2.31</td>\n",
       "    </tr>\n",
       "    <tr>\n",
       "      <th>2</th>\n",
       "      <td>3</td>\n",
       "      <td>0.23</td>\n",
       "      <td>Good</td>\n",
       "      <td>E</td>\n",
       "      <td>VS1</td>\n",
       "      <td>56.9</td>\n",
       "      <td>65.0</td>\n",
       "      <td>327</td>\n",
       "      <td>4.05</td>\n",
       "      <td>4.07</td>\n",
       "      <td>2.31</td>\n",
       "    </tr>\n",
       "    <tr>\n",
       "      <th>3</th>\n",
       "      <td>4</td>\n",
       "      <td>0.29</td>\n",
       "      <td>Premium</td>\n",
       "      <td>I</td>\n",
       "      <td>VS2</td>\n",
       "      <td>62.4</td>\n",
       "      <td>58.0</td>\n",
       "      <td>334</td>\n",
       "      <td>4.20</td>\n",
       "      <td>4.23</td>\n",
       "      <td>2.63</td>\n",
       "    </tr>\n",
       "    <tr>\n",
       "      <th>4</th>\n",
       "      <td>5</td>\n",
       "      <td>0.31</td>\n",
       "      <td>Good</td>\n",
       "      <td>J</td>\n",
       "      <td>SI2</td>\n",
       "      <td>63.3</td>\n",
       "      <td>58.0</td>\n",
       "      <td>335</td>\n",
       "      <td>4.34</td>\n",
       "      <td>4.35</td>\n",
       "      <td>2.75</td>\n",
       "    </tr>\n",
       "  </tbody>\n",
       "</table>\n",
       "</div>"
      ],
      "text/plain": [
       "   Unnamed: 0  carat      cut color clarity  depth  table  price     x     y  \\\n",
       "0           1   0.23    Ideal     E     SI2   61.5   55.0    326  3.95  3.98   \n",
       "1           2   0.21  Premium     E     SI1   59.8   61.0    326  3.89  3.84   \n",
       "2           3   0.23     Good     E     VS1   56.9   65.0    327  4.05  4.07   \n",
       "3           4   0.29  Premium     I     VS2   62.4   58.0    334  4.20  4.23   \n",
       "4           5   0.31     Good     J     SI2   63.3   58.0    335  4.34  4.35   \n",
       "\n",
       "      z  \n",
       "0  2.43  \n",
       "1  2.31  \n",
       "2  2.31  \n",
       "3  2.63  \n",
       "4  2.75  "
      ]
     },
     "execution_count": 82,
     "metadata": {},
     "output_type": "execute_result"
    }
   ],
   "source": [
    "import pandas as pd\n",
    "import numpy as np\n",
    "import seaborn as sns\n",
    "from scipy.stats import pearsonr as corr\n",
    "from matplotlib import pyplot as plt\n",
    "dataset= pd.read_csv(\"C:/Users/desig/OneDrive/Desktop/Data Science/Diamonds.csv\")\n",
    "dataset.head()"
   ]
  },
  {
   "cell_type": "markdown",
   "metadata": {},
   "source": [
    "<font color='green'> Correct : 2 points </font> "
   ]
  },
  {
   "cell_type": "markdown",
   "metadata": {},
   "source": [
    "#### Solution 4.3"
   ]
  },
  {
   "cell_type": "code",
   "execution_count": 11,
   "metadata": {},
   "outputs": [
    {
     "name": "stdout",
     "output_type": "stream",
     "text": [
      "The Mean of the data is: \n",
      "carat       0.797940\n",
      "depth      61.749405\n",
      "table      57.457184\n",
      "price    3932.799722\n",
      "x           5.731157\n",
      "y           5.734526\n",
      "z           3.538734\n",
      "dtype: float64\n",
      "The standard deviation of the data is: \n",
      "carat       0.474011\n",
      "depth       1.432621\n",
      "table       2.234491\n",
      "price    3989.439738\n",
      "x           1.121761\n",
      "y           1.142135\n",
      "z           0.705699\n",
      "dtype: float64\n",
      "The median of the data is: \n",
      "carat       0.70\n",
      "depth      61.80\n",
      "table      57.00\n",
      "price    2401.00\n",
      "x           5.70\n",
      "y           5.71\n",
      "z           3.53\n",
      "dtype: float64\n",
      "Range of the data is: \n",
      "carat        4.81\n",
      "depth       36.00\n",
      "table       52.00\n",
      "price    18497.00\n",
      "x           10.74\n",
      "y           58.90\n",
      "z           31.80\n",
      "dtype: float64\n",
      "Mode of the Qualitative attributes are: \n",
      "     cut color clarity\n",
      "0  Ideal     G     SI1\n",
      "The IQR of the price is: \n",
      "price    4374.25\n",
      "dtype: float64\n"
     ]
    }
   ],
   "source": [
    "cols = ['carat', 'depth', 'table', 'price', 'x', 'y', 'z']\n",
    "Qual = ['cut', 'color','clarity']\n",
    "IQR = ['price']\n",
    "df=pd.DataFrame(dataset)\n",
    "print(\"The Mean of the data is: \")\n",
    "print(df[cols].mean())\n",
    "print(\"The standard deviation of the data is: \")\n",
    "print(df[cols].std())\n",
    "print(\"The median of the data is: \")\n",
    "print(df[cols].median())\n",
    "print(\"Range of the data is: \")\n",
    "print(df[cols].max()-df[cols].min())\n",
    "print(\"Mode of the Qualitative attributes are: \")\n",
    "print(df[Qual].mode())\n",
    "print(\"The IQR of the price is: \")\n",
    "print(df[IQR].quantile(0.75)-df[IQR].quantile(0.25))"
   ]
  },
  {
   "cell_type": "markdown",
   "metadata": {},
   "source": [
    "<font color='green'> Correct : 5.5 points </font> "
   ]
  },
  {
   "cell_type": "markdown",
   "metadata": {},
   "source": [
    "#### Solution 4.4"
   ]
  },
  {
   "cell_type": "code",
   "execution_count": 71,
   "metadata": {},
   "outputs": [
    {
     "data": {
      "text/plain": [
       "Text(0, 0.5, 'price')"
      ]
     },
     "execution_count": 71,
     "metadata": {},
     "output_type": "execute_result"
    },
    {
     "data": {
      "image/png": "[encoded data removed]",
      "text/plain": [
       "<Figure size 540x1080 with 3 Axes>"
      ]
     },
     "metadata": {},
     "output_type": "display_data"
    }
   ],
   "source": [
    "### Barplot\n",
    "\n",
    "bar = df['cut'].value_counts()\n",
    "bar=bar.to_dict()\n",
    "keys = bar.keys()\n",
    "values = bar.values()\n",
    "plt.subplot(5,1,1)\n",
    "plt.bar(keys,values)\n",
    "plt.title(\"Barplot\")\n",
    "plt.xlabel(\"Cut Type\")\n",
    "plt.ylabel(\"count\")\n",
    "plt.rcParams['figure.figsize'] = [5,10]\n",
    "\n",
    "### Histogram\n",
    "his= df['carat']\n",
    "plt.subplot(5,1,2)\n",
    "his.plot.hist(grid=True, bins=20, rwidth=0.9,color='#607c8e')\n",
    "\n",
    "### Scatter\n",
    "sca1 = df['carat']\n",
    "sca2= df['price']\n",
    "plt.subplot(5,1,3)\n",
    "plt.scatter(sca1, sca2)\n",
    "plt.title(\"Scatter plot\")\n",
    "plt.xlabel(\"carat\")\n",
    "plt.ylabel(\"price\")\n",
    "\n"
   ]
  },
  {
   "cell_type": "markdown",
   "metadata": {},
   "source": [
    "<font color = 'green'> Correct : 6.5 points </font> "
   ]
  },
  {
   "cell_type": "code",
   "execution_count": 90,
   "metadata": {},
   "outputs": [
    {
     "name": "stdout",
     "output_type": "stream",
     "text": [
      "Correlation between 'carat and 'price' is 0.922\n"
     ]
    }
   ],
   "source": [
    "### Correlation\n",
    "\n",
    "x=pd.Series(df['carat'])\n",
    "y=pd.Series(df['price'])\n",
    "print(\"Correlation between 'carat and 'price' is %.3f\" %x.corr(y))"
   ]
  },
  {
   "cell_type": "markdown",
   "metadata": {},
   "source": [
    "<font color='green'> Correct : 1 point </font> "
   ]
  },
  {
   "cell_type": "markdown",
   "metadata": {},
   "source": [
    "### Problem 5 (4 points)\n",
    "\n",
    "We have a collection of m documents.\n",
    "\n",
    "Let us say we would like to compare two documents x and y using their document term vectors. \n",
    "\n",
    "Let tf_ij be the frequency of the ith word (term) in the jth document\n",
    "\n",
    "1. Let the vocabulary size (the dimensionality of the vectors) be n. What is a good measure of similarity for this purpose ? Write the formula for it in terms of tf_ij.\n",
    "\n",
    "2. Consider the variable transformation given by idf_ij = tf_ij * log(m/df_i), where df_i is the document frequency, i.e. the number of documents in which the ith term occurs. The transformed variable idf_ij is called the inverse document frequency. What are the advantages of using this transformed variable instead of the original in the similarity computation ?"
   ]
  },
  {
   "cell_type": "markdown",
   "metadata": {},
   "source": [
    "### Solution"
   ]
  },
  {
   "cell_type": "markdown",
   "metadata": {},
   "source": [
    "#### Solution 5.1"
   ]
  },
  {
   "cell_type": "markdown",
   "metadata": {},
   "source": [
    "## Cosine Similarity\n",
    "Cosine similarity is good for this type of problem because, n number of vectors can be arranged in the n demensional space \n",
    "depending upon the number of documents and the cosine angle is calculated between between n number of two vectors, if the \n",
    "cosine angle is lesser between the two vectors(in this case, similarity of the words in the documents), then it has high similarity.It tells, they have more words in common.\n",
    "tf_iJ1 and tf_iJ2 are two vectors(in this case documents),\n",
    "\n",
    "Cos(tf_iJ1,tf_iJ2)= (tf_ij1*tf_ij2) / ( ||tf_ij1|| * ||tf_ij2|| )"
   ]
  },
  {
   "cell_type": "markdown",
   "metadata": {},
   "source": [
    "<font color = 'green'> Correct : 2 points </font> "
   ]
  },
  {
   "cell_type": "markdown",
   "metadata": {},
   "source": [
    "## Inverse document frequency\n",
    "idf_ij = tf_ij * log(m/df_i)\n",
    "Inverse document frquency is useful to identify the number of low frequency terms in all the documents, for example, we can assume df_i=\"Ronaldo\" and m=50(total number of documents). If \"Ronaldo\" appears in 10 documents of total 50 documents. Then idf_ij value would increase or vice verse. This value tells that, Ronaldo is appearing in only less number of documents."
   ]
  },
  {
   "cell_type": "markdown",
   "metadata": {},
   "source": [
    "<font color = 'green'> Correct : 2 points </font> "
   ]
  },
  {
   "cell_type": "markdown",
   "metadata": {},
   "source": [
    "\n",
    "    "
   ]
  },
  {
   "cell_type": "markdown",
   "metadata": {},
   "source": [
    "### Problem 6 (6 points)\n",
    "\n",
    "Write Python functions to compute the Hamming (L1) distance, SMC and Jaccard similarity coefficient between two binary vectors. Use them to these proximity measures between the following vectors:\n",
    "\n",
    "x = 1010101010101 \n",
    "\n",
    "y = 1000100010001"
   ]
  },
  {
   "cell_type": "markdown",
   "metadata": {},
   "source": [
    "### Solution"
   ]
  },
  {
   "cell_type": "code",
   "execution_count": 15,
   "metadata": {},
   "outputs": [
    {
     "name": "stdout",
     "output_type": "stream",
     "text": [
      "Hamming distance between [1, 0, 1, 0, 1, 0, 1, 0, 1, 0, 1, 0, 1] and [1, 0, 0, 0, 1, 0, 0, 0, 1, 0, 0, 0, 1] is 3\n",
      "Jaccard similarity of [1, 0, 1, 0, 1, 0, 1, 0, 1, 0, 1, 0, 1] and [1, 0, 0, 0, 1, 0, 0, 0, 1, 0, 0, 0, 1] is 0.5714\n",
      "Simple Matching Coefficient of [1, 0, 1, 0, 1, 0, 1, 0, 1, 0, 1, 0, 1] and [1, 0, 0, 0, 1, 0, 0, 0, 1, 0, 0, 0, 1] is 0.7692\n"
     ]
    }
   ],
   "source": [
    "import numpy as np\n",
    "\n",
    "def hamming_distance(x, y):\n",
    "    return np.logical_xor(x,y).sum()\n",
    "def jaccard(x,y):\n",
    "    inter=np.logical_and(x,y)\n",
    "    union = np.logical_or(x,y)\n",
    "    return round(inter.sum()/float(union.sum()),4)\n",
    "def smc(x,y):\n",
    "    inter = np.logical_xor(x,y)\n",
    "    inter_not=np.logical_not(inter)\n",
    "    return round(inter_not.sum()/float(inter.sum()+inter_not.sum()),4)\n",
    "    union = np.logical_xor(x,y)\n",
    "x = [1,0,1,0,1,0,1,0,1,0,1,0,1]\n",
    "y = [1,0,0,0,1,0,0,0,1,0,0,0,1]\n",
    "print(\"Hamming distance between\",x,\"and\",y,\"is\",hamming_distance(x, y))\n",
    "print(\"Jaccard similarity of\",x,\"and\",y,\"is\",jaccard(x,y))\n",
    "print(\"Simple Matching Coefficient of\",x,\"and\",y,\"is\",smc(x,y))"
   ]
  },
  {
   "cell_type": "markdown",
   "metadata": {},
   "source": [
    "<font color = 'green'> Correct: 6 points </font> "
   ]
  },
  {
   "cell_type": "markdown",
   "metadata": {},
   "source": [
    "### Problem 7 (6 points)\n",
    "\n",
    "Calculate the indicated similarity or distance measures of the vectors show below (you can do this by hand or by writing code, but please show the computation either way):\n",
    "\n",
    "x = (1,1,1,1) and y = (3,3,3,3) : cosine, correlation, Euclidean\n",
    "\n",
    "x = (0,1,0,1,0,1) and y = (1,0,1,0,1,0) : cosine, correlation, Euclidean, Jaccard \n",
    "\n",
    "x = (1,1,0,1,0,1) and y = (1,1,1,0,0,1) : cosine, correlation, Lmax, Jaccard"
   ]
  },
  {
   "cell_type": "markdown",
   "metadata": {},
   "source": [
    "### Solution"
   ]
  },
  {
   "cell_type": "code",
   "execution_count": 4,
   "metadata": {},
   "outputs": [
    {
     "name": "stdout",
     "output_type": "stream",
     "text": [
      "Cosine Similarity for the '[1,1,1,1]' and '[3,3,3,3]' is: 1.000\n",
      "Correlation for the '[1,1,1,1]' and '[3,3,3,3]' is: nan\n",
      "Euclidean for the '[1,1,1,1]' and '[3,3,3,3]' is: 4.000\n",
      "\n",
      "Cosine Similarity for the '[0,1,0,1,0,1]' and '[1,0,1,0,1,0]' is: 0.000\n",
      "Correlation for the '[0,1,0,1,0,1]' and '[1,0,1,0,1,0]' is: -1.200\n",
      "Euclidean for the '[0,1,0,1,0,1]' and '[1,0,1,0,1,0]' is: 2.449\n",
      "Jacaard for the '[0,1,0,1,0,1]' and '[1,0,1,0,1,0]' is: 0.000\n",
      "\n",
      "Cosine Similarity for the '[0,1,0,1,1,1]' and '[1,1,1,0,0,1]' is: 0.500\n",
      "Correlation for the '[0,1,0,1,1,1]' and '[1,1,1,0,0,1]' is: -0.600\n",
      "Lmax for the '[0,1,0,1,1,1]' and '[1,1,1,0,0,1]' is: 1.000\n",
      "Jacaard for the '[0,1,0,1,1,1]' and '[1,1,1,0,0,1]' is: 0.333\n"
     ]
    },
    {
     "name": "stderr",
     "output_type": "stream",
     "text": [
      "<ipython-input-4-8790eab01d89>:40: RuntimeWarning: invalid value encountered in double_scalars\n",
      "  result = cov/(stdx*stdy)\n"
     ]
    }
   ],
   "source": [
    "import math\n",
    "import numpy as np\n",
    "import pandas as pd\n",
    "from scipy.stats import pearsonr as corr\n",
    "\n",
    "def cosine_similarity(v1,v2):\n",
    "    sumxx, sumxy, sumyy = 0, 0, 0\n",
    "    for i in range(len(v1)):\n",
    "        x = v1[i]; y = v2[i]\n",
    "        sumxx += x*x\n",
    "        sumyy += y*y\n",
    "        sumxy += x*y\n",
    "    return sumxy/math.sqrt(sumxx*sumyy)\n",
    "def Euclidean(E1,E2):\n",
    "    dis=0\n",
    "    for i in range(len(E1)):\n",
    "        x=E1[i]; y=E2[i]\n",
    "        dis += (x-y)**2\n",
    "    return math.sqrt(dis)\n",
    "def jaccard(x,y):\n",
    "    inter=np.logical_and(x,y)\n",
    "    union = np.logical_or(x,y)\n",
    "    return round(inter.sum()/float(union.sum()),4)\n",
    "def Lmax(L1,L2):\n",
    "    count =0\n",
    "    for i in range(len(L1)):\n",
    "        x = L1[i]; y = L2[i]\n",
    "        if((x-y)>count):\n",
    "            count=x-y\n",
    "    return count\n",
    "def corr(C1,C2):\n",
    "    xm = np.mean(C1)\n",
    "    ym = np.mean(C2)\n",
    "    sum=0\n",
    "    for i in range(0, len(C1)):\n",
    "        sum+=(C1[i]-xm)*(C2[i]-ym)\n",
    "    cov = sum/(len(C1)-1)\n",
    "    stdx= np.std(C1)\n",
    "    stdy = np.std(C2)\n",
    "    result = cov/(stdx*stdy)\n",
    "    return result\n",
    "x=[1,1,1,1]\n",
    "y=[3,3,3,3]\n",
    "x1 = [0,1,0,1,0,1]\n",
    "y1=[1,0,1,0,1,0]\n",
    "x2=[0,1,0,1,1,1]\n",
    "y2=[1,1,1,0,0,1]\n",
    "### Question 1\n",
    "print(\"Cosine Similarity for the '[1,1,1,1]' and '[3,3,3,3]' is: %.3f\" %cosine_similarity(x,y))\n",
    "print(\"Correlation for the '[1,1,1,1]' and '[3,3,3,3]' is: %.3f\" %corr(x,y))\n",
    "print(\"Euclidean for the '[1,1,1,1]' and '[3,3,3,3]' is: %.3f\" %Euclidean(x,y))\n",
    "print(\"\")### Question 2\n",
    "print(\"Cosine Similarity for the '[0,1,0,1,0,1]' and '[1,0,1,0,1,0]' is: %.3f\" %cosine_similarity(x1,y1))\n",
    "print(\"Correlation for the '[0,1,0,1,0,1]' and '[1,0,1,0,1,0]' is: %.3f\" %corr(x1,y1))\n",
    "print(\"Euclidean for the '[0,1,0,1,0,1]' and '[1,0,1,0,1,0]' is: %.3f\" %Euclidean(x1,y1))\n",
    "print(\"Jacaard for the '[0,1,0,1,0,1]' and '[1,0,1,0,1,0]' is: %.3f\" %jaccard(x1,y1))\n",
    "print(\"\")### Question 3\n",
    "print(\"Cosine Similarity for the '[0,1,0,1,1,1]' and '[1,1,1,0,0,1]' is: %.3f\" %cosine_similarity(x2,y2))\n",
    "print(\"Correlation for the '[0,1,0,1,1,1]' and '[1,1,1,0,0,1]' is: %.3f\" %corr(x2,y2))\n",
    "print(\"Lmax for the '[0,1,0,1,1,1]' and '[1,1,1,0,0,1]' is: %.3f\" %Lmax(x2,y2))\n",
    "print(\"Jacaard for the '[0,1,0,1,1,1]' and '[1,1,1,0,0,1]' is: %.3f\" %jaccard(x2,y2))\n",
    "\n"
   ]
  },
  {
   "cell_type": "markdown",
   "metadata": {},
   "source": [
    "<font color = 'blue'> Partially Correct : 4 points </font> "
   ]
  },
  {
   "cell_type": "markdown",
   "metadata": {},
   "source": [
    "## Websites Referred\n",
    "* TowardsDataScience\n",
    "* MachineLearningMastery\n",
    "* StackoverFlow\n",
    "* Sciencedirect\n",
    "* Youtube\n",
    "* Pandas Documentation"
   ]
  },
  {
   "cell_type": "markdown",
   "metadata": {},
   "source": [
    "### Submission instructions\n",
    "\n",
    "1. Your assignment should be completed by filling in the empty solution cells in this Jupyter notebook file (.ipynb). Feel free to add more cells as needed.\n",
    "\n",
    "2. Please comment your code using either markdown or #comments and use meaningful variable names to make it as readable and intelligible as possible.\n",
    "\n",
    "3. Write your code in the form of functions. For example: \n",
    "\n",
    "    def my_code ():\n",
    "\n",
    "          #Write code here\n",
    "      \n",
    "          return \"The return value\"\n",
    "          \n",
    "\n",
    "4. If the problem is to find the value of 'x', printing 'x = (your answer)' will help us identify if your code worked.\n",
    "\n",
    "\n",
    "5. For code that refers to local data files downloaded from the internet, please keep the file path simple (e.g. ~/downloads/datafilename) so that it works on our copy of the dataset. Please do not modify either the filename or the file contents in any way.\n",
    "\n",
    "6. Solution to problems that do not require any coding can be typed up in their own cells using markdown.\n",
    "    \n",
    "7. Unless there are legitimate circumstances, late assignments will not be accepted.\n",
    "\n",
    "8. All assignments are individual.\n",
    "\n",
    "9. All the sources used for problem solution must be acknowledged, e.g. web sites, books, research papers, etc.\n",
    "\n",
    "10. Academic integrity is taken seriously; for detailed information see the RIT Honor Code and with RIT's Academic Integrity Policy."
   ]
  },
  {
   "cell_type": "markdown",
   "metadata": {},
   "source": [
    "<font color = 'green'> Total points = 48 points </font> "
   ]
  },
  {
   "cell_type": "code",
   "execution_count": null,
   "metadata": {},
   "outputs": [],
   "source": []
  }
 ],
 "metadata": {
  "kernelspec": {
   "display_name": "Python 3",
   "language": "python",
   "name": "python3"
  },
  "language_info": {
   "codemirror_mode": {
    "name": "ipython",
    "version": 3
   },
   "file_extension": ".py",
   "mimetype": "text/x-python",
   "name": "python",
   "nbconvert_exporter": "python",
   "pygments_lexer": "ipython3",
   "version": "3.8.5"
  }
 },
 "nbformat": 4,
 "nbformat_minor": 2
}
