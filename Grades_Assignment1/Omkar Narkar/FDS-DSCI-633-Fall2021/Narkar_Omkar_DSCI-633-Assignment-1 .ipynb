{
 "cells": [
  {
   "cell_type": "markdown",
   "metadata": {
    "id": "-tVOED5egEsK"
   },
   "source": [
    "# RIT DSCI-633: Foundations of Data Science and Analytics\n",
    "## Assignment 1\n",
    "### Due: 11:59 pm EST, Saturday, Oct 2, 2021"
   ]
  },
  {
   "cell_type": "markdown",
   "metadata": {
    "id": "n0dFi98jgEsM"
   },
   "source": [
    "### Problem 1 (10 points)\n",
    "\n",
    "In statistics and probability theory, the law of large numbers is a theorem that describes the result of\n",
    "repeating the same experiment a large number of times. The theorem states that if the same\n",
    "experiment or study is repeated independently a large number of times, the average of the results of\n",
    "the trials must be close to the expected value. The result becomes closer to the expected value as the\n",
    "number of trials is increased. Let us look at a specific experiment.\n",
    "\n",
    "Assume you have a Gaussian distribution (commonly called a “bell curve”) with mean µ and std\n",
    "deviation σ. The area under the curve that lies between σ and 2σ, and –σ and -2σ is approximately\n",
    "27.2%. In other words, approximately 27.2% of numbers generated randomly using this distribution will\n",
    "fall in the range [µ + σ, µ + 2σ] or [µ - 2σ, µ - σ], as shown below.\n",
    "\n",
    "Generate N random numbers that follow a Gaussian distribution with µ = 100, σ = 10, and count the\n",
    "numbers M that fall into the ranges above. Print the fraction M/N. Repeat this for N = 10, 100, 1000,\n",
    "10000, and 1000000.\n",
    "\n",
    "Does the fraction start to approach 27.2%?\n"
   ]
  },
  {
   "cell_type": "markdown",
   "metadata": {
    "id": "akBoDVmrgEsN"
   },
   "source": [
    "### Solution"
   ]
  },
  {
   "cell_type": "code",
   "execution_count": 1,
   "metadata": {
    "colab": {
     "base_uri": "https://localhost:8080/"
    },
    "executionInfo": {
     "elapsed": 1395,
     "status": "ok",
     "timestamp": 1633231731448,
     "user": {
      "displayName": "Omkar Narkar",
      "photoUrl": "https://lh3.googleusercontent.com/a-/AOh14GgyE1BlnDKuQYMNBUp43P_518XmJ6DyPn_6F8honWY=s64",
      "userId": "11896451679610389254"
     },
     "user_tz": 240
    },
    "id": "Z4d0Z68kR_2p",
    "outputId": "7f29309e-d68e-4003-9041-622bca81b828"
   },
   "outputs": [
    {
     "name": "stdout",
     "output_type": "stream",
     "text": [
      "m:  2 fraction value is:  0.2\n",
      "m:  21 fraction value is:  0.21\n",
      "m:  284 fraction value is:  0.284\n",
      "m:  2713 fraction value is:  0.2713\n",
      "m:  271320 fraction value is:  0.27132\n"
     ]
    }
   ],
   "source": [
    "import numpy as np\n",
    "\n",
    "random_nums = [10,100,1000,10000,1000000]\n",
    "mean = 100\n",
    "std = 10\n",
    "\n",
    "for n in random_nums:\n",
    "  rand = np.random.normal(mean, std, size = n)\n",
    "  m = 0\n",
    "\n",
    "  for j in rand:\n",
    "    if ( mean + std <= j <= mean + (2*std) or mean - (2*std) <= j <= mean - std ):\n",
    "      m = m + 1\n",
    "  print(\"m: \" , m, \"fraction value is: \" , m/n) "
   ]
  },
  {
   "cell_type": "markdown",
   "metadata": {},
   "source": [
    "<font color='green'> Correct = 10 points </font> "
   ]
  },
  {
   "cell_type": "markdown",
   "metadata": {
    "id": "UdyRPd7DgEsP"
   },
   "source": [
    "### Problem 2 (5 points)\n",
    "\n",
    "Imagine you have a dataset of movie ratings for a set of 500 popular movies and a set of 1000 users.\n",
    "Each data sample contains the ratings of each movie (from 1 to 5 stars) by a specific user. The rating is\n",
    "an integer in the range [0,5], with a value of 0 means that the user did not watch that movie.\n",
    "How would you convert this data to a form suitable for association analysis? In particular, what type of\n",
    "attributes would you have and how many of them?\n",
    "\n"
   ]
  },
  {
   "cell_type": "markdown",
   "metadata": {
    "id": "Ql1mlET7gEsQ"
   },
   "source": [
    "### Solution\n"
   ]
  },
  {
   "cell_type": "markdown",
   "metadata": {
    "id": "ONMUkIBdgEsQ"
   },
   "source": [
    "Taking a fixed dataset of 500 movies where each sample \"Movie\" has a total of 1000 attributes as ratings given by the different users . Thus, making it a 500*1000 dataset. Furthermore we could add attributes to find the average rating given to the movie over the total data set of 1000 users. But to do this we will have to replace all the \"0\" ratings in the dataset with \"NA\". We could also add an attribute to find the mode rating of all movies and then use this value to change all the \"NA\" values in the dataset."
   ]
  },
  {
   "cell_type": "markdown",
   "metadata": {},
   "source": [
    "<font color = 'red'> Incorrect : 0 points </font> \n",
    "For association analysis, we require binary asymmetric attributes.\n",
    "\n",
    "Since each rating can take 6 possible values, we would need to replace it with 6 asymmetric binary attributes\n",
    "of the form (rating == 0?) (rating == 1?) ...\n",
    "\n",
    "This will give us 500 x 6 = **3000 binary attributes per user**.  \n",
    "The resulting sparse data matrix would be **1000 rows x 3000 columns**."
   ]
  },
  {
   "cell_type": "markdown",
   "metadata": {
    "id": "VVaARvirgEsT"
   },
   "source": [
    "### Problem 3 (5 points)\n",
    "\n",
    "Distinguish between noise and outliers\n",
    "\n",
    "1. True or False ? Noise may be in the form of noisy attribute values, or noise objects.\n",
    "2. True or False ? Noise is sometimes desirable.\n",
    "3. True or False ? Outliers are sometimes desirable.\n",
    "4. True or False ? Noise objects may or may not be outliers. Explain your reasoning.\n",
    "5. True or False ? Outlier objects may or may not be noise. Explain your reasoning."
   ]
  },
  {
   "cell_type": "markdown",
   "metadata": {
    "id": "fEg78GTsgEsT"
   },
   "source": [
    "### Solution"
   ]
  },
  {
   "cell_type": "markdown",
   "metadata": {
    "id": "5beMOZ3XgEsU"
   },
   "source": [
    "1.True\n",
    "\n",
    "2.False\n",
    "\n",
    "3.True\n",
    "\n",
    "4.True because Noise in attribute values can make the data look more randomized. Thus, it is possible that some instances in noisy data will appear as outliers.  \n",
    "\n",
    "5.True because outliers sometimes appear to be astray from the dataset "
   ]
  },
  {
   "cell_type": "markdown",
   "metadata": {},
   "source": [
    "<font color = 'green'> Correct : 5 points </font> "
   ]
  },
  {
   "cell_type": "markdown",
   "metadata": {
    "id": "blIueKOegEsU"
   },
   "source": [
    "### Problem 4 (20 points)\n",
    "Download the ‘Diamonds’ dataset from https://www.kaggle.com/shivam2503/diamonds.\n",
    "1. Based on the description of the dataset provided at the site, categorize each attribute of the data as\n",
    "discrete or continuous, qualitative (nominal or ordinal), or quantitative (interval or ratio)  (5 points)\n",
    "e.g. Age in years: Discrete, Quantitative, Ratio.\n",
    "2. Load the CSV data file into a Pandas DataFrame object and display the first 5 rows. (2 points)\n",
    "3. Calculate summary statistics:\n",
    "a. For each quantitative attribute: find the mean, median, standard deviation, and range. (3.5 points)\n",
    "b. For each qualitative attribute, find the mode. (1.5 points)\n",
    "c. Find the Interquartile Range (IQR) of the ‘price’ variable. (0.5 points)\n",
    "4. What fraction of the data samples have ‘cut’ that is ‘very good’ or better ? Create a bar plot\n",
    "showing the distribution of the data samples by ‘cut’ (one bar for each value of cut). (2.5 points)\n",
    "5. Plot a histogram of the 'carat' variable. (2 points)\n",
    "6. Plot a scatter plot of ‘carat’ vs ‘price’. (2 points)\n",
    "7. Compute the correlation between ‘carat’ and ‘price’. (1 point)"
   ]
  },
  {
   "cell_type": "markdown",
   "metadata": {
    "id": "328entucgEsV"
   },
   "source": [
    "#### Solution 4.1"
   ]
  },
  {
   "cell_type": "markdown",
   "metadata": {
    "id": "MKBkJglggEsU"
   },
   "source": [
    "### Solution"
   ]
  },
  {
   "cell_type": "markdown",
   "metadata": {
    "id": "06HwRA8UgEsV"
   },
   "source": [
    "carat - continuous quantitative  ratio <br>\n",
    "cut -  discrete  qualitative  ordinal <br>\n",
    "color - discrete qualitative ordinal<br>\n",
    "clarity - discrete  qualitative  ordinal<br>\n",
    "depth -  continuous quantitative  ratio<br>\n",
    "table -  continuous quantitative  ratio<br>\n",
    "price -  continuous quantitative  ratio<br>\t\n",
    "x-continuous quantitative  ratio<br>\t\n",
    "y-continuous quantitative  ratio<br>\t\n",
    "z-continuous quantitative  ratio<br>"
   ]
  },
  {
   "cell_type": "markdown",
   "metadata": {},
   "source": [
    "<font color = 'green'> Correct : 5 points </font>"
   ]
  },
  {
   "cell_type": "markdown",
   "metadata": {
    "id": "ENHalRflgEsV"
   },
   "source": [
    "#### Solution 4.2"
   ]
  },
  {
   "cell_type": "code",
   "execution_count": null,
   "metadata": {
    "colab": {
     "base_uri": "https://localhost:8080/",
     "height": 206
    },
    "executionInfo": {
     "elapsed": 319,
     "status": "ok",
     "timestamp": 1633229100656,
     "user": {
      "displayName": "Omkar Narkar",
      "photoUrl": "https://lh3.googleusercontent.com/a-/AOh14GgyE1BlnDKuQYMNBUp43P_518XmJ6DyPn_6F8honWY=s64",
      "userId": "11896451679610389254"
     },
     "user_tz": 240
    },
    "id": "LiB_cEt4gEsV",
    "outputId": "851b9598-a9f4-44c6-dc29-d593da8caae7"
   },
   "outputs": [
    {
     "data": {
      "text/html": [
       "<div>\n",
       "<style scoped>\n",
       "    .dataframe tbody tr th:only-of-type {\n",
       "        vertical-align: middle;\n",
       "    }\n",
       "\n",
       "    .dataframe tbody tr th {\n",
       "        vertical-align: top;\n",
       "    }\n",
       "\n",
       "    .dataframe thead th {\n",
       "        text-align: right;\n",
       "    }\n",
       "</style>\n",
       "<table border=\"1\" class=\"dataframe\">\n",
       "  <thead>\n",
       "    <tr style=\"text-align: right;\">\n",
       "      <th></th>\n",
       "      <th>carat</th>\n",
       "      <th>cut</th>\n",
       "      <th>color</th>\n",
       "      <th>clarity</th>\n",
       "      <th>depth</th>\n",
       "      <th>table</th>\n",
       "      <th>price</th>\n",
       "      <th>x</th>\n",
       "      <th>y</th>\n",
       "      <th>z</th>\n",
       "    </tr>\n",
       "  </thead>\n",
       "  <tbody>\n",
       "    <tr>\n",
       "      <th>1</th>\n",
       "      <td>0.23</td>\n",
       "      <td>Ideal</td>\n",
       "      <td>E</td>\n",
       "      <td>SI2</td>\n",
       "      <td>61.5</td>\n",
       "      <td>55.0</td>\n",
       "      <td>326</td>\n",
       "      <td>3.95</td>\n",
       "      <td>3.98</td>\n",
       "      <td>2.43</td>\n",
       "    </tr>\n",
       "    <tr>\n",
       "      <th>2</th>\n",
       "      <td>0.21</td>\n",
       "      <td>Premium</td>\n",
       "      <td>E</td>\n",
       "      <td>SI1</td>\n",
       "      <td>59.8</td>\n",
       "      <td>61.0</td>\n",
       "      <td>326</td>\n",
       "      <td>3.89</td>\n",
       "      <td>3.84</td>\n",
       "      <td>2.31</td>\n",
       "    </tr>\n",
       "    <tr>\n",
       "      <th>3</th>\n",
       "      <td>0.23</td>\n",
       "      <td>Good</td>\n",
       "      <td>E</td>\n",
       "      <td>VS1</td>\n",
       "      <td>56.9</td>\n",
       "      <td>65.0</td>\n",
       "      <td>327</td>\n",
       "      <td>4.05</td>\n",
       "      <td>4.07</td>\n",
       "      <td>2.31</td>\n",
       "    </tr>\n",
       "    <tr>\n",
       "      <th>4</th>\n",
       "      <td>0.29</td>\n",
       "      <td>Premium</td>\n",
       "      <td>I</td>\n",
       "      <td>VS2</td>\n",
       "      <td>62.4</td>\n",
       "      <td>58.0</td>\n",
       "      <td>334</td>\n",
       "      <td>4.20</td>\n",
       "      <td>4.23</td>\n",
       "      <td>2.63</td>\n",
       "    </tr>\n",
       "    <tr>\n",
       "      <th>5</th>\n",
       "      <td>0.31</td>\n",
       "      <td>Good</td>\n",
       "      <td>J</td>\n",
       "      <td>SI2</td>\n",
       "      <td>63.3</td>\n",
       "      <td>58.0</td>\n",
       "      <td>335</td>\n",
       "      <td>4.34</td>\n",
       "      <td>4.35</td>\n",
       "      <td>2.75</td>\n",
       "    </tr>\n",
       "  </tbody>\n",
       "</table>\n",
       "</div>"
      ],
      "text/plain": [
       "   carat      cut color clarity  depth  table  price     x     y     z\n",
       "1   0.23    Ideal     E     SI2   61.5   55.0    326  3.95  3.98  2.43\n",
       "2   0.21  Premium     E     SI1   59.8   61.0    326  3.89  3.84  2.31\n",
       "3   0.23     Good     E     VS1   56.9   65.0    327  4.05  4.07  2.31\n",
       "4   0.29  Premium     I     VS2   62.4   58.0    334  4.20  4.23  2.63\n",
       "5   0.31     Good     J     SI2   63.3   58.0    335  4.34  4.35  2.75"
      ]
     },
     "execution_count": 65,
     "metadata": {},
     "output_type": "execute_result"
    }
   ],
   "source": [
    "dimond = pd.read_csv(\"diamonds.csv.zip\",index_col=0)\n",
    "dimond.head()"
   ]
  },
  {
   "cell_type": "markdown",
   "metadata": {},
   "source": [
    "<font color = 'green'> Correct: 2 points </font> "
   ]
  },
  {
   "cell_type": "markdown",
   "metadata": {
    "id": "22Ug6_BfgEsW"
   },
   "source": [
    "#### Solution 4.3"
   ]
  },
  {
   "cell_type": "markdown",
   "metadata": {
    "id": "HmBW_kTNgEsW"
   },
   "source": [
    "Calculate summary statistics: a. For each quantitative attribute: find the mean, median, standard deviation, and range. (3.5 points) b. For each qualitative attribute, find the mode. (1.5 points) c. Find the Interquartile Range (IQR) of the ‘price’ variable. (0.5 points)"
   ]
  },
  {
   "cell_type": "code",
   "execution_count": null,
   "metadata": {
    "colab": {
     "base_uri": "https://localhost:8080/"
    },
    "executionInfo": {
     "elapsed": 136,
     "status": "ok",
     "timestamp": 1633229707875,
     "user": {
      "displayName": "Omkar Narkar",
      "photoUrl": "https://lh3.googleusercontent.com/a-/AOh14GgyE1BlnDKuQYMNBUp43P_518XmJ6DyPn_6F8honWY=s64",
      "userId": "11896451679610389254"
     },
     "user_tz": 240
    },
    "id": "Bru9dQX9gEsW",
    "outputId": "60454c96-eb97-4358-fc91-6f7528b59be6",
    "scrolled": true
   },
   "outputs": [
    {
     "name": "stdout",
     "output_type": "stream",
     "text": [
      "carat       0.797940\n",
      "depth      61.749405\n",
      "table      57.457184\n",
      "price    3932.799722\n",
      "x           5.731157\n",
      "y           5.734526\n",
      "z           3.538734\n",
      "dtype: float64\n",
      "carat       0.70\n",
      "depth      61.80\n",
      "table      57.00\n",
      "price    2401.00\n",
      "x           5.70\n",
      "y           5.71\n",
      "z           3.53\n",
      "dtype: float64\n",
      "carat       0.474011\n",
      "depth       1.432621\n",
      "table       2.234491\n",
      "price    3989.439738\n",
      "x           1.121761\n",
      "y           1.142135\n",
      "z           0.705699\n",
      "dtype: float64\n",
      "carat        4.81\n",
      "depth       36.00\n",
      "table       52.00\n",
      "price    18497.00\n",
      "x           10.74\n",
      "y           58.90\n",
      "z           31.80\n",
      "dtype: float64\n"
     ]
    }
   ],
   "source": [
    "print(dimond[['carat','depth','table','price','x','y','z']].mean())\n",
    "print(dimond[['carat','depth','table','price','x','y','z']].median())\n",
    "print(dimond[['carat','depth','table','price','x','y','z']].std())\n",
    "print(dimond[['carat','depth','table','price','x','y','z']].apply(lambda x: x.max()-x.min()))\n"
   ]
  },
  {
   "cell_type": "code",
   "execution_count": null,
   "metadata": {
    "colab": {
     "base_uri": "https://localhost:8080/",
     "height": 81
    },
    "executionInfo": {
     "elapsed": 149,
     "status": "ok",
     "timestamp": 1633229192216,
     "user": {
      "displayName": "Omkar Narkar",
      "photoUrl": "https://lh3.googleusercontent.com/a-/AOh14GgyE1BlnDKuQYMNBUp43P_518XmJ6DyPn_6F8honWY=s64",
      "userId": "11896451679610389254"
     },
     "user_tz": 240
    },
    "id": "qFUePclZgEsX",
    "outputId": "719125d6-5074-4fca-84b1-56e844e8be1c"
   },
   "outputs": [
    {
     "data": {
      "text/html": [
       "<div>\n",
       "<style scoped>\n",
       "    .dataframe tbody tr th:only-of-type {\n",
       "        vertical-align: middle;\n",
       "    }\n",
       "\n",
       "    .dataframe tbody tr th {\n",
       "        vertical-align: top;\n",
       "    }\n",
       "\n",
       "    .dataframe thead th {\n",
       "        text-align: right;\n",
       "    }\n",
       "</style>\n",
       "<table border=\"1\" class=\"dataframe\">\n",
       "  <thead>\n",
       "    <tr style=\"text-align: right;\">\n",
       "      <th></th>\n",
       "      <th>cut</th>\n",
       "      <th>color</th>\n",
       "      <th>clarity</th>\n",
       "    </tr>\n",
       "  </thead>\n",
       "  <tbody>\n",
       "    <tr>\n",
       "      <th>0</th>\n",
       "      <td>Ideal</td>\n",
       "      <td>G</td>\n",
       "      <td>SI1</td>\n",
       "    </tr>\n",
       "  </tbody>\n",
       "</table>\n",
       "</div>"
      ],
      "text/plain": [
       "     cut color clarity\n",
       "0  Ideal     G     SI1"
      ]
     },
     "execution_count": 67,
     "metadata": {},
     "output_type": "execute_result"
    }
   ],
   "source": [
    "dimond[['cut','color','clarity']].mode()"
   ]
  },
  {
   "cell_type": "code",
   "execution_count": null,
   "metadata": {
    "colab": {
     "base_uri": "https://localhost:8080/"
    },
    "executionInfo": {
     "elapsed": 148,
     "status": "ok",
     "timestamp": 1633215606536,
     "user": {
      "displayName": "Omkar Narkar",
      "photoUrl": "https://lh3.googleusercontent.com/a-/AOh14GgyE1BlnDKuQYMNBUp43P_518XmJ6DyPn_6F8honWY=s64",
      "userId": "11896451679610389254"
     },
     "user_tz": 240
    },
    "id": "xOq-tW3JgEsX",
    "outputId": "cb47186f-7f14-4d28-d11c-522138f67cbd",
    "scrolled": true
   },
   "outputs": [
    {
     "name": "stdout",
     "output_type": "stream",
     "text": [
      "4374.25\n"
     ]
    }
   ],
   "source": [
    "q3, q1 = np.percentile(dimond['price'], [75 ,25])\n",
    "qr = q3 - q1\n",
    "print(qr)"
   ]
  },
  {
   "cell_type": "markdown",
   "metadata": {},
   "source": [
    "<font color = 'green'> Correct: 5.5 points </font> "
   ]
  },
  {
   "cell_type": "markdown",
   "metadata": {
    "id": "B6AI1X9ogEsX"
   },
   "source": [
    "#### Solution 4.4"
   ]
  },
  {
   "cell_type": "markdown",
   "metadata": {
    "id": "3QAkNJgvgEsX"
   },
   "source": [
    "What fraction of the data samples have ‘cut’ that is ‘very good’ or better ? Create a bar plot showing the distribution of the data samples by ‘cut’ (one bar for each value of cut). (2.5 points)"
   ]
  },
  {
   "cell_type": "code",
   "execution_count": null,
   "metadata": {
    "colab": {
     "base_uri": "https://localhost:8080/"
    },
    "executionInfo": {
     "elapsed": 125,
     "status": "ok",
     "timestamp": 1633215608257,
     "user": {
      "displayName": "Omkar Narkar",
      "photoUrl": "https://lh3.googleusercontent.com/a-/AOh14GgyE1BlnDKuQYMNBUp43P_518XmJ6DyPn_6F8honWY=s64",
      "userId": "11896451679610389254"
     },
     "user_tz": 240
    },
    "id": "c7O3mEBfgEsY",
    "outputId": "cbb63e2c-1f66-4b0b-a2bd-81137efa2973"
   },
   "outputs": [
    {
     "data": {
      "text/plain": [
       "0.8791991101223582"
      ]
     },
     "execution_count": 16,
     "metadata": {},
     "output_type": "execute_result"
    }
   ],
   "source": [
    "sum(dimond['cut'].isin(['Very Good', 'Premium', 'Ideal']))/len(diom)"
   ]
  },
  {
   "cell_type": "code",
   "execution_count": null,
   "metadata": {
    "colab": {
     "base_uri": "https://localhost:8080/",
     "height": 334
    },
    "executionInfo": {
     "elapsed": 305,
     "status": "ok",
     "timestamp": 1633215609874,
     "user": {
      "displayName": "Omkar Narkar",
      "photoUrl": "https://lh3.googleusercontent.com/a-/AOh14GgyE1BlnDKuQYMNBUp43P_518XmJ6DyPn_6F8honWY=s64",
      "userId": "11896451679610389254"
     },
     "user_tz": 240
    },
    "id": "lqLXdzqpgEsY",
    "outputId": "abfa40d5-eeff-4182-e474-e65c9a04c4b7"
   },
   "outputs": [
    {
     "name": "stderr",
     "output_type": "stream",
     "text": [
      "/usr/local/lib/python3.7/dist-packages/seaborn/_decorators.py:43: FutureWarning: Pass the following variable as a keyword arg: x. From version 0.12, the only valid positional argument will be `data`, and passing other arguments without an explicit keyword will result in an error or misinterpretation.\n",
      "  FutureWarning\n"
     ]
    },
    {
     "data": {
      "image/png": "[encoded data removed]",
      "text/plain": [
       "<Figure size 432x288 with 1 Axes>"
      ]
     },
     "metadata": {
      "needs_background": "light"
     },
     "output_type": "display_data"
    }
   ],
   "source": [
    "sns.countplot(diom['cut'])\n",
    "plt.show()"
   ]
  },
  {
   "cell_type": "markdown",
   "metadata": {},
   "source": [
    "<font color = 'green'> Correct : 2.5 points </font> "
   ]
  },
  {
   "cell_type": "markdown",
   "metadata": {
    "id": "tCt_SlyvgEsY"
   },
   "source": [
    "5. Plot a histogram of the 'carat' variable. (2 points)"
   ]
  },
  {
   "cell_type": "code",
   "execution_count": null,
   "metadata": {
    "colab": {
     "base_uri": "https://localhost:8080/",
     "height": 265
    },
    "executionInfo": {
     "elapsed": 289,
     "status": "ok",
     "timestamp": 1633215611857,
     "user": {
      "displayName": "Omkar Narkar",
      "photoUrl": "https://lh3.googleusercontent.com/a-/AOh14GgyE1BlnDKuQYMNBUp43P_518XmJ6DyPn_6F8honWY=s64",
      "userId": "11896451679610389254"
     },
     "user_tz": 240
    },
    "id": "sx5IENpFgEsY",
    "outputId": "15d926fb-7b45-415d-caae-58b24bf06ea6"
   },
   "outputs": [
    {
     "data": {
      "image/png": "[encoded data removed]",
      "text/plain": [
       "<Figure size 432x288 with 1 Axes>"
      ]
     },
     "metadata": {
      "needs_background": "light"
     },
     "output_type": "display_data"
    }
   ],
   "source": [
    "plt.hist(dimond['carat'])\n",
    "plt.show()"
   ]
  },
  {
   "cell_type": "markdown",
   "metadata": {},
   "source": [
    "<font color = 'green'> Correct : 2 points </font> "
   ]
  },
  {
   "cell_type": "markdown",
   "metadata": {
    "id": "_ANQWmdjgEsZ"
   },
   "source": [
    "6. Plot a scatter plot of ‘carat’ vs ‘price’. (2 points)\n"
   ]
  },
  {
   "cell_type": "code",
   "execution_count": null,
   "metadata": {
    "colab": {
     "base_uri": "https://localhost:8080/",
     "height": 279
    },
    "executionInfo": {
     "elapsed": 584,
     "status": "ok",
     "timestamp": 1633215614320,
     "user": {
      "displayName": "Omkar Narkar",
      "photoUrl": "https://lh3.googleusercontent.com/a-/AOh14GgyE1BlnDKuQYMNBUp43P_518XmJ6DyPn_6F8honWY=s64",
      "userId": "11896451679610389254"
     },
     "user_tz": 240
    },
    "id": "A9GgnzR3gEsZ",
    "outputId": "8ba3f051-8212-47a1-9483-5414ba224e44"
   },
   "outputs": [
    {
     "data": {
      "image/png": "[encoded data removed]",
      "text/plain": [
       "<Figure size 432x288 with 1 Axes>"
      ]
     },
     "metadata": {
      "needs_background": "light"
     },
     "output_type": "display_data"
    }
   ],
   "source": [
    "sns.scatterplot(data=dimond, x=\"carat\", y=\"price\")\n",
    "plt.show()"
   ]
  },
  {
   "cell_type": "markdown",
   "metadata": {},
   "source": [
    "<font color = 'green'> Correct : 2 points </font> "
   ]
  },
  {
   "cell_type": "markdown",
   "metadata": {
    "id": "QjcWedXTgEsZ"
   },
   "source": [
    "7. Compute the correlation between ‘carat’ and ‘price’. (1 point)"
   ]
  },
  {
   "cell_type": "code",
   "execution_count": null,
   "metadata": {
    "colab": {
     "base_uri": "https://localhost:8080/",
     "height": 112
    },
    "executionInfo": {
     "elapsed": 147,
     "status": "ok",
     "timestamp": 1633215616736,
     "user": {
      "displayName": "Omkar Narkar",
      "photoUrl": "https://lh3.googleusercontent.com/a-/AOh14GgyE1BlnDKuQYMNBUp43P_518XmJ6DyPn_6F8honWY=s64",
      "userId": "11896451679610389254"
     },
     "user_tz": 240
    },
    "id": "pEthXpoWgEsZ",
    "outputId": "77062494-86d7-4d25-b762-d21a3a78a4bb"
   },
   "outputs": [
    {
     "data": {
      "text/html": [
       "<div>\n",
       "<style scoped>\n",
       "    .dataframe tbody tr th:only-of-type {\n",
       "        vertical-align: middle;\n",
       "    }\n",
       "\n",
       "    .dataframe tbody tr th {\n",
       "        vertical-align: top;\n",
       "    }\n",
       "\n",
       "    .dataframe thead th {\n",
       "        text-align: right;\n",
       "    }\n",
       "</style>\n",
       "<table border=\"1\" class=\"dataframe\">\n",
       "  <thead>\n",
       "    <tr style=\"text-align: right;\">\n",
       "      <th></th>\n",
       "      <th>carat</th>\n",
       "      <th>price</th>\n",
       "    </tr>\n",
       "  </thead>\n",
       "  <tbody>\n",
       "    <tr>\n",
       "      <th>carat</th>\n",
       "      <td>1.000000</td>\n",
       "      <td>0.921591</td>\n",
       "    </tr>\n",
       "    <tr>\n",
       "      <th>price</th>\n",
       "      <td>0.921591</td>\n",
       "      <td>1.000000</td>\n",
       "    </tr>\n",
       "  </tbody>\n",
       "</table>\n",
       "</div>"
      ],
      "text/plain": [
       "          carat     price\n",
       "carat  1.000000  0.921591\n",
       "price  0.921591  1.000000"
      ]
     },
     "execution_count": 20,
     "metadata": {},
     "output_type": "execute_result"
    }
   ],
   "source": [
    "dimond[['carat','price']].corr()"
   ]
  },
  {
   "cell_type": "markdown",
   "metadata": {},
   "source": [
    "<font color = 'green'> Correct : 1 point </font> "
   ]
  },
  {
   "cell_type": "markdown",
   "metadata": {
    "id": "btOIjZXygEsZ"
   },
   "source": [
    "### Problem 5 (4 points)\n",
    "\n",
    "We have a collection of m documents.\n",
    "\n",
    "Let us say we would like to compare two documents x and y using their document term vectors. \n",
    "\n",
    "Let tf_ij be the frequency of the ith word (term) in the jth document\n",
    "\n",
    "1. Let the vocabulary size (the dimensionality of the vectors) be n. What is a good measure of similarity for this purpose ? Write the formula for it in terms of tf_ij.\n",
    "\n",
    "2. Consider the variable transformation given by idf_ij = tf_ij * log(m/df_i), where df_i is the document frequency, i.e. the number of documents in which the ith term occurs. The transformed variable idf_ij is called the inverse document frequency. What are the advantages of using this transformed variable instead of the original in the similarity computation ?"
   ]
  },
  {
   "cell_type": "markdown",
   "metadata": {
    "id": "KeVxnJIagEsZ"
   },
   "source": [
    "### Solution"
   ]
  },
  {
   "cell_type": "markdown",
   "metadata": {
    "id": "XlXavJ2VgEsa"
   },
   "source": [
    "#### Solution 5.1"
   ]
  },
  {
   "cell_type": "markdown",
   "metadata": {
    "id": "1oJ8txzRgEsa"
   },
   "source": [
    "Cosine similarity is a good measure of similarity as it can compare multi-size vectors, here we might have 2 vectors where some words may occur in one vector but not occur in the other. "
   ]
  },
  {
   "cell_type": "markdown",
   "metadata": {},
   "source": [
    "<font color='green'> Correct : 1point </font> "
   ]
  },
  {
   "cell_type": "markdown",
   "metadata": {
    "id": "TgDUAkfsgEsa"
   },
   "source": [
    "#### Solution 5.2"
   ]
  },
  {
   "cell_type": "markdown",
   "metadata": {
    "id": "zTutvmSogEsa"
   },
   "source": []
  },
  {
   "cell_type": "markdown",
   "metadata": {
    "id": "3Gpn2ARFgEsa"
   },
   "source": [
    "\n",
    "    "
   ]
  },
  {
   "cell_type": "markdown",
   "metadata": {
    "id": "mPv513TYgEsa"
   },
   "source": [
    "### Problem 6 (6 points)\n",
    "\n",
    "Write Python functions to compute the Hamming (L1) distance, SMC and Jaccard similarity coefficient between two binary vectors. Use them to these proximity measures between the following vectors:\n",
    "\n",
    "x = 1010101010101 \n",
    "\n",
    "y = 1000100010001"
   ]
  },
  {
   "cell_type": "markdown",
   "metadata": {
    "id": "Vl52v5TPgEsa"
   },
   "source": [
    "### Solution"
   ]
  },
  {
   "cell_type": "markdown",
   "metadata": {
    "id": "Bm_N3g2tgEsb"
   },
   "source": [
    "Hamming"
   ]
  },
  {
   "cell_type": "code",
   "execution_count": null,
   "metadata": {
    "colab": {
     "base_uri": "https://localhost:8080/"
    },
    "executionInfo": {
     "elapsed": 127,
     "status": "ok",
     "timestamp": 1633229982022,
     "user": {
      "displayName": "Omkar Narkar",
      "photoUrl": "https://lh3.googleusercontent.com/a-/AOh14GgyE1BlnDKuQYMNBUp43P_518XmJ6DyPn_6F8honWY=s64",
      "userId": "11896451679610389254"
     },
     "user_tz": 240
    },
    "id": "akQAcwpjgEsb",
    "outputId": "3eb723a6-6b73-4174-8047-ef854a95824b",
    "scrolled": true
   },
   "outputs": [
    {
     "name": "stdout",
     "output_type": "stream",
     "text": [
      "0.23076923076923078\n"
     ]
    }
   ],
   "source": [
    "x = [1,0,1,0,1,0,1,0,1,0,1,0,1]\n",
    "y = [1,0,0,0,1,0,0,0,1,0,0,0,1]\n",
    "def hamming(x,y):\n",
    "    count =  0\n",
    "    for i,j in zip(x,y):\n",
    "        if i!=j:\n",
    "            count+=1\n",
    "    print(count/len(x))\n",
    "hamming(x,y)"
   ]
  },
  {
   "cell_type": "markdown",
   "metadata": {
    "id": "oLkAxN99gEsb"
   },
   "source": [
    "SMC"
   ]
  },
  {
   "cell_type": "code",
   "execution_count": null,
   "metadata": {
    "colab": {
     "base_uri": "https://localhost:8080/"
    },
    "executionInfo": {
     "elapsed": 134,
     "status": "ok",
     "timestamp": 1633230016627,
     "user": {
      "displayName": "Omkar Narkar",
      "photoUrl": "https://lh3.googleusercontent.com/a-/AOh14GgyE1BlnDKuQYMNBUp43P_518XmJ6DyPn_6F8honWY=s64",
      "userId": "11896451679610389254"
     },
     "user_tz": 240
    },
    "id": "ucrDj7-ZgEsb",
    "outputId": "20d9c049-2120-43bd-c6fc-b2aac7916495"
   },
   "outputs": [
    {
     "name": "stdout",
     "output_type": "stream",
     "text": [
      "0.7692307692307693\n"
     ]
    }
   ],
   "source": [
    "def smc(x,y):\n",
    "    count =  0\n",
    "    for i,j in zip(x,y):\n",
    "        if i==j:\n",
    "            count+=1\n",
    "    print(count/len(x))\n",
    "smc(x,y)"
   ]
  },
  {
   "cell_type": "markdown",
   "metadata": {
    "id": "AJbdioFBgEsb"
   },
   "source": [
    "Jaccard "
   ]
  },
  {
   "cell_type": "code",
   "execution_count": 80,
   "metadata": {
    "executionInfo": {
     "elapsed": 137,
     "status": "ok",
     "timestamp": 1633230865538,
     "user": {
      "displayName": "Omkar Narkar",
      "photoUrl": "https://lh3.googleusercontent.com/a-/AOh14GgyE1BlnDKuQYMNBUp43P_518XmJ6DyPn_6F8honWY=s64",
      "userId": "11896451679610389254"
     },
     "user_tz": 240
    },
    "id": "QIXhRJKvgEsb"
   },
   "outputs": [],
   "source": [
    "def Jaccard(x,y):\n",
    "    count =  0\n",
    "    reduced_number = 0\n",
    "    for i,j in zip(x,y):\n",
    "        if i==1 and j==1:\n",
    "            count+=1\n",
    "        if i==0 and j==0:\n",
    "            reduced_number+=1\n",
    "    print(count/(len(x)-reduced_number))\n"
   ]
  },
  {
   "cell_type": "code",
   "execution_count": null,
   "metadata": {
    "colab": {
     "base_uri": "https://localhost:8080/"
    },
    "executionInfo": {
     "elapsed": 138,
     "status": "ok",
     "timestamp": 1633230028481,
     "user": {
      "displayName": "Omkar Narkar",
      "photoUrl": "https://lh3.googleusercontent.com/a-/AOh14GgyE1BlnDKuQYMNBUp43P_518XmJ6DyPn_6F8honWY=s64",
      "userId": "11896451679610389254"
     },
     "user_tz": 240
    },
    "id": "KK6fXNktgEsc",
    "outputId": "d40d9489-02c9-4eaf-9bca-b12beb1bd6de"
   },
   "outputs": [
    {
     "name": "stdout",
     "output_type": "stream",
     "text": [
      "0.5714285714285714\n"
     ]
    }
   ],
   "source": [
    "Jaccard(x,y)"
   ]
  },
  {
   "cell_type": "markdown",
   "metadata": {},
   "source": [
    "<font color = 'blue'> Partially correct : 4 points </font>"
   ]
  },
  {
   "cell_type": "markdown",
   "metadata": {
    "id": "k0Iz5JRLgEsc"
   },
   "source": [
    "### Problem 7 (6 points)\n",
    "\n",
    "Calculate the indicated similarity or distance measures of the vectors show below (you can do this by hand or by writing code, but please show the computation either way):\n",
    "\n",
    "x = (1,1,1,1) and y = (3,3,3,3) : cosine, correlation, Euclidean\n",
    "\n",
    "x = (0,1,0,1,0,1) and y = (1,0,1,0,1,0) : cosine, correlation, Euclidean, Jaccard \n",
    "\n",
    "x = (1,1,0,1,0,1) and y = (1,1,1,0,0,1) : cosine, correlation, Lmax, Jaccard"
   ]
  },
  {
   "cell_type": "markdown",
   "metadata": {
    "id": "azWQOKzXgEsc"
   },
   "source": [
    "### Solution"
   ]
  },
  {
   "cell_type": "code",
   "execution_count": 91,
   "metadata": {
    "executionInfo": {
     "elapsed": 136,
     "status": "ok",
     "timestamp": 1633231350273,
     "user": {
      "displayName": "Omkar Narkar",
      "photoUrl": "https://lh3.googleusercontent.com/a-/AOh14GgyE1BlnDKuQYMNBUp43P_518XmJ6DyPn_6F8honWY=s64",
      "userId": "11896451679610389254"
     },
     "user_tz": 240
    },
    "id": "ojb_d__bgEsc"
   },
   "outputs": [],
   "source": [
    "\n",
    "\n",
    "\n",
    "def cosine(x,y):\n",
    "    return np.dot(x,y)/(np.linalg.norm(x)*np.linalg.norm(y))\n",
    "\n",
    "def euclidiean(a,b):\n",
    "    a,b = np.array(a),np.array(b)\n",
    "    return np.sqrt(np.sum(np.square(a-b)))\n",
    "\n",
    "def covariance(a,b):\n",
    "    a,b = np.array(a),np.array(b)\n",
    "    cov = np.dot((a - np.mean(a)),(b - np.mean(b)))/(len(a)-1)\n",
    "    return cov \n",
    "\n",
    "def std(data):\n",
    "    data = np.array(data)\n",
    "    m = np.mean(data)\n",
    "    std = sum((x-m)**2 for x in data)\n",
    "    return std\n",
    "\n",
    "def correlation(a,b):\n",
    "    a,b = np.array(a),np.array(b)\n",
    "    return (covariance(a, b) / np.sqrt((std(a) * std(b))))*(1/(len(a)))\n",
    "\n",
    "def l_max(x,y):\n",
    "    return max([abs(i-j) for i,j in zip(x,y)])\n",
    "\n",
    "\n",
    "\n",
    "        \n",
    "    \n",
    "    \n",
    "    \n"
   ]
  },
  {
   "cell_type": "code",
   "execution_count": 86,
   "metadata": {
    "colab": {
     "base_uri": "https://localhost:8080/"
    },
    "executionInfo": {
     "elapsed": 134,
     "status": "ok",
     "timestamp": 1633231226015,
     "user": {
      "displayName": "Omkar Narkar",
      "photoUrl": "https://lh3.googleusercontent.com/a-/AOh14GgyE1BlnDKuQYMNBUp43P_518XmJ6DyPn_6F8honWY=s64",
      "userId": "11896451679610389254"
     },
     "user_tz": 240
    },
    "id": "IklNgVXzgEsc",
    "outputId": "75b7ec11-098f-40f3-9e7d-53d8664a553e"
   },
   "outputs": [
    {
     "name": "stdout",
     "output_type": "stream",
     "text": [
      "0.7559289460184544 1.7320508075688772\n"
     ]
    }
   ],
   "source": [
    "\n",
    "print(cosine(x,y),euclidiean(x,y))"
   ]
  },
  {
   "cell_type": "code",
   "execution_count": 92,
   "metadata": {
    "executionInfo": {
     "elapsed": 166,
     "status": "ok",
     "timestamp": 1633231696456,
     "user": {
      "displayName": "Omkar Narkar",
      "photoUrl": "https://lh3.googleusercontent.com/a-/AOh14GgyE1BlnDKuQYMNBUp43P_518XmJ6DyPn_6F8honWY=s64",
      "userId": "11896451679610389254"
     },
     "user_tz": 240
    },
    "id": "oNwiIPL4gEsc"
   },
   "outputs": [],
   "source": [
    "x=[16,3,4,5,8,8,8]\n",
    "y= [1,3,8,5,5,7,7]\n",
    "a,b = np.array(x),np.array(y)\n"
   ]
  },
  {
   "cell_type": "code",
   "execution_count": 93,
   "metadata": {
    "colab": {
     "base_uri": "https://localhost:8080/"
    },
    "executionInfo": {
     "elapsed": 167,
     "status": "ok",
     "timestamp": 1633231697928,
     "user": {
      "displayName": "Omkar Narkar",
      "photoUrl": "https://lh3.googleusercontent.com/a-/AOh14GgyE1BlnDKuQYMNBUp43P_518XmJ6DyPn_6F8honWY=s64",
      "userId": "11896451679610389254"
     },
     "user_tz": 240
    },
    "id": "_id37dszgEsd",
    "outputId": "e4736f58-63a9-47b9-d28e-3c80bbd1c438"
   },
   "outputs": [
    {
     "data": {
      "text/plain": [
       "7.428571428571429"
      ]
     },
     "execution_count": 93,
     "metadata": {},
     "output_type": "execute_result"
    }
   ],
   "source": [
    "np.mean(x)"
   ]
  },
  {
   "cell_type": "code",
   "execution_count": 94,
   "metadata": {
    "colab": {
     "base_uri": "https://localhost:8080/"
    },
    "executionInfo": {
     "elapsed": 134,
     "status": "ok",
     "timestamp": 1633231700082,
     "user": {
      "displayName": "Omkar Narkar",
      "photoUrl": "https://lh3.googleusercontent.com/a-/AOh14GgyE1BlnDKuQYMNBUp43P_518XmJ6DyPn_6F8honWY=s64",
      "userId": "11896451679610389254"
     },
     "user_tz": 240
    },
    "id": "ywYPgUpDgEsd",
    "outputId": "aa69cd70-399c-4eec-db09-116cec788a52"
   },
   "outputs": [
    {
     "data": {
      "text/plain": [
       "-0.012403759514631166"
      ]
     },
     "execution_count": 94,
     "metadata": {},
     "output_type": "execute_result"
    }
   ],
   "source": [
    "correlation(a,b)"
   ]
  },
  {
   "cell_type": "code",
   "execution_count": 95,
   "metadata": {
    "colab": {
     "base_uri": "https://localhost:8080/"
    },
    "executionInfo": {
     "elapsed": 136,
     "status": "ok",
     "timestamp": 1633231702231,
     "user": {
      "displayName": "Omkar Narkar",
      "photoUrl": "https://lh3.googleusercontent.com/a-/AOh14GgyE1BlnDKuQYMNBUp43P_518XmJ6DyPn_6F8honWY=s64",
      "userId": "11896451679610389254"
     },
     "user_tz": 240
    },
    "id": "Pc8MtTeRgEsd",
    "outputId": "27258aa3-8f40-41a5-9239-8a77b513f2c4"
   },
   "outputs": [
    {
     "data": {
      "text/plain": [
       "array([[ 1.       , -0.5209579],\n",
       "       [-0.5209579,  1.       ]])"
      ]
     },
     "execution_count": 95,
     "metadata": {},
     "output_type": "execute_result"
    }
   ],
   "source": [
    "np.corrcoef(a, b)"
   ]
  },
  {
   "cell_type": "markdown",
   "metadata": {},
   "source": [
    "<font color = 'blue'> Partially correct : 5 points </font> "
   ]
  },
  {
   "cell_type": "markdown",
   "metadata": {
    "id": "FpaPZt8fgEsd"
   },
   "source": [
    "### Submission instructions\n",
    "\n",
    "1. Your assignment should be completed by filling in the empty solution cells in this Jupyter notebook file (.ipynb). Feel free to add more cells as needed.\n",
    "\n",
    "2. Please comment your code using either markdown or #comments and use meaningful variable names to make it as readable and intelligible as possible.\n",
    "\n",
    "3. Write your code in the form of functions. For example: \n",
    "\n",
    "    def my_code ():\n",
    "\n",
    "          #Write code here\n",
    "      \n",
    "          return \"The return value\"\n",
    "          \n",
    "\n",
    "4. If the problem is to find the value of 'x', printing 'x = (your answer)' will help us identify if your code worked.\n",
    "\n",
    "\n",
    "5. For code that refers to local data files downloaded from the internet, please keep the file path simple (e.g. ~/downloads/datafilename) so that it works on our copy of the dataset. Please do not modify either the filename or the file contents in any way.\n",
    "\n",
    "6. Solution to problems that do not require any coding can be typed up in their own cells using markdown.\n",
    "    \n",
    "7. Unless there are legitimate circumstances, late assignments will not be accepted.\n",
    "\n",
    "8. All assignments are individual.\n",
    "\n",
    "9. All the sources used for problem solution must be acknowledged, e.g. web sites, books, research papers, etc.\n",
    "\n",
    "10. Academic integrity is taken seriously; for detailed information see the RIT Honor Code and with RIT's Academic Integrity Policy."
   ]
  },
  {
   "cell_type": "markdown",
   "metadata": {
    "id": "lgGP43HBgEsd"
   },
   "source": [
    "<font color = 'green'> Total score : 45 points </font> "
   ]
  },
  {
   "cell_type": "code",
   "execution_count": null,
   "metadata": {},
   "outputs": [],
   "source": []
  }
 ],
 "metadata": {
  "colab": {
   "name": "DSCI-633-Assignment-1.ipynb",
   "provenance": []
  },
  "kernelspec": {
   "display_name": "Python 3",
   "language": "python",
   "name": "python3"
  },
  "language_info": {
   "codemirror_mode": {
    "name": "ipython",
    "version": 3
   },
   "file_extension": ".py",
   "mimetype": "text/x-python",
   "name": "python",
   "nbconvert_exporter": "python",
   "pygments_lexer": "ipython3",
   "version": "3.8.5"
  }
 },
 "nbformat": 4,
 "nbformat_minor": 1
}
