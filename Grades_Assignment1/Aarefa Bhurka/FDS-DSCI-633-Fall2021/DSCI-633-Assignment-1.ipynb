{
 "cells": [
  {
   "cell_type": "markdown",
   "metadata": {},
   "source": [
    "# RIT DSCI-633: Foundations of Data Science and Analytics\n",
    "## Assignment 1\n",
    "### Due: 11:59 pm EST, Saturday, Oct 2, 2021"
   ]
  },
  {
   "cell_type": "markdown",
   "metadata": {},
   "source": [
    "### Problem 1 (10 points)\n",
    "\n",
    "In statistics and probability theory, the law of large numbers is a theorem that describes the result of\n",
    "repeating the same experiment a large number of times. The theorem states that if the same\n",
    "experiment or study is repeated independently a large number of times, the average of the results of\n",
    "the trials must be close to the expected value. The result becomes closer to the expected value as the\n",
    "number of trials is increased. Let us look at a specific experiment.\n",
    "\n",
    "Assume you have a Gaussian distribution (commonly called a “bell curve”) with mean µ and std\n",
    "deviation σ. The area under the curve that lies between σ and 2σ, and –σ and -2σ is approximately\n",
    "27.2%. In other words, approximately 27.2% of numbers generated randomly using this distribution will\n",
    "fall in the range [µ + σ, µ + 2σ] or [µ - 2σ, µ - σ], as shown below.\n",
    "\n",
    "Generate N random numbers that follow a Gaussian distribution with µ = 100, σ = 10, and count the\n",
    "numbers M that fall into the ranges above. Print the fraction M/N. Repeat this for N = 10, 100, 1000,\n",
    "10000, and 1000000.\n",
    "\n",
    "Does the fraction start to approach 27.2%?\n"
   ]
  },
  {
   "cell_type": "markdown",
   "metadata": {},
   "source": [
    "### Solution"
   ]
  },
  {
   "cell_type": "code",
   "execution_count": 1,
   "metadata": {},
   "outputs": [
    {
     "name": "stdout",
     "output_type": "stream",
     "text": [
      "30.0\n",
      "33.0\n",
      "27.13\n",
      "27.201199999999996\n"
     ]
    }
   ],
   "source": [
    "import numpy as np\n",
    "mean = 100; deviation = 10\n",
    "def count(N):\n",
    "    my_arr = np.random.randn(N) *deviation + mean\n",
    "    count = 0\n",
    "    min = mean+deviation\n",
    "    max = mean+(2*deviation)\n",
    "    min1 = mean - 2*deviation\n",
    "    max1 = mean - deviation\n",
    "    for item in my_arr:\n",
    "           if(item>= min and item<=max) or (item>= min1 and item<=max1):\n",
    "                count+=1\n",
    "\n",
    "    range = (count/N)*100\n",
    "    print(range)\n",
    "\n",
    "count(10)\n",
    "count(100)\n",
    "count(10000)\n",
    "count(1000000)\n",
    "\n",
    "# yes the fraction starts to approach 27.2 percent as we increase the value of N"
   ]
  },
  {
   "cell_type": "markdown",
   "metadata": {},
   "source": [
    "<font color = 'green'> Correct : 10 points </font> \n",
    "Remember not to use variables like \"min\" and \"max\" next time. They are already in Python. So here, it didnt cause problems, however, they might be an issue in other codes. "
   ]
  },
  {
   "cell_type": "markdown",
   "metadata": {},
   "source": [
    "### Problem 2 (5 points)\n",
    "\n",
    "Imagine you have a dataset of movie ratings for a set of 500 popular movies and a set of 1000 users.\n",
    "Each data sample contains the ratings of each movie (from 1 to 5 stars) by a specific user. The rating is\n",
    "an integer in the range [0,5], with a value of 0 means that the user did not watch that movie.\n",
    "How would you convert this data to a form suitable for association analysis? In particular, what type of\n",
    "attributes would you have and how many of them?\n",
    "\n"
   ]
  },
  {
   "cell_type": "markdown",
   "metadata": {},
   "source": [
    "### Solution"
   ]
  },
  {
   "cell_type": "markdown",
   "metadata": {},
   "source": []
  },
  {
   "cell_type": "markdown",
   "metadata": {},
   "source": [
    "- Let's assume a datatable containing number of columns as a number of movies(500) and number of rows as a number of users(1000)\n",
    "- Movie ratings will be added in each cell. \n",
    "- This is show us the association analysis between movies and user. If most of the users give the highest/same rating to movie-1 and movie-2 that shows us that if user likes movie-1 that the possibility of liking movie-2 for that user will increase.\n",
    "\n",
    "- Attribute of the movies can be as follows:\n",
    "    - Rating\n",
    "    - Genre\n",
    "    - Cast and crew\n",
    "    - Language\n",
    "    - Production house"
   ]
  },
  {
   "cell_type": "markdown",
   "metadata": {},
   "source": [
    "<font color = 'red'> Incorrect : 0 points </font> \n",
    "Reasoning : \n",
    "For association analysis, we require binary asymmetric attributes.\n",
    "\n",
    "Since each rating can take 6 possible values, we would need to replace it with 6 asymmetric binary attributes\n",
    "of the form (rating == 0?) (rating == 1?) ...\n",
    "\n",
    "This will give us 500 x 6 = **3000 binary attributes per user**.  \n",
    "The resulting sparse data matrix would be **1000 rows x 3000 columns**."
   ]
  },
  {
   "cell_type": "markdown",
   "metadata": {},
   "source": [
    "### Problem 3 (5 points)\n",
    "\n",
    "Distinguish between noise and outliers\n",
    "\n",
    "1. True or False ? Noise may be in the form of noisy attribute values, or noise objects.\n",
    "2. True or False ? Noise is sometimes desirable.\n",
    "3. True or False ? Outliers are sometimes desirable.\n",
    "4. True or False ? Noise objects may or may not be outliers. Explain your reasoning.\n",
    "5. True or False ? Outlier objects may or may not be noise. Explain your reasoning."
   ]
  },
  {
   "cell_type": "markdown",
   "metadata": {},
   "source": [
    "### Solution"
   ]
  },
  {
   "cell_type": "markdown",
   "metadata": {},
   "source": [
    "1. True\n",
    "\n",
    "2. False\n",
    "\n",
    "3. True\n",
    "\n",
    "4. True - Noise in attribute values can make the data look more randomized or unusual. Thus, it is possible\n",
    "that some instances in noisy data will appear as outliers\n",
    "\n",
    "5. False - Outliers can be legitimate data objects that appear to not belong in the data set. Those outliers\n",
    "would typically not classify as noise objects.\n"
   ]
  },
  {
   "cell_type": "markdown",
   "metadata": {},
   "source": [
    "<font color = 'blue'> Partially Correct : 4.5 points </font> \n",
    "Reasoning : \n",
    "The part 5 should be true given your reasoning. The reasoning you have given is correct, which means that outliers may or may not be noise. (Doesnt mean that always outliers are not noise - sometimes they can be noise right - as in part 4)\n",
    "Outliers can come about because of genuine reasons - for example, swiping your credit card while on vacation. These are not noise and may in fact, be very important for the data analysis problem. Noise, on the other hands, is always undesirable."
   ]
  },
  {
   "cell_type": "markdown",
   "metadata": {},
   "source": [
    "### Problem 4 (20 points)\n",
    "Download the ‘Diamonds’ dataset from https://www.kaggle.com/shivam2503/diamonds.\n",
    "1. Based on the description of the dataset provided at the site, categorize each attribute of the data as\n",
    "discrete or continuous, qualitative (nominal or ordinal), or quantitative (interval or ratio)  (5 points)\n",
    "e.g. Age in years: Discrete, Quantitative, Ratio.\n",
    "2. Load the CSV data file into a Pandas DataFrame object and display the first 5 rows. (2 points)\n",
    "3. Calculate summary statistics:\n",
    "a. For each quantitative attribute: find the mean, median, standard deviation, and range. (3.5 points)\n",
    "b. For each qualitative attribute, find the mode. (1.5 points)\n",
    "c. Find the Interquartile Range (IQR) of the ‘price’ variable. (0.5 points)\n",
    "4. What fraction of the data samples have ‘cut’ that is ‘very good’ or better ? Create a bar plot\n",
    "showing the distribution of the data samples by ‘cut’ (one bar for each value of cut). (2.5 points)\n",
    "5. Plot a histogram of the 'carat' variable. (2 points)\n",
    "6. Plot a scatter plot of ‘carat’ vs ‘price’. (2 points)\n",
    "7. Compute the correlation between ‘carat’ and ‘price’. (1 point)"
   ]
  },
  {
   "cell_type": "markdown",
   "metadata": {},
   "source": [
    "### Solution"
   ]
  },
  {
   "cell_type": "markdown",
   "metadata": {},
   "source": [
    "#### Solution 4.1"
   ]
  },
  {
   "cell_type": "markdown",
   "metadata": {},
   "source": [
    "1. carat - continuous, quantitative, Ratio\n",
    "2. cut - discrete, qualitative, ordinal\n",
    "3. color - discrete, qualitative, ordinal\n",
    "4. clarity - discrete, qualitative, ordinal\n",
    "5. depth - continuous, quantitative, ratio\n",
    "6. table - continuous, quantitative, ratio\n",
    "7. price - continuous, quantitative, ratio\n",
    "8. x - continuous, quantitative, ratio\n",
    "9. y - continuous, quantitative, ratio\n",
    "10. z - continuous, quantitative, ratio"
   ]
  },
  {
   "cell_type": "markdown",
   "metadata": {},
   "source": [
    "<font color = 'green'> Correct : 5 points </font> "
   ]
  },
  {
   "cell_type": "markdown",
   "metadata": {},
   "source": [
    "Your answer"
   ]
  },
  {
   "cell_type": "markdown",
   "metadata": {},
   "source": [
    "#### Solution 4.2"
   ]
  },
  {
   "cell_type": "code",
   "execution_count": 5,
   "metadata": {},
   "outputs": [
    {
     "name": "stdout",
     "output_type": "stream",
     "text": [
      "   Unnamed: 0  carat      cut color clarity  depth  table  price     x     y  \\\n",
      "0           1   0.23    Ideal     E     SI2   61.5   55.0    326  3.95  3.98   \n",
      "1           2   0.21  Premium     E     SI1   59.8   61.0    326  3.89  3.84   \n",
      "2           3   0.23     Good     E     VS1   56.9   65.0    327  4.05  4.07   \n",
      "3           4   0.29  Premium     I     VS2   62.4   58.0    334  4.20  4.23   \n",
      "4           5   0.31     Good     J     SI2   63.3   58.0    335  4.34  4.35   \n",
      "\n",
      "      z  \n",
      "0  2.43  \n",
      "1  2.31  \n",
      "2  2.31  \n",
      "3  2.63  \n",
      "4  2.75  \n"
     ]
    }
   ],
   "source": [
    "import pandas as pd\n",
    "import math\n",
    "import numpy as np\n",
    "import matplotlib.pyplot as plt\n",
    "\n",
    "my_df = pd.read_csv (r'C:\\Users\\Aarefa Bhurka\\Downloads\\archive\\diamonds.csv')\n",
    "print (my_df.head(5))"
   ]
  },
  {
   "cell_type": "markdown",
   "metadata": {},
   "source": [
    "<font color = 'green'> Correct : 2 points </font>\n",
    "Remember to not put spaces after functions like pd.read_csv() (Not pd.read_csv ()). Same for print(). "
   ]
  },
  {
   "cell_type": "markdown",
   "metadata": {},
   "source": [
    "#### Solution 4.3"
   ]
  },
  {
   "cell_type": "code",
   "execution_count": 8,
   "metadata": {},
   "outputs": [
    {
     "name": "stdout",
     "output_type": "stream",
     "text": [
      "mode of the cut is: \n",
      "Ideal\n",
      "mode of the color is: \n",
      "G\n",
      "mode of the clarity is: \n",
      "SI1\n"
     ]
    },
    {
     "ename": "NameError",
     "evalue": "name 'length' is not defined",
     "output_type": "error",
     "traceback": [
      "\u001b[1;31m---------------------------------------------------------------------------\u001b[0m",
      "\u001b[1;31mNameError\u001b[0m                                 Traceback (most recent call last)",
      "\u001b[1;32m<ipython-input-8-8bacc53c396d>\u001b[0m in \u001b[0;36m<module>\u001b[1;34m\u001b[0m\n\u001b[0;32m    240\u001b[0m \u001b[0mcolor_mode\u001b[0m\u001b[1;33m(\u001b[0m\u001b[1;33m)\u001b[0m\u001b[1;33m\u001b[0m\u001b[1;33m\u001b[0m\u001b[0m\n\u001b[0;32m    241\u001b[0m \u001b[0mclarity_mode\u001b[0m\u001b[1;33m(\u001b[0m\u001b[1;33m)\u001b[0m\u001b[1;33m\u001b[0m\u001b[1;33m\u001b[0m\u001b[0m\n\u001b[1;32m--> 242\u001b[1;33m \u001b[0mprice_IQR\u001b[0m\u001b[1;33m(\u001b[0m\u001b[1;33m)\u001b[0m\u001b[1;33m\u001b[0m\u001b[1;33m\u001b[0m\u001b[0m\n\u001b[0m",
      "\u001b[1;32m<ipython-input-8-8bacc53c396d>\u001b[0m in \u001b[0;36mprice_IQR\u001b[1;34m()\u001b[0m\n\u001b[0;32m    220\u001b[0m     \u001b[0mprice\u001b[0m \u001b[1;33m=\u001b[0m \u001b[0mlist\u001b[0m\u001b[1;33m(\u001b[0m\u001b[0mmy_df\u001b[0m\u001b[1;33m[\u001b[0m\u001b[1;34m'price'\u001b[0m\u001b[1;33m]\u001b[0m\u001b[1;33m)\u001b[0m\u001b[1;33m\u001b[0m\u001b[1;33m\u001b[0m\u001b[0m\n\u001b[0;32m    221\u001b[0m     \u001b[0mprice\u001b[0m\u001b[1;33m.\u001b[0m\u001b[0msort\u001b[0m\u001b[1;33m(\u001b[0m\u001b[1;33m)\u001b[0m\u001b[1;33m\u001b[0m\u001b[1;33m\u001b[0m\u001b[0m\n\u001b[1;32m--> 222\u001b[1;33m     \u001b[0mq1\u001b[0m \u001b[1;33m=\u001b[0m \u001b[0mprice\u001b[0m\u001b[1;33m[\u001b[0m\u001b[1;33m:\u001b[0m\u001b[1;33m(\u001b[0m\u001b[0mint\u001b[0m\u001b[1;33m(\u001b[0m\u001b[0mlength\u001b[0m\u001b[1;33m/\u001b[0m\u001b[1;36m2\u001b[0m\u001b[1;33m)\u001b[0m \u001b[1;33m-\u001b[0m\u001b[1;36m1\u001b[0m\u001b[1;33m)\u001b[0m\u001b[1;33m]\u001b[0m\u001b[1;33m\u001b[0m\u001b[1;33m\u001b[0m\u001b[0m\n\u001b[0m\u001b[0;32m    223\u001b[0m     \u001b[0mq2\u001b[0m \u001b[1;33m=\u001b[0m \u001b[0mprice\u001b[0m\u001b[1;33m[\u001b[0m\u001b[0mint\u001b[0m\u001b[1;33m(\u001b[0m\u001b[0mlength\u001b[0m\u001b[1;33m/\u001b[0m\u001b[1;36m2\u001b[0m\u001b[1;33m)\u001b[0m\u001b[1;33m:\u001b[0m\u001b[1;33m]\u001b[0m\u001b[1;33m\u001b[0m\u001b[1;33m\u001b[0m\u001b[0m\n\u001b[0;32m    224\u001b[0m     \u001b[0mq1_length\u001b[0m \u001b[1;33m=\u001b[0m \u001b[0mlen\u001b[0m\u001b[1;33m(\u001b[0m\u001b[0mq1\u001b[0m\u001b[1;33m)\u001b[0m\u001b[1;33m\u001b[0m\u001b[1;33m\u001b[0m\u001b[0m\n",
      "\u001b[1;31mNameError\u001b[0m: name 'length' is not defined"
     ]
    }
   ],
   "source": [
    "def carat_stats():\n",
    "    carat = 0\n",
    "    for item in my_df['carat']:\n",
    "        carat+=item\n",
    "    mean = carat/length\n",
    "    print(\"\\nMean of carat is:\")\n",
    "    print(mean)\n",
    "\n",
    "    sorted_carat = list(my_df['carat'])\n",
    "    sorted_carat.sort()\n",
    "\n",
    "    if ( length%2 == 0):\n",
    "        carat = (sorted_carat[int(length/2)] +  sorted_carat[int(length/2)+1])/2\n",
    "    else:\n",
    "        carat = sorted_carat['carat'][length/2]\n",
    "    print(\"\\nMedian of carat is:\")\n",
    "    print(carat)\n",
    "\n",
    "    carat = 0\n",
    "    for item in my_df['carat']:\n",
    "        carat+= ((item - mean) * (item-mean))\n",
    "    std_dev = math.sqrt(carat/length)\n",
    "    print(\"\\nStandard Deviation of carat is:\")\n",
    "    print(std_dev)\n",
    "\n",
    "    range = sorted_carat[length-1] - sorted_carat[0]\n",
    "    print(\"\\nRange of carat is:\")\n",
    "    print(range)\n",
    "\n",
    "def depth_stats():\n",
    "    depth = 0\n",
    "    for item in my_df['depth']:\n",
    "        depth+=item\n",
    "    mean = depth/length\n",
    "    print(\"\\nMean of depth is:\")\n",
    "    print(mean)\n",
    "\n",
    "    sorted_depth = list(my_df['depth'])\n",
    "    sorted_depth.sort()\n",
    "\n",
    "    if ( length%2 == 0):\n",
    "        depth = (sorted_depth[int(length/2)] +  sorted_depth[int(length/2)+1])/2\n",
    "    else:\n",
    "        depth = sorted_depth['depth'][length/2]\n",
    "    print(\"\\nMedian of depth is:\")\n",
    "    print(depth)\n",
    "\n",
    "    depth = 0\n",
    "    for item in my_df['depth']:\n",
    "        depth+= ((item - mean) * (item-mean))\n",
    "    std_dev = math.sqrt(depth/length)\n",
    "    print(\"\\nStandard Deviation of depth is:\")\n",
    "    print(std_dev)\n",
    "\n",
    "    range = sorted_depth[length-1] - sorted_depth[0]\n",
    "    print(\"\\nRange of depth is:\")\n",
    "    print(range)\n",
    "\n",
    "def table_stats():\n",
    "    table = 0\n",
    "    for item in my_df['table']:\n",
    "        table+=item\n",
    "    mean = table/length\n",
    "    print(\"\\nMean of table is:\")\n",
    "    print(mean)\n",
    "\n",
    "    sorted_table = list(my_df['table'])\n",
    "    sorted_table.sort()\n",
    "\n",
    "    if ( length%2 == 0):\n",
    "        table = (sorted_table[int(length/2)] +  sorted_table[int(length/2)+1])/2\n",
    "    else:\n",
    "        table = sorted_table['table'][length/2]\n",
    "    print(\"\\nMedian of table is:\")\n",
    "    print(table)\n",
    "\n",
    "    table = 0\n",
    "    for item in my_df['table']:\n",
    "        table+= ((item - mean) * (item-mean))\n",
    "    std_dev = math.sqrt(table/length)\n",
    "    print(\"\\nStandard Deviation of table is:\")\n",
    "    print(std_dev)\n",
    "\n",
    "    range = sorted_table[length-1] - sorted_table[0]\n",
    "    print(\"\\nRange of table is:\")\n",
    "    print(range)\n",
    "    \n",
    "def price_stats():\n",
    "    price = 0\n",
    "    for item in my_df['price']:\n",
    "        price+=item\n",
    "    mean = price/length\n",
    "    print(\"\\nMean of price is:\")\n",
    "    print(mean)\n",
    "\n",
    "    sorted_price = list(my_df['price'])\n",
    "    sorted_price.sort()\n",
    "\n",
    "    if ( length%2 == 0):\n",
    "        price = (sorted_price[int(length/2)] +  sorted_price[int(length/2)+1])/2\n",
    "    else:\n",
    "        price = sorted_price['price'][length/2]\n",
    "    print(\"\\nMedian of price is:\")\n",
    "    print(price)\n",
    "\n",
    "    price = 0\n",
    "    for item in my_df['price']:\n",
    "        price+= ((item - mean) * (item-mean))\n",
    "    std_dev = math.sqrt(price/length)\n",
    "    print(\"\\nStandard Deviation of price is:\")\n",
    "    print(std_dev)\n",
    "\n",
    "    range = sorted_price[length-1] - sorted_price[0]\n",
    "    print(\"\\nRange of price is:\")\n",
    "    print(range)\n",
    "\n",
    "def x_stats():\n",
    "    x = 0\n",
    "    for item in my_df['x']:\n",
    "        x+=item\n",
    "    mean = x/length\n",
    "    print(\"\\nMean of x is:\")\n",
    "    print(mean)\n",
    "\n",
    "    sorted_x = list(my_df['x'])\n",
    "    sorted_x.sort()\n",
    "\n",
    "    if ( length%2 == 0):\n",
    "        x = (sorted_x[int(length/2)] +  sorted_x[int(length/2)+1])/2\n",
    "    else:\n",
    "        x = sorted_x['x'][length/2]\n",
    "    print(\"\\nMedian of x is:\")\n",
    "    print(x)\n",
    "\n",
    "    x = 0\n",
    "    for item in my_df['x']:\n",
    "        x+= ((item - mean) * (item-mean))\n",
    "    std_dev = math.sqrt(x/length)\n",
    "    print(\"\\nStandard Deviation of x is:\")\n",
    "    print(std_dev)\n",
    "\n",
    "    range = sorted_x[length-1] - sorted_x[0]\n",
    "    print(\"\\nRange of x is:\")\n",
    "    print(range)\n",
    "\n",
    "def y_stats():\n",
    "    y = 0\n",
    "    for item in my_df['y']:\n",
    "        y+=item\n",
    "    mean = y/length\n",
    "    print(\"\\nMean of y is:\")\n",
    "    print(mean)\n",
    "\n",
    "    sorted_y = list(my_df['y'])\n",
    "    sorted_y.sort()\n",
    "\n",
    "    if ( length%2 == 0):\n",
    "        y = (sorted_y[int(length/2)] +  sorted_y[int(length/2)+1])/2\n",
    "    else:\n",
    "        price = sorted_y['y'][length/2]\n",
    "    print(\"\\nMedian of y is:\")\n",
    "    print(y)\n",
    "\n",
    "    y = 0\n",
    "    for item in my_df['y']:\n",
    "        y+= ((item - mean) * (item-mean))\n",
    "    std_dev = math.sqrt(y/length)\n",
    "    print(\"\\nStandard Deviation of y is:\")\n",
    "    print(std_dev)\n",
    "\n",
    "    range = sorted_y[length-1] - sorted_y[0]\n",
    "    print(\"\\nRange of y is:\")\n",
    "    print(range)\n",
    "\n",
    "def z_stats():\n",
    "    z = 0\n",
    "    for item in my_df['z']:\n",
    "        z+=item\n",
    "    mean = z/length\n",
    "    print(\"\\nMean of z is:\")\n",
    "    print(mean)\n",
    "\n",
    "    sorted_z = list(my_df['z'])\n",
    "    sorted_z.sort()\n",
    "\n",
    "    if ( length%2 == 0):\n",
    "        z = (sorted_z[int(length/2)] +  sorted_z[int(length/2)+1])/2\n",
    "    else:\n",
    "        price = sorted_z['z'][length/2]\n",
    "    print(\"\\nMedian of z is:\")\n",
    "    print(z)\n",
    "\n",
    "    z = 0\n",
    "    for item in my_df['z']:\n",
    "        z+= ((item - mean) * (item-mean))\n",
    "    std_dev = math.sqrt(z/length)\n",
    "    print(\"\\nStandard Deviation of z is:\")\n",
    "    print(std_dev)\n",
    "\n",
    "    range = sorted_z[length-1] - sorted_z[0]\n",
    "    print(\"\\nRange of z is:\")\n",
    "    print(range)\n",
    "\n",
    "def cut_mode():\n",
    "    mode = my_df['cut'].value_counts().sort_values(ascending=False).index[0]\n",
    "    print(\"mode of the cut is: \")\n",
    "    print(mode)\n",
    "\n",
    "def color_mode():\n",
    "    mode = my_df['color'].value_counts().sort_values(ascending=False).index[0]\n",
    "    print(\"mode of the color is: \")\n",
    "    print(mode)\n",
    "\n",
    "def clarity_mode():\n",
    "    mode = my_df['clarity'].value_counts().sort_values(ascending=False).index[0]\n",
    "    print(\"mode of the clarity is: \")\n",
    "    print(mode)\n",
    "\n",
    "def price_IQR():\n",
    "    price = list(my_df['price'])\n",
    "    price.sort()\n",
    "    q1 = price[:(int(length/2) -1)]\n",
    "    q2 = price[int(length/2):]\n",
    "    q1_length = len(q1)\n",
    "    q2_length = len(q2)\n",
    "    q1_median =int((q1[int(q1_length/2)] +  q1[int(q1_length/2)+1])/2) if q1_length%2 == 0 else q1[int(q1_length/2)]\n",
    "    q2_median = int((q2[int(q2_length/2)] +  q2[int(q2_length/2)+1])/2) if q2_length%2 == 0 else q2[int(q2_length/2)]\n",
    "    IQR = q2_median - q1_median\n",
    "    print(\"\\nInterquatile range of Price is:\")\n",
    "    print(IQR)\n",
    "\n",
    "carat_stats()\n",
    "depth_stats()\n",
    "table_stats()\n",
    "price_stats()\n",
    "x_stats()\n",
    "y_stats()\n",
    "z_stats()\n",
    "cut_mode()\n",
    "color_mode()\n",
    "clarity_mode()\n",
    "price_IQR()"
   ]
  },
  {
   "cell_type": "markdown",
   "metadata": {},
   "source": [
    "<font color = 'blue'> Partially correct : 1.5 points </font>\n",
    "Reasoning: \n",
    "All your functions, except for the ones for Part b (calculating mode), you have forgotten to define the variable \"length\". \n",
    "So, the functions do not run. Lastly, try using df.describe(). This will save much of your time to do this question. "
   ]
  },
  {
   "cell_type": "markdown",
   "metadata": {},
   "source": [
    "#### Solution 4.4"
   ]
  },
  {
   "cell_type": "code",
   "execution_count": 10,
   "metadata": {},
   "outputs": [
    {
     "name": "stdout",
     "output_type": "stream",
     "text": [
      "Fraction of Cut is\n"
     ]
    },
    {
     "ename": "NameError",
     "evalue": "name 'length' is not defined",
     "output_type": "error",
     "traceback": [
      "\u001b[1;31m---------------------------------------------------------------------------\u001b[0m",
      "\u001b[1;31mNameError\u001b[0m                                 Traceback (most recent call last)",
      "\u001b[1;32m<ipython-input-10-120e44cf9bf3>\u001b[0m in \u001b[0;36m<module>\u001b[1;34m\u001b[0m\n\u001b[0;32m      5\u001b[0m     \u001b[0mfraction\u001b[0m \u001b[1;33m+=\u001b[0m \u001b[0mcut\u001b[0m\u001b[1;33m.\u001b[0m\u001b[0mcount\u001b[0m\u001b[1;33m(\u001b[0m\u001b[0mitem\u001b[0m\u001b[1;33m)\u001b[0m\u001b[1;33m\u001b[0m\u001b[1;33m\u001b[0m\u001b[0m\n\u001b[0;32m      6\u001b[0m \u001b[0mprint\u001b[0m\u001b[1;33m(\u001b[0m\u001b[1;34m\"Fraction of Cut is\"\u001b[0m\u001b[1;33m)\u001b[0m\u001b[1;33m\u001b[0m\u001b[1;33m\u001b[0m\u001b[0m\n\u001b[1;32m----> 7\u001b[1;33m \u001b[0mprint\u001b[0m\u001b[1;33m(\u001b[0m\u001b[0mfraction\u001b[0m\u001b[1;33m/\u001b[0m\u001b[0mlength\u001b[0m\u001b[1;33m)\u001b[0m\u001b[1;33m\u001b[0m\u001b[1;33m\u001b[0m\u001b[0m\n\u001b[0m\u001b[0;32m      8\u001b[0m \u001b[1;33m\u001b[0m\u001b[0m\n\u001b[0;32m      9\u001b[0m \u001b[0my\u001b[0m \u001b[1;33m=\u001b[0m \u001b[0mnp\u001b[0m\u001b[1;33m.\u001b[0m\u001b[0marray\u001b[0m\u001b[1;33m(\u001b[0m\u001b[0mmy_df\u001b[0m\u001b[1;33m[\u001b[0m\u001b[1;34m\"cut\"\u001b[0m\u001b[1;33m]\u001b[0m\u001b[1;33m)\u001b[0m\u001b[1;33m\u001b[0m\u001b[1;33m\u001b[0m\u001b[0m\n",
      "\u001b[1;31mNameError\u001b[0m: name 'length' is not defined"
     ]
    }
   ],
   "source": [
    "quality = [\"Very Good\", \"Premium\",\"Ideal\"]\n",
    "cut = list(my_df[\"cut\"])\n",
    "fraction = 0\n",
    "for item in quality:\n",
    "    fraction += cut.count(item)\n",
    "print(\"Fraction of Cut is\")\n",
    "print(fraction/length)\n",
    "\n",
    "y = np.array(my_df[\"cut\"])\n",
    "plt.hist(y)\n",
    "plt.show()"
   ]
  },
  {
   "cell_type": "markdown",
   "metadata": {},
   "source": [
    "<font color = 'red'> Incorrect : 0 points </font> \n",
    "Reasoning : Again, the length variable is not defined. Please run the codes next time before submitting!"
   ]
  },
  {
   "cell_type": "code",
   "execution_count": 11,
   "metadata": {},
   "outputs": [
    {
     "data": {
      "image/png": "[encoded data removed]",
      "text/plain": [
       "<Figure size 432x288 with 1 Axes>"
      ]
     },
     "metadata": {
      "needs_background": "light"
     },
     "output_type": "display_data"
    }
   ],
   "source": [
    "# Solution 4.5\n",
    "\n",
    "y = np.array(my_df[\"carat\"])\n",
    "plt.hist(y)\n",
    "plt.show()"
   ]
  },
  {
   "cell_type": "markdown",
   "metadata": {},
   "source": [
    "<font color = 'green'> Correct : 2.5 points </font> "
   ]
  },
  {
   "cell_type": "code",
   "execution_count": 12,
   "metadata": {},
   "outputs": [
    {
     "data": {
      "image/png": "[encoded data removed]",
      "text/plain": [
       "<Figure size 432x288 with 1 Axes>"
      ]
     },
     "metadata": {
      "needs_background": "light"
     },
     "output_type": "display_data"
    }
   ],
   "source": [
    "# Solution 4.6\n",
    "\n",
    "carat = np.array(my_df['carat'])\n",
    "price = np.array(my_df['price'])\n",
    "\n",
    "plt.scatter(carat, price)\n",
    "plt.show()"
   ]
  },
  {
   "cell_type": "markdown",
   "metadata": {},
   "source": [
    "<font color = 'green'> Correct : 2.5 points </font> "
   ]
  },
  {
   "cell_type": "code",
   "execution_count": 14,
   "metadata": {},
   "outputs": [
    {
     "data": {
      "text/plain": [
       "0.9215913011934779"
      ]
     },
     "execution_count": 14,
     "metadata": {},
     "output_type": "execute_result"
    }
   ],
   "source": [
    "# Solution 4.7\n",
    "\n",
    "def intersections(a,b):\n",
    "    v = np.corrcoef(a,b)\n",
    "    return v\n",
    "\n",
    "corr_ab = intersections(my_df['price'],my_df['carat'])\n",
    "corr_ab[0,1]"
   ]
  },
  {
   "cell_type": "markdown",
   "metadata": {},
   "source": [
    "<font color = 'green'> Correct : 1 point </font> "
   ]
  },
  {
   "cell_type": "markdown",
   "metadata": {},
   "source": [
    "### Problem 5 (4 points)\n",
    "\n",
    "We have a collection of m documents.\n",
    "\n",
    "Let us say we would like to compare two documents x and y using their document term vectors. \n",
    "\n",
    "Let tf_ij be the frequency of the ith word (term) in the jth document\n",
    "\n",
    "1. Let the vocabulary size (the dimensionality of the vectors) be n. What is a good measure of similarity for this purpose ? Write the formula for it in terms of tf_ij.\n",
    "\n",
    "2. Consider the variable transformation given by idf_ij = tf_ij * log(m/df_i), where df_i is the document frequency, i.e. the number of documents in which the ith term occurs. The transformed variable idf_ij is called the inverse document frequency. What are the advantages of using this transformed variable instead of the original in the similarity computation ?"
   ]
  },
  {
   "cell_type": "markdown",
   "metadata": {},
   "source": [
    "### Solution"
   ]
  },
  {
   "cell_type": "markdown",
   "metadata": {},
   "source": [
    "#### Solution 5.1"
   ]
  },
  {
   "cell_type": "code",
   "execution_count": null,
   "metadata": {},
   "outputs": [],
   "source": [
    "(Σ(tf_ix*tf_iy))/(Σ(((tf_ix)^2)^(0.5))*Σ(((tf_iy)^2)^(0.5))\n",
    "\n",
    "- We will be using cosine similarity"
   ]
  },
  {
   "cell_type": "markdown",
   "metadata": {},
   "source": [
    "<font color = 'blue'> Partially correct : 1 point </font> \n",
    "Reasoning : (Check your parenthesis and sigma placement in the denominator. Use markdown and not code blocks for these solutions)\n",
    "For the jth document in the collection of m documents, the term frequencies of the n words in the vocabulary are:\n",
    "\n",
    "tf_1j, tf_2j, tf_3j ... tf_nj\n",
    "\n",
    "This is the term frequency vector J.\n",
    "\n",
    "The magnitude of the vector is \n",
    "\n",
    "|J| = **Sqrt (Sum (Sqr (tf_1j) + Sqr (tf_2j) ... + Sqr (tf_nj))**\n",
    "\n",
    "For the kth document in the collection of m documents, the term frequencies of the n words in the vocabulary are: tf_1k, tf_2k, tf_3k ... tf_nk\n",
    "\n",
    "The magnitude of the vector K is \n",
    "\n",
    "|K| = **Sqrt (Sum (Sqr (tf_1k) + Sqr (tf_2k) ... + Sqr (tf_nk))**\n",
    "\n",
    "The cosine similarity between document j and k is their dot product normalized by their magnitudes.\n",
    "\n",
    "**(tf_1j * tf_1k + tf_2j * tf_2k + ... +  tf_nj * tf_nk) / (|J| * |K) )**\n",
    "\n",
    "Alternatively, we can convert each vector into a unit vector by dividing by its magnitude, and then take their dot product."
   ]
  },
  {
   "cell_type": "markdown",
   "metadata": {},
   "source": [
    "#### Solution 5.2"
   ]
  },
  {
   "cell_type": "markdown",
   "metadata": {},
   "source": [
    "- IDF can be computed easily\n",
    "- There will be always some basic matric that can be useful to extract the frequently occurred term in any document\n",
    "- Similarities between any 2 documents can be easily computed"
   ]
  },
  {
   "cell_type": "markdown",
   "metadata": {},
   "source": [
    "<font color = 'green'> Correct : 2 points </font> \n",
    "(Should be \"metric\" instead of \"matric\".)"
   ]
  },
  {
   "cell_type": "markdown",
   "metadata": {},
   "source": [
    "\n",
    "    "
   ]
  },
  {
   "cell_type": "markdown",
   "metadata": {},
   "source": [
    "### Problem 6 (6 points)\n",
    "\n",
    "Write Python functions to compute the Hamming (L1) distance, SMC and Jaccard similarity coefficient between two binary vectors. Use them to these proximity measures between the following vectors:\n",
    "\n",
    "x = 1010101010101 \n",
    "\n",
    "y = 1000100010001"
   ]
  },
  {
   "cell_type": "markdown",
   "metadata": {},
   "source": [
    "### Solution"
   ]
  },
  {
   "cell_type": "code",
   "execution_count": 16,
   "metadata": {},
   "outputs": [
    {
     "name": "stdout",
     "output_type": "stream",
     "text": [
      "Hamming distance is:\n",
      "3\n",
      "\n",
      "SMC is:\n",
      "0.7692307692307693\n",
      "\n",
      "Jaccard similarity coefficient:\n",
      "0.5714285714285714\n"
     ]
    }
   ],
   "source": [
    "\n",
    "x = \"1010101010101\" \n",
    "\n",
    "y = \"1000100010001\"\n",
    "\n",
    "list_x = list(x)\n",
    "list_y = list(y)\n",
    "count = 0\n",
    "for i in range(len(list_x)):\n",
    "    if list_x[i]!=list_y[i]:\n",
    "        count+=1\n",
    "print(\"Hamming distance is:\")\n",
    "print(count)\n",
    "\n",
    "\n",
    "f00 = 0\n",
    "f01=0\n",
    "f10=0\n",
    "f11 = 0\n",
    "\n",
    "for i in range(len(list_x)):\n",
    "    if list_x[i] == '0' and list_y[i] == '0':\n",
    "        f00+=1\n",
    "    elif list_x[i] == '0' and list_y[i] == '1':\n",
    "        f01+=1\n",
    "    elif list_x[i] == '1' and list_y[i] == '0':\n",
    "        f10+=1\n",
    "    elif list_x[i] == '1' and list_y[i] == '1':\n",
    "        f11+=1\n",
    "\n",
    "SMC = (f11 + f00) / (f01 + f10 + f11 + f00)\n",
    "print(\"\\nSMC is:\")\n",
    "print(SMC)\n",
    "\n",
    "J =  (f11) / (f01 + f10 + f11)\n",
    "print(\"\\nJaccard similarity coefficient:\")\n",
    "print(J)\n"
   ]
  },
  {
   "cell_type": "markdown",
   "metadata": {},
   "source": [
    "<font color = 'green'> Correct : 6 points </font> "
   ]
  },
  {
   "cell_type": "markdown",
   "metadata": {},
   "source": [
    "### Problem 7 (6 points)\n",
    "\n",
    "Calculate the indicated similarity or distance measures of the vectors show below (you can do this by hand or by writing code, but please show the computation either way):\n",
    "\n",
    "x = (1,1,1,1) and y = (3,3,3,3) : cosine, correlation, Euclidean\n",
    "\n",
    "x = (0,1,0,1,0,1) and y = (1,0,1,0,1,0) : cosine, correlation, Euclidean, Jaccard \n",
    "\n",
    "x = (1,1,0,1,0,1) and y = (1,1,1,0,0,1) : cosine, correlation, Lmax, Jaccard"
   ]
  },
  {
   "cell_type": "markdown",
   "metadata": {},
   "source": [
    "### Solution"
   ]
  },
  {
   "cell_type": "code",
   "execution_count": 17,
   "metadata": {},
   "outputs": [
    {
     "name": "stdout",
     "output_type": "stream",
     "text": [
      "cosine similarity:\n",
      "1.3333333333333333\n",
      "\n",
      "Corelation\n",
      "Not defined\n",
      "\n",
      " Euclidean is:\n",
      "4.0\n",
      "cosine similarity:\n",
      "2.0000000000000004\n",
      "\n",
      "Corelation\n",
      "-1.2\n",
      "\n",
      " Euclidean is:\n",
      "2.449489742783178\n",
      "\n",
      "Jaccard similarity coefficient\n",
      "0.0\n",
      "cosine similarity:\n",
      "2.0\n",
      "\n",
      "Corelation\n",
      "0.3000000000000001\n",
      "\n",
      "Lmax is:\n",
      "-1\n",
      "\n",
      "Jaccard similarity coefficient\n",
      "0.6\n"
     ]
    }
   ],
   "source": [
    "def cosine():\n",
    "    inner_prod = 0\n",
    "    len_v_x = 0\n",
    "    len_v_y = 0\n",
    "    for i in range(len(x)):\n",
    "        inner_prod += x[i]+y[i]\n",
    "        len_v_x += x[i]*x[i]\n",
    "        len_v_y += y[i]*y[i]\n",
    "        \n",
    "    len_v_x = math.sqrt(len_v_x)\n",
    "    len_v_y = math.sqrt(len_v_y)\n",
    "    print(\"cosine similarity:\")\n",
    "    print(inner_prod/(len_v_x * len_v_y))\n",
    "\n",
    "    \n",
    "def corelation():\n",
    "    sum_x = 0\n",
    "    for item in x:\n",
    "        sum_x +=item\n",
    "    mean_x = sum_x/len(x)\n",
    "    \n",
    "    sum_y = 0\n",
    "    for item in y:\n",
    "        sum_y +=item\n",
    "    mean_y = sum_y/len(y)\n",
    "    \n",
    "    sum_xy = 0\n",
    "    for item in range(len(x)):\n",
    "         sum_xy += (x[item] - mean_x) * (y[item] - mean_y)\n",
    "    \n",
    "    variance = sum_xy/(len(x) - 1)\n",
    "    sum_x = 0\n",
    "    for item in x:\n",
    "        sum_x+= ((item - mean_x) * (item-mean_x))\n",
    "    std_dev_x = math.sqrt(sum_x/len(x))\n",
    "    \n",
    "    sum_y = 0\n",
    "    for item in y:\n",
    "        sum_y+= ((item - mean_y) * (item-mean_y))\n",
    "    std_dev_y = math.sqrt(sum_y/len(y))\n",
    "    print(\"\\nCorelation\")\n",
    "    if ((std_dev_x * std_dev_y)) == 0:\n",
    "        print(\"Not defined\")\n",
    "    else:\n",
    "        print(variance/(std_dev_x * std_dev_y))\n",
    "    \n",
    "def euclidean():\n",
    "    sum = 0\n",
    "    for item in range(len(x)):\n",
    "            sum += (x[item] - y[item])* (x[item] - y[item])\n",
    "    print(\"\\n Euclidean is:\")\n",
    "    print(math.sqrt(sum))\n",
    "\n",
    "def jaccard():\n",
    "    \n",
    "    f00 = 0\n",
    "    f01=0\n",
    "    f10=0\n",
    "    f11 = 0\n",
    "\n",
    "    for i in range(len(x)):\n",
    "        if x[i] == 0 and y[i] == 0:\n",
    "            f00+=1\n",
    "        elif x[i] == 0 and y[i] == 1:\n",
    "            f01+=1\n",
    "        elif x[i] == 1 and y[i] == 0:\n",
    "            f10+=1\n",
    "        elif x[i] == 1 and y[i] == 1:\n",
    "            f11+=1\n",
    "    J =  (f11) / (f01 + f10 + f11)\n",
    "    print(\"\\nJaccard similarity coefficient\")\n",
    "    print(J)\n",
    "\n",
    "def lmax():\n",
    "    max = 0\n",
    "    for item in range(len(x)):\n",
    "            if(max> x[item] - y[item]):\n",
    "                max =  x[item] - y[item]\n",
    "    print(\"\\nLmax is:\")\n",
    "    print(max)\n",
    "\n",
    "x = [1,1,1,1] \n",
    "y = [3,3,3,3]\n",
    "cosine()\n",
    "corelation()\n",
    "euclidean()\n",
    "\n",
    "\n",
    "x = [0,1,0,1,0,1] \n",
    "y = [1,0,1,0,1,0]\n",
    "cosine()\n",
    "corelation()\n",
    "euclidean()\n",
    "jaccard()\n",
    "\n",
    "x = [1,1,0,1,0,1] \n",
    "y = [1,1,1,0,0,1]\n",
    "cosine()\n",
    "corelation()\n",
    "lmax()\n",
    "jaccard()"
   ]
  },
  {
   "cell_type": "markdown",
   "metadata": {},
   "source": [
    "<font color = 'blue'> Partially Correct : 3 points </font> \n",
    "Reasoning : \n",
    "1. Your cosine similarity function is incorrect. The inner_product should be x[i]*y[i]\n",
    "2. The correlation formula is covariance / std_x * std_y . Here, you have made a mistake by assuming variance. \n",
    "3. The lmax function is taking min instead of max in your case, because your if condition is wrong. \n",
    "Please also do not use variable names like sum, max, min, etc. Recommended to use other variables. "
   ]
  },
  {
   "cell_type": "markdown",
   "metadata": {},
   "source": [
    "### Submission instructions\n",
    "\n",
    "1. Your assignment should be completed by filling in the empty solution cells in this Jupyter notebook file (.ipynb). Feel free to add more cells as needed.\n",
    "\n",
    "2. Please comment your code using either markdown or #comments and use meaningful variable names to make it as readable and intelligible as possible.\n",
    "\n",
    "3. Write your code in the form of functions. For example: \n",
    "\n",
    "    def my_code ():\n",
    "\n",
    "          #Write code here\n",
    "      \n",
    "          return \"The return value\"\n",
    "          \n",
    "\n",
    "4. If the problem is to find the value of 'x', printing 'x = (your answer)' will help us identify if your code worked.\n",
    "\n",
    "\n",
    "5. For code that refers to local data files downloaded from the internet, please keep the file path simple (e.g. ~/downloads/datafilename) so that it works on our copy of the dataset. Please do not modify either the filename or the file contents in any way.\n",
    "\n",
    "6. Solution to problems that do not require any coding can be typed up in their own cells using markdown.\n",
    "    \n",
    "7. Unless there are legitimate circumstances, late assignments will not be accepted.\n",
    "\n",
    "8. All assignments are individual.\n",
    "\n",
    "9. All the sources used for problem solution must be acknowledged, e.g. web sites, books, research papers, etc.\n",
    "\n",
    "10. Academic integrity is taken seriously; for detailed information see the RIT Honor Code and with RIT's Academic Integrity Policy."
   ]
  },
  {
   "cell_type": "markdown",
   "metadata": {},
   "source": [
    "<font color = 'green'> Total score : 35.5/56 </font> "
   ]
  },
  {
   "cell_type": "code",
   "execution_count": null,
   "metadata": {},
   "outputs": [],
   "source": []
  }
 ],
 "metadata": {
  "kernelspec": {
   "display_name": "Python 3",
   "language": "python",
   "name": "python3"
  },
  "language_info": {
   "codemirror_mode": {
    "name": "ipython",
    "version": 3
   },
   "file_extension": ".py",
   "mimetype": "text/x-python",
   "name": "python",
   "nbconvert_exporter": "python",
   "pygments_lexer": "ipython3",
   "version": "3.8.5"
  }
 },
 "nbformat": 4,
 "nbformat_minor": 2
}
