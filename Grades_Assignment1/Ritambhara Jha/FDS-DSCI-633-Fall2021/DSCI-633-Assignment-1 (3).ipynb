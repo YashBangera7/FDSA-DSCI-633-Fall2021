{
 "cells": [
  {
   "cell_type": "markdown",
   "metadata": {},
   "source": [
    "# RIT DSCI-633: Foundations of Data Science and Analytics\n",
    "## Assignment 1\n",
    "### Due: 11:59 pm EST, Saturday, Oct 2, 2021"
   ]
  },
  {
   "cell_type": "markdown",
   "metadata": {},
   "source": [
    "### Problem 1 (10 points)\n",
    "\n",
    "In statistics and probability theory, the law of large numbers is a theorem that describes the result of\n",
    "repeating the same experiment a large number of times. The theorem states that if the same\n",
    "experiment or study is repeated independently a large number of times, the average of the results of\n",
    "the trials must be close to the expected value. The result becomes closer to the expected value as the\n",
    "number of trials is increased. Let us look at a specific experiment.\n",
    "\n",
    "Assume you have a Gaussian distribution (commonly called a “bell curve”) with mean µ and std\n",
    "deviation σ. The area under the curve that lies between σ and 2σ, and –σ and -2σ is approximately\n",
    "27.2%. In other words, approximately 27.2% of numbers generated randomly using this distribution will\n",
    "fall in the range [µ + σ, µ + 2σ] or [µ - 2σ, µ - σ], as shown below.\n",
    "\n",
    "Generate N random numbers that follow a Gaussian distribution with µ = 100, σ = 10, and count the\n",
    "numbers M that fall into the ranges above. Print the fraction M/N. Repeat this for N = 10, 100, 1000,\n",
    "10000, and 1000000.\n",
    "\n",
    "Does the fraction start to approach 27.2%?\n"
   ]
  },
  {
   "cell_type": "markdown",
   "metadata": {},
   "source": [
    "### Solution"
   ]
  },
  {
   "cell_type": "code",
   "execution_count": 5,
   "metadata": {},
   "outputs": [
    {
     "name": "stdout",
     "output_type": "stream",
     "text": [
      "M/N when N =  10 is  50.0 %\n",
      "M/N when N =  100 is  33.0 %\n",
      "M/N when N =  1000 is  29.2 %\n",
      "M/N when N =  10000 is  30.79 %\n",
      "M/N when N =  1000000 is  27.5169 %\n"
     ]
    }
   ],
   "source": [
    "import random\n",
    "import numpy as np\n",
    "avg = 100\n",
    "sd = 10\n",
    "M = 0\n",
    "\n",
    "#loop to find the numbers in the range with given SD and mean\n",
    "for N in [10,100,1000,10000,1000000] :\n",
    "    numbers = np.random.randn(N)*sd+avg\n",
    "    #print(numbers)\n",
    "\n",
    "    #loop to find numbers which fall under the given range\n",
    "    for i in range(len(numbers)):\n",
    "        if ((numbers[i]>avg+sd) and (numbers[i]<avg+2*sd)) or ((numbers[i]>avg-2*sd) and (numbers[i]<avg-sd)):\n",
    "            M = M+1\n",
    "        else:\n",
    "            continue\n",
    "        \n",
    "    \n",
    "    print(\"M/N when N = \",N,\"is \",M/N*100,\"%\")\n",
    " "
   ]
  },
  {
   "cell_type": "markdown",
   "metadata": {},
   "source": [
    "Yes, it starts approaching 27.2%"
   ]
  },
  {
   "cell_type": "markdown",
   "metadata": {},
   "source": [
    "<font color='green'>Correct : 10 points</font>"
   ]
  },
  {
   "cell_type": "markdown",
   "metadata": {},
   "source": [
    "### Problem 2 (5 points)\n",
    "\n",
    "Imagine you have a dataset of movie ratings for a set of 500 popular movies and a set of 1000 users.\n",
    "Each data sample contains the ratings of each movie (from 1 to 5 stars) by a specific user. The rating is\n",
    "an integer in the range [0,5], with a value of 0 means that the user did not watch that movie.\n",
    "How would you convert this data to a form suitable for association analysis? In particular, what type of\n",
    "attributes would you have and how many of them?\n",
    "\n"
   ]
  },
  {
   "cell_type": "markdown",
   "metadata": {},
   "source": [
    "### Solution"
   ]
  },
  {
   "cell_type": "markdown",
   "metadata": {},
   "source": [
    "There are 500 movies in the rows and 1000 users in the column. <br>\n",
    "Each user will provide rating for each movie. All the cells will contain values between 0-5.  <br>\n",
    "\n",
    "  M1 M2 M3 M4..... M500  <br>\n",
    "U1                       <br>\n",
    "U2                       <br>\n",
    "U3                       <br>\n",
    "U4                       <br>\n",
    ".                        <br>\n",
    ".                        <br>\n",
    "U1000                    <br>\n",
    "\n",
    "If U1 has given higher ratings to M4 and M5. U30 has given higher ratings to M4, M5, M6 and M20.  <br>\n",
    "Then association analysis would be the following:  <br>\n",
    "Users liking movie M4 and M5 are bound to like movies M6 and M20 as well.  <br>\n",
    "This how we can provide association analysis between each user and movie and recommend them movies to other users.\n",
    "\n",
    "We would remove datasest which has zero rating.  <br>\n",
    "We can find the mean of each column and then inturn  calculate the correlation between the movies.  <br>\n",
    "So if 2 movies are correlated then we can suggest that movie to the other user.  <br>\n",
    "\n",
    "I would include the following attributes:  <br>\n",
    "1) Duration of the movie - User can like short movies or medium sized or longer than 3hours movies <br>\n",
    "2) Genre of the movie    - Every user will have different taste. So we can sort the movies as per genre <br>\n",
    "3) Story Content         - Script of the movie can be quantified and rated between 0-5 <br>\n",
    "4) Performances(as in acting quality)  - Performance can be quantified and rated between 0-5 <br>\n",
    "5) Awards Won    - More awards to a movie will be rated higher <br>\n",
    "6) Release year - User can like movies which are latest or old classics so this attribute will decide that <br>\n",
    "7) User's age   - Depending on the age group, choice of movies differ. Eg- younger users like animated movies<br>\n",
    "8) User's gender - Male and female have different taste of movies. Eg- action movies are liked by male users<br>\n",
    "9) User's location - Location of the user will determine the liking for regional movies<br>"
   ]
  },
  {
   "cell_type": "markdown",
   "metadata": {},
   "source": [
    "<font color = 'red'> Incorrect : 0 points </font> \n",
    "Correct solution: \n",
    "For association analysis, we require binary asymmetric attributes.\n",
    "\n",
    "Since each rating can take 6 possible values, we would need to replace it with 6 asymmetric binary attributes\n",
    "of the form (rating == 0?) (rating == 1?) ...\n",
    "\n",
    "This will give us 500 x 6 = **3000 binary attributes per user**.  \n",
    "The resulting sparse data matrix would be **1000 rows x 3000 columns**."
   ]
  },
  {
   "cell_type": "markdown",
   "metadata": {},
   "source": [
    "### Problem 3 (5 points)\n",
    "\n",
    "Distinguish between noise and outliers\n",
    "\n",
    "1. True or False ? Noise may be in the form of noisy attribute values, or noise objects.\n",
    "2. True or False ? Noise is sometimes desirable.\n",
    "3. True or False ? Outliers are sometimes desirable.\n",
    "4. True or False ? Noise objects may or may not be outliers. Explain your reasoning.\n",
    "5. True or False ? Outlier objects may or may not be noise. Explain your reasoning."
   ]
  },
  {
   "cell_type": "markdown",
   "metadata": {},
   "source": [
    "### Solution"
   ]
  },
  {
   "cell_type": "markdown",
   "metadata": {},
   "source": [
    "1. True\n",
    "\n",
    "2. False\n",
    "\n",
    "3. True\n",
    "\n",
    "4. True. Noise is always undesirable. It can lie outside the normal dataset like an outlier or can be with the data set\n",
    "\n",
    "5. True. Outliers are sometime noise but they can be required data in some domains like in the field of credit card fraud detection. "
   ]
  },
  {
   "cell_type": "markdown",
   "metadata": {},
   "source": [
    "<font color='green'>Correct: 5 points</font>"
   ]
  },
  {
   "cell_type": "markdown",
   "metadata": {},
   "source": [
    "### Problem 4 (20 points)\n",
    "Download the ‘Diamonds’ dataset from https://www.kaggle.com/shivam2503/diamonds.\n",
    "1. Based on the description of the dataset provided at the site, categorize each attribute of the data as\n",
    "discrete or continuous, qualitative (nominal or ordinal), or quantitative (interval or ratio)  (5 points)\n",
    "e.g. Age in years: Discrete, Quantitative, Ratio.\n",
    "2. Load the CSV data file into a Pandas DataFrame object and display the first 5 rows. (2 points)\n",
    "3. Calculate summary statistics:\n",
    "a. For each quantitative attribute: find the mean, median, standard deviation, and range. (3.5 points)\n",
    "b. For each qualitative attribute, find the mode. (1.5 points)\n",
    "c. Find the Interquartile Range (IQR) of the ‘price’ variable. (0.5 points)\n",
    "4. What fraction of the data samples have ‘cut’ that is ‘very good’ or better ? Create a bar plot\n",
    "showing the distribution of the data samples by ‘cut’ (one bar for each value of cut). (2.5 points)\n",
    "5. Plot a histogram of the 'carat' variable. (2 points)\n",
    "6. Plot a scatter plot of ‘carat’ vs ‘price’. (2 points)\n",
    "7. Compute the correlation between ‘carat’ and ‘price’. (1 point)"
   ]
  },
  {
   "cell_type": "markdown",
   "metadata": {},
   "source": [
    "### Solution"
   ]
  },
  {
   "cell_type": "markdown",
   "metadata": {},
   "source": [
    "#### Solution 4.1"
   ]
  },
  {
   "cell_type": "markdown",
   "metadata": {},
   "source": [
    "Carat - Continous, Quantitative, Ratio <font color='green'>Correct</font> <br> \n",
    "Cut - Discrete, Qualitative, Ordinal <font color='green'>Correct</font> <br> \n",
    "Color - Discrete, Qualitative, Ordinal <font color='green'>Correct</font> <br> \n",
    "Clarity - Discrete, Qualitative, Ordinal <font color='green'>Correct</font> <br> \n",
    "Depth - Continous, Quantitative, Ratio <font color='green'>Correct</font> <br> \n",
    "Table - Continous, Quantitative, Ratio <font color='green'>Correct</font> <br> \n",
    "Price - Continous, Quantitative, Ratio <font color='green'>Correct</font> <br> \n",
    "x - Continous, Quantitative, Ratio <font color='green'>Correct</font> <br> \n",
    "y - Continous, Quantitative, Ratio <font color='green'>Correct</font> <br> \n",
    "z - Continous, Quantitative, Ratio <font color='green'>Correct</font> <br> "
   ]
  },
  {
   "cell_type": "markdown",
   "metadata": {},
   "source": [
    "<font color='green'>Correct: 5</font> <br> "
   ]
  },
  {
   "cell_type": "markdown",
   "metadata": {},
   "source": [
    "#### Solution 4.2"
   ]
  },
  {
   "cell_type": "code",
   "execution_count": 9,
   "metadata": {},
   "outputs": [
    {
     "data": {
      "text/html": [
       "<div>\n",
       "<style scoped>\n",
       "    .dataframe tbody tr th:only-of-type {\n",
       "        vertical-align: middle;\n",
       "    }\n",
       "\n",
       "    .dataframe tbody tr th {\n",
       "        vertical-align: top;\n",
       "    }\n",
       "\n",
       "    .dataframe thead th {\n",
       "        text-align: right;\n",
       "    }\n",
       "</style>\n",
       "<table border=\"1\" class=\"dataframe\">\n",
       "  <thead>\n",
       "    <tr style=\"text-align: right;\">\n",
       "      <th></th>\n",
       "      <th>Unnamed: 0</th>\n",
       "      <th>carat</th>\n",
       "      <th>cut</th>\n",
       "      <th>color</th>\n",
       "      <th>clarity</th>\n",
       "      <th>depth</th>\n",
       "      <th>table</th>\n",
       "      <th>price</th>\n",
       "      <th>x</th>\n",
       "      <th>y</th>\n",
       "      <th>z</th>\n",
       "    </tr>\n",
       "  </thead>\n",
       "  <tbody>\n",
       "    <tr>\n",
       "      <th>0</th>\n",
       "      <td>1</td>\n",
       "      <td>0.23</td>\n",
       "      <td>Ideal</td>\n",
       "      <td>E</td>\n",
       "      <td>SI2</td>\n",
       "      <td>61.5</td>\n",
       "      <td>55.0</td>\n",
       "      <td>326</td>\n",
       "      <td>3.95</td>\n",
       "      <td>3.98</td>\n",
       "      <td>2.43</td>\n",
       "    </tr>\n",
       "    <tr>\n",
       "      <th>1</th>\n",
       "      <td>2</td>\n",
       "      <td>0.21</td>\n",
       "      <td>Premium</td>\n",
       "      <td>E</td>\n",
       "      <td>SI1</td>\n",
       "      <td>59.8</td>\n",
       "      <td>61.0</td>\n",
       "      <td>326</td>\n",
       "      <td>3.89</td>\n",
       "      <td>3.84</td>\n",
       "      <td>2.31</td>\n",
       "    </tr>\n",
       "    <tr>\n",
       "      <th>2</th>\n",
       "      <td>3</td>\n",
       "      <td>0.23</td>\n",
       "      <td>Good</td>\n",
       "      <td>E</td>\n",
       "      <td>VS1</td>\n",
       "      <td>56.9</td>\n",
       "      <td>65.0</td>\n",
       "      <td>327</td>\n",
       "      <td>4.05</td>\n",
       "      <td>4.07</td>\n",
       "      <td>2.31</td>\n",
       "    </tr>\n",
       "    <tr>\n",
       "      <th>3</th>\n",
       "      <td>4</td>\n",
       "      <td>0.29</td>\n",
       "      <td>Premium</td>\n",
       "      <td>I</td>\n",
       "      <td>VS2</td>\n",
       "      <td>62.4</td>\n",
       "      <td>58.0</td>\n",
       "      <td>334</td>\n",
       "      <td>4.20</td>\n",
       "      <td>4.23</td>\n",
       "      <td>2.63</td>\n",
       "    </tr>\n",
       "    <tr>\n",
       "      <th>4</th>\n",
       "      <td>5</td>\n",
       "      <td>0.31</td>\n",
       "      <td>Good</td>\n",
       "      <td>J</td>\n",
       "      <td>SI2</td>\n",
       "      <td>63.3</td>\n",
       "      <td>58.0</td>\n",
       "      <td>335</td>\n",
       "      <td>4.34</td>\n",
       "      <td>4.35</td>\n",
       "      <td>2.75</td>\n",
       "    </tr>\n",
       "  </tbody>\n",
       "</table>\n",
       "</div>"
      ],
      "text/plain": [
       "   Unnamed: 0  carat      cut color clarity  depth  table  price     x     y  \\\n",
       "0           1   0.23    Ideal     E     SI2   61.5   55.0    326  3.95  3.98   \n",
       "1           2   0.21  Premium     E     SI1   59.8   61.0    326  3.89  3.84   \n",
       "2           3   0.23     Good     E     VS1   56.9   65.0    327  4.05  4.07   \n",
       "3           4   0.29  Premium     I     VS2   62.4   58.0    334  4.20  4.23   \n",
       "4           5   0.31     Good     J     SI2   63.3   58.0    335  4.34  4.35   \n",
       "\n",
       "      z  \n",
       "0  2.43  \n",
       "1  2.31  \n",
       "2  2.31  \n",
       "3  2.63  \n",
       "4  2.75  "
      ]
     },
     "execution_count": 9,
     "metadata": {},
     "output_type": "execute_result"
    }
   ],
   "source": [
    "import pandas as pd\n",
    "import numpy as np\n",
    "df_diamonds = pd.read_csv(\"/Users/ritambhara/Downloads/Sem1/FundamentalsOfDS/DataSet/diamonds.csv\")\n",
    "df_diamonds_5 = df_diamonds.head(5)\n",
    "df_diamonds_5"
   ]
  },
  {
   "cell_type": "markdown",
   "metadata": {},
   "source": [
    "<font color='green'>Correct : 2 points</font> <br> "
   ]
  },
  {
   "cell_type": "markdown",
   "metadata": {},
   "source": [
    "#### Solution 4.3"
   ]
  },
  {
   "cell_type": "code",
   "execution_count": 92,
   "metadata": {},
   "outputs": [
    {
     "name": "stdout",
     "output_type": "stream",
     "text": [
      "Mean of price values =  3932.799721913237\n",
      "Median of price values =  2401.0\n",
      "SD of price values =  3989.4397381463023\n",
      "price Range =  18497\n",
      "\n",
      "Mean of Carat values =  0.7979397478679852\n",
      "Median of Carat values =  0.7\n",
      "SD of Carat values =  0.47401124440538067\n",
      "Carat Range =  4.81\n",
      "\n",
      "Mean of x values =  5.731157211716609\n",
      "Median of x values =  5.7\n",
      "SD of x values =  1.1217607467924422\n",
      "x Range =  10.74\n",
      "\n",
      "Mean of y values =  5.734525954764462\n",
      "Median of y values =  5.71\n",
      "SD of y values =  1.1421346741235396\n",
      "y Range =  58.9\n",
      "\n",
      "Mean of z values =  3.5387337782723316\n",
      "Median of z values =  3.53\n",
      "SD of z values =  0.7056988469499964\n",
      "z Range =  31.8\n",
      "\n",
      "Mean of depth values =  61.74940489432624\n",
      "Median of depth values =  61.8\n",
      "SD of depth values =  1.4326213188337733\n",
      "depth Range =  36.0\n",
      "\n",
      "Mean of table values =  57.45718390804603\n",
      "Median of table values =  57.0\n",
      "SD of table values =  2.234490562820938\n",
      "z table =  36.0\n",
      "\n",
      "Mode of Cut values =  0    Ideal\n",
      "dtype: object\n",
      "\n",
      "Mode of Color values =  0    G\n",
      "dtype: object\n",
      "\n",
      "Mode of Clarity values =  0    SI1\n",
      "dtype: object\n",
      "\n",
      "Q1 Price =  950.0\n",
      "Q3 Price =  5324.25\n",
      "Inter-quartile for price =  4374.25\n"
     ]
    }
   ],
   "source": [
    "# Mean, Median, Standard Deviation, range for price\n",
    "meanPrice = df_diamonds[\"price\"].mean() \n",
    "print(\"Mean of price values = \",meanPrice)\n",
    "medianPrice = df_diamonds[\"price\"].median()\n",
    "print(\"Median of price values = \",medianPrice)\n",
    "SDPrice = df_diamonds[\"price\"].std()\n",
    "print(\"SD of price values = \",SDPrice)\n",
    "PriceMin = df_diamonds[\"price\"].min()\n",
    "PriceMax = df_diamonds[\"price\"].max()\n",
    "rangePrice = PriceMax - PriceMin\n",
    "print(\"Price Range = \",rangePrice)\n",
    "\n",
    "# Mean, Median, Standard Deviation, range for Carat\n",
    "meanCarat = df_diamonds[\"carat\"].mean() \n",
    "print(\"\\nMean of Carat values = \",meanCarat)\n",
    "medianCarat = df_diamonds[\"carat\"].median()\n",
    "print(\"Median of Carat values = \",medianCarat)\n",
    "SDCarat = df_diamonds[\"carat\"].std()\n",
    "print(\"SD of Carat values = \",SDCarat)\n",
    "caratMin = df_diamonds[\"carat\"].min()\n",
    "caratMax = df_diamonds[\"carat\"].max()\n",
    "rangeCarat = caratMax - caratMin\n",
    "print(\"Carat Range = \",rangeCarat)\n",
    "\n",
    "# Mean, Median, Standard Deviation, range for x\n",
    "meanX = df_diamonds[\"x\"].mean() \n",
    "print(\"\\nMean of x values = \",meanX)\n",
    "medianX = df_diamonds[\"x\"].median()\n",
    "print(\"Median of x values = \",medianX)\n",
    "SDX = df_diamonds[\"x\"].std()\n",
    "print(\"SD of x values = \",SDX)\n",
    "XMin = df_diamonds[\"x\"].min()\n",
    "XMax = df_diamonds[\"x\"].max()\n",
    "rangeX = XMax - XMin\n",
    "print(\"x Range = \",rangeX)\n",
    "\n",
    "\n",
    "# Mean, Median, Standard Deviation, range for y\n",
    "meanY = df_diamonds[\"y\"].mean() \n",
    "print(\"\\nMean of y values = \",meanY)\n",
    "medianY = df_diamonds[\"y\"].median()\n",
    "print(\"Median of y values = \",medianY)\n",
    "SDY = df_diamonds[\"y\"].std()\n",
    "print(\"SD of y values = \",SDY)\n",
    "YMin = df_diamonds[\"y\"].min()\n",
    "YMax = df_diamonds[\"y\"].max()\n",
    "rangeY = YMax - YMin\n",
    "print(\"y Range = \",rangeY)\n",
    "\n",
    "\n",
    "# Mean, Median, Standard Deviation, range for z\n",
    "meanZ = df_diamonds[\"z\"].mean() \n",
    "print(\"\\nMean of z values = \",meanZ)\n",
    "medianZ = df_diamonds[\"z\"].median()\n",
    "print(\"Median of z values = \",medianZ)\n",
    "SDZ = df_diamonds[\"z\"].std()\n",
    "print(\"SD of z values = \",SDZ)\n",
    "ZMin = df_diamonds[\"z\"].min()\n",
    "ZMax = df_diamonds[\"z\"].max()\n",
    "rangeZ = ZMax - ZMin\n",
    "print(\"z Range = \",rangeZ)\n",
    "\n",
    "# Mean, Median, Standard Deviation, range for depth\n",
    "meanCarat = df_diamonds[\"depth\"].mean() \n",
    "print(\"\\nMean of depth values = \",meanCarat)\n",
    "medianCarat = df_diamonds[\"depth\"].median()\n",
    "print(\"Median of depth values = \",medianCarat)\n",
    "SDCarat = df_diamonds[\"depth\"].std()\n",
    "print(\"SD of depth values = \",SDCarat)\n",
    "caratMin = df_diamonds[\"depth\"].min()\n",
    "caratMax = df_diamonds[\"depth\"].max()\n",
    "rangeCarat = caratMax - caratMin\n",
    "print(\"depth Range = \",rangeCarat)\n",
    "\n",
    "# Mean, Median, Standard Deviation, range for table\n",
    "meanCarat = df_diamonds[\"table\"].mean() \n",
    "print(\"\\nMean of table values = \",meanCarat)\n",
    "medianCarat = df_diamonds[\"table\"].median()\n",
    "print(\"Median of table values = \",medianCarat)\n",
    "SDCarat = df_diamonds[\"table\"].std()\n",
    "print(\"SD of table values = \",SDCarat)\n",
    "tableMin = df_diamonds[\"table\"].min()\n",
    "tableMax = df_diamonds[\"table\"].max()\n",
    "rangetable = caratMax - caratMin\n",
    "print(\"z table = \",rangetable)  \n",
    "\n",
    "#Mode cut\n",
    "modeCut = df_diamonds[\"cut\"].mode()\n",
    "print(\"\\nMode of Cut values = \",modeCut)\n",
    "\n",
    "#Mode color\n",
    "modeCut = df_diamonds[\"color\"].mode()\n",
    "print(\"\\nMode of Color values = \",modeCut)\n",
    "\n",
    "#Mode clarity\n",
    "modeCut = df_diamonds[\"clarity\"].mode()\n",
    "print(\"\\nMode of Clarity values = \",modeCut)\n",
    "\n",
    "#Inter-quartile for price\n",
    "Q1 = np.quantile(df_diamonds[\"price\"],.25)\n",
    "Q3 = np.quantile(df_diamonds[\"price\"],.75)\n",
    "print(\"\\nQ1 Price = \",Q1)\n",
    "print(\"Q3 Price = \",Q3)\n",
    "print(\"Inter-quartile for price = \",Q3-Q1)"
   ]
  },
  {
   "cell_type": "markdown",
   "metadata": {},
   "source": [
    "<font color='green'>Correct : 5.5 points</font> <br> "
   ]
  },
  {
   "cell_type": "markdown",
   "metadata": {},
   "source": [
    "#### Solution 4.4"
   ]
  },
  {
   "cell_type": "code",
   "execution_count": 125,
   "metadata": {},
   "outputs": [
    {
     "name": "stdout",
     "output_type": "stream",
     "text": [
      "Fraction =  0.8791991101223582\n",
      "AxesSubplot(0.125,0.125;0.775x0.755)\n"
     ]
    },
    {
     "data": {
      "image/png": "[encoded data removed]",
      "text/plain": [
       "<Figure size 432x288 with 1 Axes>"
      ]
     },
     "metadata": {
      "needs_background": "light"
     },
     "output_type": "display_data"
    },
    {
     "name": "stdout",
     "output_type": "stream",
     "text": [
      "Correlation between carat and price =  0.9215913011934789\n"
     ]
    },
    {
     "data": {
      "image/png": "[encoded data removed]",
      "text/plain": [
       "<Figure size 432x288 with 1 Axes>"
      ]
     },
     "metadata": {
      "needs_background": "light"
     },
     "output_type": "display_data"
    },
    {
     "data": {
      "image/png": "[encoded data removed]",
      "text/plain": [
       "<Figure size 432x288 with 1 Axes>"
      ]
     },
     "metadata": {
      "needs_background": "light"
     },
     "output_type": "display_data"
    }
   ],
   "source": [
    "# Fraction of the data samples have ‘cut’ that is ‘very good’ or better\n",
    "import seaborn as sns\n",
    "import matplotlib.pyplot as plt\n",
    "import pandas as pd\n",
    "\n",
    "df_diamonds = pd.read_csv(\"/Users/ritambhara/Downloads/Sem1/FundamentalsOfDS/DataSet/diamonds.csv\") \n",
    "fraction = sum((df_diamonds['cut']).isin(['Very Good', 'Premium', 'Ideal']))/len(df_diamonds)\n",
    "print(\"Fraction = \",fraction)\n",
    "\n",
    "# Create a bar plot showing the distribution of the data samples by ‘cut’ (one bar for each value of cut)\n",
    "count = sns.countplot(x ='cut', data = df_diamonds)\n",
    "print(count) \n",
    "\n",
    "# Show the plot\n",
    "plt.show()\n",
    "\n",
    "# Plot a histogram of the 'carat' variable. \n",
    "hist = df_diamonds.hist(column='carat',bins=None)\n",
    "\n",
    "#Plot a scatter plot of ‘carat’ vs ‘price’.\n",
    "scatter = df_diamonds.plot.scatter(x = 'carat', y = 'price', s = 50)\n",
    "\n",
    "#Compute the correlation between ‘carat’ and ‘price’. \n",
    "corrCP = df_diamonds[\"carat\"].corr(df_diamonds[\"price\"])\n",
    "print(\"Correlation between carat and price = \",corrCP)"
   ]
  },
  {
   "cell_type": "markdown",
   "metadata": {},
   "source": [
    "<font color='green'>Correct : 7.5 points</font> <br> \n",
    "<font color='green'>Total points: 19.5 points</font> <br> "
   ]
  },
  {
   "cell_type": "markdown",
   "metadata": {},
   "source": [
    "### Problem 5 (4 points)\n",
    "\n",
    "We have a collection of m documents.\n",
    "\n",
    "Let us say we would like to compare two documents x and y using their document term vectors. \n",
    "\n",
    "Let tf_ij be the frequency of the ith word (term) in the jth document\n",
    "\n",
    "1. Let the vocabulary size (the dimensionality of the vectors) be n. What is a good measure of similarity for this purpose ? Write the formula for it in terms of tf_ij.\n",
    "\n",
    "2. Consider the variable transformation given by idf_ij = tf_ij * log(m/df_i), where df_i is the document frequency, i.e. the number of documents in which the ith term occurs. The transformed variable idf_ij is called the inverse document frequency. What are the advantages of using this transformed variable instead of the original in the similarity computation ?"
   ]
  },
  {
   "cell_type": "markdown",
   "metadata": {},
   "source": [
    "### Solution"
   ]
  },
  {
   "cell_type": "markdown",
   "metadata": {},
   "source": [
    "#### Solution 5.1"
   ]
  },
  {
   "cell_type": "markdown",
   "metadata": {},
   "source": [
    "We need to compare the document term vectors. \n",
    "Frequency of ith word in xth document  = Vector A  <br>\n",
    "Frequency of ith word in yth document  = Vector B  <br>\n",
    "In order to find the similarity between these 2 vectors, cosine similarity would be the most appropriate solution.  <br>\n",
    "Formula for cosine similarity :   \n",
    "Cos(tf_ix, tf_iy) = tf_ix . tf_iy / ||tf_ix|| * ||tf_iy|| =<br>\n",
    "summation (tf_ix.tf_iy) / ((sqrt((summation tf_ix)^2))(sqrt((summation tf_iy)^2)))"
   ]
  },
  {
   "cell_type": "markdown",
   "metadata": {},
   "source": [
    "<font color='green'>Correct : 1 points</font> <br> \n",
    "<font color='red'>Incorrect formula substitution : 0 points</font> <br> \n",
    "Reasoning : The frequency of ith word in xth document is not a vector. \n",
    "\n",
    "Instead Vector A = [freq_x(term1) freq_x(term2) ... freq_x(termN)] for N terms in Xth document. Same for y (just replace freq_x by freq_y). \n",
    "\n",
    "Now the cosine similarity would be :\n",
    "Cos(VectorA, VectorB)  = [freq_x(term1)* freq_y(term1) +  freq_x (term2) * freq_y(term2)...+ freq_x(termN) * freq_y(termN)] / (magnitude (VectorA) * magnitude (VectorB)) "
   ]
  },
  {
   "cell_type": "markdown",
   "metadata": {},
   "source": [
    "#### Solution 5.2"
   ]
  },
  {
   "cell_type": "markdown",
   "metadata": {},
   "source": [
    "Cosine Similarity is invariant to scaling but not to translation. \n",
    "Here, we are transforming the variable by idf_ij = tf_ij * log(m/df_i)  <br>\n",
    "m = the number of documents  <br>\n",
    "df_i = number of documents in which the ith term occurs  <br>\n",
    "So, common words like 'it', 'to', 'the', 'is' are present in all the documents.  <br>\n",
    "In such cases, m=df_i; log(m/df_i) = log1 = 0   <br>\n",
    "tf_ij * 0 = 0. Thus it will be easy to eliminate such words from the document which do not contribute as an attribute.  <br>\n",
    "For words which are specific to a type of document will appear only in those documents. <br>\n",
    "df_i < m thus log of a positive number multiplied by the tf_ij will increase the frequency <font color='red'>Increase what frequency? </font> <br>. This will lead to weight increment of the significant words which in turn helps in determining the category of the document."
   ]
  },
  {
   "cell_type": "markdown",
   "metadata": {},
   "source": [
    "<font color='green'>Partially correct : 1.5 points</font> <br> \n",
    "<font color='blue'>Reasoning:</font> <br> \n",
    "The log calculations you have made are correct. However, you have not understood what vectors mean in this question. The vectors are not for each term. Each vector has all the terms. So, there should be no concept of determining the type of document here. "
   ]
  },
  {
   "cell_type": "markdown",
   "metadata": {},
   "source": [
    "\n",
    "    "
   ]
  },
  {
   "cell_type": "markdown",
   "metadata": {},
   "source": [
    "### Problem 6 (6 points)\n",
    "\n",
    "Write Python functions to compute the Hamming (L1) distance, SMC and Jaccard similarity coefficient between two binary vectors. Use them to these proximity measures between the following vectors:\n",
    "\n",
    "x = 1010101010101 \n",
    "\n",
    "y = 1000100010001"
   ]
  },
  {
   "cell_type": "markdown",
   "metadata": {},
   "source": [
    "### Solution"
   ]
  },
  {
   "cell_type": "code",
   "execution_count": 52,
   "metadata": {},
   "outputs": [
    {
     "name": "stdout",
     "output_type": "stream",
     "text": [
      "Hamming Distance= 3\n",
      "SMC =  0.7692307692307693\n",
      "Jaccard Similarity =  0.5714285714285714\n"
     ]
    }
   ],
   "source": [
    "x = 1,0,1,0,1,0,1,0,1,0,1,0,1\n",
    "y = 1,0,0,0,1,0,0,0,1,0,0,0,1\n",
    "\n",
    "def HammingDist(x,y):\n",
    "    count = 0\n",
    "    for a,b in zip(x,y):\n",
    "        if (x[a]!=y[b]):\n",
    "            count += 1\n",
    "    return count\n",
    "    \n",
    "print(\"Hamming Distance=\",HammingDist(x,y))\n",
    "\n",
    "\n",
    "\n",
    "def SMC(x,y):\n",
    "    count11 = 0\n",
    "    count01 = 0\n",
    "    count10 = 0\n",
    "    count00 = 0\n",
    "    for a,b in zip(x,y):\n",
    "             if (a==1 and b==1):\n",
    "                count11 = count11+1\n",
    "    \n",
    "             if (a ==0 and b==1):\n",
    "                 count01 = count01+1\n",
    "    \n",
    "             if (a==1 and b==0):\n",
    "                count10 = count10+1\n",
    "            \n",
    "             if (a==0 and b==0):\n",
    "                count00 = count00+1\n",
    "\n",
    "    return ((count11+count00)/(count00+count11+count10+count01))\n",
    "print(\"SMC = \",SMC(x,y) )\n",
    "\n",
    "\n",
    "\n",
    "def jaccard_similarity(x,y):\n",
    "    count11 = 0\n",
    "    count01 = 0\n",
    "    count10 = 0\n",
    "    for a,b in zip(x,y):\n",
    "             if (a==1 and b==1):\n",
    "                count11 = count11+1\n",
    "    \n",
    "             if (a ==0 and b==1):\n",
    "                 count01 = count01+1\n",
    "    \n",
    "             if (a==1 and b==0):\n",
    "                count10 = count10+1\n",
    "\n",
    "    return (count11/(count11+count10+count01))\n",
    "print(\"Jaccard Similarity = \",jaccard_similarity(x,y))"
   ]
  },
  {
   "cell_type": "markdown",
   "metadata": {},
   "source": [
    "<font color='green'>Correct: 6 points</font> <br>\n",
    "<font color='green'>Hint: For Future functions, check the indentation of the \"if\" loops. All of them are one indent ahead. Except for the first one. That is in correct position.</font> <br> "
   ]
  },
  {
   "cell_type": "markdown",
   "metadata": {},
   "source": [
    "### Problem 7 (6 points)\n",
    "\n",
    "Calculate the indicated similarity or distance measures of the vectors show below (you can do this by hand or by writing code, but please show the computation either way):\n",
    "\n",
    "x = (1,1,1,1) and y = (3,3,3,3) : cosine, correlation, Euclidean\n",
    "\n",
    "x = (0,1,0,1,0,1) and y = (1,0,1,0,1,0) : cosine, correlation, Euclidean, Jaccard \n",
    "\n",
    "x = (1,1,0,1,0,1) and y = (1,1,1,0,0,1) : cosine, correlation, Lmax, Jaccard"
   ]
  },
  {
   "cell_type": "markdown",
   "metadata": {},
   "source": [
    "### Solution"
   ]
  },
  {
   "cell_type": "code",
   "execution_count": 53,
   "metadata": {},
   "outputs": [
    {
     "name": "stdout",
     "output_type": "stream",
     "text": [
      "Cosine Similarity =  1.0\n",
      "Correlation=  0\n",
      "Correlation =  None\n",
      "Euclidean Distance =  4.0\n"
     ]
    }
   ],
   "source": [
    "import math\n",
    "\n",
    "x = (1,1,1,1) \n",
    "y = (3,3,3,3) \n",
    "\n",
    "def CosSim(x,y):\n",
    "    sumxx, sumxy, sumyy = 0, 0, 0\n",
    "    for i in range(len(x)):\n",
    "        sumxx += x[i]*x[i]\n",
    "        sumyy += y[i]*y[i]\n",
    "        sumxy += x[i]*y[i]\n",
    "    return sumxy/math.sqrt(sumxx*sumyy)\n",
    "print(\"Cosine Similarity = \",CosSim(x,y))\n",
    "\n",
    "def Corr(x,y):\n",
    "\n",
    "    meanX = sum(x)/len(x)\n",
    "    meanY = sum(y)/len(y)\n",
    "    deviationScoreX = 0\n",
    "    deviationScoreY = 0\n",
    "    crossProd = 0\n",
    "    for a,b in zip(x,y):        \n",
    "        deviationScoreX =  deviationScoreX + (a-meanX)**2\n",
    "        deviationScoreY =  deviationScoreY + (b-meanY)**2\n",
    "        crossProd = crossProd+(a-meanX)*(b-meanY)\n",
    "        \n",
    "    if(crossProd == 0):\n",
    "        print(\"Correlation= \",0)\n",
    "    else:\n",
    "        r = crossProd/ (math.sqrt(deviationScoreX)* math.sqrt(deviationScoreY))\n",
    "        print(\"meanX=\",meanX,\"MeanY=\",meanY, \"deviationScoreX=\",deviationScoreY,\"deviationScoreY=\",deviationScoreY,\"crossProd=\",crossProd,\"Correlation=\",r)    \n",
    "        return r\n",
    "\n",
    "print(\"Correlation = \",Corr(x,y))   \n",
    "\n",
    "def EDist(x,y):\n",
    "    return math.sqrt(sum([(a - b) ** 2 for a, b in zip(x, y)]))\n",
    "\n",
    "print(\"Euclidean Distance = \",EDist(x,y))\n"
   ]
  },
  {
   "cell_type": "markdown",
   "metadata": {},
   "source": [
    "<font color='green'>Correct : 2 points</font> <br>\n",
    "<font color='blue'>Hint: </font> <br>\n",
    "The Corr(x,y) function does not account for any possibility where your denominator (r, in your case) could be 0. \n",
    "So, next time try to put an if condition that checks if division by zero takes place. \n",
    "This is why you are getting Correlation as None. "
   ]
  },
  {
   "cell_type": "code",
   "execution_count": 127,
   "metadata": {},
   "outputs": [
    {
     "name": "stdout",
     "output_type": "stream",
     "text": [
      "Cosine Similarity =  0.0\n",
      "Correlation =  -1.0000000000000002\n",
      "Euclidean Distance =  2.449489742783178\n",
      "Jaccard Similarity =  0.0\n"
     ]
    }
   ],
   "source": [
    "import math\n",
    "x = (0,1,0,1,0,1) \n",
    "y = (1,0,1,0,1,0)\n",
    " \n",
    "def CosSim(x,y):\n",
    "    sumxx, sumxy, sumyy = 0, 0, 0\n",
    "    for i in range(len(x)):\n",
    "        sumxx += x[i]*x[i]\n",
    "        sumyy += y[i]*y[i]\n",
    "        sumxy += x[i]*y[i]\n",
    "    return sumxy/math.sqrt(sumxx*sumyy)\n",
    "print(\"Cosine Similarity = \",CosSim(x,y))\n",
    "\n",
    "def Corr(x,y):\n",
    "\n",
    "    meanX = sum(x)/len(x)\n",
    "    meanY = sum(y)/len(y)\n",
    "    deviationScoreX = 0\n",
    "    deviationScoreY = 0\n",
    "    crossProd = 0\n",
    "    for a,b in zip(x,y):        \n",
    "        deviationScoreX =  deviationScoreX + (a-meanX)**2\n",
    "        deviationScoreY =  deviationScoreY + (b-meanY)**2\n",
    "        crossProd = crossProd+(a-meanX)*(b-meanY)\n",
    "        \n",
    "    \n",
    "        r = crossProd/ (math.sqrt(deviationScoreX)* math.sqrt(deviationScoreY))\n",
    "        #print(\"meanX=\",meanX,\"MeanY=\",meanY, \"deviationScoreX=\",deviationScoreY,\"deviationScoreY=\",deviationScoreY,\"crossProd=\",crossProd,\"Correlation=\",r)    \n",
    "    return r\n",
    "    \n",
    "print(\"Correlation = \",Corr(x,y)) \n",
    "\n",
    "def EDist(x,y):\n",
    "    return math.sqrt(sum([(a - b) ** 2 for a, b in zip(x, y)]))\n",
    "\n",
    "print(\"Euclidean Distance = \",EDist(x,y))\n",
    "\n",
    "\n",
    "def jaccard_similarity(x,y):\n",
    "    count11 = 0\n",
    "    count01 = 0\n",
    "    count10 = 0\n",
    "    for a,b in zip(x,y):\n",
    "             if (a==1 and b==1):\n",
    "                count11 = count11+1\n",
    "    \n",
    "             if (a ==0 and b==1):\n",
    "                 count01 = count01+1\n",
    "    \n",
    "             if (a==1 and b==0):\n",
    "                count10 = count10+1\n",
    "    return (count11/(count11+count10+count01))    \n",
    "\n",
    "print(\"Jaccard Similarity = \",jaccard_similarity(x,y))\n"
   ]
  },
  {
   "cell_type": "markdown",
   "metadata": {},
   "source": [
    "<font color='green'>Correct : 2 points</font> <br>\n",
    "<font color='blue'>Hint: </font> <br>\n",
    "The same reasoning as before. Check for division by zero. Dont just hardcode and remove the if loop. \n",
    "You were correct earlier and then you just removed the if loop for some reason.\n",
    "Next time, try to put the division by zero error. "
   ]
  },
  {
   "cell_type": "code",
   "execution_count": 128,
   "metadata": {},
   "outputs": [
    {
     "name": "stdout",
     "output_type": "stream",
     "text": [
      "Cosine Similarity =  0.75\n",
      "Correlation =  0.24999999999999997\n",
      "Lmax =  1\n",
      "Jaccard Similarity =  0.6\n"
     ]
    }
   ],
   "source": [
    "import math\n",
    "x = (1,1,0,1,0,1) \n",
    "y = (1,1,1,0,0,1)\n",
    "\n",
    "def CosSim(x,y):\n",
    "    sumxx, sumxy, sumyy = 0, 0, 0\n",
    "    for i in range(len(x)):\n",
    "        sumxx += x[i]*x[i]\n",
    "        sumyy += y[i]*y[i]\n",
    "        sumxy += x[i]*y[i]\n",
    "    return sumxy/math.sqrt(sumxx*sumyy)\n",
    "print(\"Cosine Similarity = \",CosSim(x,y))\n",
    "\n",
    "def Corr(x,y):\n",
    "\n",
    "    meanX = sum(x)/len(x)\n",
    "    meanY = sum(y)/len(y)\n",
    "    deviationScoreX = 0\n",
    "    deviationScoreY = 0\n",
    "    crossProd = 0\n",
    "    for a,b in zip(x,y):        \n",
    "        deviationScoreX =  deviationScoreX + (a-meanX)**2\n",
    "        deviationScoreY =  deviationScoreY + (b-meanY)**2\n",
    "        crossProd = crossProd+(a-meanX)*(b-meanY)\n",
    "        \n",
    "    \n",
    "        r = crossProd/ (math.sqrt(deviationScoreX)* math.sqrt(deviationScoreY))\n",
    "        #print(\"meanX=\",meanX,\"MeanY=\",meanY, \"deviationScoreX=\",deviationScoreY,\"deviationScoreY=\",deviationScoreY,\"crossProd=\",crossProd,\"Correlation=\",r)    \n",
    "    return r\n",
    "    \n",
    "print(\"Correlation = \",Corr(x,y))  \n",
    "\n",
    "def Lmax(x,y):\n",
    "    maximum = float('-inf')\n",
    "    for i in range(len(x)):\n",
    "        if(abs(y[i]-x[i])>maximum):\n",
    "            maximum=abs(y[i]-x[i])\n",
    "    return maximum        \n",
    "\n",
    "print(\"Lmax = \",Lmax(x,y)) \n",
    "\n",
    "def jaccard_similarity(x,y):\n",
    "    count11 = 0\n",
    "    count01 = 0\n",
    "    count10 = 0\n",
    "    for a,b in zip(x,y):\n",
    "             if (a==1 and b==1):\n",
    "                count11 = count11+1\n",
    "    \n",
    "             if (a ==0 and b==1):\n",
    "                 count01 = count01+1\n",
    "    \n",
    "             if (a==1 and b==0):\n",
    "                count10 = count10+1\n",
    "    return (count11/(count11+count10+count01))    \n",
    "\n",
    "print(\"Jaccard Similarity = \",jaccard_similarity(x,y))"
   ]
  },
  {
   "cell_type": "markdown",
   "metadata": {},
   "source": [
    "<font color='green'>Correct : 2 points</font> <br>\n",
    "<font color='blue'>Hint: </font> <br>\n",
    "The same reasoning as before. Check for division by zero. Dont just hardcode and remove the if loop. \n",
    "You were correct earlier and then you just removed the if loop for some reason.\n",
    "Next time, try to put the division by zero error. You never know if you will encounter this condition in the if loop statements."
   ]
  },
  {
   "cell_type": "markdown",
   "metadata": {},
   "source": [
    "### Submission instructions\n",
    "\n",
    "1. Your assignment should be completed by filling in the empty solution cells in this Jupyter notebook file (.ipynb). Feel free to add more cells as needed.\n",
    "\n",
    "2. Please comment your code using either markdown or #comments and use meaningful variable names to make it as readable and intelligible as possible.\n",
    "\n",
    "3. Write your code in the form of functions. For example: \n",
    "\n",
    "    def my_code ():\n",
    "\n",
    "          #Write code here\n",
    "      \n",
    "          return \"The return value\"\n",
    "          \n",
    "\n",
    "4. If the problem is to find the value of 'x', printing 'x = (your answer)' will help us identify if your code worked.\n",
    "\n",
    "\n",
    "5. For code that refers to local data files downloaded from the internet, please keep the file path simple (e.g. ~/downloads/datafilename) so that it works on our copy of the dataset. Please do not modify either the filename or the file contents in any way.\n",
    "\n",
    "6. Solution to problems that do not require any coding can be typed up in their own cells using markdown.\n",
    "    \n",
    "7. Unless there are legitimate circumstances, late assignments will not be accepted.\n",
    "\n",
    "8. All assignments are individual.\n",
    "\n",
    "9. All the sources used for problem solution must be acknowledged, e.g. web sites, books, research papers, etc.\n",
    "\n",
    "10. Academic integrity is taken seriously; for detailed information see the RIT Honor Code and with RIT's Academic Integrity Policy."
   ]
  },
  {
   "cell_type": "markdown",
   "metadata": {},
   "source": [
    "<font color='green'>Total Marks: 49.5 points</font> <br>"
   ]
  },
  {
   "cell_type": "code",
   "execution_count": null,
   "metadata": {},
   "outputs": [],
   "source": []
  }
 ],
 "metadata": {
  "kernelspec": {
   "display_name": "Python 3",
   "language": "python",
   "name": "python3"
  },
  "language_info": {
   "codemirror_mode": {
    "name": "ipython",
    "version": 3
   },
   "file_extension": ".py",
   "mimetype": "text/x-python",
   "name": "python",
   "nbconvert_exporter": "python",
   "pygments_lexer": "ipython3",
   "version": "3.8.5"
  }
 },
 "nbformat": 4,
 "nbformat_minor": 4
}
