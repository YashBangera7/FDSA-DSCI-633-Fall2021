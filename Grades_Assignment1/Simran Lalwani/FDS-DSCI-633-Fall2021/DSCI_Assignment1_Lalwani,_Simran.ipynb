{
 "cells": [
  {
   "cell_type": "markdown",
   "metadata": {
    "id": "31_OiRCP_xxK"
   },
   "source": [
    "#RIT DSCI-633: Foundations of Data Science and Analytics\n",
    "\n",
    "##Assignment 1\n",
    "\n",
    "##Due: 11:59 pm EST, Saturday, Oct 2, 2021\n",
    "\n",
    "##Problem 1 (10 points)\n",
    "\n",
    "In statistics and probability theory, the law of large numbers is a theorem that describes the result of repeating the same experiment a large number of times. The theorem states that if the same experiment or study is repeated independently a large number of times, the average of the results of the trials must be close to the expected value. The result becomes closer to the expected value as the number of trials is increased. Let us look at a specific experiment.\n",
    "\n",
    "Assume you have a Gaussian distribution (commonly called a “bell curve”) with mean µ and std deviation σ. The area under the curve that lies between σ and 2σ, and –σ and -2σ is approximately 27.2%. In other words, approximately 27.2% of numbers generated randomly using this distribution will fall in the range [µ + σ, µ + 2σ] or [µ - 2σ, µ - σ], as shown below.\n",
    "\n",
    "Generate N random numbers that follow a Gaussian distribution with µ = 100, σ = 10, and count the numbers M that fall into the ranges above. Print the fraction M/N. Repeat this for N = 10, 100, 1000, 10000, and 1000000.\n",
    "\n",
    "Does the fraction start to approach 27.2%?\n",
    "\n",
    "\n",
    "##Solution"
   ]
  },
  {
   "cell_type": "code",
   "execution_count": 1,
   "metadata": {
    "colab": {
     "base_uri": "https://localhost:8080/"
    },
    "id": "QDkgXNaO_ny9",
    "outputId": "4f83256e-43c0-48ac-890a-0c77a080a5e1"
   },
   "outputs": [
    {
     "name": "stdout",
     "output_type": "stream",
     "text": [
      "n =  10 fraction value:  0.1\n",
      "n =  100 fraction value:  0.3\n",
      "n =  1000 fraction value:  0.264\n",
      "n =  10000 fraction value:  0.2731\n",
      "n =  1000000 fraction value:  0.272245\n"
     ]
    }
   ],
   "source": [
    "import numpy as np\n",
    "\n",
    "n_random_nums = [10,100,1000,10000,1000000]\n",
    "mean = 100\n",
    "std = 10\n",
    "\n",
    "for n in n_random_nums:\n",
    "  rand = np.random.normal(mean, std, size = n )\n",
    "  m = 0\n",
    "\n",
    "  for j in rand:\n",
    "    if (mean + std <= j <= mean + (2*std) or mean - (2*std) <= j <= mean - std):\n",
    "      m = m + 1\n",
    "  print(\"n = \" , n , \"fraction value: \" , m/n)\n",
    "\n",
    "  \n",
    "\n"
   ]
  },
  {
   "cell_type": "markdown",
   "metadata": {
    "id": "RqJYtD09pjLC"
   },
   "source": [
    "####As observed above, as N increases, the fraction (m/n) starts to approach 27.2% . "
   ]
  },
  {
   "cell_type": "markdown",
   "metadata": {},
   "source": [
    "<font color = 'green'> Correct : 10 points </font> "
   ]
  },
  {
   "cell_type": "markdown",
   "metadata": {
    "id": "09dil68KIKfv"
   },
   "source": [
    "##Problem 2 (5 points)\n",
    "\n",
    "Imagine you have a dataset of movie ratings for a set of 500 popular movies and a set of 1000 users. Each data sample contains the ratings of each movie (from 1 to 5 stars) by a specific user. The rating is an integer in the range [0,5], with a value of 0 means that the user did not watch that movie. How would you convert this data to a form suitable for association analysis? In particular, what type of attributes would you have and how many of them?\n",
    "\n",
    "##Solution\n",
    "\n",
    "Assuming a fixed set of 500 popular movies where each data sample has 500 attributes, I will have the movie_titles be rows and user rating [ranging from 1 to 5] be columns. Each rating will have it's own column, it is a single . We make this a asymmetric binarisation. \n",
    "\n",
    "The above dataset is now suitable for association analysis, as you have binary attribute per categorical value, so it is easy to identify unique relationships between attributes.\n",
    " \n",
    "\n"
   ]
  },
  {
   "cell_type": "markdown",
   "metadata": {},
   "source": [
    "<font color = 'green'> Correct : 5 points </font> "
   ]
  },
  {
   "cell_type": "markdown",
   "metadata": {
    "id": "mXUHqpi-Qa_f"
   },
   "source": [
    "##Problem 3 (5 points)\n",
    "\n",
    "Distinguish between noise and outliers\n",
    "\n",
    "1. True or False ? Noise may be in the form of noisy attribute values, or noise objects.\n",
    "\n",
    "2. True or False ? Noise is sometimes desirable.\n",
    "\n",
    "3. True or False ? Outliers are sometimes desirable.\n",
    "\n",
    "4. True or False ? Noise objects may or may not be outliers. Explain your reasoning.\n",
    "\n",
    "5. True or False ? Outlier objects may or may not be noise. Explain your reasoning.\n",
    "\n",
    "##Solution\n",
    "\n",
    "1. True. Noise may be in the form of noisy attribute values, or noise objects.\n",
    "\n",
    "2. False. Noise in attrbutes is undesirable by default, as it distorts the original attribute values.\n",
    "\n",
    "3. True. Outliers should be detected and removed from the dataset only if they are incorrectly entered or if they change the assumptions of the dataset. In some cases, removing outliers may result in underestimated variance. Hence outliers are sometimes desirable. \n",
    "\n",
    "4. True. Noisy data can appear as random or normal data. So noise objects can appear as outliers, but are not always outliers. \n",
    "\n",
    "5. True. Noise is meaningless data , whereas outliers are valid data objects that appear to be distant from the rest of the dataset, hence not all outliers can be classified as noise. "
   ]
  },
  {
   "cell_type": "markdown",
   "metadata": {},
   "source": [
    "<font color = 'green'> Correct : 5 points </font> "
   ]
  },
  {
   "cell_type": "markdown",
   "metadata": {
    "id": "_U_Hqeezg7Js"
   },
   "source": [
    "##Problem 4 (20 points)\n",
    "\n",
    "Download the ‘Diamonds’ dataset from https://www.kaggle.com/shivam2503/diamonds.\n",
    "\n",
    "1. Based on the description of the dataset provided at the site, categorize each attribute of the data as discrete or continuous, qualitative (nominal or ordinal), or quantitative (interval or ratio) (5 points) e.g. Age in years: Discrete, Quantitative, Ratio.\n",
    "2. Load the CSV data file into a Pandas DataFrame object and display the first 5 rows. (2 points)\n",
    "3. Calculate summary statistics: a. For each quantitative attribute: find the mean, median, standard deviation, and range. (3.5 points) b. For each qualitative attribute, find the mode. (1.5 points) c. Find the Interquartile Range (IQR) of the ‘price’ variable. (0.5 points)\n",
    "4. What fraction of the data samples have ‘cut’ that is ‘very good’ or better ? Create a bar plot showing the distribution of the data samples by ‘cut’ (one bar for each value of cut). (2.5 points)\n",
    "5. Plot a histogram of the 'carat' variable. (2 points)\n",
    "6. Plot a scatter plot of ‘carat’ vs ‘price’. (2 points)\n",
    "7. Compute the correlation between ‘carat’ and ‘price’. (1 point)\n",
    "\n",
    "##Solution\n",
    "\n",
    "##Solution 4.1\n",
    "\n",
    "1. Price- price in US dollars (\\$326--\\$18,823) : Continuous, Quantitative, Ratio\n",
    "\n",
    "2. Carat - weight of the diamond (0.2--5.01) : Continuous, Quantitative, Ratio \n",
    "\n",
    "3. Cut - quality of the cut (Fair, Good, Very Good, Premium, Ideal) : Discrete, Qualitative, Ordinal\n",
    "\n",
    "4. Color - diamond colour, from J (worst) to D (best) : Discrete, Qualitative, Ordinal\n",
    "\n",
    "5. Clarity - a measurement of how clear the diamond is (I1 (worst), SI2, SI1, VS2, VS1, VVS2, VVS1, IF (best)) : Discrete, Qualitative, Ordinal\n",
    "\n",
    "6. x - length in mm (0--10.74) : Continuous, Quantitative, Ratio\n",
    "\n",
    "7. y - width in mm (0--58.9) : Continuous, Quantitative, Ratio\n",
    "\n",
    "8. z - depth in mm (0--31.8) : Continuous, Quantitative, Ratio\n",
    "\n",
    "9. Depth - total depth percentage = z / mean(x, y) = 2 * z / (x + y) (43--79) : Continuous, Quantitative, Ratio \n",
    "\n",
    "10. Table - width of top of diamond relative to widest point (43--95) : Continuous, Quantitative, Ratio\n",
    " \n",
    "\n",
    "\n",
    "##Solution 4.2\n",
    "\n"
   ]
  },
  {
   "cell_type": "markdown",
   "metadata": {},
   "source": [
    "<font color = 'green'> Correct : 5 points </font> "
   ]
  },
  {
   "cell_type": "code",
   "execution_count": 4,
   "metadata": {
    "colab": {
     "base_uri": "https://localhost:8080/",
     "height": 221
    },
    "id": "Lr4ZFEDlyo8B",
    "outputId": "0d306255-9fbc-40fc-bf43-947fc948f2ba"
   },
   "outputs": [
    {
     "data": {
      "text/html": [
       "<div>\n",
       "<style scoped>\n",
       "    .dataframe tbody tr th:only-of-type {\n",
       "        vertical-align: middle;\n",
       "    }\n",
       "\n",
       "    .dataframe tbody tr th {\n",
       "        vertical-align: top;\n",
       "    }\n",
       "\n",
       "    .dataframe thead th {\n",
       "        text-align: right;\n",
       "    }\n",
       "</style>\n",
       "<table border=\"1\" class=\"dataframe\">\n",
       "  <thead>\n",
       "    <tr style=\"text-align: right;\">\n",
       "      <th></th>\n",
       "      <th>Unnamed: 0</th>\n",
       "      <th>carat</th>\n",
       "      <th>cut</th>\n",
       "      <th>color</th>\n",
       "      <th>clarity</th>\n",
       "      <th>depth</th>\n",
       "      <th>table</th>\n",
       "      <th>price</th>\n",
       "      <th>x</th>\n",
       "      <th>y</th>\n",
       "      <th>z</th>\n",
       "    </tr>\n",
       "  </thead>\n",
       "  <tbody>\n",
       "    <tr>\n",
       "      <th>0</th>\n",
       "      <td>1</td>\n",
       "      <td>0.23</td>\n",
       "      <td>Ideal</td>\n",
       "      <td>E</td>\n",
       "      <td>SI2</td>\n",
       "      <td>61.5</td>\n",
       "      <td>55.0</td>\n",
       "      <td>326</td>\n",
       "      <td>3.95</td>\n",
       "      <td>3.98</td>\n",
       "      <td>2.43</td>\n",
       "    </tr>\n",
       "    <tr>\n",
       "      <th>1</th>\n",
       "      <td>2</td>\n",
       "      <td>0.21</td>\n",
       "      <td>Premium</td>\n",
       "      <td>E</td>\n",
       "      <td>SI1</td>\n",
       "      <td>59.8</td>\n",
       "      <td>61.0</td>\n",
       "      <td>326</td>\n",
       "      <td>3.89</td>\n",
       "      <td>3.84</td>\n",
       "      <td>2.31</td>\n",
       "    </tr>\n",
       "    <tr>\n",
       "      <th>2</th>\n",
       "      <td>3</td>\n",
       "      <td>0.23</td>\n",
       "      <td>Good</td>\n",
       "      <td>E</td>\n",
       "      <td>VS1</td>\n",
       "      <td>56.9</td>\n",
       "      <td>65.0</td>\n",
       "      <td>327</td>\n",
       "      <td>4.05</td>\n",
       "      <td>4.07</td>\n",
       "      <td>2.31</td>\n",
       "    </tr>\n",
       "    <tr>\n",
       "      <th>3</th>\n",
       "      <td>4</td>\n",
       "      <td>0.29</td>\n",
       "      <td>Premium</td>\n",
       "      <td>I</td>\n",
       "      <td>VS2</td>\n",
       "      <td>62.4</td>\n",
       "      <td>58.0</td>\n",
       "      <td>334</td>\n",
       "      <td>4.20</td>\n",
       "      <td>4.23</td>\n",
       "      <td>2.63</td>\n",
       "    </tr>\n",
       "    <tr>\n",
       "      <th>4</th>\n",
       "      <td>5</td>\n",
       "      <td>0.31</td>\n",
       "      <td>Good</td>\n",
       "      <td>J</td>\n",
       "      <td>SI2</td>\n",
       "      <td>63.3</td>\n",
       "      <td>58.0</td>\n",
       "      <td>335</td>\n",
       "      <td>4.34</td>\n",
       "      <td>4.35</td>\n",
       "      <td>2.75</td>\n",
       "    </tr>\n",
       "  </tbody>\n",
       "</table>\n",
       "</div>"
      ],
      "text/plain": [
       "   Unnamed: 0  carat      cut color clarity  depth  table  price     x     y  \\\n",
       "0           1   0.23    Ideal     E     SI2   61.5   55.0    326  3.95  3.98   \n",
       "1           2   0.21  Premium     E     SI1   59.8   61.0    326  3.89  3.84   \n",
       "2           3   0.23     Good     E     VS1   56.9   65.0    327  4.05  4.07   \n",
       "3           4   0.29  Premium     I     VS2   62.4   58.0    334  4.20  4.23   \n",
       "4           5   0.31     Good     J     SI2   63.3   58.0    335  4.34  4.35   \n",
       "\n",
       "      z  \n",
       "0  2.43  \n",
       "1  2.31  \n",
       "2  2.31  \n",
       "3  2.63  \n",
       "4  2.75  "
      ]
     },
     "execution_count": 4,
     "metadata": {},
     "output_type": "execute_result"
    }
   ],
   "source": [
    "#Loading the CSV data file into a Pandas DataFrame object diamonds_df and displaying the first 5 rows.\n",
    "\n",
    "import pandas as pd\n",
    "\n",
    "diamonds_df = pd.read_csv(\"https://raw.githubusercontent.com/similalwani/FDS-DSCI-633-Fall2021/main/diamonds.csv?token=AVKXFNQL3NP2P5RQVLC5XULBLEFSI\")\n",
    "diamonds_df.head()"
   ]
  },
  {
   "cell_type": "markdown",
   "metadata": {},
   "source": [
    "<font color = 'green'> Correct : 2 points </font> "
   ]
  },
  {
   "cell_type": "markdown",
   "metadata": {
    "id": "YI1DQ65508Pl"
   },
   "source": [
    "##Solution 4.3"
   ]
  },
  {
   "cell_type": "code",
   "execution_count": 38,
   "metadata": {
    "id": "9-PpatGa07ik"
   },
   "outputs": [],
   "source": [
    "#Calculating the summary statistics\n",
    "\n",
    "quantitative_attributes = diamonds_df[['price', 'carat', 'depth', 'table', 'x', 'y', 'z']]\n",
    "qualitative_attributes = diamonds_df[['cut' , 'color', 'clarity']]\n"
   ]
  },
  {
   "cell_type": "code",
   "execution_count": 37,
   "metadata": {
    "colab": {
     "base_uri": "https://localhost:8080/"
    },
    "id": "5yVayyZx4Uar",
    "outputId": "81b7eab8-1257-4dde-8496-b61646ad5c09"
   },
   "outputs": [
    {
     "name": "stdout",
     "output_type": "stream",
     "text": [
      "The mean of the quantitative attributes is:\n",
      "  price    3932.799722\n",
      "carat       0.797940\n",
      "depth      61.749405\n",
      "table      57.457184\n",
      "x           5.731157\n",
      "y           5.734526\n",
      "z           3.538734\n",
      "dtype: float64\n",
      "\n",
      "The median of the quantitative attributes is:\n",
      " price    2401.00\n",
      "carat       0.70\n",
      "depth      61.80\n",
      "table      57.00\n",
      "x           5.70\n",
      "y           5.71\n",
      "z           3.53\n",
      "dtype: float64\n",
      "\n",
      "The standard deviation of the quantitative attributes is:\n",
      " price    3989.439738\n",
      "carat       0.474011\n",
      "depth       1.432621\n",
      "table       2.234491\n",
      "x           1.121761\n",
      "y           1.142135\n",
      "z           0.705699\n",
      "dtype: float64\n",
      "\n",
      "The range of the quantitative attributes is:  price    18497.00\n",
      "carat        4.81\n",
      "depth       36.00\n",
      "table       52.00\n",
      "x           10.74\n",
      "y           58.90\n",
      "z           31.80\n",
      "dtype: float64\n"
     ]
    }
   ],
   "source": [
    "#Solution 4.3a\n",
    "\n",
    "print(\"The mean of the quantitative attributes is:\\n \" , quantitative_attributes.mean())\n",
    "print(\"\\nThe median of the quantitative attributes is:\\n\",  quantitative_attributes.median())\n",
    "print(\"\\nThe standard deviation of the quantitative attributes is:\\n\",  quantitative_attributes.std())\n",
    "print(\"\\nThe range of the quantitative attributes is: \", quantitative_attributes.apply(lambda x: x.max() - x.min()))\n"
   ]
  },
  {
   "cell_type": "code",
   "execution_count": 43,
   "metadata": {
    "colab": {
     "base_uri": "https://localhost:8080/"
    },
    "id": "QObGG2-l4ZBr",
    "outputId": "ea38040f-e822-41ff-89d5-7cb8df4dbad4"
   },
   "outputs": [
    {
     "name": "stdout",
     "output_type": "stream",
     "text": [
      "The mode of the quantitative attributes is:\n",
      "      cut color clarity\n",
      "0  Ideal     G     SI1\n"
     ]
    }
   ],
   "source": [
    "#Solution 4.3b\n",
    "\n",
    "print(\"The mode of the quantitative attributes is:\\n\" , qualitative_attributes.mode())"
   ]
  },
  {
   "cell_type": "code",
   "execution_count": 44,
   "metadata": {
    "colab": {
     "base_uri": "https://localhost:8080/"
    },
    "id": "_3gtO_nE44Mk",
    "outputId": "af45e25d-bc81-4037-e766-01d333dadf23"
   },
   "outputs": [
    {
     "name": "stdout",
     "output_type": "stream",
     "text": [
      "The interquartile range of the Price variable is:  4374.25\n"
     ]
    }
   ],
   "source": [
    "#Solution 4.3c\n",
    "\n",
    "q1 = diamonds_df['price'].quantile(0.25)\n",
    "q3 = diamonds_df['price'].quantile(0.75)\n",
    "interquartile_range = q3-q1 \n",
    "\n",
    "print(\"The interquartile range of the Price variable is: \", interquartile_range)"
   ]
  },
  {
   "cell_type": "markdown",
   "metadata": {},
   "source": [
    "<font color = 'green'> Correct : 5.5 points </font> "
   ]
  },
  {
   "cell_type": "markdown",
   "metadata": {
    "id": "gr1xOEjN52Fr"
   },
   "source": [
    "##Solution 4.4"
   ]
  },
  {
   "cell_type": "code",
   "execution_count": 60,
   "metadata": {
    "colab": {
     "base_uri": "https://localhost:8080/",
     "height": 366
    },
    "id": "VkWzRB5j6JQh",
    "outputId": "680af06e-c2bb-46b2-a299-03dd919a2754"
   },
   "outputs": [
    {
     "name": "stdout",
     "output_type": "stream",
     "text": [
      "Fraction of the data samples having ‘cut’ that is ‘very good’ or better:  0.8791991101223582 . \n",
      "\n"
     ]
    },
    {
     "name": "stderr",
     "output_type": "stream",
     "text": [
      "/usr/local/lib/python3.7/dist-packages/seaborn/_decorators.py:43: FutureWarning: Pass the following variable as a keyword arg: x. From version 0.12, the only valid positional argument will be `data`, and passing other arguments without an explicit keyword will result in an error or misinterpretation.\n",
      "  FutureWarning\n"
     ]
    },
    {
     "data": {
      "image/png": "[encoded data removed]",
      "text/plain": [
       "<Figure size 432x288 with 1 Axes>"
      ]
     },
     "metadata": {
      "needs_background": "light"
     },
     "output_type": "display_data"
    }
   ],
   "source": [
    "#Fraction of the data samples having ‘cut’ that is ‘very good’ or better\n",
    "\n",
    "Fraction = sum(diamonds_df['cut'].isin([\"Very Good\", 'Premium', 'Ideal']))/len(diamonds_df)\n",
    "print(\"Fraction of the data samples having ‘cut’ that is ‘very good’ or better: \", Fraction ,\". \\n\")\n",
    "\n",
    "#Barplot showing the distribution of the data samples by ‘cut’\n",
    "import seaborn as sns\n",
    "import matplotlib.pyplot as plt\n",
    "\n",
    "sns.countplot(diamonds_df['cut'])\n",
    "plt.xlabel(\"Cut (quality)\")\n",
    "plt.show()"
   ]
  },
  {
   "cell_type": "markdown",
   "metadata": {},
   "source": [
    "<font color = 'green'> Correct : 2.5 points </font> "
   ]
  },
  {
   "cell_type": "markdown",
   "metadata": {
    "id": "0IwSu1KO7bt-"
   },
   "source": [
    "#Solution 4.5"
   ]
  },
  {
   "cell_type": "code",
   "execution_count": 64,
   "metadata": {
    "colab": {
     "base_uri": "https://localhost:8080/",
     "height": 300
    },
    "id": "NB37jd247bDk",
    "outputId": "10772339-cd8d-437d-f813-2022c4491185"
   },
   "outputs": [
    {
     "data": {
      "image/png": "[encoded data removed]",
      "text/plain": [
       "<Figure size 432x288 with 1 Axes>"
      ]
     },
     "metadata": {
      "needs_background": "light"
     },
     "output_type": "display_data"
    }
   ],
   "source": [
    "#Plotting the histogram of the carat variable\n",
    "\n",
    "plt.hist(diamonds_df['carat'])\n",
    "plt.xlabel(\"Weight of the diamond\")\n",
    "plt.show()"
   ]
  },
  {
   "cell_type": "markdown",
   "metadata": {},
   "source": [
    "<font color = 'green'> Correct : 2 points </font> "
   ]
  },
  {
   "cell_type": "markdown",
   "metadata": {
    "id": "6GmHXw_k8USe"
   },
   "source": [
    "##Solution 4.6"
   ]
  },
  {
   "cell_type": "code",
   "execution_count": 65,
   "metadata": {
    "colab": {
     "base_uri": "https://localhost:8080/",
     "height": 580
    },
    "id": "2BpulgGs8W5_",
    "outputId": "37eec792-54aa-4ab5-af61-132f5dfe36e6"
   },
   "outputs": [
    {
     "data": {
      "image/png": "[encoded data removed]",
      "text/plain": [
       "<Figure size 432x288 with 1 Axes>"
      ]
     },
     "metadata": {
      "needs_background": "light"
     },
     "output_type": "display_data"
    },
    {
     "name": "stdout",
     "output_type": "stream",
     "text": [
      "\n",
      "\n"
     ]
    },
    {
     "data": {
      "image/png": "[encoded data removed]",
      "text/plain": [
       "<Figure size 432x288 with 1 Axes>"
      ]
     },
     "metadata": {
      "needs_background": "light"
     },
     "output_type": "display_data"
    }
   ],
   "source": [
    "#Scatter plot of ‘carat’ vs ‘price’\n",
    "\n",
    "plt.scatter(diamonds_df[\"carat\"], diamonds_df['price'])\n",
    "plt.show()\n",
    "plt.xlabel(\"Carat\")\n",
    "plt.ylabel(\"Price\")\n",
    "\n",
    "print(\"\\n\")\n",
    "\n",
    "sns.scatterplot(data=diamonds_df, x = \"carat\", y=\"price\")\n",
    "plt.show()"
   ]
  },
  {
   "cell_type": "markdown",
   "metadata": {},
   "source": [
    "<font color = 'green'> Correct : 2 points </font> "
   ]
  },
  {
   "cell_type": "markdown",
   "metadata": {
    "id": "KviwU-Jn9J-o"
   },
   "source": [
    "##Solution 4.7"
   ]
  },
  {
   "cell_type": "code",
   "execution_count": 67,
   "metadata": {
    "colab": {
     "base_uri": "https://localhost:8080/"
    },
    "id": "EKp9HQ3Q9MRJ",
    "outputId": "6c22c04a-36a2-495d-db1f-17335b1020aa"
   },
   "outputs": [
    {
     "name": "stdout",
     "output_type": "stream",
     "text": [
      "          carat     price\n",
      "carat  1.000000  0.921591\n",
      "price  0.921591  1.000000\n"
     ]
    }
   ],
   "source": [
    "#Finding the correlation between ‘carat’ and ‘price’\n",
    "\n",
    "print(diamonds_df[['carat', \"price\"]].corr())"
   ]
  },
  {
   "cell_type": "markdown",
   "metadata": {},
   "source": [
    "<font color = 'green'> Correct : 1 point </font> "
   ]
  },
  {
   "cell_type": "markdown",
   "metadata": {
    "id": "wjCs2_d9IGtP"
   },
   "source": [
    "#Problem 5 (4 points)\n",
    "\n",
    "We have a collection of m documents.\n",
    "\n",
    "Let us say we would like to compare two documents x and y using their document term vectors.\n",
    "\n",
    "Let tf_ij be the frequency of the ith word (term) in the jth document\n",
    "\n",
    "1. Let the vocabulary size (the dimensionality of the vectors) be n. What is a good measure of similarity for this purpose ? Write the formula for it in terms of tf_ij.\n",
    "\n",
    "2. Consider the variable transformation given by idf_ij = tf_ij * log(m/df_i), where df_i is the document frequency, i.e. the number of documents in which the ith term occurs. The transformed variable idf_ij is called the inverse document frequency. What are the advantages of using this transformed variable instead of the original in the similarity computation ?\n",
    "\n",
    "##Solution\n",
    "\n"
   ]
  },
  {
   "cell_type": "markdown",
   "metadata": {
    "id": "hQBRM004Na3c"
   },
   "source": [
    "\n",
    "##Solution 5.1\n",
    "\n",
    "##psuedo code\n",
    "\n",
    "#Cosine is a good measure of similarity for this purpose. \n",
    "\n",
    "### Calculating cosine similarity between two documents x and y -\n",
    "### cos( x, y ) =  <x,y> / ||x|| ||y||\n",
    "### Assuming that the setup is 0 indexed we can calculate each term as follows -\n",
    "### top_sum = 0\n",
    "### bot_x = 0\n",
    "### bot_y = 0\n",
    "### for i in range(n):\n",
    "###    top_sum += tf_ix * tf_iy\n",
    "###    bot_x += tf_ix**2\n",
    "###    bot_y += yf_iy**2\n",
    "### return top_sum/(math.sqrt(bot_x)*math.sqrt(bot_y))"
   ]
  },
  {
   "cell_type": "markdown",
   "metadata": {},
   "source": [
    "<font color = 'green'> Correct : 2 points </font> "
   ]
  },
  {
   "cell_type": "markdown",
   "metadata": {
    "id": "fMqTYZi0NmrE"
   },
   "source": [
    "##Solution 5.2\n"
   ]
  },
  {
   "cell_type": "markdown",
   "metadata": {
    "id": "jU31t-F0IZxD"
   },
   "source": [
    "#Problem 6 (6 points)\n",
    "\n",
    "Write Python functions to compute the Hamming (L1) distance, SMC and Jaccard similarity coefficient between two binary vectors. Use them to these proximity measures between the following vectors:\n",
    "\n",
    "x = 1010101010101\n",
    "\n",
    "y = 1000100010001\n",
    "\n",
    "##Solution"
   ]
  },
  {
   "cell_type": "markdown",
   "metadata": {
    "id": "Nmw3eELMOXjq"
   },
   "source": [
    "#Hamming (L1) Distance"
   ]
  },
  {
   "cell_type": "code",
   "execution_count": 93,
   "metadata": {
    "colab": {
     "base_uri": "https://localhost:8080/"
    },
    "id": "-Bi4OeDEJUfd",
    "outputId": "2d04524c-a970-41bc-b687-2978b12c4be0"
   },
   "outputs": [
    {
     "name": "stdout",
     "output_type": "stream",
     "text": [
      "0.23076923076923078\n"
     ]
    }
   ],
   "source": [
    "#Computing Hamming distance\n",
    "\n",
    "x_values = [1,0,1,0,1,0,1,0,1,0,1,0,1]\n",
    "y_values = [1,0,0,0,1,0,0,0,1,0,0,0,1]\n",
    "\n",
    "def hamming_distance(x,y):\n",
    "  count = 0\n",
    "  for a, b in zip(x,y):\n",
    "    if a!=b:\n",
    "      count += 1\n",
    "  return (count/len(x))\n",
    "\n",
    "print(hamming_distance(x_values,y_values))"
   ]
  },
  {
   "cell_type": "markdown",
   "metadata": {
    "id": "LFqSCsQMOT99"
   },
   "source": [
    "#SMC"
   ]
  },
  {
   "cell_type": "code",
   "execution_count": 94,
   "metadata": {
    "colab": {
     "base_uri": "https://localhost:8080/"
    },
    "id": "mz3TlEkYOSO6",
    "outputId": "f0594485-0415-4e03-e48e-890dada2228e"
   },
   "outputs": [
    {
     "name": "stdout",
     "output_type": "stream",
     "text": [
      "0.7692307692307693\n"
     ]
    }
   ],
   "source": [
    "def smc(x,y):\n",
    "  count = 0\n",
    "  for a, b in zip(x,y):\n",
    "    if a==b:\n",
    "      count += 1\n",
    "  return (count/len(x))\n",
    "\n",
    "print(smc(x_values,y_values))\n"
   ]
  },
  {
   "cell_type": "markdown",
   "metadata": {
    "id": "YZYT00thPGsU"
   },
   "source": [
    "##Jaccard"
   ]
  },
  {
   "cell_type": "code",
   "execution_count": 95,
   "metadata": {
    "colab": {
     "base_uri": "https://localhost:8080/"
    },
    "id": "Sl0woQVVPGMd",
    "outputId": "d826c96b-7ade-4635-ecd5-32377adb7a82"
   },
   "outputs": [
    {
     "name": "stdout",
     "output_type": "stream",
     "text": [
      "0.5714285714285714\n"
     ]
    }
   ],
   "source": [
    "def Jaccard(x,y):\n",
    "  count = 0\n",
    "  reduce_num = 0\n",
    "  for a,b in zip(x,y):\n",
    "    if a==1 and b==1:\n",
    "      count+=1\n",
    "    if a==0 and b==0:\n",
    "      reduce_num+=1\n",
    "  return (count/(len(x) - reduce_num))\n",
    "\n",
    "print(Jaccard(x_values,y_values))"
   ]
  },
  {
   "cell_type": "markdown",
   "metadata": {},
   "source": [
    "<font color = 'blue'> Partially Correct : 4 points </font> "
   ]
  },
  {
   "cell_type": "markdown",
   "metadata": {
    "id": "_WlbtucaJHAh"
   },
   "source": [
    "#Problem 7 (6 points)\n",
    "\n",
    "Calculate the indicated similarity or distance measures of the vectors show below (you can do this by hand or by writing code, but please show the computation either way):\n",
    "\n",
    "x = (1,1,1,1) and y = (3,3,3,3) : cosine, correlation, Euclidean\n",
    "\n",
    "x = (0,1,0,1,0,1) and y = (1,0,1,0,1,0) : cosine, correlation, Euclidean, Jaccard\n",
    "\n",
    "x = (1,1,0,1,0,1) and y = (1,1,1,0,0,1) : cosine, correlation, Lmax, Jaccard\n",
    "\n",
    "##Solution"
   ]
  },
  {
   "cell_type": "code",
   "execution_count": 97,
   "metadata": {
    "id": "HrpAN7UjQRbQ"
   },
   "outputs": [],
   "source": [
    "#solution 7\n",
    "#creating functions for each distance measure\n",
    "\n",
    "def cosine(x, y):\n",
    "   return np.dot(x,y)/(np.linalg.norm(x) * np.linalg.norm(y))\n",
    "\n",
    "def euclidean(x, y):\n",
    "    sum = 0\n",
    "    for i in range(len(x)):\n",
    "        sum += (int(x[i]) - int(y[i]))**2\n",
    "    return math.sqrt(sum)\n",
    "\n",
    "def std(x):\n",
    "    sum = 0\n",
    "    mean_x = mean(x)\n",
    "    for i in range(len(x)):\n",
    "        sum += (int(x[i]) - mean_x)**2\n",
    "    return math.sqrt(sum/(len(x) - 1))\n",
    "\n",
    "def Lmax(x,y):\n",
    "    max_val = 0\n",
    "    for i in range(len(x)):\n",
    "        max_val = max(max_val, abs(int(x[i]) - int(y[i])))\n",
    "    return max_val\n",
    "\n",
    "def Jaccard(x,y):\n",
    "  count = 0\n",
    "  reduce_num = 0\n",
    "  for a,b in zip(x,y):\n",
    "    if a==1 and b==1:\n",
    "      count+=1\n",
    "    if a==0 and b==0:\n",
    "      reduce_num+=1\n",
    "  return (count/(len(x) - reduce_num))\n"
   ]
  },
  {
   "cell_type": "markdown",
   "metadata": {},
   "source": [
    "<font color = 'blue'> Partially Correct : 4.5 points </font> "
   ]
  },
  {
   "cell_type": "markdown",
   "metadata": {
    "id": "TPsLaozoS1Yq"
   },
   "source": [
    "#Submission instructions\n",
    "\n",
    "1. Your assignment should be completed by filling in the empty solution cells in this Jupyter notebook file (.ipynb). Feel free to add more cells as needed.\n",
    "2. Please comment your code using either markdown or #comments and use meaningful variable names to make it as readable and intelligible as possible.\n",
    "3. Write your code in the form of functions. For example:\n",
    "def my_code ():\n",
    "   #Write code here\n",
    "\n",
    "   return \"The return value\"\n",
    "1. If the problem is to find the value of 'x', printing 'x = (your answer)' will help us identify if your code worked. For code that refers to local data files downloaded from the internet, please keep the file path simple (e.g. ~/downloads/datafilename) so that it works on our copy of the dataset. Please do not modify either the filename or the file contents in any way.\n",
    "2. Solution to problems that do not require any coding can be typed up in their own cells using markdown.\n",
    "3. Unless there are legitimate circumstances, late assignments will not be accepted.\n",
    "4. All assignments are individual.\n",
    "5. All the sources used for problem solution must be acknowledged, e.g. web sites, books, research papers, etc.\n",
    "6. Academic integrity is taken seriously; for detailed information see the RIT Honor Code and with RIT's Academic Integrity Policy."
   ]
  },
  {
   "cell_type": "markdown",
   "metadata": {
    "id": "YO3JkkI-N2N1"
   },
   "source": [
    "##Acknowledgements:\n",
    "\n",
    "1. Kaggle\n",
    "2. https://www.wikiwand.com/en/Tf–idf\n",
    "3. class slides"
   ]
  },
  {
   "cell_type": "markdown",
   "metadata": {},
   "source": [
    "<font color = 'green'> Total score : 50.5 points </font> "
   ]
  },
  {
   "cell_type": "code",
   "execution_count": null,
   "metadata": {},
   "outputs": [],
   "source": []
  }
 ],
 "metadata": {
  "colab": {
   "name": "DSCI-Assignment1-Lalwani, Simran.ipynb",
   "provenance": []
  },
  "kernelspec": {
   "display_name": "Python 3",
   "language": "python",
   "name": "python3"
  },
  "language_info": {
   "codemirror_mode": {
    "name": "ipython",
    "version": 3
   },
   "file_extension": ".py",
   "mimetype": "text/x-python",
   "name": "python",
   "nbconvert_exporter": "python",
   "pygments_lexer": "ipython3",
   "version": "3.8.5"
  }
 },
 "nbformat": 4,
 "nbformat_minor": 1
}
