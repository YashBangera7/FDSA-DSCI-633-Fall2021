{
 "cells": [
  {
   "cell_type": "markdown",
   "metadata": {},
   "source": [
    "# RIT DSCI-633: Foundations of Data Science and Analytics\n",
    "## Assignment 1\n",
    "### Due: 11:59 pm EST, Saturday, Oct 2, 2021"
   ]
  },
  {
   "cell_type": "markdown",
   "metadata": {},
   "source": [
    "### Problem 1 (10 points)\n",
    "\n",
    "In statistics and probability theory, the law of large numbers is a theorem that describes the result of\n",
    "repeating the same experiment a large number of times. The theorem states that if the same\n",
    "experiment or study is repeated independently a large number of times, the average of the results of\n",
    "the trials must be close to the expected value. The result becomes closer to the expected value as the\n",
    "number of trials is increased. Let us look at a specific experiment.\n",
    "\n",
    "Assume you have a Gaussian distribution (commonly called a “bell curve”) with mean µ and std\n",
    "deviation σ. The area under the curve that lies between σ and 2σ, and –σ and -2σ is approximately\n",
    "27.2%. In other words, approximately 27.2% of numbers generated randomly using this distribution will\n",
    "fall in the range [µ + σ, µ + 2σ] or [µ - 2σ, µ - σ], as shown below.\n",
    "\n",
    "Generate N random numbers that follow a Gaussian distribution with µ = 100, σ = 10, and count the\n",
    "numbers M that fall into the ranges above. Print the fraction M/N. Repeat this for N = 10, 100, 1000,\n",
    "10000, and 1000000.\n",
    "\n",
    "Does the fraction start to approach 27.2%?\n"
   ]
  },
  {
   "cell_type": "markdown",
   "metadata": {},
   "source": [
    "### Solution"
   ]
  },
  {
   "cell_type": "code",
   "execution_count": 1,
   "metadata": {},
   "outputs": [],
   "source": [
    "#import packages \n",
    "import numpy as np\n",
    "import pandas as pd\n",
    "import matplotlib.pyplot as plt"
   ]
  },
  {
   "cell_type": "code",
   "execution_count": 2,
   "metadata": {},
   "outputs": [],
   "source": [
    "#Generate arrays of random samples from normal distribution\n",
    "N=[10,100,1000,10000,1000000]\n",
    "def generateNormSample(mu,sigma,list_sample_sizes):\n",
    "    import numpy as np\n",
    "    samplesN=[]\n",
    "    for n in list_sample_sizes:\n",
    "        randomSample = np.random.normal(loc=mu,scale=sigma,size=n)\n",
    "        samplesN.append(randomSample)\n",
    "    return samplesN\n",
    "samplesN=generateNormSample(100,10,N)\n",
    "        "
   ]
  },
  {
   "cell_type": "code",
   "execution_count": 3,
   "metadata": {},
   "outputs": [
    {
     "name": "stdout",
     "output_type": "stream",
     "text": [
      "Proportion M/N for N = 10: 0.1\n",
      "Proportion M/N for N = 100: 0.26\n",
      "Proportion M/N for N = 1000: 0.271\n",
      "Proportion M/N for N = 10000: 0.2772\n",
      "Proportion M/N for N = 1000000: 0.271555\n"
     ]
    }
   ],
   "source": [
    "#We are looking for fraction of numbers between [mu-2sigma, mu-sigma] or [mu+sigma,mu+2sigma].\n",
    "#So we are looking for proportion of numbers [80,90] or [110,120]\n",
    "\n",
    "for n in range(len(samplesN)):\n",
    "    #Creates a boolean numpy array that shows how many numbers satisfy conditions\n",
    "    #and sums for the total true=1 false=0\n",
    "    M=np.sum((samplesN[n]>80) & (samplesN[n]<90)) + np.sum((samplesN[n]>110)&(samplesN[n]<120))\n",
    "    N=len(samplesN[n])\n",
    "    proportion=M/N\n",
    "    print(\"Proportion M/N for N = \"+str(N)+\": \"+str(proportion))"
   ]
  },
  {
   "cell_type": "code",
   "execution_count": 4,
   "metadata": {},
   "outputs": [],
   "source": [
    "#As we can see above, the proportion does converge to the thoretical proportion of\n",
    "#approximately 27.2%"
   ]
  },
  {
   "cell_type": "markdown",
   "metadata": {},
   "source": [
    "<font color = 'green'> Correct : 10 points </font> "
   ]
  },
  {
   "cell_type": "markdown",
   "metadata": {},
   "source": [
    "### Problem 2 (5 points)\n",
    "\n",
    "Imagine you have a dataset of movie ratings for a set of 500 popular movies and a set of 1000 users.\n",
    "Each data sample contains the ratings of each movie (from 1 to 5 stars) by a specific user. The rating is\n",
    "an integer in the range [0,5], with a value of 0 means that the user did not watch that movie.\n",
    "How would you convert this data to a form suitable for association analysis? In particular, what type of\n",
    "attributes would you have and how many of them?\n",
    "\n"
   ]
  },
  {
   "cell_type": "markdown",
   "metadata": {},
   "source": [
    "### Solution"
   ]
  },
  {
   "cell_type": "markdown",
   "metadata": {},
   "source": [
    "The table would consist of 1000 rows and 500 columns, with each row representing an individual user and each column representing an individual movie.  The original rating scale would be changed from [0,5] to [0,3] to be interpreted as 0 - did not see, 1 - did not like, 2 - neutral, and 3 - liked. A value of 0 would remain \"did not see\".  A value of 1 would be the binning of the original values [1,2].  A value of 2 would be the binning of the original value [3].  And a value of 3 would be a binning of the original values [4,5].  This transformation would sacrifice granularity to provide a clearer signal as for the purpose of our association analysis i.e. finding a general associative pattern in user movie preferences.  To be most clear, the question we are trying to answer is, \"do certain sets of movie preferences associate to other sets of movie preferences\".  Further, higher level, analysis could then be conducted by grouping the movies by genre and taking the average score over each genre for each user.  Associations obtained by this higher level analysis would easily carry some predictive power by telling us that users who like a certain set of genres often like another specific set of genres.  This information would allow us to more effectively suggest new movies to users based on their past choices."
   ]
  },
  {
   "cell_type": "markdown",
   "metadata": {},
   "source": [
    "<font color = 'red'> Incorrect : 0 points </font> \n",
    "For association analysis, we require binary asymmetric attributes.\n",
    "\n",
    "Since each rating can take 6 possible values, we would need to replace it with 6 asymmetric binary attributes\n",
    "of the form (rating == 0?) (rating == 1?) ...\n",
    "\n",
    "This will give us 500 x 6 = **3000 binary attributes per user**.  \n",
    "The resulting sparse data matrix would be **1000 rows x 3000 columns**."
   ]
  },
  {
   "cell_type": "markdown",
   "metadata": {},
   "source": [
    "### Problem 3 (5 points)\n",
    "\n",
    "Distinguish between noise and outliers\n",
    "\n",
    "1. True or False ? Noise may be in the form of noisy attribute values, or noise objects.\n",
    "2. True or False ? Noise is sometimes desirable.\n",
    "3. True or False ? Outliers are sometimes desirable.\n",
    "4. True or False ? Noise objects may or may not be outliers. Explain your reasoning.\n",
    "5. True or False ? Outlier objects may or may not be noise. Explain your reasoning."
   ]
  },
  {
   "cell_type": "markdown",
   "metadata": {},
   "source": [
    "### Solution"
   ]
  },
  {
   "cell_type": "markdown",
   "metadata": {},
   "source": [
    "1. True\n",
    "\n",
    "2. False\n",
    "\n",
    "3. True\n",
    "\n",
    "4. False. Noise objects are by definition noise and therefore are not outliers \n",
    "\n",
    "5. True.  Outlier objects may be noise or may just be a part of the phenomona that our model is not accounting for."
   ]
  },
  {
   "cell_type": "markdown",
   "metadata": {},
   "source": [
    "<font color = 'blue'> Partially Correct : 4 points </font> "
   ]
  },
  {
   "cell_type": "markdown",
   "metadata": {},
   "source": [
    "### Problem 4 (20 points)\n",
    "Download the ‘Diamonds’ dataset from https://www.kaggle.com/shivam2503/diamonds.\n",
    "1. Based on the description of the dataset provided at the site, categorize each attribute of the data as\n",
    "discrete or continuous, qualitative (nominal or ordinal), or quantitative (interval or ratio)  (5 points)\n",
    "e.g. Age in years: Discrete, Quantitative, Ratio.\n",
    "2. Load the CSV data file into a Pandas DataFrame object and display the first 5 rows. (2 points)\n",
    "3. Calculate summary statistics:\n",
    "a. For each quantitative attribute: find the mean, median, standard deviation, and range. (3.5 points)\n",
    "b. For each qualitative attribute, find the mode. (1.5 points)\n",
    "c. Find the Interquartile Range (IQR) of the ‘price’ variable. (0.5 points)\n",
    "4. What fraction of the data samples have ‘cut’ that is ‘very good’ or better ? Create a bar plot\n",
    "showing the distribution of the data samples by ‘cut’ (one bar for each value of cut). (2.5 points)\n",
    "5. Plot a histogram of the 'carat' variable. (2 points)\n",
    "6. Plot a scatter plot of ‘carat’ vs ‘price’. (2 points)\n",
    "7. Compute the correlation between ‘carat’ and ‘price’. (1 point)"
   ]
  },
  {
   "cell_type": "markdown",
   "metadata": {},
   "source": [
    "### Solution"
   ]
  },
  {
   "cell_type": "markdown",
   "metadata": {},
   "source": [
    "#### Solution 4.1"
   ]
  },
  {
   "cell_type": "markdown",
   "metadata": {},
   "source": [
    "Your answer: "
   ]
  },
  {
   "cell_type": "markdown",
   "metadata": {},
   "source": [
    "Price: continuous, quantitative, ratio"
   ]
  },
  {
   "cell_type": "markdown",
   "metadata": {},
   "source": [
    "Weight: continuous, quantitative, ratio"
   ]
  },
  {
   "cell_type": "markdown",
   "metadata": {},
   "source": [
    "Cut: discrete, qualitative, ordinal"
   ]
  },
  {
   "cell_type": "markdown",
   "metadata": {},
   "source": [
    "Color: discrete, qualitative, ordinal"
   ]
  },
  {
   "cell_type": "markdown",
   "metadata": {},
   "source": [
    "Clarity: discrete, qualitative, ordinal"
   ]
  },
  {
   "cell_type": "markdown",
   "metadata": {},
   "source": [
    "x: continuous, quantitative, ratio"
   ]
  },
  {
   "cell_type": "markdown",
   "metadata": {},
   "source": [
    "y: continuous, quantitative, ratio"
   ]
  },
  {
   "cell_type": "markdown",
   "metadata": {},
   "source": [
    "z: continuous, quantitative, ratio"
   ]
  },
  {
   "cell_type": "markdown",
   "metadata": {},
   "source": [
    "depth: continuous, quantitative, ratio"
   ]
  },
  {
   "cell_type": "markdown",
   "metadata": {},
   "source": [
    "table: continuous, quantitative, ratio"
   ]
  },
  {
   "cell_type": "markdown",
   "metadata": {},
   "source": [
    "<font color = 'green'> Correct : 5 points </font> "
   ]
  },
  {
   "cell_type": "markdown",
   "metadata": {},
   "source": [
    "#### Solution 4.2"
   ]
  },
  {
   "cell_type": "code",
   "execution_count": 5,
   "metadata": {},
   "outputs": [
    {
     "data": {
      "text/html": [
       "<div>\n",
       "<style scoped>\n",
       "    .dataframe tbody tr th:only-of-type {\n",
       "        vertical-align: middle;\n",
       "    }\n",
       "\n",
       "    .dataframe tbody tr th {\n",
       "        vertical-align: top;\n",
       "    }\n",
       "\n",
       "    .dataframe thead th {\n",
       "        text-align: right;\n",
       "    }\n",
       "</style>\n",
       "<table border=\"1\" class=\"dataframe\">\n",
       "  <thead>\n",
       "    <tr style=\"text-align: right;\">\n",
       "      <th></th>\n",
       "      <th>carat</th>\n",
       "      <th>cut</th>\n",
       "      <th>color</th>\n",
       "      <th>clarity</th>\n",
       "      <th>depth</th>\n",
       "      <th>table</th>\n",
       "      <th>price</th>\n",
       "      <th>x</th>\n",
       "      <th>y</th>\n",
       "      <th>z</th>\n",
       "    </tr>\n",
       "  </thead>\n",
       "  <tbody>\n",
       "    <tr>\n",
       "      <th>0</th>\n",
       "      <td>0.23</td>\n",
       "      <td>Ideal</td>\n",
       "      <td>E</td>\n",
       "      <td>SI2</td>\n",
       "      <td>61.5</td>\n",
       "      <td>55.0</td>\n",
       "      <td>326</td>\n",
       "      <td>3.95</td>\n",
       "      <td>3.98</td>\n",
       "      <td>2.43</td>\n",
       "    </tr>\n",
       "    <tr>\n",
       "      <th>1</th>\n",
       "      <td>0.21</td>\n",
       "      <td>Premium</td>\n",
       "      <td>E</td>\n",
       "      <td>SI1</td>\n",
       "      <td>59.8</td>\n",
       "      <td>61.0</td>\n",
       "      <td>326</td>\n",
       "      <td>3.89</td>\n",
       "      <td>3.84</td>\n",
       "      <td>2.31</td>\n",
       "    </tr>\n",
       "    <tr>\n",
       "      <th>2</th>\n",
       "      <td>0.23</td>\n",
       "      <td>Good</td>\n",
       "      <td>E</td>\n",
       "      <td>VS1</td>\n",
       "      <td>56.9</td>\n",
       "      <td>65.0</td>\n",
       "      <td>327</td>\n",
       "      <td>4.05</td>\n",
       "      <td>4.07</td>\n",
       "      <td>2.31</td>\n",
       "    </tr>\n",
       "    <tr>\n",
       "      <th>3</th>\n",
       "      <td>0.29</td>\n",
       "      <td>Premium</td>\n",
       "      <td>I</td>\n",
       "      <td>VS2</td>\n",
       "      <td>62.4</td>\n",
       "      <td>58.0</td>\n",
       "      <td>334</td>\n",
       "      <td>4.20</td>\n",
       "      <td>4.23</td>\n",
       "      <td>2.63</td>\n",
       "    </tr>\n",
       "    <tr>\n",
       "      <th>4</th>\n",
       "      <td>0.31</td>\n",
       "      <td>Good</td>\n",
       "      <td>J</td>\n",
       "      <td>SI2</td>\n",
       "      <td>63.3</td>\n",
       "      <td>58.0</td>\n",
       "      <td>335</td>\n",
       "      <td>4.34</td>\n",
       "      <td>4.35</td>\n",
       "      <td>2.75</td>\n",
       "    </tr>\n",
       "  </tbody>\n",
       "</table>\n",
       "</div>"
      ],
      "text/plain": [
       "   carat      cut color clarity  depth  table  price     x     y     z\n",
       "0   0.23    Ideal     E     SI2   61.5   55.0    326  3.95  3.98  2.43\n",
       "1   0.21  Premium     E     SI1   59.8   61.0    326  3.89  3.84  2.31\n",
       "2   0.23     Good     E     VS1   56.9   65.0    327  4.05  4.07  2.31\n",
       "3   0.29  Premium     I     VS2   62.4   58.0    334  4.20  4.23  2.63\n",
       "4   0.31     Good     J     SI2   63.3   58.0    335  4.34  4.35  2.75"
      ]
     },
     "execution_count": 5,
     "metadata": {},
     "output_type": "execute_result"
    }
   ],
   "source": [
    "df = pd.read_csv('diamonds.csv').drop(columns='Unnamed: 0')\n",
    "df.head(5)"
   ]
  },
  {
   "cell_type": "markdown",
   "metadata": {},
   "source": [
    "<font color = 'green'> Correct : 2 points </font> "
   ]
  },
  {
   "cell_type": "markdown",
   "metadata": {},
   "source": [
    "#### Solution 4.3"
   ]
  },
  {
   "cell_type": "code",
   "execution_count": 6,
   "metadata": {},
   "outputs": [
    {
     "name": "stdout",
     "output_type": "stream",
     "text": [
      "Quantitative\n",
      "carat\n",
      "Mean: 0.7979397478679852\n",
      "Median: 0.7\n",
      "Standard Deviation: 0.47401124440538067\n",
      "Range: 4.81\n",
      "\n",
      "depth\n",
      "Mean: 61.74940489432624\n",
      "Median: 61.8\n",
      "Standard Deviation: 1.4326213188337733\n",
      "Range: 36.0\n",
      "\n",
      "table\n",
      "Mean: 57.45718390804603\n",
      "Median: 57.0\n",
      "Standard Deviation: 2.234490562820938\n",
      "Range: 52.0\n",
      "\n",
      "price\n",
      "Mean: 3932.799721913237\n",
      "Median: 2401.0\n",
      "Standard Deviation: 3989.4397381463023\n",
      "Range: 18497\n",
      "\n",
      "x\n",
      "Mean: 5.731157211716609\n",
      "Median: 5.7\n",
      "Standard Deviation: 1.1217607467924422\n",
      "Range: 10.74\n",
      "\n",
      "y\n",
      "Mean: 5.734525954764462\n",
      "Median: 5.71\n",
      "Standard Deviation: 1.1421346741235396\n",
      "Range: 58.9\n",
      "\n",
      "z\n",
      "Mean: 3.5387337782723316\n",
      "Median: 3.53\n",
      "Standard Deviation: 0.7056988469499964\n",
      "Range: 31.8\n",
      "\n"
     ]
    }
   ],
   "source": [
    "def summary(series):\n",
    "    print(\"Mean: \"+str(series.mean()))\n",
    "    print(\"Median: \"+str(series.median()))\n",
    "    print(\"Standard Deviation: \"+str(series.std()))\n",
    "    print(\"Range: \" + str(series.max()-series.min()))\n",
    "    print(\"\")\n",
    "print(\"Quantitative\")\n",
    "print(\"carat\")\n",
    "summary(df.carat)\n",
    "print(\"depth\")\n",
    "summary(df.depth)\n",
    "print(\"table\")\n",
    "summary(df.table)\n",
    "print(\"price\")\n",
    "summary(df.price)\n",
    "print(\"x\")\n",
    "summary(df.x)\n",
    "print(\"y\")\n",
    "summary(df.y)\n",
    "print(\"z\")\n",
    "summary(df.z)\n",
    "\n"
   ]
  },
  {
   "cell_type": "code",
   "execution_count": 7,
   "metadata": {},
   "outputs": [
    {
     "name": "stdout",
     "output_type": "stream",
     "text": [
      "cut\n",
      "Mode: Ideal\n",
      "\n",
      "color\n",
      "Mode: G\n",
      "\n",
      "clarity\n",
      "Mode: SI1\n",
      "\n"
     ]
    }
   ],
   "source": [
    "def give_mode(series):\n",
    "    return series.mode()[0]\n",
    "(\"Qualitative\")\n",
    "print(\"cut\")\n",
    "print(\"Mode: \"+give_mode(df.cut)+\"\\n\")\n",
    "print(\"color\")\n",
    "print(\"Mode: \"+give_mode(df.color)+\"\\n\")\n",
    "print(\"clarity\")\n",
    "print(\"Mode: \"+give_mode(df.clarity)+\"\\n\")"
   ]
  },
  {
   "cell_type": "code",
   "execution_count": 8,
   "metadata": {},
   "outputs": [
    {
     "name": "stdout",
     "output_type": "stream",
     "text": [
      "Price\n",
      "IQR: 4374.25\n"
     ]
    }
   ],
   "source": [
    "from scipy.stats import iqr\n",
    "def return_iqr(series):\n",
    "    return iqr(series)\n",
    "print(\"Price\")\n",
    "print(\"IQR: \"+str(return_iqr(df.price)))"
   ]
  },
  {
   "cell_type": "markdown",
   "metadata": {},
   "source": [
    "<font color = 'green'> Correct : 5.5 points </font>"
   ]
  },
  {
   "cell_type": "markdown",
   "metadata": {},
   "source": [
    "#### Solution 4.4"
   ]
  },
  {
   "cell_type": "code",
   "execution_count": 9,
   "metadata": {},
   "outputs": [
    {
     "name": "stdout",
     "output_type": "stream",
     "text": [
      "Fraction with cut Very Good or better: 0.8791991101223582\n"
     ]
    }
   ],
   "source": [
    "verygood_count=(df.cut == \"Very Good\").sum()\n",
    "premium_count=(df.cut == \"Premium\").sum()\n",
    "ideal_count=(df.cut == \"Ideal\").sum()\n",
    "total = df.cut.value_counts().sum()\n",
    "fraction= (verygood_count+premium_count+ideal_count)/total\n",
    "print(\"Fraction with cut Very Good or better: \"+ str(fraction))"
   ]
  },
  {
   "cell_type": "code",
   "execution_count": 10,
   "metadata": {},
   "outputs": [
    {
     "data": {
      "image/png": "[encoded data removed]",
      "text/plain": [
       "<Figure size 432x288 with 1 Axes>"
      ]
     },
     "metadata": {
      "needs_background": "light"
     },
     "output_type": "display_data"
    }
   ],
   "source": [
    "df.cut.value_counts().plot(kind='bar')\n",
    "plt.title(\"cut bar chart\")\n",
    "plt.show()"
   ]
  },
  {
   "cell_type": "markdown",
   "metadata": {},
   "source": [
    "<font color = 'green'> Correct : 2.5 points </font> "
   ]
  },
  {
   "cell_type": "code",
   "execution_count": 11,
   "metadata": {},
   "outputs": [
    {
     "data": {
      "image/png": "[encoded data removed]",
      "text/plain": [
       "<Figure size 432x288 with 1 Axes>"
      ]
     },
     "metadata": {
      "needs_background": "light"
     },
     "output_type": "display_data"
    }
   ],
   "source": [
    "df.carat.plot(kind='hist')\n",
    "plt.title(\"carat histogram\")\n",
    "plt.show()"
   ]
  },
  {
   "cell_type": "markdown",
   "metadata": {},
   "source": [
    "<font color = 'green'> Correct : 2 points </font> "
   ]
  },
  {
   "cell_type": "code",
   "execution_count": 12,
   "metadata": {},
   "outputs": [
    {
     "data": {
      "image/png": "[encoded data removed]",
      "text/plain": [
       "<Figure size 432x288 with 1 Axes>"
      ]
     },
     "metadata": {
      "needs_background": "light"
     },
     "output_type": "display_data"
    }
   ],
   "source": [
    "df.plot(x='carat',y='price',kind='scatter')\n",
    "plt.title('carat v. price')\n",
    "plt.show()"
   ]
  },
  {
   "cell_type": "markdown",
   "metadata": {},
   "source": [
    "<font color = 'green'> Correct : 2 points </font> "
   ]
  },
  {
   "cell_type": "code",
   "execution_count": 13,
   "metadata": {},
   "outputs": [
    {
     "name": "stdout",
     "output_type": "stream",
     "text": [
      "correlation carat v. price: 0.9215913011934761\n"
     ]
    }
   ],
   "source": [
    "correlation=df['carat'].corr(df['price'])\n",
    "print('correlation carat v. price: ' + str(correlation))"
   ]
  },
  {
   "cell_type": "markdown",
   "metadata": {},
   "source": [
    "<font color = 'green'> Correct : 1 point </font> "
   ]
  },
  {
   "cell_type": "markdown",
   "metadata": {},
   "source": [
    "### Problem 5 (4 points)\n",
    "\n",
    "We have a collection of m documents.\n",
    "\n",
    "Let us say we would like to compare two documents x and y using their document term vectors. \n",
    "\n",
    "Let tf_ij be the frequency of the ith word (term) in the jth document\n",
    "\n",
    "1. Let the vocabulary size (the dimensionality of the vectors) be n. What is a good measure of similarity for this purpose ? Write the formula for it in terms of tf_ij.\n",
    "\n",
    "2. Consider the variable transformation given by idf_ij = tf_ij * log(m/df_i), where df_i is the document frequency, i.e. the number of documents in which the ith term occurs. The transformed variable idf_ij is called the inverse document frequency. What are the advantages of using this transformed variable instead of the original in the similarity computation ?"
   ]
  },
  {
   "cell_type": "markdown",
   "metadata": {},
   "source": [
    "### Solution"
   ]
  },
  {
   "cell_type": "markdown",
   "metadata": {},
   "source": [
    "#### Solution 5.1"
   ]
  },
  {
   "cell_type": "markdown",
   "metadata": {},
   "source": [
    "cosign similarity(x,y) = (sum(i=1 to n)(tf_ix * tf_iy))/(sqrt((sum(i=1 to n)(tf_ix^2))) * sqrt((sum(i=1 to n)(tf_iy^2)))) where 1<x<m and 1<y<m"
   ]
  },
  {
   "cell_type": "code",
   "execution_count": 14,
   "metadata": {},
   "outputs": [],
   "source": [
    "def cosine_tf(x,y):\n",
    "    import math\n",
    "    dot_product=0\n",
    "    crossX=0\n",
    "    crossY=0\n",
    "    if (len(x) != len(y)):\n",
    "        print(\"provide two vectors of the same length\")\n",
    "    else:\n",
    "        for i in range(len(vector1)):\n",
    "            tf_ix=x[i]\n",
    "            ft_iy=y[i]\n",
    "            test=tf_ix*tf_iy\n",
    "            dot_product += test\n",
    "            crossX += tf_ix**2\n",
    "            crossY += tf_iy**2\n",
    "        crossX=math.sqrt(crossX)\n",
    "        crossY=math.sqrt(crossY)\n",
    "        cosineSimilarity=dot_product/(crossX*crossY)\n",
    "        return cosineSimilarity"
   ]
  },
  {
   "cell_type": "markdown",
   "metadata": {},
   "source": [
    "<font color = 'green'> Correct : 2 points </font> "
   ]
  },
  {
   "cell_type": "markdown",
   "metadata": {},
   "source": [
    "#### Solution 5.2"
   ]
  },
  {
   "cell_type": "markdown",
   "metadata": {},
   "source": [
    "The advantages of using the inverse document frequency is that is takes into account the frequency of the ith word of a document relative to the \"corpus\" of all documents.  If our goal is to measure the similarity between documents, then words that are said often regardless of the document such as \"that\", \"then\", \"there\" etc. should be discounted as they are not distinguishing features.  "
   ]
  },
  {
   "cell_type": "markdown",
   "metadata": {},
   "source": [
    "<font color = 'green'> Correct : 2 points </font> "
   ]
  },
  {
   "cell_type": "markdown",
   "metadata": {},
   "source": [
    "\n",
    "    "
   ]
  },
  {
   "cell_type": "markdown",
   "metadata": {},
   "source": [
    "### Problem 6 (6 points)\n",
    "\n",
    "Write Python functions to compute the Hamming (L1) distance, SMC and Jaccard similarity coefficient between two binary vectors. Use them to these proximity measures between the following vectors:\n",
    "\n",
    "x = 1010101010101 \n",
    "\n",
    "y = 1000100010001"
   ]
  },
  {
   "cell_type": "markdown",
   "metadata": {},
   "source": [
    "### Solution"
   ]
  },
  {
   "cell_type": "code",
   "execution_count": 15,
   "metadata": {},
   "outputs": [
    {
     "name": "stdout",
     "output_type": "stream",
     "text": [
      "3\n"
     ]
    }
   ],
   "source": [
    "#hamming L1 distance \n",
    "#number of bits we must change to convert one into the other \n",
    "def hamming(binary1,binary2):\n",
    "    if (len(binary1) != len(binary2)):\n",
    "        return \"Provide equal length binaries\"\n",
    "    else:\n",
    "        binary_length = len(binary1)\n",
    "        count = 0\n",
    "        for i in range(binary_length):\n",
    "            if (binary1[i] != binary2[i]):\n",
    "                count=count+1\n",
    "        return count\n",
    "binary1='1010101010101'\n",
    "binary2='1000100010001'\n",
    "print(str(hamming(binary1,binary2)))"
   ]
  },
  {
   "cell_type": "code",
   "execution_count": 16,
   "metadata": {},
   "outputs": [
    {
     "name": "stdout",
     "output_type": "stream",
     "text": [
      "0.7692307692307693\n"
     ]
    }
   ],
   "source": [
    "#SMC\n",
    "#Defined as number of matching instances/total instances\n",
    "def SMC(binary1,binary2):\n",
    "    if (len(binary1) != len(binary2)):\n",
    "        return \"Provide equal length binaries\"\n",
    "    else:\n",
    "        binary_length = len(binary1)\n",
    "        count = 0\n",
    "        for i in range(binary_length):\n",
    "            if (binary1[i] == binary2[i]):\n",
    "                count=count+1\n",
    "        return (count/binary_length)\n",
    "binary1='1010101010101'\n",
    "binary2='1000100010001'\n",
    "print(str(SMC(binary1,binary2)))"
   ]
  },
  {
   "cell_type": "code",
   "execution_count": 17,
   "metadata": {},
   "outputs": [
    {
     "name": "stdout",
     "output_type": "stream",
     "text": [
      "0.5714285714285714\n"
     ]
    }
   ],
   "source": [
    "#Jaccard Distance \n",
    "#like SMC just cut out instances of 00; \n",
    "def jaccard(binary1,binary2):\n",
    "    if (len(binary1) != len(binary2)):\n",
    "        return \"Provide equal length binaries\"\n",
    "    else:\n",
    "        binary_length = len(binary1)\n",
    "        count_11 = 0\n",
    "        count_00 = 0\n",
    "        for i in range(binary_length):\n",
    "            if ((binary1[i] == '1') & (binary2[i] == '1')):\n",
    "                count_11=count_11+1\n",
    "            if ((binary1[i] == '0') & (binary2[i] == '0')):\n",
    "                count_00=count_00+1\n",
    "        return count_11/(binary_length-count_00)\n",
    "binary1='1010101010101'\n",
    "binary2='1000100010001'\n",
    "print(str(jaccard(binary1,binary2)))"
   ]
  },
  {
   "cell_type": "markdown",
   "metadata": {},
   "source": [
    "<font color='green'> Correct : 6 points </font> "
   ]
  },
  {
   "cell_type": "markdown",
   "metadata": {},
   "source": [
    "### Problem 7 (6 points)\n",
    "\n",
    "Calculate the indicated similarity or distance measures of the vectors show below (you can do this by hand or by writing code, but please show the computation either way):\n",
    "\n",
    "x = (1,1,1,1) and y = (3,3,3,3) : cosine, correlation, Euclidean\n",
    "\n",
    "x = (0,1,0,1,0,1) and y = (1,0,1,0,1,0) : cosine, correlation, Euclidean, Jaccard \n",
    "\n",
    "x = (1,1,0,1,0,1) and y = (1,1,1,0,0,1) : cosine, correlation, Lmax, Jaccard"
   ]
  },
  {
   "cell_type": "markdown",
   "metadata": {},
   "source": [
    "### Solution"
   ]
  },
  {
   "cell_type": "code",
   "execution_count": 18,
   "metadata": {},
   "outputs": [],
   "source": [
    "#function for cosine similarity\n",
    "def cosine(vector1,vector2):\n",
    "    import math\n",
    "    dot_product=0\n",
    "    crossX=0\n",
    "    crossY=0\n",
    "    if (len(vector1) != len(vector2)):\n",
    "        print(\"provide two vectors of the same length\")\n",
    "    else:\n",
    "        for i in range(len(vector1)):\n",
    "            test=vector1[i]*vector2[i]\n",
    "            dot_product += test\n",
    "            crossX += vector1[i]**2\n",
    "            crossY += vector2[i]**2\n",
    "        crossX=math.sqrt(crossX)\n",
    "        crossY=math.sqrt(crossY)\n",
    "        cosineSimilarity=dot_product/(crossX*crossY)\n",
    "        return cosineSimilarity"
   ]
  },
  {
   "cell_type": "code",
   "execution_count": 19,
   "metadata": {},
   "outputs": [],
   "source": [
    "#function for correlation\n",
    "def corr(vector1, vector2):\n",
    "    import numpy as np\n",
    "    x=vector1\n",
    "    y=vector2\n",
    "    xbar = 0\n",
    "    ybar = 0\n",
    "    sXY = 0\n",
    "    sX = 0\n",
    "    sY = 0\n",
    "    n = len(vector1)\n",
    "    if (n != len(vector2)):\n",
    "        print(\"provide two vectors of the same length\")\n",
    "    else:\n",
    "        for i in range(n):\n",
    "            xbar += x[i]\n",
    "            ybar += y[i]\n",
    "        xbar=xbar/n\n",
    "        ybar=ybar/n\n",
    "        for i in range(n):\n",
    "            sXY += ((x[i] - xbar)*(y[i]-ybar))\n",
    "            sX += ((x[i]-xbar)**2)\n",
    "            sY += ((y[i]-ybar)**2)\n",
    "        sXY=sXY*(1/(n-1))\n",
    "        sX = sX*(1/(n-1))\n",
    "        sY = sY*(1/(n-1))\n",
    "        correlation=sXY/((sX*sY)**(1/2))\n",
    "        return correlation"
   ]
  },
  {
   "cell_type": "code",
   "execution_count": 20,
   "metadata": {},
   "outputs": [],
   "source": [
    "#function for Euclidian\n",
    "def euclidian(vector1, vector2):\n",
    "    import numpy as np\n",
    "    sumSquareDiff=0\n",
    "    if (len(vector1) != len(vector2)):\n",
    "        print(\"provide two vectors of the same length\")\n",
    "    else:\n",
    "        for i in range(len(vector1)):\n",
    "            sumSquareDiff += ((vector1[i]-vector2[i])**2)\n",
    "        distance = np.sqrt(sumSquareDiff)\n",
    "        return distance"
   ]
  },
  {
   "cell_type": "code",
   "execution_count": 21,
   "metadata": {},
   "outputs": [],
   "source": [
    "#function for LMAX\n",
    "def lmax(vector1,vector2):\n",
    "    import numpy as np\n",
    "    if (len(vector1) != len(vector2)):\n",
    "        print(\"provide two vectors of the same length\")\n",
    "    \n",
    "    else:\n",
    "        r=100000\n",
    "        absSum = 0\n",
    "        for i in range(len(vector1)):\n",
    "            absSum += (np.abs(vector1[i]-vector2[i])**r)\n",
    "        LMAX=absSum**(1/r)\n",
    "        return LMAX"
   ]
  },
  {
   "cell_type": "code",
   "execution_count": 22,
   "metadata": {},
   "outputs": [
    {
     "name": "stdout",
     "output_type": "stream",
     "text": [
      "x: [1, 1, 1, 1]\n",
      "y: [3, 3, 3, 3]\n",
      "cosine: 1.0\n",
      "correlation: nan\n",
      "euclidian: 4.0\n"
     ]
    }
   ],
   "source": [
    "#first set\n",
    "x=[1,1,1,1]\n",
    "y=[3,3,3,3]\n",
    "print(\"x: \"+str(x))\n",
    "print(\"y: \"+str(y))\n",
    "print(\"cosine: \"+str(cosine(x,y)))\n",
    "print(\"correlation: nan\")\n",
    "print(\"euclidian: \" + str(euclidian(x,y)))\n"
   ]
  },
  {
   "cell_type": "code",
   "execution_count": 23,
   "metadata": {},
   "outputs": [
    {
     "name": "stdout",
     "output_type": "stream",
     "text": [
      "x: [0, 1, 0, 1, 0, 1]\n",
      "y: [1, 0, 1, 0, 1, 0]\n",
      "cosine: 0.0\n",
      "correlation: -1.0\n",
      "euclidian: 2.449489742783178\n",
      "jaccard: 0.0\n"
     ]
    }
   ],
   "source": [
    "#second set\n",
    "x=[0,1,0,1,0,1]\n",
    "y=[1,0,1,0,1,0]\n",
    "print(\"x: \"+str(x))\n",
    "print(\"y: \"+str(y))\n",
    "print(\"cosine: \"+str(cosine(x,y)))\n",
    "print(\"correlation: \"+ str(corr(x,y)))\n",
    "print(\"euclidian: \" + str(euclidian(x,y)))\n",
    "print(\"jaccard: \"+str(jaccard('010101','101010')))\n"
   ]
  },
  {
   "cell_type": "code",
   "execution_count": 24,
   "metadata": {},
   "outputs": [
    {
     "name": "stdout",
     "output_type": "stream",
     "text": [
      "x: [1, 1, 0, 1, 0, 1]\n",
      "y: [1, 1, 1, 0, 0, 1]\n",
      "cosine: 0.75\n",
      "correlation: 0.25\n",
      "LMAX: 1.0000069314958282\n",
      "jaccard: 0.6\n"
     ]
    }
   ],
   "source": [
    "#third set\n",
    "#second set\n",
    "x=[1,1,0,1,0,1]\n",
    "y=[1,1,1,0,0,1]\n",
    "print(\"x: \"+str(x))\n",
    "print(\"y: \"+str(y))\n",
    "print(\"cosine: \"+str(cosine(x,y)))\n",
    "print(\"correlation: \"+ str(corr(x,y)))\n",
    "print(\"LMAX: \" + str(lmax(x,y)))\n",
    "print(\"jaccard: \"+str(jaccard('110101','111001')))"
   ]
  },
  {
   "cell_type": "markdown",
   "metadata": {},
   "source": [
    "<font color = 'blue'> Partially Correct : 5.67 points </font>"
   ]
  },
  {
   "cell_type": "markdown",
   "metadata": {},
   "source": [
    "### Submission instructions\n",
    "\n",
    "1. Your assignment should be completed by filling in the empty solution cells in this Jupyter notebook file (.ipynb). Feel free to add more cells as needed.\n",
    "\n",
    "2. Please comment your code using either markdown or #comments and use meaningful variable names to make it as readable and intelligible as possible.\n",
    "\n",
    "3. Write your code in the form of functions. For example: \n",
    "\n",
    "    def my_code ():\n",
    "\n",
    "          #Write code here\n",
    "      \n",
    "          return \"The return value\"\n",
    "          \n",
    "\n",
    "4. If the problem is to find the value of 'x', printing 'x = (your answer)' will help us identify if your code worked.\n",
    "\n",
    "\n",
    "5. For code that refers to local data files downloaded from the internet, please keep the file path simple (e.g. ~/downloads/datafilename) so that it works on our copy of the dataset. Please do not modify either the filename or the file contents in any way.\n",
    "\n",
    "6. Solution to problems that do not require any coding can be typed up in their own cells using markdown.\n",
    "    \n",
    "7. Unless there are legitimate circumstances, late assignments will not be accepted.\n",
    "\n",
    "8. All assignments are individual.\n",
    "\n",
    "9. All the sources used for problem solution must be acknowledged, e.g. web sites, books, research papers, etc.\n",
    "\n",
    "10. Academic integrity is taken seriously; for detailed information see the RIT Honor Code and with RIT's Academic Integrity Policy."
   ]
  },
  {
   "cell_type": "markdown",
   "metadata": {},
   "source": [
    "<font color = 'green'> Total score : 49.67 points </font>"
   ]
  }
 ],
 "metadata": {
  "kernelspec": {
   "display_name": "Python 3",
   "language": "python",
   "name": "python3"
  },
  "language_info": {
   "codemirror_mode": {
    "name": "ipython",
    "version": 3
   },
   "file_extension": ".py",
   "mimetype": "text/x-python",
   "name": "python",
   "nbconvert_exporter": "python",
   "pygments_lexer": "ipython3",
   "version": "3.8.5"
  }
 },
 "nbformat": 4,
 "nbformat_minor": 2
}
