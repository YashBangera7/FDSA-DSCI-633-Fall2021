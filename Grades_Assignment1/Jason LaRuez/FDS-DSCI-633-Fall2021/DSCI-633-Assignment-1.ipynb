{
 "cells": [
  {
   "cell_type": "markdown",
   "metadata": {},
   "source": [
    "# RIT DSCI-633: Foundations of Data Science and Analytics\n",
    "## Assignment 1: Jason LaRuez\n",
    "### Due: 11:59 pm EST, Saturday, Oct 2, 2021"
   ]
  },
  {
   "cell_type": "markdown",
   "metadata": {},
   "source": [
    "### Problem 1 (10 points)\n",
    "\n",
    "In statistics and probability theory, the law of large numbers is a theorem that describes the result of\n",
    "repeating the same experiment a large number of times. The theorem states that if the same\n",
    "experiment or study is repeated independently a large number of times, the average of the results of\n",
    "the trials must be close to the expected value. The result becomes closer to the expected value as the\n",
    "number of trials is increased. Let us look at a specific experiment.\n",
    "\n",
    "Assume you have a Gaussian distribution (commonly called a “bell curve”) with mean µ and std\n",
    "deviation σ. The area under the curve that lies between σ and 2σ, and –σ and -2σ is approximately\n",
    "27.2%. In other words, approximately 27.2% of numbers generated randomly using this distribution will\n",
    "fall in the range [µ + σ, µ + 2σ] or [µ - 2σ, µ - σ], as shown below.\n",
    "\n",
    "Generate N random numbers that follow a Gaussian distribution with µ = 100, σ = 10, and count the\n",
    "numbers M that fall into the ranges above. Print the fraction M/N. Repeat this for N = 10, 100, 1000,\n",
    "10000, and 1000000.\n",
    "\n",
    "Does the fraction start to approach 27.2%?\n"
   ]
  },
  {
   "cell_type": "markdown",
   "metadata": {},
   "source": [
    "### Solution"
   ]
  },
  {
   "cell_type": "code",
   "execution_count": 1,
   "metadata": {},
   "outputs": [
    {
     "name": "stdout",
     "output_type": "stream",
     "text": [
      "0.3\n",
      "0.24\n",
      "0.283\n",
      "0.2768\n",
      "0.271306\n"
     ]
    }
   ],
   "source": [
    "import numpy as np # For Gaussian sampling\n",
    "\n",
    "def GaussianSampling(N,mu,std): # Input N a list containing integer sample sizes, mu the mean of the Gaussian dist, and std is standard dev. of the dist\n",
    "    for n in N:\n",
    "        n_sample = np.random.normal(loc = mu, scale = std, size = n) # Generate a Gaussian sample of size n with mean mu and standard deviation std\n",
    "        M = [m for m in n_sample if (m > mu + std and m < mu + 2*std) or (m > mu - 2*std and m < mu - std)] # Select m from sample if they are between 1 and 2 stds\n",
    "        print(len(M)/n) # Print the ratio of values which are between 1 and 2 standard deviations away from the mean (should approach 27.2%)\n",
    "    \n",
    "GaussianSampling([10,100,1000,10000,1000000],100,10)"
   ]
  },
  {
   "cell_type": "markdown",
   "metadata": {},
   "source": [
    "Yes the fraction starts to approach 27.2% as we increase the number of samples"
   ]
  },
  {
   "cell_type": "markdown",
   "metadata": {},
   "source": [
    "<font color='green'>Correct: 10 points</font> "
   ]
  },
  {
   "cell_type": "markdown",
   "metadata": {},
   "source": [
    "### Problem 2 (5 points)\n",
    "\n",
    "Imagine you have a dataset of movie ratings for a set of 500 popular movies and a set of 1000 users.\n",
    "Each data sample contains the ratings of each movie (from 1 to 5 stars) by a specific user. The rating is\n",
    "an integer in the range [0,5], with a value of 0 means that the user did not watch that movie.\n",
    "How would you convert this data to a form suitable for association analysis? In particular, what type of\n",
    "attributes would you have and how many of them?\n",
    "\n"
   ]
  },
  {
   "cell_type": "markdown",
   "metadata": {},
   "source": [
    "### Solution"
   ]
  },
  {
   "cell_type": "markdown",
   "metadata": {},
   "source": [
    "Observe that these movie ratings are asymmetric attributes (most users have not see the vast majority of these 500 movies and as such will have a 0 as their \"rating\" value). To avoid making silly conclusions like \"these two people both have 0 for the same 300 movies they must be very similar\" we need to treat this assymetry. To do this we can convert the movie ratings for an individual person into a sort of basket data where we ommit all movies that the individual hasn't seen (has rating zero), and for each movie they have seen they will have an attribute whose value is equal to their 1-5 integer rating of the movie. Thus a data object will have as many attributes as movies the person has seen from the list, and these attributes will be discrete, qualitative and ordinal. With these 1000 baskets of movie ratings we can then apply association analysis to look for relationships occurring in and accross these baskets."
   ]
  },
  {
   "cell_type": "markdown",
   "metadata": {},
   "source": [
    "<font color='red'> Interesting ideas! </font>\n",
    "For association analysis, we require binary asymmetric attributes.\n",
    "\n",
    "Since each rating can take 6 possible values, we would need to replace it with 6 asymmetric binary attributes of the form (rating == 0?) (rating == 1?) ...\n",
    "\n",
    "This will give us 500 x 6 = 3000 binary attributes per user.\n",
    "The resulting sparse data matrix would be 1000 rows x 3000 columns."
   ]
  },
  {
   "cell_type": "code",
   "execution_count": null,
   "metadata": {},
   "outputs": [],
   "source": []
  },
  {
   "cell_type": "markdown",
   "metadata": {},
   "source": [
    "### Problem 3 (5 points)\n",
    "\n",
    "Distinguish between noise and outliers\n",
    "\n",
    "1. True or False ? Noise may be in the form of noisy attribute values, or noise objects.\n",
    "2. True or False ? Noise is sometimes desirable.\n",
    "3. True or False ? Outliers are sometimes desirable.\n",
    "4. True or False ? Noise objects may or may not be outliers. Explain your reasoning.\n",
    "5. True or False ? Outlier objects may or may not be noise. Explain your reasoning."
   ]
  },
  {
   "cell_type": "markdown",
   "metadata": {},
   "source": [
    "### Solution"
   ]
  },
  {
   "cell_type": "markdown",
   "metadata": {},
   "source": [
    "1. True: Noise typically appears in the form of distortions to attribute values (such as measurement errors), or can appear in the form of an extraneous data object (duplicate data or a false data object for example)\n",
    "\n",
    "2. False: Unless we are scientists specifically designing a method to be robust against noise and thus need noise to test the method, noise is never desirable. Cleaner data -> better data\n",
    "\n",
    "3. True: An outlier is simply a data point which in some way is unusual (very far away from other data objects in the attribute space). If this data point represents a true observation of our system then we do not simply want to throw it away. Sometimes, as is the case in anomoly detection, we explicitly WANT these outliers. If the outlier is far away because of an error in data collection, we do not want it (say we have a dataset consisting of a group of people's information like height, weight and age. 80 years of age may be an outlier depending on the ages of the others in the group, but it's still a valid age so we still want it. But now say that the group we are collecting data on is an elementary school class of children; now a value of 80 years is undesirable since it is clearly false).\n",
    "\n",
    "4. True (sometimes): Typically \"noise\" refers to measurement errors that add relatively small-moderate perturbations to attribute values. In these cases these noisy objects are not considered outliers. If the noise object has incorrect attribute values or is some sort of artifact object then it is possible for this object to be far from the other data objects in the attribute space and thus be considered an outlier.\n",
    "\n",
    "5. True: As stated above, an outlier is simply a data point that is \"far\" away from most other data points. These can be true data points, such as if Jeff Bezos was included in a dataset of people and their networth. However these outliers may instead be far away due to incorrect data values, such as a human who is 800 years old and thus is a noisy data object."
   ]
  },
  {
   "cell_type": "markdown",
   "metadata": {},
   "source": [
    "<font color='green'> Correct: Liked the explanation : 5 points </font> "
   ]
  },
  {
   "cell_type": "markdown",
   "metadata": {},
   "source": [
    "### Problem 4 (20 points)\n",
    "Download the ‘Diamonds’ dataset from https://www.kaggle.com/shivam2503/diamonds.\n",
    "1. Based on the description of the dataset provided at the site, categorize each attribute of the data as\n",
    "discrete or continuous, qualitative (nominal or ordinal), or quantitative (interval or ratio)  (5 points)\n",
    "e.g. Age in years: Discrete, Quantitative, Ratio.\n",
    "2. Load the CSV data file into a Pandas DataFrame object and display the first 5 rows. (2 points)\n",
    "3. Calculate summary statistics:\n",
    "a. For each quantitative attribute: find the mean, median, standard deviation, and range. (3.5 points)\n",
    "b. For each qualitative attribute, find the mode. (1.5 points)\n",
    "c. Find the Interquartile Range (IQR) of the ‘price’ variable. (0.5 points)\n",
    "4. What fraction of the data samples have ‘cut’ that is ‘very good’ or better ? Create a bar plot\n",
    "showing the distribution of the data samples by ‘cut’ (one bar for each value of cut). (2.5 points)\n",
    "5. Plot a histogram of the 'carat' variable. (2 points)\n",
    "6. Plot a scatter plot of ‘carat’ vs ‘price’. (2 points)\n",
    "7. Compute the correlation between ‘carat’ and ‘price’. (1 point)"
   ]
  },
  {
   "cell_type": "markdown",
   "metadata": {},
   "source": [
    "### Solution"
   ]
  },
  {
   "cell_type": "markdown",
   "metadata": {},
   "source": [
    "#### Solution 4.1"
   ]
  },
  {
   "cell_type": "markdown",
   "metadata": {},
   "source": [
    "| Variable | Categories |\n",
    "| :- | :- |\n",
    "| Index Counter | Discrete, qualitative and nominal |\n",
    "| price | Discrete (integer \\$ only), quantitative and ratio |\n",
    "| carat | Continuous (takes decimal values), quantitative and ratio |\n",
    "| cut | Discrete, qualitative, ordinal\t||\n",
    "| color | Discrete, qualitative, ordinal ||\n",
    "| clarity | Discrete, qualitative, ordinal ||\n",
    "| depth\t| Continuous, quantitative, ratio||\n",
    "| table\t| Continuous, quantitative, ratio ||\t\n",
    "| x (length) | Continuous, quantitative and ratio ||\n",
    "| y (width) | Continuous, quantitative and ratio ||\n",
    "| z (depth) | Continuous, quantitative and ratio || "
   ]
  },
  {
   "cell_type": "markdown",
   "metadata": {},
   "source": [
    "<font color='green'> Correct: 5 points </font> "
   ]
  },
  {
   "cell_type": "markdown",
   "metadata": {},
   "source": [
    "#### Solution 4.2"
   ]
  },
  {
   "cell_type": "code",
   "execution_count": 5,
   "metadata": {},
   "outputs": [
    {
     "data": {
      "text/html": [
       "<div>\n",
       "<style scoped>\n",
       "    .dataframe tbody tr th:only-of-type {\n",
       "        vertical-align: middle;\n",
       "    }\n",
       "\n",
       "    .dataframe tbody tr th {\n",
       "        vertical-align: top;\n",
       "    }\n",
       "\n",
       "    .dataframe thead th {\n",
       "        text-align: right;\n",
       "    }\n",
       "</style>\n",
       "<table border=\"1\" class=\"dataframe\">\n",
       "  <thead>\n",
       "    <tr style=\"text-align: right;\">\n",
       "      <th></th>\n",
       "      <th>Unnamed: 0</th>\n",
       "      <th>carat</th>\n",
       "      <th>cut</th>\n",
       "      <th>color</th>\n",
       "      <th>clarity</th>\n",
       "      <th>depth</th>\n",
       "      <th>table</th>\n",
       "      <th>price</th>\n",
       "      <th>x</th>\n",
       "      <th>y</th>\n",
       "      <th>z</th>\n",
       "    </tr>\n",
       "  </thead>\n",
       "  <tbody>\n",
       "    <tr>\n",
       "      <th>0</th>\n",
       "      <td>1</td>\n",
       "      <td>0.23</td>\n",
       "      <td>Ideal</td>\n",
       "      <td>E</td>\n",
       "      <td>SI2</td>\n",
       "      <td>61.5</td>\n",
       "      <td>55.0</td>\n",
       "      <td>326</td>\n",
       "      <td>3.95</td>\n",
       "      <td>3.98</td>\n",
       "      <td>2.43</td>\n",
       "    </tr>\n",
       "    <tr>\n",
       "      <th>1</th>\n",
       "      <td>2</td>\n",
       "      <td>0.21</td>\n",
       "      <td>Premium</td>\n",
       "      <td>E</td>\n",
       "      <td>SI1</td>\n",
       "      <td>59.8</td>\n",
       "      <td>61.0</td>\n",
       "      <td>326</td>\n",
       "      <td>3.89</td>\n",
       "      <td>3.84</td>\n",
       "      <td>2.31</td>\n",
       "    </tr>\n",
       "    <tr>\n",
       "      <th>2</th>\n",
       "      <td>3</td>\n",
       "      <td>0.23</td>\n",
       "      <td>Good</td>\n",
       "      <td>E</td>\n",
       "      <td>VS1</td>\n",
       "      <td>56.9</td>\n",
       "      <td>65.0</td>\n",
       "      <td>327</td>\n",
       "      <td>4.05</td>\n",
       "      <td>4.07</td>\n",
       "      <td>2.31</td>\n",
       "    </tr>\n",
       "    <tr>\n",
       "      <th>3</th>\n",
       "      <td>4</td>\n",
       "      <td>0.29</td>\n",
       "      <td>Premium</td>\n",
       "      <td>I</td>\n",
       "      <td>VS2</td>\n",
       "      <td>62.4</td>\n",
       "      <td>58.0</td>\n",
       "      <td>334</td>\n",
       "      <td>4.20</td>\n",
       "      <td>4.23</td>\n",
       "      <td>2.63</td>\n",
       "    </tr>\n",
       "    <tr>\n",
       "      <th>4</th>\n",
       "      <td>5</td>\n",
       "      <td>0.31</td>\n",
       "      <td>Good</td>\n",
       "      <td>J</td>\n",
       "      <td>SI2</td>\n",
       "      <td>63.3</td>\n",
       "      <td>58.0</td>\n",
       "      <td>335</td>\n",
       "      <td>4.34</td>\n",
       "      <td>4.35</td>\n",
       "      <td>2.75</td>\n",
       "    </tr>\n",
       "  </tbody>\n",
       "</table>\n",
       "</div>"
      ],
      "text/plain": [
       "   Unnamed: 0  carat      cut color clarity  depth  table  price     x     y  \\\n",
       "0           1   0.23    Ideal     E     SI2   61.5   55.0    326  3.95  3.98   \n",
       "1           2   0.21  Premium     E     SI1   59.8   61.0    326  3.89  3.84   \n",
       "2           3   0.23     Good     E     VS1   56.9   65.0    327  4.05  4.07   \n",
       "3           4   0.29  Premium     I     VS2   62.4   58.0    334  4.20  4.23   \n",
       "4           5   0.31     Good     J     SI2   63.3   58.0    335  4.34  4.35   \n",
       "\n",
       "      z  \n",
       "0  2.43  \n",
       "1  2.31  \n",
       "2  2.31  \n",
       "3  2.63  \n",
       "4  2.75  "
      ]
     },
     "execution_count": 5,
     "metadata": {},
     "output_type": "execute_result"
    }
   ],
   "source": [
    "## for data\n",
    "import pandas as pd\n",
    "\n",
    "diamond_data = pd.read_csv('diamonds.csv')\n",
    "diamond_data.head()"
   ]
  },
  {
   "cell_type": "markdown",
   "metadata": {},
   "source": [
    "<font color='green'> Correct : 2 points </font>"
   ]
  },
  {
   "cell_type": "markdown",
   "metadata": {},
   "source": [
    "#### Solution 4.3"
   ]
  },
  {
   "cell_type": "code",
   "execution_count": 6,
   "metadata": {},
   "outputs": [
    {
     "data": {
      "text/html": [
       "<div>\n",
       "<style scoped>\n",
       "    .dataframe tbody tr th:only-of-type {\n",
       "        vertical-align: middle;\n",
       "    }\n",
       "\n",
       "    .dataframe tbody tr th {\n",
       "        vertical-align: top;\n",
       "    }\n",
       "\n",
       "    .dataframe thead th {\n",
       "        text-align: right;\n",
       "    }\n",
       "</style>\n",
       "<table border=\"1\" class=\"dataframe\">\n",
       "  <thead>\n",
       "    <tr style=\"text-align: right;\">\n",
       "      <th></th>\n",
       "      <th>carat</th>\n",
       "      <th>depth</th>\n",
       "      <th>table</th>\n",
       "      <th>price</th>\n",
       "      <th>x</th>\n",
       "      <th>y</th>\n",
       "      <th>z</th>\n",
       "    </tr>\n",
       "  </thead>\n",
       "  <tbody>\n",
       "    <tr>\n",
       "      <th>count</th>\n",
       "      <td>53940.000000</td>\n",
       "      <td>53940.000000</td>\n",
       "      <td>53940.000000</td>\n",
       "      <td>53940.000000</td>\n",
       "      <td>53940.000000</td>\n",
       "      <td>53940.000000</td>\n",
       "      <td>53940.000000</td>\n",
       "    </tr>\n",
       "    <tr>\n",
       "      <th>mean</th>\n",
       "      <td>0.797940</td>\n",
       "      <td>61.749405</td>\n",
       "      <td>57.457184</td>\n",
       "      <td>3932.799722</td>\n",
       "      <td>5.731157</td>\n",
       "      <td>5.734526</td>\n",
       "      <td>3.538734</td>\n",
       "    </tr>\n",
       "    <tr>\n",
       "      <th>std</th>\n",
       "      <td>0.474011</td>\n",
       "      <td>1.432621</td>\n",
       "      <td>2.234491</td>\n",
       "      <td>3989.439738</td>\n",
       "      <td>1.121761</td>\n",
       "      <td>1.142135</td>\n",
       "      <td>0.705699</td>\n",
       "    </tr>\n",
       "    <tr>\n",
       "      <th>min</th>\n",
       "      <td>0.200000</td>\n",
       "      <td>43.000000</td>\n",
       "      <td>43.000000</td>\n",
       "      <td>326.000000</td>\n",
       "      <td>0.000000</td>\n",
       "      <td>0.000000</td>\n",
       "      <td>0.000000</td>\n",
       "    </tr>\n",
       "    <tr>\n",
       "      <th>25%</th>\n",
       "      <td>0.400000</td>\n",
       "      <td>61.000000</td>\n",
       "      <td>56.000000</td>\n",
       "      <td>950.000000</td>\n",
       "      <td>4.710000</td>\n",
       "      <td>4.720000</td>\n",
       "      <td>2.910000</td>\n",
       "    </tr>\n",
       "    <tr>\n",
       "      <th>50%</th>\n",
       "      <td>0.700000</td>\n",
       "      <td>61.800000</td>\n",
       "      <td>57.000000</td>\n",
       "      <td>2401.000000</td>\n",
       "      <td>5.700000</td>\n",
       "      <td>5.710000</td>\n",
       "      <td>3.530000</td>\n",
       "    </tr>\n",
       "    <tr>\n",
       "      <th>75%</th>\n",
       "      <td>1.040000</td>\n",
       "      <td>62.500000</td>\n",
       "      <td>59.000000</td>\n",
       "      <td>5324.250000</td>\n",
       "      <td>6.540000</td>\n",
       "      <td>6.540000</td>\n",
       "      <td>4.040000</td>\n",
       "    </tr>\n",
       "    <tr>\n",
       "      <th>max</th>\n",
       "      <td>5.010000</td>\n",
       "      <td>79.000000</td>\n",
       "      <td>95.000000</td>\n",
       "      <td>18823.000000</td>\n",
       "      <td>10.740000</td>\n",
       "      <td>58.900000</td>\n",
       "      <td>31.800000</td>\n",
       "    </tr>\n",
       "  </tbody>\n",
       "</table>\n",
       "</div>"
      ],
      "text/plain": [
       "              carat         depth         table         price             x  \\\n",
       "count  53940.000000  53940.000000  53940.000000  53940.000000  53940.000000   \n",
       "mean       0.797940     61.749405     57.457184   3932.799722      5.731157   \n",
       "std        0.474011      1.432621      2.234491   3989.439738      1.121761   \n",
       "min        0.200000     43.000000     43.000000    326.000000      0.000000   \n",
       "25%        0.400000     61.000000     56.000000    950.000000      4.710000   \n",
       "50%        0.700000     61.800000     57.000000   2401.000000      5.700000   \n",
       "75%        1.040000     62.500000     59.000000   5324.250000      6.540000   \n",
       "max        5.010000     79.000000     95.000000  18823.000000     10.740000   \n",
       "\n",
       "                  y             z  \n",
       "count  53940.000000  53940.000000  \n",
       "mean       5.734526      3.538734  \n",
       "std        1.142135      0.705699  \n",
       "min        0.000000      0.000000  \n",
       "25%        4.720000      2.910000  \n",
       "50%        5.710000      3.530000  \n",
       "75%        6.540000      4.040000  \n",
       "max       58.900000     31.800000  "
      ]
     },
     "execution_count": 6,
     "metadata": {},
     "output_type": "execute_result"
    }
   ],
   "source": [
    "diamond_data.drop(columns = diamond_data.columns[0],inplace=True) #Drop id attribute to make computations cleaner\n",
    "diamond_data.describe()"
   ]
  },
  {
   "cell_type": "code",
   "execution_count": 65,
   "metadata": {},
   "outputs": [
    {
     "data": {
      "text/plain": [
       "carat       0.70\n",
       "depth      61.80\n",
       "table      57.00\n",
       "price    2401.00\n",
       "x           5.70\n",
       "y           5.71\n",
       "z           3.53\n",
       "dtype: float64"
      ]
     },
     "execution_count": 65,
     "metadata": {},
     "output_type": "execute_result"
    }
   ],
   "source": [
    "diamond_data.median()"
   ]
  },
  {
   "cell_type": "code",
   "execution_count": 66,
   "metadata": {},
   "outputs": [
    {
     "data": {
      "text/html": [
       "<div>\n",
       "<style scoped>\n",
       "    .dataframe tbody tr th:only-of-type {\n",
       "        vertical-align: middle;\n",
       "    }\n",
       "\n",
       "    .dataframe tbody tr th {\n",
       "        vertical-align: top;\n",
       "    }\n",
       "\n",
       "    .dataframe thead th {\n",
       "        text-align: right;\n",
       "    }\n",
       "</style>\n",
       "<table border=\"1\" class=\"dataframe\">\n",
       "  <thead>\n",
       "    <tr style=\"text-align: right;\">\n",
       "      <th></th>\n",
       "      <th>carat</th>\n",
       "      <th>cut</th>\n",
       "      <th>color</th>\n",
       "      <th>clarity</th>\n",
       "      <th>depth</th>\n",
       "      <th>table</th>\n",
       "      <th>price</th>\n",
       "      <th>x</th>\n",
       "      <th>y</th>\n",
       "      <th>z</th>\n",
       "    </tr>\n",
       "  </thead>\n",
       "  <tbody>\n",
       "    <tr>\n",
       "      <td>0</td>\n",
       "      <td>0.3</td>\n",
       "      <td>Ideal</td>\n",
       "      <td>G</td>\n",
       "      <td>SI1</td>\n",
       "      <td>62.0</td>\n",
       "      <td>56.0</td>\n",
       "      <td>605</td>\n",
       "      <td>4.37</td>\n",
       "      <td>4.34</td>\n",
       "      <td>2.7</td>\n",
       "    </tr>\n",
       "  </tbody>\n",
       "</table>\n",
       "</div>"
      ],
      "text/plain": [
       "   carat    cut color clarity  depth  table  price     x     y    z\n",
       "0    0.3  Ideal     G     SI1   62.0   56.0    605  4.37  4.34  2.7"
      ]
     },
     "execution_count": 66,
     "metadata": {},
     "output_type": "execute_result"
    }
   ],
   "source": [
    "diamond_data.mode()"
   ]
  },
  {
   "cell_type": "markdown",
   "metadata": {},
   "source": [
    "a) \n",
    "\n",
    "| Variable | Mean | Median | Standard Deviation | Range |\n",
    "| :- | :- | :- | :- | :- |\n",
    "| price | 2401 | 2401 | 3989.440 ~ 3989 | [326,18823] -> 18,497 |\n",
    "| carat | 0.7 | 0.7 | 0.474 | [0.2,5.01] -> 4.81|\n",
    "| depth\t| 61.749 | 61 | 1.433 | [43,79] -> 36 |\n",
    "| table\t| 57 | 57 | 2.234 | [43,95] -> 52 |\t\n",
    "| x (length) | 5.7 | 5.7 | 1.122 | [0,10.74] -> 10.74 |\n",
    "| y (width) | 5.71 | 5.71 | 1.142 | [0,58.9] -> 58.9 |\n",
    "| z (depth) | 3.53 | 3.53 | 0.706 | [0,31.8] -> 31.8 |\n",
    "\n",
    "b)\n",
    "\n",
    "| Variable | Mode |\n",
    "| :- | :- |\n",
    "| cut | Ideal |\n",
    "| color | G |\n",
    "| clarity | Sl1 |\n",
    "\n",
    "c) $IQR(price) = [950,5324]$ with a mean of 2401 (assumed to be in USD). "
   ]
  },
  {
   "cell_type": "markdown",
   "metadata": {},
   "source": [
    "<font color = 'green'>a. Partially correct: 0 points (Mean values are all incorrect except for Mean(depth) and Mean(x). \n",
    "                                                      You have troubles rounding off the values! Some values are totally incorrect. Please recheck!) </font>\n",
    "<font color = 'green'>b. Correct: 1.5 points </font>\n",
    "<font color = 'green'>c. Incorrect: 0 points </font>"
   ]
  },
  {
   "cell_type": "markdown",
   "metadata": {},
   "source": [
    "#### Solution 4.4"
   ]
  },
  {
   "cell_type": "code",
   "execution_count": 74,
   "metadata": {},
   "outputs": [
    {
     "data": {
      "text/plain": [
       "Ideal        21551\n",
       "Premium      13791\n",
       "Very Good    12082\n",
       "Good          4906\n",
       "Fair          1610\n",
       "Name: cut, dtype: int64"
      ]
     },
     "execution_count": 74,
     "metadata": {},
     "output_type": "execute_result"
    }
   ],
   "source": [
    "diamond_data['cut'].value_counts()"
   ]
  },
  {
   "cell_type": "markdown",
   "metadata": {},
   "source": [
    "$$\\frac{\\text{# of very good or better}}{\\text{# total}}=\\frac{12082+13791+21551}{1610+4906+12082+13791+21551}=\\frac{47,424}{53,940}\\approx 0.8792$$"
   ]
  },
  {
   "cell_type": "code",
   "execution_count": 10,
   "metadata": {},
   "outputs": [
    {
     "data": {
      "image/png": "[encoded data removed]",
      "text/plain": [
       "<Figure size 432x288 with 1 Axes>"
      ]
     },
     "metadata": {
      "needs_background": "light"
     },
     "output_type": "display_data"
    }
   ],
   "source": [
    "import seaborn as sns # For box plot\n",
    "\n",
    "ax = sns.countplot(x=\"cut\",data = diamond_data,order =[\"Fair\",\"Good\",\"Very Good\",\"Premium\",\"Ideal\"])"
   ]
  },
  {
   "cell_type": "markdown",
   "metadata": {},
   "source": [
    "<font color = 'green'> Correct: 5 points : Good solution </font> "
   ]
  },
  {
   "cell_type": "markdown",
   "metadata": {},
   "source": [
    "#### Solution 4.5"
   ]
  },
  {
   "cell_type": "code",
   "execution_count": 12,
   "metadata": {},
   "outputs": [
    {
     "data": {
      "text/plain": [
       "<AxesSubplot:>"
      ]
     },
     "execution_count": 12,
     "metadata": {},
     "output_type": "execute_result"
    },
    {
     "data": {
      "image/png": "[encoded data removed]",
      "text/plain": [
       "<Figure size 432x288 with 1 Axes>"
      ]
     },
     "metadata": {
      "needs_background": "light"
     },
     "output_type": "display_data"
    }
   ],
   "source": [
    "diamond_data['carat'].hist(bins=10) # Set number of bins appropriately"
   ]
  },
  {
   "cell_type": "markdown",
   "metadata": {},
   "source": [
    "<font color = 'green'> Correct : 2 points </font> \n",
    "Consider plotting titles and axes names. That is always a good practice. "
   ]
  },
  {
   "cell_type": "markdown",
   "metadata": {},
   "source": [
    "#### Solution 4.6"
   ]
  },
  {
   "cell_type": "code",
   "execution_count": 14,
   "metadata": {},
   "outputs": [
    {
     "data": {
      "image/png": "[encoded data removed]",
      "text/plain": [
       "<Figure size 432x288 with 1 Axes>"
      ]
     },
     "metadata": {
      "needs_background": "light"
     },
     "output_type": "display_data"
    }
   ],
   "source": [
    "ax = diamond_data.plot.scatter(x='carat',y='price',s=0.5)"
   ]
  },
  {
   "cell_type": "markdown",
   "metadata": {},
   "source": [
    "<font color = 'green'> Correct : 2 points </font> Again, plot title : Say \"ScatterPlot of Price v/s Carat\""
   ]
  },
  {
   "cell_type": "markdown",
   "metadata": {},
   "source": [
    "#### Solution 4.7"
   ]
  },
  {
   "cell_type": "code",
   "execution_count": 100,
   "metadata": {},
   "outputs": [
    {
     "name": "stdout",
     "output_type": "stream",
     "text": [
      "The correlation between carat and price is:  0.9215913011934779\n"
     ]
    }
   ],
   "source": [
    "print(\"The correlation between carat and price is: \",diamond_data['carat'].corr(diamond_data['price']))"
   ]
  },
  {
   "cell_type": "code",
   "execution_count": 98,
   "metadata": {},
   "outputs": [
    {
     "data": {
      "text/plain": [
       "0.9215913011935698"
      ]
     },
     "execution_count": 98,
     "metadata": {},
     "output_type": "execute_result"
    }
   ],
   "source": [
    "Correlation(diamond_data['carat'],diamond_data['price']) # Verifying my correlation function from part 7"
   ]
  },
  {
   "cell_type": "markdown",
   "metadata": {},
   "source": [
    "<font color = 'green'> Correct : 1 point </font> Nice work! "
   ]
  },
  {
   "cell_type": "markdown",
   "metadata": {},
   "source": [
    "<font color = 'green'> Total : 18.5 / 20 </font> "
   ]
  },
  {
   "cell_type": "markdown",
   "metadata": {},
   "source": [
    "### Problem 5 (4 points)\n",
    "\n",
    "We have a collection of m documents.\n",
    "\n",
    "Let us say we would like to compare two documents x and y using their document term vectors. \n",
    "\n",
    "Let tf_ij be the frequency of the ith word (term) in the jth document\n",
    "\n",
    "1. Let the vocabulary size (the dimensionality of the vectors) be n. What is a good measure of similarity for this purpose ? Write the formula for it in terms of tf_ij.\n",
    "\n",
    "2. Consider the variable transformation given by idf_ij = tf_ij * log(m/df_i), where df_i is the document frequency, i.e. the number of documents in which the ith term occurs. The transformed variable idf_ij is called the inverse document frequency. What are the advantages of using this transformed variable instead of the original in the similarity computation ?"
   ]
  },
  {
   "cell_type": "markdown",
   "metadata": {},
   "source": [
    "### Solution"
   ]
  },
  {
   "cell_type": "markdown",
   "metadata": {},
   "source": [
    "#### Solution 5.1"
   ]
  },
  {
   "cell_type": "markdown",
   "metadata": {},
   "source": [
    "Since the length (number of words) of a document can vary drastically we want a measure which is invariant under length (scaling) so a good candidate (and the candidate often used) would be the cosine similarity between these vocabulary vectors, defined as the following:\n",
    "$$cos(x,y) = \\frac{<x,y>}{\\|{x}\\|\\|y\\|}=\\frac{\\sum_{i=1}^n tf_{i1}\\cdot tf_{i2}}{\\sqrt{\\sum_{i=1}^n tf_{i1}}\\cdot \\sqrt{\\sum_{i=1}^n tf_{i2}}}$$\n",
    "where $j=1$ refers to document x and $j=2$ refers to document y."
   ]
  },
  {
   "cell_type": "markdown",
   "metadata": {},
   "source": [
    "<font color = 'red'> Partially Correct : 1 point </font> \n",
    "The denominator should have squared of tf_ij because you calculate magnitude which is square root of summation of square of each term"
   ]
  },
  {
   "cell_type": "markdown",
   "metadata": {},
   "source": [
    "#### Solution 5.2"
   ]
  },
  {
   "cell_type": "markdown",
   "metadata": {},
   "source": [
    "Consider the variable transformation:\n",
    "$$idf_{ij}=tf_{ij}\\cdot \\log{\\frac{m}{df_i}}$$\n",
    "Observe that if $df_i = m$, (i.e. the ith term occurs in every document), then: \n",
    "$$\\log{\\frac{m}{df_i}}=\\log{1}=0\\rightarrow idf_{ij}=0$$\n",
    "and $\\log{\\frac{m}{df_i}}$ is maximized when $df_i=1$ assuming $m>1$. All of this means that the transformation takes into account both the frequency of the word occurring, but also the commonality/rarity of the word across all documents being considered. As a result, very common words like \"the\", \"a\", \"but\", \"it\", \"is\", etc. are in a sense normalized. This prevents common words from dominating the similarity computation while allowing rarer words to be considered more importantly in the computation."
   ]
  },
  {
   "cell_type": "markdown",
   "metadata": {},
   "source": [
    "<font color='green'> Correct : 2 points </font>"
   ]
  },
  {
   "cell_type": "markdown",
   "metadata": {},
   "source": [
    "### Problem 6 (6 points)\n",
    "\n",
    "Write Python functions to compute the Hamming (L1) distance, SMC and Jaccard similarity coefficient between two binary vectors. Use them to these proximity measures between the following vectors:\n",
    "\n",
    "x = 1010101010101 \n",
    "\n",
    "y = 1000100010001"
   ]
  },
  {
   "cell_type": "markdown",
   "metadata": {},
   "source": [
    "### Solution"
   ]
  },
  {
   "cell_type": "code",
   "execution_count": 20,
   "metadata": {},
   "outputs": [
    {
     "name": "stdout",
     "output_type": "stream",
     "text": [
      "The Hamming distance is: 3\n",
      "The Simple Matching Coefficient is: 0.7692307692307693\n",
      "The Jaccard Similarity Cofficient is: 0.5714285714285714\n"
     ]
    }
   ],
   "source": [
    "def HammingDistance(x,y): # Input two binary vectors x, y (of equal length!), output Hamming distance between x and y.\n",
    "    ham_dist = 0 # Initiate our counter (i.e. the hamming distance)\n",
    "    for i in range(len(x)): # Iterate through our two binary vectors\n",
    "        if x[i] != y[i]: # If the i-th elements of the two vectors differ, increase distance by 1\n",
    "            ham_dist += 1\n",
    "    return(ham_dist)\n",
    "\n",
    "def SMC(x,y): # Input two binary vectors x, y (of equal length!), output simple matching coefficient (SMC) between x and y.\n",
    "    smc_count = 0 # Initiate our counter for sum of matching values\n",
    "    for i in range(len(x)): # Iterate through our two binary vectors\n",
    "        if x[i] == y[i]: # If the i-th elements of the two vectors are the same, increase matching count by 1\n",
    "            smc_count += 1\n",
    "    return(smc_count/len(x))\n",
    "\n",
    "def Jaccard(x,y): # Input two binary vectors x, y (of equal length!), output Jaccard similary coefficient between x and y.\n",
    "    ii_count = 0 # Initiate our counters for matching 11 and 00 values\n",
    "    oo_count = 0\n",
    "    for i in range(len(x)): # Iterate through our two binary vectors\n",
    "        if x[i] == y[i]: # If the i-th elements of the two vectors are the same, count if they are 11 or 00 matches\n",
    "            if x[i] == 1:\n",
    "                ii_count += 1\n",
    "            else:\n",
    "                oo_count += 1\n",
    "    return(ii_count/(len(x)-oo_count)) # Return the number of 11 matches divided by the number of non-00 cases\n",
    "    \n",
    "x = [1,0,1,0,1,0,1,0,1,0,1,0,1]\n",
    "y = [1,0,0,0,1,0,0,0,1,0,0,0,1]\n",
    "\n",
    "print(\"The Hamming distance is:\", HammingDistance(x,y))\n",
    "print(\"The Simple Matching Coefficient is:\", SMC(x,y))\n",
    "print(\"The Jaccard Similarity Cofficient is:\", Jaccard(x,y))"
   ]
  },
  {
   "cell_type": "markdown",
   "metadata": {},
   "source": [
    "<font color='green'> Correct : 6 points </font> "
   ]
  },
  {
   "cell_type": "markdown",
   "metadata": {},
   "source": [
    "### Problem 7 (6 points)\n",
    "\n",
    "Calculate the indicated similarity or distance measures of the vectors show below (you can do this by hand or by writing code, but please show the computation either way):\n",
    "\n",
    "x = (1,1,1,1) and y = (3,3,3,3) : cosine, correlation, Euclidean\n",
    "\n",
    "x = (0,1,0,1,0,1) and y = (1,0,1,0,1,0) : cosine, correlation, Euclidean, Jaccard \n",
    "\n",
    "x = (1,1,0,1,0,1) and y = (1,1,1,0,0,1) : cosine, correlation, Lmax, Jaccard"
   ]
  },
  {
   "cell_type": "markdown",
   "metadata": {},
   "source": [
    "### Solution"
   ]
  },
  {
   "cell_type": "code",
   "execution_count": 23,
   "metadata": {},
   "outputs": [
    {
     "name": "stdout",
     "output_type": "stream",
     "text": [
      "x = (1,1,1,1), y = (3,3,3,3)\n",
      "The Cosine similarity between x and y is:  1.0\n",
      "One or more variable has a standard deviation of zero, thus the correlation is not defined.\n",
      "The Pearson correlation between x and y is:  Undefined\n",
      "The Euclidean distance between x and y is:  4.0\n",
      "x = (0,1,0,1,0,1), y = (1,0,1,0,1,0)\n",
      "The Cosine similarity between x and y is:  0.0\n",
      "The Pearson correlation between x and y is:  -1.0000000000000002\n",
      "The Euclidean distance between x and y is:  2.449489742783178\n",
      "The Jaccard coefficient between x and y is:  0.0\n",
      "x = (1,1,0,1,0,1), y = (1,1,1,0,0,1)\n",
      "The Cosine similarity between x and y is:  0.75\n",
      "The Pearson correlation between x and y is:  0.25\n",
      "The Lmax distance between x and y is:  1\n",
      "The Jaccard coefficient between x and y is:  0.6\n"
     ]
    }
   ],
   "source": [
    "import numpy as np # For simple math operations\n",
    "\n",
    "def CosineSim(x,y): # Input two vectors (of equal length!) and output their cosine similarity\n",
    "    inner_product = 0 # Initialize <x,y> ||x|| and ||y||\n",
    "    x_norm, y_norm = 0,0\n",
    "    for i in range(len(x)):\n",
    "        inner_product += x[i]*y[i] # Compute sums required for <x,y> and the norms\n",
    "        x_norm += x[i]*x[i]\n",
    "        y_norm += y[i]*y[i]\n",
    "    return inner_product/(np.sqrt(x_norm)*np.sqrt(y_norm)) # Return <x,y>/(||x||*||y||)\n",
    "\n",
    "def Correlation(x,y): # Input two vectors (of equal length!) and output their Pearson Correlation Coefficient\n",
    "    x_mean, y_mean = 0,0 # Initialize means\n",
    "    for i in range(len(x)): # Compute sums\n",
    "        x_mean += x[i] \n",
    "        y_mean += y[i]\n",
    "    x_mean = x_mean/len(x) # Compute means\n",
    "    y_mean = y_mean/len(x)\n",
    "    sxy, sx, sy = 0,0,0 # Initialize s_xy, s_x and s_y\n",
    "    for j in range(len(x)):\n",
    "        sxy += (x[j] - x_mean)*(y[j] - y_mean) # Compute sums\n",
    "        sx += np.power(x[j] - x_mean,2)\n",
    "        sy += np.power(y[j] - y_mean,2)\n",
    "    if sx == 0 or sy == 0: # If one vector std = 0 (all values are the same) then the correlation is undefined\n",
    "        print(\"One or more variable has a standard deviation of zero, thus the correlation is not defined.\")\n",
    "        return (\"Undefined\")\n",
    "    sxy = sxy/(len(x)-1) # Explicitly compute s_xy, s_x and s_y\n",
    "    sx = np.sqrt(sx/(len(x)-1))\n",
    "    sy = np.sqrt(sy/(len(y)-1))\n",
    "    return (sxy/(sx*sy))\n",
    "\n",
    "def Euclidean(x,y): # Input two vectors (of equal length) and return their Euclidean Distance\n",
    "    sum = 0 # Initialize sum\n",
    "    for i in range(len(x)):\n",
    "        sum += np.power(x[i]-y[i],2) # Compute sum of squared differences\n",
    "    return np.sqrt(sum) # Return Euclidean distance\n",
    "\n",
    "def Jaccard(x,y): # Input two binary vectors x, y (of equal length!), output Jaccard similary coefficient between x and y.\n",
    "    ii_count = 0 # Initiate our counters for matching 11 and 00 values\n",
    "    oo_count = 0\n",
    "    for i in range(len(x)): # Iterate through our two binary vectors\n",
    "        if x[i] == y[i]: # If the i-th elements of the two vectors are the same, count if they are 11 or 00 matches\n",
    "            if x[i] == 1:\n",
    "                ii_count += 1\n",
    "            else:\n",
    "                oo_count += 1\n",
    "    return(ii_count/(len(x)-oo_count)) # Return the number of 11 matches divided by the number of non-00 cases\n",
    "\n",
    "def LmaxNorm(x,y): # Input two vectors (of the same length) and output their Lmax distance\n",
    "    max_diff = 0 # Set max_diff to zero\n",
    "    for i in range(len(x)):\n",
    "        if abs(x[i] - y[i]) > max_diff:\n",
    "            max_diff = abs(x[i] - y[i])\n",
    "    return max_diff # Return the max difference between components of x and y, aka the Lmax distance\n",
    "\n",
    "x = [1,1,1,1]\n",
    "y = [3,3,3,3]\n",
    "print(\"x = (1,1,1,1), y = (3,3,3,3)\")\n",
    "print(\"The Cosine similarity between x and y is: \",CosineSim(x,y))\n",
    "print(\"The Pearson correlation between x and y is: \",Correlation(x,y))\n",
    "print(\"The Euclidean distance between x and y is: \",Euclidean(x,y))\n",
    "\n",
    "x = [0,1,0,1,0,1]\n",
    "y = [1,0,1,0,1,0]\n",
    "\n",
    "print(\"x = (0,1,0,1,0,1), y = (1,0,1,0,1,0)\")\n",
    "print(\"The Cosine similarity between x and y is: \",CosineSim(x,y))\n",
    "print(\"The Pearson correlation between x and y is: \",Correlation(x,y))\n",
    "print(\"The Euclidean distance between x and y is: \",Euclidean(x,y))\n",
    "print(\"The Jaccard coefficient between x and y is: \",Jaccard(x,y))\n",
    "\n",
    "x = [1,1,0,1,0,1]\n",
    "y = [1,1,1,0,0,1]\n",
    "\n",
    "print(\"x = (1,1,0,1,0,1), y = (1,1,1,0,0,1)\")\n",
    "print(\"The Cosine similarity between x and y is: \",CosineSim(x,y))\n",
    "print(\"The Pearson correlation between x and y is: \",Correlation(x,y))\n",
    "print(\"The Lmax distance between x and y is: \",LmaxNorm(x,y))\n",
    "print(\"The Jaccard coefficient between x and y is: \",Jaccard(x,y))"
   ]
  },
  {
   "cell_type": "markdown",
   "metadata": {},
   "source": [
    "<font color = 'green'> Correct: 6 points </font> "
   ]
  },
  {
   "cell_type": "markdown",
   "metadata": {},
   "source": [
    "### Submission instructions\n",
    "\n",
    "1. Your assignment should be completed by filling in the empty solution cells in this Jupyter notebook file (.ipynb). Feel free to add more cells as needed.\n",
    "\n",
    "2. Please comment your code using either markdown or #comments and use meaningful variable names to make it as readable and intelligible as possible.\n",
    "\n",
    "3. Write your code in the form of functions. For example: \n",
    "\n",
    "    def my_code ():\n",
    "\n",
    "          #Write code here\n",
    "      \n",
    "          return \"The return value\"\n",
    "          \n",
    "\n",
    "4. If the problem is to find the value of 'x', printing 'x = (your answer)' will help us identify if your code worked.\n",
    "\n",
    "\n",
    "5. For code that refers to local data files downloaded from the internet, please keep the file path simple (e.g. ~/downloads/datafilename) so that it works on our copy of the dataset. Please do not modify either the filename or the file contents in any way.\n",
    "\n",
    "6. Solution to problems that do not require any coding can be typed up in their own cells using markdown.\n",
    "    \n",
    "7. Unless there are legitimate circumstances, late assignments will not be accepted.\n",
    "\n",
    "8. All assignments are individual.\n",
    "\n",
    "9. All the sources used for problem solution must be acknowledged, e.g. web sites, books, research papers, etc.\n",
    "\n",
    "10. Academic integrity is taken seriously; for detailed information see the RIT Honor Code and with RIT's Academic Integrity Policy."
   ]
  },
  {
   "cell_type": "markdown",
   "metadata": {},
   "source": [
    "<font color = 'green'> Total marks: 48.5 / 56 </font>"
   ]
  }
 ],
 "metadata": {
  "kernelspec": {
   "display_name": "Python 3",
   "language": "python",
   "name": "python3"
  },
  "language_info": {
   "codemirror_mode": {
    "name": "ipython",
    "version": 3
   },
   "file_extension": ".py",
   "mimetype": "text/x-python",
   "name": "python",
   "nbconvert_exporter": "python",
   "pygments_lexer": "ipython3",
   "version": "3.8.5"
  }
 },
 "nbformat": 4,
 "nbformat_minor": 4
}
