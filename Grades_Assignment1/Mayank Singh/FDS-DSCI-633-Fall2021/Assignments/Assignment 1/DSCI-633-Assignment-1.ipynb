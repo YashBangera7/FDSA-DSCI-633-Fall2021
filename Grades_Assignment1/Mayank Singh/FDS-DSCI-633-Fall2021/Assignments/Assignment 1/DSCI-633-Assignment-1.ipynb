{
 "cells": [
  {
   "cell_type": "markdown",
   "metadata": {},
   "source": [
    "# RIT DSCI-633: Foundations of Data Science and Analytics\n",
    "## Assignment 1\n",
    "### Due: 11:59 pm EST, Saturday, Oct 2, 2021"
   ]
  },
  {
   "cell_type": "markdown",
   "metadata": {},
   "source": [
    "### Problem 1 (10 points)\n",
    "\n",
    "In statistics and probability theory, the law of large numbers is a theorem that describes the result of\n",
    "repeating the same experiment a large number of times. The theorem states that if the same\n",
    "experiment or study is repeated independently a large number of times, the average of the results of\n",
    "the trials must be close to the expected value. The result becomes closer to the expected value as the\n",
    "number of trials is increased. Let us look at a specific experiment.\n",
    "\n",
    "Assume you have a Gaussian distribution (commonly called a “bell curve”) with mean µ and std\n",
    "deviation σ. The area under the curve that lies between σ and 2σ, and –σ and -2σ is approximately\n",
    "27.2%. In other words, approximately 27.2% of numbers generated randomly using this distribution will\n",
    "fall in the range [µ + σ, µ + 2σ] or [µ - 2σ, µ - σ], as shown below.\n",
    "\n",
    "Generate N random numbers that follow a Gaussian distribution with µ = 100, σ = 10, and count the\n",
    "numbers M that fall into the ranges above. Print the fraction M/N. Repeat this for N = 10, 100, 1000,\n",
    "10000, and 1000000.\n",
    "\n",
    "Does the fraction start to approach 27.2%?\n"
   ]
  },
  {
   "cell_type": "markdown",
   "metadata": {},
   "source": [
    "### Solution"
   ]
  },
  {
   "cell_type": "code",
   "execution_count": 1,
   "metadata": {},
   "outputs": [
    {
     "name": "stdout",
     "output_type": "stream",
     "text": [
      "\n",
      "Total values N:  10\n",
      "\tValues in range M:  3\n",
      "\tFraction M/N:  0.3\n",
      "\n",
      "Total values N:  100\n",
      "\tValues in range M:  23\n",
      "\tFraction M/N:  0.23\n",
      "\n",
      "Total values N:  1000\n",
      "\tValues in range M:  274\n",
      "\tFraction M/N:  0.274\n",
      "\n",
      "Total values N:  10000\n",
      "\tValues in range M:  2717\n",
      "\tFraction M/N:  0.2717\n",
      "\n",
      "Total values N:  1000000\n",
      "\tValues in range M:  271549\n",
      "\tFraction M/N:  0.271549\n"
     ]
    }
   ],
   "source": [
    "import numpy as np\n",
    "\n",
    "mu = 100\n",
    "sigma = 10\n",
    "\n",
    "# creating limits variables for reference\n",
    "limit1 = mu + sigma\n",
    "limit2 = mu + sigma * 2\n",
    "\n",
    "limit3 = mu - sigma\n",
    "limit4 = mu - sigma * 2\n",
    "\n",
    "nums = [10,100,1000,10000,1000000]\n",
    "\n",
    "# this method returns the number of elements that fall in the above range\n",
    "def inrange(data):\n",
    "    valuesInrange = 0\n",
    "    for oneValue in data:\n",
    "        if (oneValue >= limit4 and oneValue <= limit3) or (oneValue >= limit1 and oneValue <= limit2):\n",
    "            valuesInrange = valuesInrange + 1\n",
    "    return valuesInrange\n",
    "\n",
    "# this method loops over the nums and compute M/N for each value\n",
    "for num in nums:\n",
    "    # ref: https://en.wikipedia.org/wiki/Normal_distribution\n",
    "    data = np.random.randn(num) * sigma + mu\n",
    "    valuesInRange = inrange(data)\n",
    "    print(\"\\nTotal values N: \",num)\n",
    "    print(\"\\tValues in range M: \", valuesInRange)\n",
    "    print(\"\\tFraction M/N: \", valuesInRange/num)\n"
   ]
  },
  {
   "cell_type": "markdown",
   "metadata": {},
   "source": [
    "<font color = 'green'> Correct : 10 points </font> "
   ]
  },
  {
   "cell_type": "markdown",
   "metadata": {},
   "source": [
    "### Problem 2 (5 points)\n",
    "\n",
    "Imagine you have a dataset of movie ratings for a set of 500 popular movies and a set of 1000 users.\n",
    "Each data sample contains the ratings of each movie (from 1 to 5 stars) by a specific user. The rating is\n",
    "an integer in the range [0,5], with a value of 0 means that the user did not watch that movie.\n",
    "How would you convert this data to a form suitable for association analysis? In particular, what type of\n",
    "attributes would you have and how many of them?\n",
    "\n"
   ]
  },
  {
   "cell_type": "markdown",
   "metadata": {},
   "source": [
    "### Solution"
   ]
  },
  {
   "cell_type": "markdown",
   "metadata": {},
   "source": [
    "For association analysis, data needs to be converted to suitable format.\n",
    "\n",
    "Data provided:\n",
    "* List of 500 movies\n",
    "* Rating of 0-5. Where 0 means user did not watch the movie.\n",
    "* List of 1000 users who rated the movies.\n",
    "\n",
    "Data preparation:\n",
    "* Creating a list of set of all the movies rated 3 to 5 per user.\n",
    "* Minimum rating selected is 3 as per it is considered as moderate rating.\n",
    "* This list would become the dataset where each set would have all movies watched by the particular user, as well as rated from moderate to high.\n",
    "* Here the attributes would be movies rated from 3-5.\n",
    "\n",
    "Example of sample data for association analysis:\n",
    "\n",
    "| UserID | Movies rated from 3-5                        |\n",
    "|--------|----------------------------------------------|\n",
    "| 1      | 'Avengers', 'Iron man', 'Avengers Endgame'   |\n",
    "| 2      | 'Avengers', 'Avengers Endgame', 'Life of pi' |\n",
    "| 3      | 'Avengers', 'Avengers Endgame', 'Thor'       |\n",
    "\n"
   ]
  },
  {
   "cell_type": "markdown",
   "metadata": {},
   "source": [
    "<font color='red'> Incorrect: 0 points </font> \n",
    "For association analysis, we require binary asymmetric attributes.\n",
    "\n",
    "Since each rating can take 6 possible values, we would need to replace it with 6 asymmetric binary attributes\n",
    "of the form (rating == 0?) (rating == 1?) ...\n",
    "\n",
    "This will give us 500 x 6 = **3000 binary attributes per user**.  \n",
    "The resulting sparse data matrix would be **1000 rows x 3000 columns**."
   ]
  },
  {
   "cell_type": "markdown",
   "metadata": {},
   "source": [
    "### Problem 3 (5 points)\n",
    "\n",
    "Distinguish between noise and outliers\n",
    "\n",
    "1. True or False ? Noise may be in the form of noisy attribute values, or noise objects.\n",
    "2. True or False ? Noise is sometimes desirable.\n",
    "3. True or False ? Outliers are sometimes desirable.\n",
    "4. True or False ? Noise objects may or may not be outliers. Explain your reasoning.\n",
    "5. True or False ? Outlier objects may or may not be noise. Explain your reasoning."
   ]
  },
  {
   "cell_type": "markdown",
   "metadata": {},
   "source": [
    "### Solution"
   ]
  },
  {
   "cell_type": "markdown",
   "metadata": {},
   "source": [
    "Outliers are data objects with characteristic that are much different from most of the other data objects in the data set, and it’s may be useful.\n",
    "\n",
    "Noise is a random error (or a modification of original values) that is not interesting or desirable.\n",
    "\n",
    "1. True\n",
    "\n",
    "2. False\n",
    "\n",
    "3. True\n",
    "\n",
    "4. True. Noise attributes appear random or unusual. Thus it is possible that noise may appear as outliers.\n",
    "\n",
    "5. True. Outlier can be legitimate data points which is out of range of other data points. So it cannot always be noise but it can be sometimes."
   ]
  },
  {
   "cell_type": "markdown",
   "metadata": {},
   "source": [
    "<font color = 'green'> Correct : 5 points </font> "
   ]
  },
  {
   "cell_type": "markdown",
   "metadata": {},
   "source": [
    "### Problem 4 (20 points)\n",
    "Download the ‘Diamonds’ dataset from https://www.kaggle.com/shivam2503/diamonds.\n",
    "1. Based on the description of the dataset provided at the site, categorize each attribute of the data as\n",
    "discrete or continuous, qualitative (nominal or ordinal), or quantitative (interval or ratio)  (5 points)\n",
    "e.g. Age in years: Discrete, Quantitative, Ratio.\n",
    "2. Load the CSV data file into a Pandas DataFrame object and display the first 5 rows. (2 points)\n",
    "3. Calculate summary statistics:\n",
    "a. For each quantitative attribute: find the mean, median, standard deviation, and range. (3.5 points)\n",
    "b. For each qualitative attribute, find the mode. (1.5 points)\n",
    "c. Find the Interquartile Range (IQR) of the ‘price’ variable. (0.5 points)\n",
    "4. What fraction of the data samples have ‘cut’ that is ‘very good’ or better ? Create a bar plot\n",
    "showing the distribution of the data samples by ‘cut’ (one bar for each value of cut). (2.5 points)\n",
    "5. Plot a histogram of the 'carat' variable. (2 points)\n",
    "6. Plot a scatter plot of ‘carat’ vs ‘price’. (2 points)\n",
    "7. Compute the correlation between ‘carat’ and ‘price’. (1 point)"
   ]
  },
  {
   "cell_type": "markdown",
   "metadata": {},
   "source": [
    "### Solution"
   ]
  },
  {
   "cell_type": "markdown",
   "metadata": {},
   "source": [
    "#### Solution 4.1"
   ]
  },
  {
   "cell_type": "markdown",
   "metadata": {},
   "source": [
    "##### Index Counter:\n",
    "* Discrete\n",
    "* Qualitative\n",
    "* Nominal\n",
    "\n",
    "##### Carat:\n",
    "* Continous\n",
    "* Quantitative\n",
    "* Ratio\n",
    "\n",
    "##### Cut:\n",
    "* Discrete\n",
    "* Qualitative\n",
    "* Ordinal\n",
    "\n",
    "##### Color:\n",
    "* Discrete\n",
    "* Qualitative\n",
    "* Ordinal\n",
    "\n",
    "##### Clarity:\n",
    "* Discrete\n",
    "* Qualitative\n",
    "* Ordinal\n",
    "\n",
    "##### Depth:\n",
    "* Continous\n",
    "* Quantitative\n",
    "* Ratio\n",
    "\n",
    "##### Table:\n",
    "* Continous\n",
    "* Quantitative\n",
    "* Ratio\n",
    "\n",
    "##### Price:\n",
    "* Continous\n",
    "* Quantitative\n",
    "* Ratio\n",
    "\n",
    "##### x:\n",
    "* Continous\n",
    "* Quantitative\n",
    "* Ratio\n",
    "\n",
    "##### y:\n",
    "* Continous\n",
    "* Quantitative\n",
    "* Ratio\n",
    "\n",
    "##### z:\n",
    "* Continous\n",
    "* Quantitative\n",
    "* Ratio\n",
    "\n"
   ]
  },
  {
   "cell_type": "markdown",
   "metadata": {},
   "source": [
    "<font color='green'> Correct: 5 points </font>"
   ]
  },
  {
   "cell_type": "markdown",
   "metadata": {},
   "source": [
    "#### Solution 4.2"
   ]
  },
  {
   "cell_type": "code",
   "execution_count": 2,
   "metadata": {},
   "outputs": [
    {
     "data": {
      "text/html": [
       "<div>\n",
       "<style scoped>\n",
       "    .dataframe tbody tr th:only-of-type {\n",
       "        vertical-align: middle;\n",
       "    }\n",
       "\n",
       "    .dataframe tbody tr th {\n",
       "        vertical-align: top;\n",
       "    }\n",
       "\n",
       "    .dataframe thead th {\n",
       "        text-align: right;\n",
       "    }\n",
       "</style>\n",
       "<table border=\"1\" class=\"dataframe\">\n",
       "  <thead>\n",
       "    <tr style=\"text-align: right;\">\n",
       "      <th></th>\n",
       "      <th>Unnamed: 0</th>\n",
       "      <th>carat</th>\n",
       "      <th>cut</th>\n",
       "      <th>color</th>\n",
       "      <th>clarity</th>\n",
       "      <th>depth</th>\n",
       "      <th>table</th>\n",
       "      <th>price</th>\n",
       "      <th>x</th>\n",
       "      <th>y</th>\n",
       "      <th>z</th>\n",
       "    </tr>\n",
       "  </thead>\n",
       "  <tbody>\n",
       "    <tr>\n",
       "      <th>0</th>\n",
       "      <td>1</td>\n",
       "      <td>0.23</td>\n",
       "      <td>Ideal</td>\n",
       "      <td>E</td>\n",
       "      <td>SI2</td>\n",
       "      <td>61.5</td>\n",
       "      <td>55.0</td>\n",
       "      <td>326</td>\n",
       "      <td>3.95</td>\n",
       "      <td>3.98</td>\n",
       "      <td>2.43</td>\n",
       "    </tr>\n",
       "    <tr>\n",
       "      <th>1</th>\n",
       "      <td>2</td>\n",
       "      <td>0.21</td>\n",
       "      <td>Premium</td>\n",
       "      <td>E</td>\n",
       "      <td>SI1</td>\n",
       "      <td>59.8</td>\n",
       "      <td>61.0</td>\n",
       "      <td>326</td>\n",
       "      <td>3.89</td>\n",
       "      <td>3.84</td>\n",
       "      <td>2.31</td>\n",
       "    </tr>\n",
       "    <tr>\n",
       "      <th>2</th>\n",
       "      <td>3</td>\n",
       "      <td>0.23</td>\n",
       "      <td>Good</td>\n",
       "      <td>E</td>\n",
       "      <td>VS1</td>\n",
       "      <td>56.9</td>\n",
       "      <td>65.0</td>\n",
       "      <td>327</td>\n",
       "      <td>4.05</td>\n",
       "      <td>4.07</td>\n",
       "      <td>2.31</td>\n",
       "    </tr>\n",
       "    <tr>\n",
       "      <th>3</th>\n",
       "      <td>4</td>\n",
       "      <td>0.29</td>\n",
       "      <td>Premium</td>\n",
       "      <td>I</td>\n",
       "      <td>VS2</td>\n",
       "      <td>62.4</td>\n",
       "      <td>58.0</td>\n",
       "      <td>334</td>\n",
       "      <td>4.20</td>\n",
       "      <td>4.23</td>\n",
       "      <td>2.63</td>\n",
       "    </tr>\n",
       "    <tr>\n",
       "      <th>4</th>\n",
       "      <td>5</td>\n",
       "      <td>0.31</td>\n",
       "      <td>Good</td>\n",
       "      <td>J</td>\n",
       "      <td>SI2</td>\n",
       "      <td>63.3</td>\n",
       "      <td>58.0</td>\n",
       "      <td>335</td>\n",
       "      <td>4.34</td>\n",
       "      <td>4.35</td>\n",
       "      <td>2.75</td>\n",
       "    </tr>\n",
       "  </tbody>\n",
       "</table>\n",
       "</div>"
      ],
      "text/plain": [
       "   Unnamed: 0  carat      cut color clarity  depth  table  price     x     y  \\\n",
       "0           1   0.23    Ideal     E     SI2   61.5   55.0    326  3.95  3.98   \n",
       "1           2   0.21  Premium     E     SI1   59.8   61.0    326  3.89  3.84   \n",
       "2           3   0.23     Good     E     VS1   56.9   65.0    327  4.05  4.07   \n",
       "3           4   0.29  Premium     I     VS2   62.4   58.0    334  4.20  4.23   \n",
       "4           5   0.31     Good     J     SI2   63.3   58.0    335  4.34  4.35   \n",
       "\n",
       "      z  \n",
       "0  2.43  \n",
       "1  2.31  \n",
       "2  2.31  \n",
       "3  2.63  \n",
       "4  2.75  "
      ]
     },
     "execution_count": 2,
     "metadata": {},
     "output_type": "execute_result"
    }
   ],
   "source": [
    "import pandas as pd\n",
    "#Update the local dataset path\n",
    "datasetPath = r\"C:\\Users\\msgam\\Downloads\\diamonds.csv\"\n",
    "diamondDF = pd.read_csv(datasetPath)\n",
    "# to display top 5 elements\n",
    "diamondDF.head()"
   ]
  },
  {
   "cell_type": "markdown",
   "metadata": {},
   "source": [
    "<font color='green'> Correct : 2 points </font> "
   ]
  },
  {
   "cell_type": "markdown",
   "metadata": {},
   "source": [
    "#### Solution 4.3"
   ]
  },
  {
   "cell_type": "code",
   "execution_count": 3,
   "metadata": {},
   "outputs": [
    {
     "name": "stdout",
     "output_type": "stream",
     "text": [
      "Summary for quantitative attributes.\n",
      "           carat      depth      table         price          x          y  \\\n",
      "mean    0.797940  61.749405  57.457184   3932.799722   5.731157   5.734526   \n",
      "median  0.700000  61.800000  57.000000   2401.000000   5.700000   5.710000   \n",
      "std     0.474011   1.432621   2.234491   3989.439738   1.121761   1.142135   \n",
      "range   4.810000  36.000000  52.000000  18497.000000  10.740000  58.900000   \n",
      "\n",
      "                z  \n",
      "mean     3.538734  \n",
      "median   3.530000  \n",
      "std      0.705699  \n",
      "range   31.800000  \n",
      "\n",
      "Mode for qualitative attributes\n",
      "     cut color clarity\n",
      "0  Ideal     G     SI1\n",
      "\n",
      "IQR for price attribute:  4374.25\n"
     ]
    }
   ],
   "source": [
    "# created function to calculate range\n",
    "def range(series):\n",
    "    return series.max() - series.min()\n",
    "print(\"Summary for quantitative attributes.\")\n",
    "# using aggregate function to get mean, median, standard deviation and range\n",
    "print(diamondDF.agg(\n",
    "    {\n",
    "        \"carat\": [\"mean\", \"median\", \"std\", range],\n",
    "        \"depth\": [\"mean\", \"median\", \"std\", range],\n",
    "        \"table\": [\"mean\", \"median\", \"std\", range],\n",
    "        \"price\": [\"mean\", \"median\", \"std\", range],\n",
    "        \"x\": [\"mean\", \"median\", \"std\", range],\n",
    "        \"y\": [\"mean\", \"median\", \"std\", range],\n",
    "        \"z\": [\"mean\", \"median\", \"std\", range]\n",
    "    }\n",
    "))\n",
    "\n",
    "print(\"\\nMode for qualitative attributes\")\n",
    "print(diamondDF.agg(\n",
    "    {\n",
    "        \"cut\": \"mode\",\n",
    "        \"color\": \"mode\",\n",
    "        \"clarity\": \"mode\"\n",
    "    }\n",
    "))\n",
    "\n",
    "q1, q3 = diamondDF['price'].quantile(0.25), diamondDF['price'].quantile(0.75)\n",
    "iqr = q3 - q1\n",
    "print(\"\\nIQR for price attribute: \", iqr)"
   ]
  },
  {
   "cell_type": "markdown",
   "metadata": {},
   "source": [
    "<font color = 'green'>Correct : 5.5 points </font>"
   ]
  },
  {
   "cell_type": "markdown",
   "metadata": {},
   "source": [
    "#### Solution 4.4"
   ]
  },
  {
   "cell_type": "code",
   "execution_count": 4,
   "metadata": {},
   "outputs": [
    {
     "name": "stdout",
     "output_type": "stream",
     "text": [
      "\n",
      "Fraction of cut with Very good or better:  0.8791991101223582\n"
     ]
    },
    {
     "data": {
      "image/png": "[encoded data removed]",
      "text/plain": [
       "<Figure size 432x288 with 1 Axes>"
      ]
     },
     "metadata": {
      "needs_background": "light"
     },
     "output_type": "display_data"
    }
   ],
   "source": [
    "diamondDF['cut'].value_counts().plot(kind='bar')\n",
    "total_rows = diamondDF.shape[0]\n",
    "filtered_rows = diamondDF[diamondDF['cut'].isin(['Very Good', 'Premium', 'Ideal'])].shape[0]\n",
    "print(\"\\nFraction of cut with Very good or better: \", (filtered_rows/total_rows))"
   ]
  },
  {
   "cell_type": "markdown",
   "metadata": {},
   "source": [
    "<font color = 'green'> Correct : 2 points </font> "
   ]
  },
  {
   "cell_type": "markdown",
   "metadata": {},
   "source": [
    "#### Solution 4.5"
   ]
  },
  {
   "cell_type": "code",
   "execution_count": 5,
   "metadata": {},
   "outputs": [
    {
     "name": "stdout",
     "output_type": "stream",
     "text": [
      "Histogram plot for carat attribute\n"
     ]
    },
    {
     "data": {
      "text/plain": [
       "<AxesSubplot:ylabel='Frequency'>"
      ]
     },
     "execution_count": 5,
     "metadata": {},
     "output_type": "execute_result"
    },
    {
     "data": {
      "image/png": "[encoded data removed]",
      "text/plain": [
       "<Figure size 432x288 with 1 Axes>"
      ]
     },
     "metadata": {
      "needs_background": "light"
     },
     "output_type": "display_data"
    }
   ],
   "source": [
    "print(\"Histogram plot for carat attribute\")\n",
    "diamondDF['carat'].plot.hist(bins= 15)"
   ]
  },
  {
   "cell_type": "markdown",
   "metadata": {},
   "source": [
    "<font color = 'green'> Correct : 2 points </font> "
   ]
  },
  {
   "cell_type": "markdown",
   "metadata": {},
   "source": [
    "#### Solution 4.6"
   ]
  },
  {
   "cell_type": "code",
   "execution_count": 6,
   "metadata": {},
   "outputs": [
    {
     "name": "stdout",
     "output_type": "stream",
     "text": [
      "Scratter plot between carat and price\n"
     ]
    },
    {
     "data": {
      "text/plain": [
       "<AxesSubplot:xlabel='carat', ylabel='price'>"
      ]
     },
     "execution_count": 6,
     "metadata": {},
     "output_type": "execute_result"
    },
    {
     "data": {
      "image/png": "[encoded data removed]",
      "text/plain": [
       "<Figure size 432x288 with 1 Axes>"
      ]
     },
     "metadata": {
      "needs_background": "light"
     },
     "output_type": "display_data"
    }
   ],
   "source": [
    "print(\"Scratter plot between carat and price\")\n",
    "diamondDF.plot.scatter(x='carat',y='price')"
   ]
  },
  {
   "cell_type": "markdown",
   "metadata": {},
   "source": [
    "<font color = 'green'> Correct: 2 points </font> "
   ]
  },
  {
   "cell_type": "markdown",
   "metadata": {},
   "source": [
    "#### Solution 4.7"
   ]
  },
  {
   "cell_type": "code",
   "execution_count": 7,
   "metadata": {},
   "outputs": [
    {
     "name": "stdout",
     "output_type": "stream",
     "text": [
      "Correlation between carat and price:  0.9215913011934712\n"
     ]
    }
   ],
   "source": [
    "print(\"Correlation between carat and price: \",diamondDF['carat'].corr(diamondDF['price']))"
   ]
  },
  {
   "cell_type": "markdown",
   "metadata": {},
   "source": [
    "<font color='green'> Correct : 1 point </font> "
   ]
  },
  {
   "cell_type": "markdown",
   "metadata": {},
   "source": [
    "### Problem 5 (4 points)\n",
    "\n",
    "We have a collection of m documents.\n",
    "\n",
    "Let us say we would like to compare two documents x and y using their document term vectors. \n",
    "\n",
    "Let tf_ij be the frequency of the ith word (term) in the jth document\n",
    "\n",
    "1. Let the vocabulary size (the dimensionality of the vectors) be n. What is a good measure of similarity for this purpose ? Write the formula for it in terms of tf_ij.\n",
    "\n",
    "2. Consider the variable transformation given by idf_ij = tf_ij * log(m/df_i), where df_i is the document frequency, i.e. the number of documents in which the ith term occurs. The transformed variable idf_ij is called the inverse document frequency. What are the advantages of using this transformed variable instead of the original in the similarity computation ?"
   ]
  },
  {
   "cell_type": "markdown",
   "metadata": {},
   "source": [
    "### Solution"
   ]
  },
  {
   "cell_type": "markdown",
   "metadata": {},
   "source": [
    "#### Solution 5.1"
   ]
  },
  {
   "cell_type": "markdown",
   "metadata": {},
   "source": [
    "Measure of similarity: Cosine Similarity\n",
    "Formula: summation(tf_ix * tf_iy) / sqrt(summation(square(tf_ix))) * sqrt(summation(square(tf_iy)))"
   ]
  },
  {
   "cell_type": "markdown",
   "metadata": {},
   "source": [
    "<font color = 'green'> Correct : 2 points </font> "
   ]
  },
  {
   "cell_type": "markdown",
   "metadata": {},
   "source": [
    "#### Solution 5.2"
   ]
  },
  {
   "cell_type": "markdown",
   "metadata": {},
   "source": [
    "Inverse document frequency is a statistical method of assigning weight to each term. It provides weights to most occuring terms in the corpus such that their overall weight diminishes and provides more weight to terms which rarely occurs in the corpus of documents. This helps for computing similarity, for example the terms such as ['the', 'is', 'a'] occurs very frequently and does not contribute much towards computing similarity. Inverse document frequency helps to reduce weights to such terms and raise weights of other terms which rarely occurs. This improves the performance of computing similarity. "
   ]
  },
  {
   "cell_type": "markdown",
   "metadata": {},
   "source": [
    "<font color='green'> Correct : 2 points </font> "
   ]
  },
  {
   "cell_type": "markdown",
   "metadata": {},
   "source": [
    "\n",
    "    "
   ]
  },
  {
   "cell_type": "markdown",
   "metadata": {},
   "source": [
    "### Problem 6 (6 points)\n",
    "\n",
    "Write Python functions to compute the Hamming (L1) distance, SMC and Jaccard similarity coefficient between two binary vectors. Use them to these proximity measures between the following vectors:\n",
    "\n",
    "x = 1010101010101 \n",
    "\n",
    "y = 1000100010001"
   ]
  },
  {
   "cell_type": "markdown",
   "metadata": {},
   "source": [
    "### Solution"
   ]
  },
  {
   "cell_type": "code",
   "execution_count": 8,
   "metadata": {
    "scrolled": true
   },
   "outputs": [
    {
     "name": "stdout",
     "output_type": "stream",
     "text": [
      "Hamming distance:  3\n",
      "SMC coeficient:  0.7692307692307693\n",
      "Jaccard coeficient:  0.5714285714285714\n"
     ]
    }
   ],
   "source": [
    "def hammingDistance(x,y):\n",
    "    #converting values to string\n",
    "    x_str = str(x)\n",
    "    y_str = str(y)\n",
    "    l1 = 0\n",
    "    # looping over both string and comparing them\n",
    "    for i,j in zip(x_str,y_str):\n",
    "        if i != j :\n",
    "            l1 = l1 + 1\n",
    "    return l1\n",
    "\n",
    "# this method returns dictionary with match count for 00, 01, 10, and 11\n",
    "def getMatchingBinarySetCount(x,y):\n",
    "    matching_count = {'00':0, '01':0, '10':0, '11':0}\n",
    "    x_str = str(x)\n",
    "    y_str = str(y)\n",
    "    \n",
    "    for i,j in zip(x_str,y_str):\n",
    "        if i == '0' and j == '0':\n",
    "            matching_count['00'] = matching_count['00'] + 1\n",
    "        if i == '0' and j == '1':\n",
    "            matching_count['01'] = matching_count['01'] + 1\n",
    "        if i == '1' and j == '0':\n",
    "            matching_count['10'] = matching_count['10'] + 1\n",
    "        if i == '1' and j == '1':\n",
    "            matching_count['11'] = matching_count['11'] + 1\n",
    "    return matching_count  \n",
    "\n",
    "def SMC(x,y):\n",
    "    matching_set = getMatchingBinarySetCount(x,y)\n",
    "    return (matching_set['00'] + matching_set['11']) / (matching_set['00'] + matching_set['01'] + matching_set['10'] + matching_set['11'])\n",
    "\n",
    "def JaccardCoeficient(x,y):\n",
    "    matching_set = getMatchingBinarySetCount(x,y)\n",
    "    return matching_set['11'] / (matching_set['01'] + matching_set['10'] + matching_set['11'])\n",
    "        \n",
    "x = 1010101010101\n",
    "y = 1000100010001\n",
    "\n",
    "print(\"Hamming distance: \",hammingDistance(x,y))\n",
    "print(\"SMC coeficient: \",SMC(x,y))\n",
    "print(\"Jaccard coeficient: \",JaccardCoeficient(x,y))"
   ]
  },
  {
   "cell_type": "markdown",
   "metadata": {},
   "source": [
    "<font color = 'green'> Correct : 6 points </font> "
   ]
  },
  {
   "cell_type": "markdown",
   "metadata": {},
   "source": [
    "### Problem 7 (6 points)\n",
    "\n",
    "Calculate the indicated similarity or distance measures of the vectors show below (you can do this by hand or by writing code, but please show the computation either way):\n",
    "\n",
    "x = (1,1,1,1) and y = (3,3,3,3) : cosine, correlation, Euclidean\n",
    "\n",
    "x = (0,1,0,1,0,1) and y = (1,0,1,0,1,0) : cosine, correlation, Euclidean, Jaccard \n",
    "\n",
    "x = (1,1,0,1,0,1) and y = (1,1,1,0,0,1) : cosine, correlation, Lmax, Jaccard"
   ]
  },
  {
   "cell_type": "markdown",
   "metadata": {},
   "source": [
    "### Solution"
   ]
  },
  {
   "cell_type": "code",
   "execution_count": 9,
   "metadata": {},
   "outputs": [
    {
     "name": "stdout",
     "output_type": "stream",
     "text": [
      "x =  [1, 1, 1, 1]\n",
      "y =  [3, 3, 3, 3]\n",
      "cosine:  1.0\n",
      "Standard deviation is zero.\n",
      "correlation:  0\n",
      "Euclidean Distance:  4.0\n",
      "\n",
      "x =  [0, 1, 0, 1, 0, 1]\n",
      "y =  [1, 0, 1, 0, 1, 0]\n",
      "cosine:  0.0\n",
      "correlation:  -1.0000000000000002\n",
      "Euclidean Distance:  2.449489742783178\n",
      "[0, 1, 0, 1, 0, 1]\n",
      "[1, 0, 1, 0, 1, 0]\n",
      "Jaccard coeficient:  0.0\n",
      "\n",
      "x =  [1, 1, 0, 1, 0, 1]\n",
      "y =  [1, 1, 1, 0, 0, 1]\n",
      "cosine:  0.75\n",
      "correlation:  0.25\n",
      "Lmax Distance:  1\n",
      "Jaccard coeficient:  0.6\n"
     ]
    }
   ],
   "source": [
    "import math\n",
    "def cosine(x,y):\n",
    "    x_y_multiplication_sum = 0\n",
    "    x_sqr_sum = 0\n",
    "    y_sqr_sum = 0\n",
    "    for i,j in zip(x,y):\n",
    "        x_y_multiplication_sum = x_y_multiplication_sum + i*j\n",
    "        x_sqr_sum = x_sqr_sum + i*i\n",
    "        y_sqr_sum = y_sqr_sum + j*j\n",
    "    return (x_y_multiplication_sum / (math.sqrt(x_sqr_sum) * math.sqrt(y_sqr_sum)))\n",
    "\n",
    "# method to calculate mean\n",
    "def mean(x):\n",
    "    sum_x = 0\n",
    "    for num in x:\n",
    "        sum_x = sum_x + num\n",
    "    return sum_x / len(x)\n",
    "\n",
    "# method to calculate covariance\n",
    "def covariance(x,y):\n",
    "    mean_x = mean(x)\n",
    "    mean_y = mean(y)\n",
    "    sum_mean_diff_x_y = 0\n",
    "    for i,j in zip(x,y):\n",
    "        sum_mean_diff_x_y = sum_mean_diff_x_y + ((i - mean_x) * (j - mean_y))\n",
    "    return sum_mean_diff_x_y / (len(x) - 1)\n",
    "\n",
    "# method to calculate standard deviation\n",
    "def standardDeviation(x):\n",
    "    mean_x = mean(x)\n",
    "    sum_mean_diff_x = 0\n",
    "    for i in x:\n",
    "        sum_mean_diff_x = sum_mean_diff_x + ((i - mean_x) * (i - mean_x))\n",
    "    return math.sqrt(sum_mean_diff_x / (len(x) - 1))\n",
    "\n",
    "\n",
    "#method to calculate correlation\n",
    "def correlation(x,y):\n",
    "    corr = 0\n",
    "    try:\n",
    "        corr = covariance(x,y)/(standardDeviation(x) * standardDeviation(y))\n",
    "    except ZeroDivisionError:\n",
    "        # if remainder is zero print below staetment\n",
    "        print(\"Standard deviation is zero.\")\n",
    "    return corr\n",
    "    \n",
    "# method to calculate euclidean distance\n",
    "def euclideanDistance(x,y):\n",
    "    sum_diff_sqr_x_y = 0\n",
    "    for i,j in zip(x,y):\n",
    "        sum_diff_sqr_x_y = sum_diff_sqr_x_y + ((i - j) * (i - j))\n",
    "    return math.sqrt(sum_diff_sqr_x_y)\n",
    "\n",
    "# method to calculate lmax\n",
    "def lmax(x,y):\n",
    "    max_diff_x_y = x[0] - y[0]\n",
    "    # converting to positive value\n",
    "    if max_diff_x_y < 0:\n",
    "        max_diff_x_y = max_diff_x_y * (-1)\n",
    "    for i,j in zip(x,y):\n",
    "        temp_diff = 0\n",
    "        # taking only positive value\n",
    "        if i >= j:\n",
    "            temp_diff = i - j\n",
    "        else:\n",
    "            temp_diff = j - i\n",
    "        if temp_diff > max_diff_x_y:\n",
    "            max_diff_x_y = temp_diff\n",
    "    return max_diff_x_y\n",
    "\n",
    "# this method returns dictionary with match count for 00, 01, 10, and 11\n",
    "def getMatchingBinarySetCount(x,y):\n",
    "    matching_count = {'00':0, '01':0, '10':0, '11':0}\n",
    "    x_str = str(x)\n",
    "    y_str = str(y)\n",
    "    \n",
    "    for i,j in zip(x_str,y_str):\n",
    "        if i == '0' and j == '0':\n",
    "            matching_count['00'] = matching_count['00'] + 1\n",
    "        if i == '0' and j == '1':\n",
    "            matching_count['01'] = matching_count['01'] + 1\n",
    "        if i == '1' and j == '0':\n",
    "            matching_count['10'] = matching_count['10'] + 1\n",
    "        if i == '1' and j == '1':\n",
    "            matching_count['11'] = matching_count['11'] + 1\n",
    "    return matching_count \n",
    "\n",
    "# method to calculate JaccardCoeficient\n",
    "def JaccardCoeficient(x,y):\n",
    "    matching_set = getMatchingBinarySetCount(x,y)\n",
    "    return matching_set['11'] / (matching_set['01'] + matching_set['10'] + matching_set['11'])\n",
    "\n",
    "x = [1,1,1,1] \n",
    "y = [3,3,3,3]\n",
    "print(\"x = \", x)\n",
    "print(\"y = \", y)\n",
    "print(\"cosine: \", cosine(x,y))\n",
    "print(\"correlation: \", correlation(x,y))\n",
    "print(\"Euclidean Distance: \", euclideanDistance(x,y))\n",
    "\n",
    "\n",
    "x = [0,1,0,1,0,1]\n",
    "y = [1,0,1,0,1,0]\n",
    "print(\"\\nx = \", x)\n",
    "print(\"y = \", y)\n",
    "print(\"cosine: \", cosine(x,y))\n",
    "print(\"correlation: \", correlation(x,y))\n",
    "print(\"Euclidean Distance: \", euclideanDistance(x,y))\n",
    "print(x)\n",
    "print(y)\n",
    "print(\"Jaccard coeficient: \", JaccardCoeficient(x,y))\n",
    "\n",
    "\n",
    "x = [1,1,0,1,0,1]\n",
    "y = [1,1,1,0,0,1]\n",
    "print(\"\\nx = \", x)\n",
    "print(\"y = \", y)\n",
    "print(\"cosine: \", cosine(x,y))\n",
    "print(\"correlation: \", correlation(x,y))\n",
    "print(\"Lmax Distance: \", lmax(x,y))\n",
    "print(\"Jaccard coeficient: \", JaccardCoeficient(x,y))"
   ]
  },
  {
   "cell_type": "markdown",
   "metadata": {},
   "source": [
    "<font color = 'green'> Correct : 6 points </font> "
   ]
  },
  {
   "cell_type": "markdown",
   "metadata": {},
   "source": [
    "### Submission instructions\n",
    "\n",
    "1. Your assignment should be completed by filling in the empty solution cells in this Jupyter notebook file (.ipynb). Feel free to add more cells as needed.\n",
    "\n",
    "2. Please comment your code using either markdown or #comments and use meaningful variable names to make it as readable and intelligible as possible.\n",
    "\n",
    "3. Write your code in the form of functions. For example: \n",
    "\n",
    "    def my_code ():\n",
    "\n",
    "          #Write code here\n",
    "      \n",
    "          return \"The return value\"\n",
    "          \n",
    "\n",
    "4. If the problem is to find the value of 'x', printing 'x = (your answer)' will help us identify if your code worked.\n",
    "\n",
    "\n",
    "5. For code that refers to local data files downloaded from the internet, please keep the file path simple (e.g. ~/downloads/datafilename) so that it works on our copy of the dataset. Please do not modify either the filename or the file contents in any way.\n",
    "\n",
    "6. Solution to problems that do not require any coding can be typed up in their own cells using markdown.\n",
    "    \n",
    "7. Unless there are legitimate circumstances, late assignments will not be accepted.\n",
    "\n",
    "8. All assignments are individual.\n",
    "\n",
    "9. All the sources used for problem solution must be acknowledged, e.g. web sites, books, research papers, etc.\n",
    "\n",
    "10. Academic integrity is taken seriously; for detailed information see the RIT Honor Code and with RIT's Academic Integrity Policy."
   ]
  },
  {
   "cell_type": "markdown",
   "metadata": {},
   "source": [
    "<font color ='green'> Total Points : 50.5 points </font> "
   ]
  },
  {
   "cell_type": "code",
   "execution_count": null,
   "metadata": {},
   "outputs": [],
   "source": []
  }
 ],
 "metadata": {
  "kernelspec": {
   "display_name": "Python 3",
   "language": "python",
   "name": "python3"
  },
  "language_info": {
   "codemirror_mode": {
    "name": "ipython",
    "version": 3
   },
   "file_extension": ".py",
   "mimetype": "text/x-python",
   "name": "python",
   "nbconvert_exporter": "python",
   "pygments_lexer": "ipython3",
   "version": "3.8.5"
  }
 },
 "nbformat": 4,
 "nbformat_minor": 2
}
