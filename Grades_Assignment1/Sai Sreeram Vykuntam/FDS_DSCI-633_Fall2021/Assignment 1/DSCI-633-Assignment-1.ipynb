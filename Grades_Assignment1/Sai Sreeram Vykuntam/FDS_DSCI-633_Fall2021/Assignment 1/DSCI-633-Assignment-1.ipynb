{
 "cells": [
  {
   "cell_type": "markdown",
   "metadata": {},
   "source": [
    "# RIT DSCI-633: Foundations of Data Science and Analytics\n",
    "## Assignment 1\n",
    "### Due: 11:59 pm EST, Saturday, Oct 2, 2021"
   ]
  },
  {
   "cell_type": "markdown",
   "metadata": {},
   "source": [
    "### Problem 1 (10 points)\n",
    "\n",
    "In statistics and probability theory, the law of large numbers is a theorem that describes the result of\n",
    "repeating the same experiment a large number of times. The theorem states that if the same\n",
    "experiment or study is repeated independently a large number of times, the average of the results of\n",
    "the trials must be close to the expected value. The result becomes closer to the expected value as the\n",
    "number of trials is increased. Let us look at a specific experiment.\n",
    "\n",
    "Assume you have a Gaussian distribution (commonly called a “bell curve”) with mean µ and std\n",
    "deviation σ. The area under the curve that lies between σ and 2σ, and –σ and -2σ is approximately\n",
    "27.2%. In other words, approximately 27.2% of numbers generated randomly using this distribution will\n",
    "fall in the range [µ + σ, µ + 2σ] or [µ - 2σ, µ - σ], as shown below.\n",
    "\n",
    "Generate N random numbers that follow a Gaussian distribution with µ = 100, σ = 10, and count the\n",
    "numbers M that fall into the ranges above. Print the fraction M/N. Repeat this for N = 10, 100, 1000,\n",
    "10000, and 1000000.\n",
    "\n",
    "Does the fraction start to approach 27.2%?\n"
   ]
  },
  {
   "cell_type": "markdown",
   "metadata": {},
   "source": [
    "### Solution"
   ]
  },
  {
   "cell_type": "code",
   "execution_count": 1,
   "metadata": {},
   "outputs": [],
   "source": [
    "import numpy as np\n",
    "import pandas as pd\n",
    "\n",
    "sig=10\n",
    "mu=100\n",
    "def generate(N):\n",
    "    r=np.random.normal(mu,sig,N)\n",
    "    ux= mu + 2*sig\n",
    "    dx=mu-2*sig\n",
    "    uy=mu+sig\n",
    "    dy=mu-sig\n",
    "    M1 = sum((r>uy)*(r<ux))\n",
    "    M2 = sum((r<dy)*(r>dx))\n",
    "    M=M1+M2\n",
    "    X=M/N\n",
    "    return X\n"
   ]
  },
  {
   "cell_type": "code",
   "execution_count": 2,
   "metadata": {},
   "outputs": [
    {
     "name": "stdout",
     "output_type": "stream",
     "text": [
      "[60.     31.     27.7    28.09   27.1811]\n",
      "Yes the fraction approaches 27.2%\n"
     ]
    }
   ],
   "source": [
    "Nsamp=[10,100,1000,10000,1000000]\n",
    "fraction=np.zeros(5)\n",
    "for i in np.arange(5):\n",
    "    fraction[i]  = generate(Nsamp[i])\n",
    "print(fraction*100)    \n",
    "print(\"Yes the fraction approaches 27.2%\")"
   ]
  },
  {
   "cell_type": "markdown",
   "metadata": {},
   "source": [
    "<font color = 'green'> Correct:10 points </font> "
   ]
  },
  {
   "cell_type": "markdown",
   "metadata": {},
   "source": [
    "### Problem 2 (5 points)\n",
    "\n",
    "Imagine you have a dataset of movie ratings for a set of 500 popular movies and a set of 1000 users.\n",
    "Each data sample contains the ratings of each movie (from 1 to 5 stars) by a specific user. The rating is\n",
    "an integer in the range [0,5], with a value of 0 means that the user did not watch that movie.\n",
    "How would you convert this data to a form suitable for association analysis? In particular, what type of\n",
    "attributes would you have and how many of them?\n",
    "\n"
   ]
  },
  {
   "cell_type": "markdown",
   "metadata": {},
   "source": [
    "### Solution"
   ]
  },
  {
   "cell_type": "markdown",
   "metadata": {},
   "source": [
    "Association analysis works with binary attributes , So we have to convert the original data to binary form.\n",
    "\n",
    "FOR ratings in range of [0,5] we can convert to Q1=Rating 0 :[0 or 1],<br>\n",
    "Q1= Rating 1  :[0 or 1],<br>\n",
    "Q1= Rating 2 :[0 or 1],<br>\n",
    "Q1 = Rating 3 ; [0 or 1] ,<br> \n",
    "Q1= Rating 4: [0 or 1] , <br>\n",
    "Q1 = Rating 5: [ 0 or 1] <br>\n",
    "\n",
    "we have to use this for all the 500 Movies so this goes on till Q 500\n",
    "\n",
    "and for attributes Movies with ratings and users as columns can be used\n",
    "\n",
    "as we have 6 Qs for each,  total would be 6  (x)  500 = 3000\n",
    "and as we have 1000 users it would be 1000(x)500(x)6 = 3000000   so we will have this many asymmetric binary attributes"
   ]
  },
  {
   "cell_type": "markdown",
   "metadata": {},
   "source": [
    "<font color = 'green'> Correct : 5 points </font> "
   ]
  },
  {
   "cell_type": "markdown",
   "metadata": {},
   "source": [
    "### Problem 3 (5 points)\n",
    "\n",
    "Distinguish between noise and outliers\n",
    "\n",
    "1. True or False ? Noise may be in the form of noisy attribute values, or noise objects.\n",
    "2. True or False ? Noise is sometimes desirable.\n",
    "3. True or False ? Outliers are sometimes desirable.\n",
    "4. True or False ? Noise objects may or may not be outliers. Explain your reasoning.\n",
    "5. True or False ? Outlier objects may or may not be noise. Explain your reasoning."
   ]
  },
  {
   "cell_type": "markdown",
   "metadata": {},
   "source": [
    "### Solution"
   ]
  },
  {
   "cell_type": "markdown",
   "metadata": {},
   "source": [
    "1. True :       yes noise is in the form of irregular or incorrect data in      the attribute   values or in objects and disturbs the data attributes\n",
    "\n",
    "2. False :    Noise in attrbutes is undesirable by default, as it distorts the original attribute values.\n",
    "\n",
    "3. True:     Outliers can sometime potentially be legitimate objects of data. some datamining tasks main focus  is to identify them\n",
    "\n",
    "4. True:     Noisy data can appear as normal data. So noise objects are not always outliers.\n",
    "\n",
    "5. False :     Outliers can be legitimate data objects that appear to not belong in the data set. Those outliers would  not classify as noise objects."
   ]
  },
  {
   "cell_type": "markdown",
   "metadata": {},
   "source": [
    "<font color = 'blue'> Partially Correct: 4 points </font>  "
   ]
  },
  {
   "cell_type": "markdown",
   "metadata": {},
   "source": [
    "### Problem 4 (20 points)\n",
    "Download the ‘Diamonds’ dataset from https://www.kaggle.com/shivam2503/diamonds.\n",
    "1. Based on the description of the dataset provided at the site, categorize each attribute of the data as\n",
    "discrete or continuous, qualitative (nominal or ordinal), or quantitative (interval or ratio)  (5 points)\n",
    "e.g. Age in years: Discrete, Quantitative, Ratio.\n",
    "2. Load the CSV data file into a Pandas DataFrame object and display the first 5 rows. (2 points)\n",
    "3. Calculate summary statistics:\n",
    "a. For each quantitative attribute: find the mean, median, standard deviation, and range. (3.5 points)\n",
    "b. For each qualitative attribute, find the mode. (1.5 points)\n",
    "c. Find the Interquartile Range (IQR) of the ‘price’ variable. (0.5 points)\n",
    "4. What fraction of the data samples have ‘cut’ that is ‘very good’ or better ? Create a bar plot\n",
    "showing the distribution of the data samples by ‘cut’ (one bar for each value of cut). (2.5 points)\n",
    "5. Plot a histogram of the 'carat' variable. (2 points)\n",
    "6. Plot a scatter plot of ‘carat’ vs ‘price’. (2 points)\n",
    "7. Compute the correlation between ‘carat’ and ‘price’. (1 point)"
   ]
  },
  {
   "cell_type": "markdown",
   "metadata": {},
   "source": [
    "### Solution"
   ]
  },
  {
   "cell_type": "markdown",
   "metadata": {},
   "source": [
    "#### Solution 4.1"
   ]
  },
  {
   "cell_type": "markdown",
   "metadata": {},
   "source": [
    "Carat- continuous, Quantitative, ratio; <br>Cut-Discrete,Qualitative, Ordinal; <br>Color: Discrete, Qualitative,ordinal;<br> Clarity- Discrete,Qualitative,ordinal;<br> price: discrete,quantitave,ratio;<br>table: discrete,quantitative,ratio;<br> depth- continuous , quantitative, ratio<br> x, y, z- continuous,quantitative,ratio"
   ]
  },
  {
   "cell_type": "markdown",
   "metadata": {},
   "source": [
    "<font color = 'blue'> Partially Correct : 4.5 points </font> "
   ]
  },
  {
   "cell_type": "markdown",
   "metadata": {},
   "source": [
    "#### Solution 4.2"
   ]
  },
  {
   "cell_type": "code",
   "execution_count": 3,
   "metadata": {},
   "outputs": [
    {
     "data": {
      "text/html": [
       "<div>\n",
       "<style scoped>\n",
       "    .dataframe tbody tr th:only-of-type {\n",
       "        vertical-align: middle;\n",
       "    }\n",
       "\n",
       "    .dataframe tbody tr th {\n",
       "        vertical-align: top;\n",
       "    }\n",
       "\n",
       "    .dataframe thead th {\n",
       "        text-align: right;\n",
       "    }\n",
       "</style>\n",
       "<table border=\"1\" class=\"dataframe\">\n",
       "  <thead>\n",
       "    <tr style=\"text-align: right;\">\n",
       "      <th></th>\n",
       "      <th>Unnamed: 0</th>\n",
       "      <th>carat</th>\n",
       "      <th>cut</th>\n",
       "      <th>color</th>\n",
       "      <th>clarity</th>\n",
       "      <th>depth</th>\n",
       "      <th>table</th>\n",
       "      <th>price</th>\n",
       "      <th>x</th>\n",
       "      <th>y</th>\n",
       "      <th>z</th>\n",
       "    </tr>\n",
       "  </thead>\n",
       "  <tbody>\n",
       "    <tr>\n",
       "      <td>0</td>\n",
       "      <td>1</td>\n",
       "      <td>0.23</td>\n",
       "      <td>Ideal</td>\n",
       "      <td>E</td>\n",
       "      <td>SI2</td>\n",
       "      <td>61.5</td>\n",
       "      <td>55.0</td>\n",
       "      <td>326</td>\n",
       "      <td>3.95</td>\n",
       "      <td>3.98</td>\n",
       "      <td>2.43</td>\n",
       "    </tr>\n",
       "    <tr>\n",
       "      <td>1</td>\n",
       "      <td>2</td>\n",
       "      <td>0.21</td>\n",
       "      <td>Premium</td>\n",
       "      <td>E</td>\n",
       "      <td>SI1</td>\n",
       "      <td>59.8</td>\n",
       "      <td>61.0</td>\n",
       "      <td>326</td>\n",
       "      <td>3.89</td>\n",
       "      <td>3.84</td>\n",
       "      <td>2.31</td>\n",
       "    </tr>\n",
       "    <tr>\n",
       "      <td>2</td>\n",
       "      <td>3</td>\n",
       "      <td>0.23</td>\n",
       "      <td>Good</td>\n",
       "      <td>E</td>\n",
       "      <td>VS1</td>\n",
       "      <td>56.9</td>\n",
       "      <td>65.0</td>\n",
       "      <td>327</td>\n",
       "      <td>4.05</td>\n",
       "      <td>4.07</td>\n",
       "      <td>2.31</td>\n",
       "    </tr>\n",
       "    <tr>\n",
       "      <td>3</td>\n",
       "      <td>4</td>\n",
       "      <td>0.29</td>\n",
       "      <td>Premium</td>\n",
       "      <td>I</td>\n",
       "      <td>VS2</td>\n",
       "      <td>62.4</td>\n",
       "      <td>58.0</td>\n",
       "      <td>334</td>\n",
       "      <td>4.20</td>\n",
       "      <td>4.23</td>\n",
       "      <td>2.63</td>\n",
       "    </tr>\n",
       "    <tr>\n",
       "      <td>4</td>\n",
       "      <td>5</td>\n",
       "      <td>0.31</td>\n",
       "      <td>Good</td>\n",
       "      <td>J</td>\n",
       "      <td>SI2</td>\n",
       "      <td>63.3</td>\n",
       "      <td>58.0</td>\n",
       "      <td>335</td>\n",
       "      <td>4.34</td>\n",
       "      <td>4.35</td>\n",
       "      <td>2.75</td>\n",
       "    </tr>\n",
       "  </tbody>\n",
       "</table>\n",
       "</div>"
      ],
      "text/plain": [
       "   Unnamed: 0  carat      cut color clarity  depth  table  price     x     y  \\\n",
       "0           1   0.23    Ideal     E     SI2   61.5   55.0    326  3.95  3.98   \n",
       "1           2   0.21  Premium     E     SI1   59.8   61.0    326  3.89  3.84   \n",
       "2           3   0.23     Good     E     VS1   56.9   65.0    327  4.05  4.07   \n",
       "3           4   0.29  Premium     I     VS2   62.4   58.0    334  4.20  4.23   \n",
       "4           5   0.31     Good     J     SI2   63.3   58.0    335  4.34  4.35   \n",
       "\n",
       "      z  \n",
       "0  2.43  \n",
       "1  2.31  \n",
       "2  2.31  \n",
       "3  2.63  \n",
       "4  2.75  "
      ]
     },
     "execution_count": 3,
     "metadata": {},
     "output_type": "execute_result"
    }
   ],
   "source": [
    "import numpy as np \n",
    "import pandas as pd \n",
    "from matplotlib import pyplot as plt\n",
    "import seaborn as sns\n",
    "from scipy.stats import mode\n",
    "df1 = pd.read_csv('D:/temp/diamonds.csv')\n",
    "\n",
    "\n",
    "df1.head()\n"
   ]
  },
  {
   "cell_type": "markdown",
   "metadata": {},
   "source": [
    "<font color = 'green'> Correct : 2 points </font> "
   ]
  },
  {
   "cell_type": "markdown",
   "metadata": {},
   "source": [
    "#### Solution 4.3"
   ]
  },
  {
   "cell_type": "code",
   "execution_count": 13,
   "metadata": {},
   "outputs": [
    {
     "name": "stdout",
     "output_type": "stream",
     "text": [
      "Unnamed: 0:\n",
      "\t Mean = 26970.50000\n",
      "\t Standard deviation = 15571.28110\n",
      "\t median = 26970.50000\n",
      "\t range = 53939.00\n",
      "carat:\n",
      "\t Mean = 0.79794\n",
      "\t Standard deviation = 0.47401\n",
      "\t median = 0.70000\n",
      "\t range = 4.81\n",
      "depth:\n",
      "\t Mean = 61.74940\n",
      "\t Standard deviation = 1.43262\n",
      "\t median = 61.80000\n",
      "\t range = 36.00\n",
      "table:\n",
      "\t Mean = 57.45718\n",
      "\t Standard deviation = 2.23449\n",
      "\t median = 57.00000\n",
      "\t range = 52.00\n",
      "price:\n",
      "\t Mean = 3932.79972\n",
      "\t Standard deviation = 3989.43974\n",
      "\t median = 2401.00000\n",
      "\t range = 18497.00\n",
      "x:\n",
      "\t Mean = 5.73116\n",
      "\t Standard deviation = 1.12176\n",
      "\t median = 5.70000\n",
      "\t range = 10.74\n",
      "y:\n",
      "\t Mean = 5.73453\n",
      "\t Standard deviation = 1.14213\n",
      "\t median = 5.71000\n",
      "\t range = 58.90\n",
      "z:\n",
      "\t Mean = 3.53873\n",
      "\t Standard deviation = 0.70570\n",
      "\t median = 3.53000\n",
      "\t range = 31.80\n",
      "IQR OF Price:    4374.25\n",
      "Q1 :  950.0\n",
      "Q3 :  5324.25\n",
      "0    Mode of Color:G    Mode of Clarity:    SI1   \n",
      "dtype: object\n",
      "0    Mode of Cut: Ideal\n",
      "dtype: object\n"
     ]
    }
   ],
   "source": [
    "from pandas.api.types import is_numeric_dtype\n",
    "\n",
    "for col in df1.columns:\n",
    "    if is_numeric_dtype(df1[col]):\n",
    "        print('%s:' % (col))\n",
    "        print('\\t Mean = %.5f' % df1[col].mean())\n",
    "        print('\\t Standard deviation = %.5f' % df1[col].std())\n",
    "        print('\\t median = %.5f' % df1[col].median())\n",
    "        print('\\t range = %.2f' % (df1[col].max()-df1[col].min()))\n",
    "        \n",
    "Q1 = np.percentile(df1['price'], 25)\n",
    "  \n",
    "# Third quartile (Q3)\n",
    "Q3 = np.percentile(df1['price'], 75)\n",
    "\n",
    "IQR = Q3-Q1\n",
    "\n",
    "print(\"IQR OF Price:    \" + str(IQR))     \n",
    "print(\"Q1 :  \" + str(Q1))\n",
    "print(\"Q3 :  \" + str(Q3))\n",
    "\n",
    "a=df1['color'].mode() \n",
    "b=df1['clarity'].mode()  \n",
    "c=df1['cut'].mode()\n",
    "print(\"Mode of Color:\" +a+\"    Mode of Clarity: \" + \"   \"+b+  \"   \")\n",
    "print(\"Mode of Cut: \" + c)        \n",
    "\n",
    "\n",
    "        \n",
    "    \n",
    "  \n",
    "        \n",
    "        "
   ]
  },
  {
   "cell_type": "markdown",
   "metadata": {},
   "source": [
    "<font color = 'green'> Correct : 5.5 points </font>"
   ]
  },
  {
   "cell_type": "markdown",
   "metadata": {},
   "source": [
    "#### Solution 4.4"
   ]
  },
  {
   "cell_type": "code",
   "execution_count": 145,
   "metadata": {},
   "outputs": [
    {
     "name": "stdout",
     "output_type": "stream",
     "text": [
      "Ideal        21551\n",
      "Premium      13791\n",
      "Very Good    12082\n",
      "Good          4906\n",
      "Fair          1610\n",
      "Name: cut, dtype: int64\n",
      "The fraction is     0.8791991101223582\n",
      "so cut with very good or better are:     87.91991101223581%\n"
     ]
    }
   ],
   "source": [
    "import numpy as np \n",
    "import pandas as pd \n",
    "from matplotlib import pyplot as plt\n",
    "import seaborn as sns\n",
    "count=df1['cut'].value_counts()\n",
    "print(count)\n",
    "a = count['Ideal'] + count['Premium'] +  count['Very Good']\n",
    "b= count['Ideal'] + count['Premium'] +  count['Very Good']+ count['Good']+ count['Fair']\n",
    "count_cut=a/b\n",
    "print(\"The fraction is     \" + str(count_cut))\n",
    "print(\"so cut with very good or better are:     \" + str(count_cut*100) + \"%\")\n",
    "\n"
   ]
  },
  {
   "cell_type": "code",
   "execution_count": 6,
   "metadata": {},
   "outputs": [
    {
     "data": {
      "text/plain": [
       "<matplotlib.axes._subplots.AxesSubplot at 0x1987321d708>"
      ]
     },
     "execution_count": 6,
     "metadata": {},
     "output_type": "execute_result"
    },
    {
     "data": {
      "image/png": "[encoded data removed]",
      "text/plain": [
       "<Figure size 432x288 with 1 Axes>"
      ]
     },
     "metadata": {
      "needs_background": "light"
     },
     "output_type": "display_data"
    }
   ],
   "source": [
    "df1['cut'].value_counts().plot(kind='barh')"
   ]
  },
  {
   "cell_type": "markdown",
   "metadata": {},
   "source": [
    "<font color = 'green'> Correct : 2.5 points </font> "
   ]
  },
  {
   "cell_type": "markdown",
   "metadata": {},
   "source": [
    "### Solution 4.5\n"
   ]
  },
  {
   "cell_type": "code",
   "execution_count": 7,
   "metadata": {},
   "outputs": [
    {
     "data": {
      "text/plain": [
       "array([[<matplotlib.axes._subplots.AxesSubplot object at 0x000001987321D908>]],\n",
       "      dtype=object)"
      ]
     },
     "execution_count": 7,
     "metadata": {},
     "output_type": "execute_result"
    },
    {
     "data": {
      "image/png": "[encoded data removed]",
      "text/plain": [
       "<Figure size 432x288 with 1 Axes>"
      ]
     },
     "metadata": {
      "needs_background": "light"
     },
     "output_type": "display_data"
    }
   ],
   "source": [
    "df1.hist(column = 'carat')"
   ]
  },
  {
   "cell_type": "markdown",
   "metadata": {},
   "source": [
    "<font color = 'green'> Correct : 2 points </font> "
   ]
  },
  {
   "cell_type": "markdown",
   "metadata": {},
   "source": [
    "### Solution 4.6"
   ]
  },
  {
   "cell_type": "code",
   "execution_count": 8,
   "metadata": {},
   "outputs": [
    {
     "data": {
      "image/png": "[encoded data removed]",
      "text/plain": [
       "<Figure size 432x288 with 1 Axes>"
      ]
     },
     "metadata": {
      "needs_background": "light"
     },
     "output_type": "display_data"
    }
   ],
   "source": [
    "plt.scatter(df1['carat'], df1['price'], marker='.');\n",
    "plt.xlabel(\"carat\");\n",
    "plt.ylabel(\"price\");"
   ]
  },
  {
   "cell_type": "markdown",
   "metadata": {},
   "source": [
    "<font color = 'green'> Correct : 2 points </font> "
   ]
  },
  {
   "cell_type": "markdown",
   "metadata": {},
   "source": [
    "### Solution 4.7"
   ]
  },
  {
   "cell_type": "code",
   "execution_count": 12,
   "metadata": {},
   "outputs": [
    {
     "data": {
      "text/html": [
       "<div>\n",
       "<style scoped>\n",
       "    .dataframe tbody tr th:only-of-type {\n",
       "        vertical-align: middle;\n",
       "    }\n",
       "\n",
       "    .dataframe tbody tr th {\n",
       "        vertical-align: top;\n",
       "    }\n",
       "\n",
       "    .dataframe thead th {\n",
       "        text-align: right;\n",
       "    }\n",
       "</style>\n",
       "<table border=\"1\" class=\"dataframe\">\n",
       "  <thead>\n",
       "    <tr style=\"text-align: right;\">\n",
       "      <th></th>\n",
       "      <th>carat</th>\n",
       "      <th>price</th>\n",
       "    </tr>\n",
       "  </thead>\n",
       "  <tbody>\n",
       "    <tr>\n",
       "      <td>carat</td>\n",
       "      <td>1.000000</td>\n",
       "      <td>0.921591</td>\n",
       "    </tr>\n",
       "    <tr>\n",
       "      <td>price</td>\n",
       "      <td>0.921591</td>\n",
       "      <td>1.000000</td>\n",
       "    </tr>\n",
       "  </tbody>\n",
       "</table>\n",
       "</div>"
      ],
      "text/plain": [
       "          carat     price\n",
       "carat  1.000000  0.921591\n",
       "price  0.921591  1.000000"
      ]
     },
     "execution_count": 12,
     "metadata": {},
     "output_type": "execute_result"
    }
   ],
   "source": [
    "new = df1[['carat', 'price']].copy()\n",
    "new.corr()"
   ]
  },
  {
   "cell_type": "markdown",
   "metadata": {},
   "source": [
    "<font color = 'green'> Correct : 1 point </font> "
   ]
  },
  {
   "cell_type": "markdown",
   "metadata": {},
   "source": [
    "### Problem 5 (4 points)\n",
    "\n",
    "We have a collection of m documents.\n",
    "\n",
    "Let us say we would like to compare two documents x and y using their document term vectors. \n",
    "\n",
    "Let tf_ij be the frequency of the ith word (term) in the jth document\n",
    "\n",
    "1. Let the vocabulary size (the dimensionality of the vectors) be n. What is a good measure of similarity for this purpose ? Write the formula for it in terms of tf_ij.\n",
    "\n",
    "2. Consider the variable transformation given by idf_ij = tf_ij * log(m/df_i), where df_i is the document frequency, i.e. the number of documents in which the ith term occurs. The transformed variable idf_ij is called the inverse document frequency. What are the advantages of using this transformed variable instead of the original in the similarity computation ?"
   ]
  },
  {
   "cell_type": "markdown",
   "metadata": {},
   "source": [
    "### Solution"
   ]
  },
  {
   "cell_type": "markdown",
   "metadata": {},
   "source": [
    "#### Solution 5.1"
   ]
  },
  {
   "cell_type": "markdown",
   "metadata": {},
   "source": [
    "Cosine similarity is a good measure.  <br>\n",
    "Tf-idf is a transformation you apply to texts to get two real-valued vectors. You can then obtain the cosine similarity of any pair of vectors by taking their dot product and dividing that by the product of their norms.\n",
    "vocabsize is n and tf_ij is frequency of ithword in jth<br>\n",
    "TF is individual to each document and word, hence TF :<br>\n",
    "tf_ij(i,j) = count of i in j docs / number of words in df_i<br>\n",
    "df_(i) = occurrence of i in N documents<br>\n",
    ".<br>\n",
    "Cosine Similarity TF(i,jth Document) = Dot product(i, jth Document) / ||i|| * ||jth Document||\n",
    "\n",
    "\n"
   ]
  },
  {
   "cell_type": "markdown",
   "metadata": {},
   "source": [
    "<font color = 'green'> Correct : 2 points </font>  "
   ]
  },
  {
   "cell_type": "markdown",
   "metadata": {},
   "source": [
    "#### Solution 5.2"
   ]
  },
  {
   "cell_type": "markdown",
   "metadata": {},
   "source": [
    "Advantages of inverse document frequency:\n",
    "- We have some basic metric to extract the most descriptive terms in a document\n",
    "- TF-IDF works well for finding stop words, like “a, an, in, and, the,” which appear very often in many documents.\n",
    "- It is easy to compute\n",
    "- We can easily compute the similarity between 2 documents using it"
   ]
  },
  {
   "cell_type": "markdown",
   "metadata": {},
   "source": [
    "<font color = 'green'> Correct : 2 points </font> "
   ]
  },
  {
   "cell_type": "markdown",
   "metadata": {},
   "source": [
    "\n",
    "    "
   ]
  },
  {
   "cell_type": "markdown",
   "metadata": {},
   "source": [
    "### Problem 6 (6 points)\n",
    "\n",
    "Write Python functions to compute the Hamming (L1) distance, SMC and Jaccard similarity coefficient between two binary vectors. Use them to these proximity measures between the following vectors:\n",
    "\n",
    "x = 1010101010101 \n",
    "\n",
    "y = 1000100010001"
   ]
  },
  {
   "cell_type": "markdown",
   "metadata": {},
   "source": [
    "### Solution"
   ]
  },
  {
   "cell_type": "code",
   "execution_count": null,
   "metadata": {},
   "outputs": [],
   "source": [
    "import numpy as np\n",
    "from scipy.spatial import distance\n",
    "\n",
    "\n",
    "from scipy.spatial.distance import hamming\n",
    "\n",
    "# Define some binary vectors\n",
    "x = [1,0,1,0,1,0,1,0,1,0,1,0,1]\n",
    "y = [1,0,0,0,1,0,0,0,1,0,0,0,1]\n",
    "\n",
    "      \n",
    "\n",
    "def hamming_distance(x, y):\n",
    "    return sum(abs(e1 - e2) for e1, e2 in zip(x, y)) \n",
    " \n",
    "\n",
    "# calculate distance\n",
    "dist = hamming_distance(x, y)\n",
    "print(\"Hamming distance : \", dist)\n",
    "    \n",
    "    \n",
    "    \n",
    "\n",
    "def jaccard_binary(x,y):\n",
    "    \"\"\"A function for finding the similarity between two binary vectors\"\"\"\n",
    "    intersection = np.logical_and(x, y)\n",
    "    union = np.logical_or(x, y)\n",
    "    similarity = intersection.sum() / float(union.sum())\n",
    "    return similarity\n",
    "\n",
    "\n",
    "\n",
    "# Find similarity among the vectors\n",
    "simxy = jaccard_binary(x,y)\n",
    "\n",
    "\n",
    "print(\"jaccard: \",simxy)\n",
    "\n",
    "\n",
    "def smc1(x,y):\n",
    "    ii=ij=ji=jj=0;\n",
    "    for i in range(0,len(x)):\n",
    "        if x[i] ==0 and y[i]==0:\n",
    "            ii=ii+1\n",
    "        if x[i] ==0 and y[i]==1:\n",
    "            ji=ji+1\n",
    "        if x[i] ==1 and y[i]==0:\n",
    "            ij=ij+1    \n",
    "        if x[i] ==1 and y[i]==1:\n",
    "            jj=jj+1\n",
    "    smcoeff=(ii+jj)/(ii+jj+ij+ji)  \n",
    "    print(\"Simple matching coefficient:   \",round(smcoeff,4))\n",
    "\n",
    "smc1(x,y)    \n",
    "\n",
    "\n",
    "\n",
    "\n",
    "\n",
    "                   \n",
    "                "
   ]
  },
  {
   "cell_type": "markdown",
   "metadata": {},
   "source": [
    "<font color = 'green'> Correct : 6 points </font> "
   ]
  },
  {
   "cell_type": "markdown",
   "metadata": {},
   "source": [
    ".\n",
    "### Problem 7 (6 points)\n",
    "\n",
    "Calculate the indicated similarity or distance measures of the vectors show below (you can do this by hand or by writing code, but please show the computation either way):\n",
    "\n",
    "x = (1,1,1,1) and y = (3,3,3,3) : cosine, correlation, Euclidean\n",
    "\n",
    "x = (0,1,0,1,0,1) and y = (1,0,1,0,1,0) : cosine, correlation, Euclidean, Jaccard \n",
    "\n",
    "x = (1,1,0,1,0,1) and y = (1,1,1,0,0,1) : cosine, correlation, Lmax, Jaccard"
   ]
  },
  {
   "cell_type": "markdown",
   "metadata": {},
   "source": [
    "### Solution"
   ]
  },
  {
   "cell_type": "code",
   "execution_count": 166,
   "metadata": {},
   "outputs": [
    {
     "name": "stdout",
     "output_type": "stream",
     "text": [
      "cosine: 1.0\n",
      "euclidean:  4.0\n",
      "correlation:  0\n"
     ]
    }
   ],
   "source": [
    "import math\n",
    "from math import*\n",
    "from numpy import dot\n",
    "from numpy.linalg import norm\n",
    "\n",
    "a1=[1,1,1,1]\n",
    "b1=[3,3,3,3]\n",
    "\n",
    "def cosine_similarity(v1,v2):\n",
    "    \"compute cosine similarity of v1 to v2: (v1 dot v2)/{||v1||*||v2||)\"\n",
    "    sumxx, sumxy, sumyy = 0, 0, 0\n",
    "    for i in range(len(v1)):\n",
    "        x = v1[i]; y = v2[i]\n",
    "        sumxx += x*x\n",
    "        sumyy += y*y\n",
    "        sumxy += x*y\n",
    "    return sumxy/math.sqrt(sumxx*sumyy)\n",
    "\n",
    "v1,v2 = [1, 1, 1, 1], [3, 3, 3, 3]\n",
    "\n",
    "print(\"cosine:\",cosine_similarity(v1,v2))\n",
    "\n",
    " \n",
    "def euclidean_distance(x,y):\n",
    " \n",
    "  return sqrt(sum(pow(a-b,2) for a, b in zip(x, y)))\n",
    "\n",
    "print (\"euclidean: \",euclidean_distance([1,1,1,1],[3,3,3,3]))\n",
    "\n",
    "def pearsonr(x, y):\n",
    "    n = len(x)\n",
    "    sum_x = float(sum(x))\n",
    "    sum_y = float(sum(y))\n",
    "    sum_x_sq = sum(xi*xi for xi in x)\n",
    "    sum_y_sq = sum(yi*yi for yi in y)\n",
    "    psum = sum(xi*yi for xi, yi in zip(x, y))\n",
    "    num = psum - (sum_x * sum_y/n)\n",
    "    den = pow((sum_x_sq - pow(sum_x, 2) / n) * (sum_y_sq - pow(sum_y, 2) / n), 0.5)\n",
    "    if den == 0: return 0\n",
    "    return num / den\n",
    "\n",
    "print(\"correlation: \",pearsonr(a1,b1))\n",
    "\n",
    "\n",
    "\n",
    "\n"
   ]
  },
  {
   "cell_type": "code",
   "execution_count": 165,
   "metadata": {},
   "outputs": [
    {
     "name": "stdout",
     "output_type": "stream",
     "text": [
      "cosine: 0.0\n",
      "euclidean:  2.449489742783178\n",
      "jaccard: 1.0\n",
      "correlation:  -1.0\n"
     ]
    }
   ],
   "source": [
    "v1=[0,1,0,1,0,1]\n",
    "v2=[1,0,1,0,1,0]\n",
    "\n",
    "print(\"cosine:\",cosine_similarity(v1,v2))\n",
    "def jaccard_similarity(x,y):\n",
    "    intersection_cardinality = len(set.intersection(*[set(x), set(y)]))\n",
    "    union_cardinality = len(set.union(*[set(x), set(y)]))\n",
    "    return intersection_cardinality/float(union_cardinality)\n",
    "\n",
    "print (\"euclidean: \",euclidean_distance([0,1,0,1,0,1],[1,0,1,0,1,0]))\n",
    "\n",
    "\n",
    "print (\"jaccard:\",jaccard_similarity([0,1,0,1,0,1],[1,0,1,0,1,0]))\n",
    "\n",
    "\n",
    "print(\"correlation: \",pearsonr(v1,v2))\n",
    "\n",
    "\n",
    "\n",
    " \n"
   ]
  },
  {
   "cell_type": "code",
   "execution_count": 164,
   "metadata": {},
   "outputs": [
    {
     "name": "stdout",
     "output_type": "stream",
     "text": [
      "cosine: 0.75\n",
      "jaccardi:  1.0\n",
      "correlation:  0.25000000000000006\n",
      "Lmax: 1\n"
     ]
    }
   ],
   "source": [
    "import scipy.spatial.distance as dist\n",
    "v11=[1,1,0,1,0,1]\n",
    "v22=[1,1,1,0,0,1]\n",
    "#function defined in previous cells\n",
    "print(\"cosine:\" , cosine_similarity(v11,v22))\n",
    "\n",
    "\n",
    "def jaccard_similarity(x,y):\n",
    "    intersection_cardinality = len(set.intersection(*[set(x), set(y)]))\n",
    "    union_cardinality = len(set.union(*[set(x), set(y)]))\n",
    "    return intersection_cardinality/float(union_cardinality)\n",
    " \n",
    "\n",
    "print (\"jaccardi: \", jaccard_similarity([1,1,0,1,0,1],[1,1,1,0,0,1]))\n",
    "\n",
    "print(\"correlation: \", pearsonr(v11,v22))\n",
    "\n",
    "print (\"Lmax:\" , dist.chebyshev(v11, v22))"
   ]
  },
  {
   "cell_type": "markdown",
   "metadata": {},
   "source": [
    "<font color = 'green'> Correct : 5 points </font> "
   ]
  },
  {
   "cell_type": "markdown",
   "metadata": {},
   "source": [
    "### Submission instructions\n",
    "\n",
    "1. Your assignment should be completed by filling in the empty solution cells in this Jupyter notebook file (.ipynb). Feel free to add more cells as needed.\n",
    "\n",
    "2. Please comment your code using either markdown or #comments and use meaningful variable names to make it as readable and intelligible as possible.\n",
    "\n",
    "3. Write your code in the form of functions. For example: \n",
    "\n",
    "    def my_code ():\n",
    "\n",
    "          #Write code here\n",
    "      \n",
    "          return \"The return value\"\n",
    "          \n",
    "\n",
    "4. If the problem is to find the value of 'x', printing 'x = (your answer)' will help us identify if your code worked.\n",
    "\n",
    "\n",
    "5. For code that refers to local data files downloaded from the internet, please keep the file path simple (e.g. ~/downloads/datafilename) so that it works on our copy of the dataset. Please do not modify either the filename or the file contents in any way.\n",
    "\n",
    "6. Solution to problems that do not require any coding can be typed up in their own cells using markdown.\n",
    "    \n",
    "7. Unless there are legitimate circumstances, late assignments will not be accepted.\n",
    "\n",
    "8. All assignments are individual.\n",
    "\n",
    "9. All the sources used for problem solution must be acknowledged, e.g. web sites, books, research papers, etc.\n",
    "\n",
    "10. Academic integrity is taken seriously; for detailed information see the RIT Honor Code and with RIT's Academic Integrity Policy."
   ]
  },
  {
   "cell_type": "markdown",
   "metadata": {},
   "source": [
    "<font color = 'green'> Total Points : 53.5 points </font> "
   ]
  },
  {
   "cell_type": "code",
   "execution_count": null,
   "metadata": {},
   "outputs": [],
   "source": []
  }
 ],
 "metadata": {
  "kernelspec": {
   "display_name": "Python 3",
   "language": "python",
   "name": "python3"
  },
  "language_info": {
   "codemirror_mode": {
    "name": "ipython",
    "version": 3
   },
   "file_extension": ".py",
   "mimetype": "text/x-python",
   "name": "python",
   "nbconvert_exporter": "python",
   "pygments_lexer": "ipython3",
   "version": "3.8.5"
  }
 },
 "nbformat": 4,
 "nbformat_minor": 2
}
